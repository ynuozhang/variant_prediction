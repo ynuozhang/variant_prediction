{
 "cells": [
  {
   "cell_type": "code",
   "execution_count": 1,
   "metadata": {
    "tags": []
   },
   "outputs": [],
   "source": [
    "import pandas as pd"
   ]
  },
  {
   "cell_type": "code",
   "execution_count": 2,
   "metadata": {
    "collapsed": false,
    "jupyter": {
     "outputs_hidden": false
    },
    "pycharm": {
     "name": "#%%\n"
    }
   },
   "outputs": [
    {
     "data": {
      "text/plain": "['#Symbol',\n 'GeneID',\n 'VariationID',\n 'AlleleID',\n 'Type',\n 'Assembly',\n 'NucleotideExpression',\n 'NucleotideChange',\n 'ProteinExpression',\n 'ProteinChange',\n 'UsedForNaming',\n 'Submitted',\n 'OnRefSeqGene']"
     },
     "execution_count": 2,
     "metadata": {},
     "output_type": "execute_result"
    }
   ],
   "source": [
    "# get column names\n",
    "import linecache\n",
    "import re\n",
    "filename  = './data/metas/hgvs4variation.txt'\n",
    "line_number = 16\n",
    "column_names = re.split(r'\\s+', linecache.getline(filename, line_number).strip())\n",
    "column_names"
   ]
  },
  {
   "cell_type": "code",
   "execution_count": 3,
   "metadata": {
    "collapsed": false,
    "jupyter": {
     "outputs_hidden": false
    },
    "pycharm": {
     "name": "#%%\n"
    }
   },
   "outputs": [],
   "source": [
    "import itertools\n",
    "clinvar_id_mapping = {}\n",
    "with open('./data/metas/hgvs4variation.txt') as f:\n",
    "    for i, line in enumerate(itertools.islice(f, 16, None)):\n",
    "        fields = re.split(r'\\t', line.strip())\n",
    "        clinvar_id_mapping[i] = {}\n",
    "        try:\n",
    "            for index, item in enumerate(fields):\n",
    "                clinvar_id_mapping[i][column_names[index]] = fields[index]\n",
    "        except IndexError:\n",
    "            print(line, fields)"
   ]
  },
  {
   "cell_type": "code",
   "execution_count": 4,
   "metadata": {
    "collapsed": false,
    "jupyter": {
     "outputs_hidden": false
    },
    "pycharm": {
     "name": "#%%\n"
    }
   },
   "outputs": [
    {
     "data": {
      "text/plain": "         #Symbol GeneID VariationID AlleleID        Type Assembly  \\\n0              -      -          25    15064     genomic   GRCh37   \n1              -      -          25    15064     genomic   GRCh37   \n2              -      -          25    15064     genomic   GRCh38   \n3              -      -          25    15064     genomic   GRCh38   \n4              -      -          25    15064     genomic   GRCh38   \n...          ...    ...         ...      ...         ...      ...   \n21795029    ZZZ3  26009     2408495  2391953  non-coding       na   \n21795030    ZZZ3  26009     2408495  2391953  non-coding       na   \n21795031    ZZZ3  26009     2408495  2391953      coding       na   \n21795032    ZZZ3  26009     2408495  2391953      coding       na   \n21795033    ZZZ3  26009     2408495  2391953      coding       na   \n\n                                   NucleotideExpression  \\\n0              NC_000020.10:g.25364147_25378237delinsGG   \n1         NC_000020.10:g.25364147_25378237del14091insGG   \n2              NC_000020.11:g.25383511_25397601delinsGG   \n3         NC_000020.11:g.25383511_25397601del14091insGG   \n4               NC_000020.11:g.25383511_25397600delinsG   \n...                                                 ...   \n21795029                           NR_164776.1:n.524A>T   \n21795030                           NR_164777.1:n.461A>T   \n21795031                    NM_001376156.1:c.23+6142A>T   \n21795032                    NM_001308237.2:c.23+6142A>T   \n21795033                    NM_001376155.1:c.23+6142A>T   \n\n                          NucleotideChange ProteinExpression ProteinChange  \\\n0              g.25364147_25378237delinsGG                 -             -   \n1         g.25364147_25378237del14091insGG                 -             -   \n2              g.25383511_25397601delinsGG                 -             -   \n3         g.25383511_25397601del14091insGG                 -             -   \n4               g.25383511_25397600delinsG                 -             -   \n...                                    ...               ...           ...   \n21795029                          n.524A>T                 -             -   \n21795030                          n.461A>T                 -             -   \n21795031                      c.23+6142A>T                 -             -   \n21795032                      c.23+6142A>T                 -             -   \n21795033                      c.23+6142A>T                 -             -   \n\n         UsedForNaming Submitted OnRefSeqGene  \n0                   No        No           No  \n1                   No        No           No  \n2                   No        No           No  \n3                   No        No           No  \n4                   No        No           No  \n...                ...       ...          ...  \n21795029           Yes        No           No  \n21795030           Yes        No           No  \n21795031           Yes        No           No  \n21795032           Yes        No           No  \n21795033           Yes        No           No  \n\n[21795034 rows x 13 columns]",
      "text/html": "<div>\n<style scoped>\n    .dataframe tbody tr th:only-of-type {\n        vertical-align: middle;\n    }\n\n    .dataframe tbody tr th {\n        vertical-align: top;\n    }\n\n    .dataframe thead th {\n        text-align: right;\n    }\n</style>\n<table border=\"1\" class=\"dataframe\">\n  <thead>\n    <tr style=\"text-align: right;\">\n      <th></th>\n      <th>#Symbol</th>\n      <th>GeneID</th>\n      <th>VariationID</th>\n      <th>AlleleID</th>\n      <th>Type</th>\n      <th>Assembly</th>\n      <th>NucleotideExpression</th>\n      <th>NucleotideChange</th>\n      <th>ProteinExpression</th>\n      <th>ProteinChange</th>\n      <th>UsedForNaming</th>\n      <th>Submitted</th>\n      <th>OnRefSeqGene</th>\n    </tr>\n  </thead>\n  <tbody>\n    <tr>\n      <th>0</th>\n      <td>-</td>\n      <td>-</td>\n      <td>25</td>\n      <td>15064</td>\n      <td>genomic</td>\n      <td>GRCh37</td>\n      <td>NC_000020.10:g.25364147_25378237delinsGG</td>\n      <td>g.25364147_25378237delinsGG</td>\n      <td>-</td>\n      <td>-</td>\n      <td>No</td>\n      <td>No</td>\n      <td>No</td>\n    </tr>\n    <tr>\n      <th>1</th>\n      <td>-</td>\n      <td>-</td>\n      <td>25</td>\n      <td>15064</td>\n      <td>genomic</td>\n      <td>GRCh37</td>\n      <td>NC_000020.10:g.25364147_25378237del14091insGG</td>\n      <td>g.25364147_25378237del14091insGG</td>\n      <td>-</td>\n      <td>-</td>\n      <td>No</td>\n      <td>No</td>\n      <td>No</td>\n    </tr>\n    <tr>\n      <th>2</th>\n      <td>-</td>\n      <td>-</td>\n      <td>25</td>\n      <td>15064</td>\n      <td>genomic</td>\n      <td>GRCh38</td>\n      <td>NC_000020.11:g.25383511_25397601delinsGG</td>\n      <td>g.25383511_25397601delinsGG</td>\n      <td>-</td>\n      <td>-</td>\n      <td>No</td>\n      <td>No</td>\n      <td>No</td>\n    </tr>\n    <tr>\n      <th>3</th>\n      <td>-</td>\n      <td>-</td>\n      <td>25</td>\n      <td>15064</td>\n      <td>genomic</td>\n      <td>GRCh38</td>\n      <td>NC_000020.11:g.25383511_25397601del14091insGG</td>\n      <td>g.25383511_25397601del14091insGG</td>\n      <td>-</td>\n      <td>-</td>\n      <td>No</td>\n      <td>No</td>\n      <td>No</td>\n    </tr>\n    <tr>\n      <th>4</th>\n      <td>-</td>\n      <td>-</td>\n      <td>25</td>\n      <td>15064</td>\n      <td>genomic</td>\n      <td>GRCh38</td>\n      <td>NC_000020.11:g.25383511_25397600delinsG</td>\n      <td>g.25383511_25397600delinsG</td>\n      <td>-</td>\n      <td>-</td>\n      <td>No</td>\n      <td>No</td>\n      <td>No</td>\n    </tr>\n    <tr>\n      <th>...</th>\n      <td>...</td>\n      <td>...</td>\n      <td>...</td>\n      <td>...</td>\n      <td>...</td>\n      <td>...</td>\n      <td>...</td>\n      <td>...</td>\n      <td>...</td>\n      <td>...</td>\n      <td>...</td>\n      <td>...</td>\n      <td>...</td>\n    </tr>\n    <tr>\n      <th>21795029</th>\n      <td>ZZZ3</td>\n      <td>26009</td>\n      <td>2408495</td>\n      <td>2391953</td>\n      <td>non-coding</td>\n      <td>na</td>\n      <td>NR_164776.1:n.524A&gt;T</td>\n      <td>n.524A&gt;T</td>\n      <td>-</td>\n      <td>-</td>\n      <td>Yes</td>\n      <td>No</td>\n      <td>No</td>\n    </tr>\n    <tr>\n      <th>21795030</th>\n      <td>ZZZ3</td>\n      <td>26009</td>\n      <td>2408495</td>\n      <td>2391953</td>\n      <td>non-coding</td>\n      <td>na</td>\n      <td>NR_164777.1:n.461A&gt;T</td>\n      <td>n.461A&gt;T</td>\n      <td>-</td>\n      <td>-</td>\n      <td>Yes</td>\n      <td>No</td>\n      <td>No</td>\n    </tr>\n    <tr>\n      <th>21795031</th>\n      <td>ZZZ3</td>\n      <td>26009</td>\n      <td>2408495</td>\n      <td>2391953</td>\n      <td>coding</td>\n      <td>na</td>\n      <td>NM_001376156.1:c.23+6142A&gt;T</td>\n      <td>c.23+6142A&gt;T</td>\n      <td>-</td>\n      <td>-</td>\n      <td>Yes</td>\n      <td>No</td>\n      <td>No</td>\n    </tr>\n    <tr>\n      <th>21795032</th>\n      <td>ZZZ3</td>\n      <td>26009</td>\n      <td>2408495</td>\n      <td>2391953</td>\n      <td>coding</td>\n      <td>na</td>\n      <td>NM_001308237.2:c.23+6142A&gt;T</td>\n      <td>c.23+6142A&gt;T</td>\n      <td>-</td>\n      <td>-</td>\n      <td>Yes</td>\n      <td>No</td>\n      <td>No</td>\n    </tr>\n    <tr>\n      <th>21795033</th>\n      <td>ZZZ3</td>\n      <td>26009</td>\n      <td>2408495</td>\n      <td>2391953</td>\n      <td>coding</td>\n      <td>na</td>\n      <td>NM_001376155.1:c.23+6142A&gt;T</td>\n      <td>c.23+6142A&gt;T</td>\n      <td>-</td>\n      <td>-</td>\n      <td>Yes</td>\n      <td>No</td>\n      <td>No</td>\n    </tr>\n  </tbody>\n</table>\n<p>21795034 rows × 13 columns</p>\n</div>"
     },
     "execution_count": 4,
     "metadata": {},
     "output_type": "execute_result"
    }
   ],
   "source": [
    "# make the above info into dataframe\n",
    "df_var = pd.DataFrame.from_dict(clinvar_id_mapping, orient='index')"
   ]
  },
  {
   "cell_type": "code",
   "execution_count": 20,
   "metadata": {
    "collapsed": false,
    "jupyter": {
     "outputs_hidden": false
    },
    "pycharm": {
     "name": "#%%\n"
    }
   },
   "outputs": [],
   "source": [
    "df_var.to_csv('./data/metas/hgvs4variant_organized.csv', index=False)"
   ]
  },
  {
   "cell_type": "code",
   "execution_count": 103,
   "metadata": {},
   "outputs": [
    {
     "name": "stderr",
     "output_type": "stream",
     "text": [
      "/var/tmp/pbs.478431.hn-10-03/ipykernel_106576/1722694963.py:1: DtypeWarning: Columns (1) have mixed types. Specify dtype option on import or set low_memory=False.\n",
      "  df_var = pd.read_csv('./data/metas/hgvs4variant_organized.csv')\n"
     ]
    },
    {
     "name": "stdout",
     "output_type": "stream",
     "text": [
      "(21795034, 13)\n"
     ]
    }
   ],
   "source": [
    "df_var = pd.read_csv('./data/metas/hgvs4variant_organized.csv')\n",
    "print(df_var.shape)"
   ]
  },
  {
   "cell_type": "code",
   "execution_count": 11,
   "metadata": {},
   "outputs": [
    {
     "data": {
      "text/plain": "         #Symbol     GeneID  VariationID  AlleleID     Type Assembly  \\\n11             -  121815974          169     15208  genomic       na   \n17             -  109461479          409     15448  genomic       na   \n18             -  109461479          409     15448  genomic       na   \n19             -  109461479          409     15448  genomic       na   \n31             -  106799833         1171     16210  genomic       na   \n...          ...        ...          ...       ...      ...      ...   \n21779207   ZNF81     347344       130857    136301  genomic       na   \n21779225   ZNF81     347344       130858    136302  genomic       na   \n21779236   ZNF81     347344       130859    136303  genomic       na   \n21779248   ZNF81     347344       212695    209063  genomic       na   \n21790428  ZSWIM6      57688       155772    165524  genomic       na   \n\n         NucleotideExpression NucleotideChange            ProteinExpression  \\\n11                          -                -           P04181:p.Arg250Pro   \n17                          -                -    NP_002102.4:p.Gln40(41_?)   \n18                          -                -  NP_002102.4:p.Gln18[(40_?)]   \n19                          -                -      LRG_763p1:p.Gln40(41_?)   \n31                          -                -           P15538:p.Arg448His   \n...                       ...              ...                          ...   \n21779207                    -                -           P51508:p.Ser185Leu   \n21779225                    -                -           P51508:p.Ala213Glu   \n21779236                    -                -             P51508:p.Ala3Val   \n21779248                    -                -           P51508:p.Ile499Val   \n21790428                    -                -          Q9HCJ5:p.Arg1163Trp   \n\n            ProteinChange UsedForNaming Submitted OnRefSeqGene  \n11            p.Arg250Pro            No        No           No  \n17          p.Gln40(41_?)            No        No          Yes  \n18        p.Gln18[(40_?)]            No        No          Yes  \n19          p.Gln40(41_?)            No        No           No  \n31            p.Arg448His            No        No           No  \n...                   ...           ...       ...          ...  \n21779207      p.Ser185Leu            No        No           No  \n21779225      p.Ala213Glu            No        No           No  \n21779236        p.Ala3Val            No        No           No  \n21779248      p.Ile499Val            No        No           No  \n21790428     p.Arg1163Trp            No        No           No  \n\n[24531 rows x 13 columns]",
      "text/html": "<div>\n<style scoped>\n    .dataframe tbody tr th:only-of-type {\n        vertical-align: middle;\n    }\n\n    .dataframe tbody tr th {\n        vertical-align: top;\n    }\n\n    .dataframe thead th {\n        text-align: right;\n    }\n</style>\n<table border=\"1\" class=\"dataframe\">\n  <thead>\n    <tr style=\"text-align: right;\">\n      <th></th>\n      <th>#Symbol</th>\n      <th>GeneID</th>\n      <th>VariationID</th>\n      <th>AlleleID</th>\n      <th>Type</th>\n      <th>Assembly</th>\n      <th>NucleotideExpression</th>\n      <th>NucleotideChange</th>\n      <th>ProteinExpression</th>\n      <th>ProteinChange</th>\n      <th>UsedForNaming</th>\n      <th>Submitted</th>\n      <th>OnRefSeqGene</th>\n    </tr>\n  </thead>\n  <tbody>\n    <tr>\n      <th>11</th>\n      <td>-</td>\n      <td>121815974</td>\n      <td>169</td>\n      <td>15208</td>\n      <td>genomic</td>\n      <td>na</td>\n      <td>-</td>\n      <td>-</td>\n      <td>P04181:p.Arg250Pro</td>\n      <td>p.Arg250Pro</td>\n      <td>No</td>\n      <td>No</td>\n      <td>No</td>\n    </tr>\n    <tr>\n      <th>17</th>\n      <td>-</td>\n      <td>109461479</td>\n      <td>409</td>\n      <td>15448</td>\n      <td>genomic</td>\n      <td>na</td>\n      <td>-</td>\n      <td>-</td>\n      <td>NP_002102.4:p.Gln40(41_?)</td>\n      <td>p.Gln40(41_?)</td>\n      <td>No</td>\n      <td>No</td>\n      <td>Yes</td>\n    </tr>\n    <tr>\n      <th>18</th>\n      <td>-</td>\n      <td>109461479</td>\n      <td>409</td>\n      <td>15448</td>\n      <td>genomic</td>\n      <td>na</td>\n      <td>-</td>\n      <td>-</td>\n      <td>NP_002102.4:p.Gln18[(40_?)]</td>\n      <td>p.Gln18[(40_?)]</td>\n      <td>No</td>\n      <td>No</td>\n      <td>Yes</td>\n    </tr>\n    <tr>\n      <th>19</th>\n      <td>-</td>\n      <td>109461479</td>\n      <td>409</td>\n      <td>15448</td>\n      <td>genomic</td>\n      <td>na</td>\n      <td>-</td>\n      <td>-</td>\n      <td>LRG_763p1:p.Gln40(41_?)</td>\n      <td>p.Gln40(41_?)</td>\n      <td>No</td>\n      <td>No</td>\n      <td>No</td>\n    </tr>\n    <tr>\n      <th>31</th>\n      <td>-</td>\n      <td>106799833</td>\n      <td>1171</td>\n      <td>16210</td>\n      <td>genomic</td>\n      <td>na</td>\n      <td>-</td>\n      <td>-</td>\n      <td>P15538:p.Arg448His</td>\n      <td>p.Arg448His</td>\n      <td>No</td>\n      <td>No</td>\n      <td>No</td>\n    </tr>\n    <tr>\n      <th>...</th>\n      <td>...</td>\n      <td>...</td>\n      <td>...</td>\n      <td>...</td>\n      <td>...</td>\n      <td>...</td>\n      <td>...</td>\n      <td>...</td>\n      <td>...</td>\n      <td>...</td>\n      <td>...</td>\n      <td>...</td>\n      <td>...</td>\n    </tr>\n    <tr>\n      <th>21779207</th>\n      <td>ZNF81</td>\n      <td>347344</td>\n      <td>130857</td>\n      <td>136301</td>\n      <td>genomic</td>\n      <td>na</td>\n      <td>-</td>\n      <td>-</td>\n      <td>P51508:p.Ser185Leu</td>\n      <td>p.Ser185Leu</td>\n      <td>No</td>\n      <td>No</td>\n      <td>No</td>\n    </tr>\n    <tr>\n      <th>21779225</th>\n      <td>ZNF81</td>\n      <td>347344</td>\n      <td>130858</td>\n      <td>136302</td>\n      <td>genomic</td>\n      <td>na</td>\n      <td>-</td>\n      <td>-</td>\n      <td>P51508:p.Ala213Glu</td>\n      <td>p.Ala213Glu</td>\n      <td>No</td>\n      <td>No</td>\n      <td>No</td>\n    </tr>\n    <tr>\n      <th>21779236</th>\n      <td>ZNF81</td>\n      <td>347344</td>\n      <td>130859</td>\n      <td>136303</td>\n      <td>genomic</td>\n      <td>na</td>\n      <td>-</td>\n      <td>-</td>\n      <td>P51508:p.Ala3Val</td>\n      <td>p.Ala3Val</td>\n      <td>No</td>\n      <td>No</td>\n      <td>No</td>\n    </tr>\n    <tr>\n      <th>21779248</th>\n      <td>ZNF81</td>\n      <td>347344</td>\n      <td>212695</td>\n      <td>209063</td>\n      <td>genomic</td>\n      <td>na</td>\n      <td>-</td>\n      <td>-</td>\n      <td>P51508:p.Ile499Val</td>\n      <td>p.Ile499Val</td>\n      <td>No</td>\n      <td>No</td>\n      <td>No</td>\n    </tr>\n    <tr>\n      <th>21790428</th>\n      <td>ZSWIM6</td>\n      <td>57688</td>\n      <td>155772</td>\n      <td>165524</td>\n      <td>genomic</td>\n      <td>na</td>\n      <td>-</td>\n      <td>-</td>\n      <td>Q9HCJ5:p.Arg1163Trp</td>\n      <td>p.Arg1163Trp</td>\n      <td>No</td>\n      <td>No</td>\n      <td>No</td>\n    </tr>\n  </tbody>\n</table>\n<p>24531 rows × 13 columns</p>\n</div>"
     },
     "execution_count": 11,
     "metadata": {},
     "output_type": "execute_result"
    }
   ],
   "source": [
    "df_p = df_var[df_var['NucleotideExpression'] == '-']\n",
    "df_p"
   ]
  },
  {
   "cell_type": "code",
   "execution_count": 96,
   "outputs": [
    {
     "data": {
      "text/plain": "     #Symbol     GeneID  VariationID  AlleleID     Type Assembly  \\\n11         -  121815974          169     15208  genomic       na   \n17         -  109461479          409     15448  genomic       na   \n18         -  109461479          409     15448  genomic       na   \n19         -  109461479          409     15448  genomic       na   \n31         -  106799833         1171     16210  genomic       na   \n79         -  107303340         2221     17260  genomic       na   \n142        -  111822955         4182     19221  genomic       na   \n144        -  111822955         4182     19221  genomic       na   \n4137       -      54782        39416     48015   coding       na   \n\n      NucleotideExpression NucleotideChange            ProteinExpression  \\\n11                       -                -           P04181:p.Arg250Pro   \n17                       -                -    NP_002102.4:p.Gln40(41_?)   \n18                       -                -  NP_002102.4:p.Gln18[(40_?)]   \n19                       -                -      LRG_763p1:p.Gln40(41_?)   \n31                       -                -           P15538:p.Arg448His   \n79                       -                -           P40337:p.Leu135Phe   \n142                      -                -       AAK07616.1:p.Val201Asp   \n144                      -                -           Q9NSU2:p.Val256Asp   \n4137  NM_017618.1:c.373dup         c.373dup    NP_060088.1:p.Ser125Lysfs   \n\n        ProteinChange UsedForNaming Submitted OnRefSeqGene  \n11        p.Arg250Pro            No        No           No  \n17      p.Gln40(41_?)            No        No          Yes  \n18    p.Gln18[(40_?)]            No        No          Yes  \n19      p.Gln40(41_?)            No        No           No  \n31        p.Arg448His            No        No           No  \n79        p.Leu135Phe            No        No           No  \n142       p.Val201Asp            No        No           No  \n144       p.Val256Asp            No        No           No  \n4137    p.Ser125Lysfs           Yes        No           No  ",
      "text/html": "<div>\n<style scoped>\n    .dataframe tbody tr th:only-of-type {\n        vertical-align: middle;\n    }\n\n    .dataframe tbody tr th {\n        vertical-align: top;\n    }\n\n    .dataframe thead th {\n        text-align: right;\n    }\n</style>\n<table border=\"1\" class=\"dataframe\">\n  <thead>\n    <tr style=\"text-align: right;\">\n      <th></th>\n      <th>#Symbol</th>\n      <th>GeneID</th>\n      <th>VariationID</th>\n      <th>AlleleID</th>\n      <th>Type</th>\n      <th>Assembly</th>\n      <th>NucleotideExpression</th>\n      <th>NucleotideChange</th>\n      <th>ProteinExpression</th>\n      <th>ProteinChange</th>\n      <th>UsedForNaming</th>\n      <th>Submitted</th>\n      <th>OnRefSeqGene</th>\n    </tr>\n  </thead>\n  <tbody>\n    <tr>\n      <th>11</th>\n      <td>-</td>\n      <td>121815974</td>\n      <td>169</td>\n      <td>15208</td>\n      <td>genomic</td>\n      <td>na</td>\n      <td>-</td>\n      <td>-</td>\n      <td>P04181:p.Arg250Pro</td>\n      <td>p.Arg250Pro</td>\n      <td>No</td>\n      <td>No</td>\n      <td>No</td>\n    </tr>\n    <tr>\n      <th>17</th>\n      <td>-</td>\n      <td>109461479</td>\n      <td>409</td>\n      <td>15448</td>\n      <td>genomic</td>\n      <td>na</td>\n      <td>-</td>\n      <td>-</td>\n      <td>NP_002102.4:p.Gln40(41_?)</td>\n      <td>p.Gln40(41_?)</td>\n      <td>No</td>\n      <td>No</td>\n      <td>Yes</td>\n    </tr>\n    <tr>\n      <th>18</th>\n      <td>-</td>\n      <td>109461479</td>\n      <td>409</td>\n      <td>15448</td>\n      <td>genomic</td>\n      <td>na</td>\n      <td>-</td>\n      <td>-</td>\n      <td>NP_002102.4:p.Gln18[(40_?)]</td>\n      <td>p.Gln18[(40_?)]</td>\n      <td>No</td>\n      <td>No</td>\n      <td>Yes</td>\n    </tr>\n    <tr>\n      <th>19</th>\n      <td>-</td>\n      <td>109461479</td>\n      <td>409</td>\n      <td>15448</td>\n      <td>genomic</td>\n      <td>na</td>\n      <td>-</td>\n      <td>-</td>\n      <td>LRG_763p1:p.Gln40(41_?)</td>\n      <td>p.Gln40(41_?)</td>\n      <td>No</td>\n      <td>No</td>\n      <td>No</td>\n    </tr>\n    <tr>\n      <th>31</th>\n      <td>-</td>\n      <td>106799833</td>\n      <td>1171</td>\n      <td>16210</td>\n      <td>genomic</td>\n      <td>na</td>\n      <td>-</td>\n      <td>-</td>\n      <td>P15538:p.Arg448His</td>\n      <td>p.Arg448His</td>\n      <td>No</td>\n      <td>No</td>\n      <td>No</td>\n    </tr>\n    <tr>\n      <th>79</th>\n      <td>-</td>\n      <td>107303340</td>\n      <td>2221</td>\n      <td>17260</td>\n      <td>genomic</td>\n      <td>na</td>\n      <td>-</td>\n      <td>-</td>\n      <td>P40337:p.Leu135Phe</td>\n      <td>p.Leu135Phe</td>\n      <td>No</td>\n      <td>No</td>\n      <td>No</td>\n    </tr>\n    <tr>\n      <th>142</th>\n      <td>-</td>\n      <td>111822955</td>\n      <td>4182</td>\n      <td>19221</td>\n      <td>genomic</td>\n      <td>na</td>\n      <td>-</td>\n      <td>-</td>\n      <td>AAK07616.1:p.Val201Asp</td>\n      <td>p.Val201Asp</td>\n      <td>No</td>\n      <td>No</td>\n      <td>No</td>\n    </tr>\n    <tr>\n      <th>144</th>\n      <td>-</td>\n      <td>111822955</td>\n      <td>4182</td>\n      <td>19221</td>\n      <td>genomic</td>\n      <td>na</td>\n      <td>-</td>\n      <td>-</td>\n      <td>Q9NSU2:p.Val256Asp</td>\n      <td>p.Val256Asp</td>\n      <td>No</td>\n      <td>No</td>\n      <td>No</td>\n    </tr>\n    <tr>\n      <th>4137</th>\n      <td>-</td>\n      <td>54782</td>\n      <td>39416</td>\n      <td>48015</td>\n      <td>coding</td>\n      <td>na</td>\n      <td>NM_017618.1:c.373dup</td>\n      <td>c.373dup</td>\n      <td>NP_060088.1:p.Ser125Lysfs</td>\n      <td>p.Ser125Lysfs</td>\n      <td>Yes</td>\n      <td>No</td>\n      <td>No</td>\n    </tr>\n  </tbody>\n</table>\n</div>"
     },
     "execution_count": 96,
     "metadata": {},
     "output_type": "execute_result"
    }
   ],
   "source": [
    "# filter out those indicating actual protein changes, otherwise contains nested lists\n",
    "testing_df = df_var.loc[[11,17,18,19,31,79, 142, 144, 4137]]\n",
    "testing_df"
   ],
   "metadata": {
    "collapsed": false,
    "pycharm": {
     "name": "#%%\n"
    }
   }
  },
  {
   "cell_type": "code",
   "execution_count": 73,
   "outputs": [
    {
     "data": {
      "text/plain": "    #Symbol     GeneID  VariationID  AlleleID     Type Assembly  \\\n11        -  121815974          169     15208  genomic       na   \n31        -  106799833         1171     16210  genomic       na   \n79        -  107303340         2221     17260  genomic       na   \n142       -  111822955         4182     19221  genomic       na   \n144       -  111822955         4182     19221  genomic       na   \n\n    NucleotideExpression NucleotideChange       ProteinExpression  \\\n11                     -                -      P04181:p.Arg250Pro   \n31                     -                -      P15538:p.Arg448His   \n79                     -                -      P40337:p.Leu135Phe   \n142                    -                -  AAK07616.1:p.Val201Asp   \n144                    -                -      Q9NSU2:p.Val256Asp   \n\n    ProteinChange UsedForNaming Submitted OnRefSeqGene  \n11    p.Arg250Pro            No        No           No  \n31    p.Arg448His            No        No           No  \n79    p.Leu135Phe            No        No           No  \n142   p.Val201Asp            No        No           No  \n144   p.Val256Asp            No        No           No  ",
      "text/html": "<div>\n<style scoped>\n    .dataframe tbody tr th:only-of-type {\n        vertical-align: middle;\n    }\n\n    .dataframe tbody tr th {\n        vertical-align: top;\n    }\n\n    .dataframe thead th {\n        text-align: right;\n    }\n</style>\n<table border=\"1\" class=\"dataframe\">\n  <thead>\n    <tr style=\"text-align: right;\">\n      <th></th>\n      <th>#Symbol</th>\n      <th>GeneID</th>\n      <th>VariationID</th>\n      <th>AlleleID</th>\n      <th>Type</th>\n      <th>Assembly</th>\n      <th>NucleotideExpression</th>\n      <th>NucleotideChange</th>\n      <th>ProteinExpression</th>\n      <th>ProteinChange</th>\n      <th>UsedForNaming</th>\n      <th>Submitted</th>\n      <th>OnRefSeqGene</th>\n    </tr>\n  </thead>\n  <tbody>\n    <tr>\n      <th>11</th>\n      <td>-</td>\n      <td>121815974</td>\n      <td>169</td>\n      <td>15208</td>\n      <td>genomic</td>\n      <td>na</td>\n      <td>-</td>\n      <td>-</td>\n      <td>P04181:p.Arg250Pro</td>\n      <td>p.Arg250Pro</td>\n      <td>No</td>\n      <td>No</td>\n      <td>No</td>\n    </tr>\n    <tr>\n      <th>31</th>\n      <td>-</td>\n      <td>106799833</td>\n      <td>1171</td>\n      <td>16210</td>\n      <td>genomic</td>\n      <td>na</td>\n      <td>-</td>\n      <td>-</td>\n      <td>P15538:p.Arg448His</td>\n      <td>p.Arg448His</td>\n      <td>No</td>\n      <td>No</td>\n      <td>No</td>\n    </tr>\n    <tr>\n      <th>79</th>\n      <td>-</td>\n      <td>107303340</td>\n      <td>2221</td>\n      <td>17260</td>\n      <td>genomic</td>\n      <td>na</td>\n      <td>-</td>\n      <td>-</td>\n      <td>P40337:p.Leu135Phe</td>\n      <td>p.Leu135Phe</td>\n      <td>No</td>\n      <td>No</td>\n      <td>No</td>\n    </tr>\n    <tr>\n      <th>142</th>\n      <td>-</td>\n      <td>111822955</td>\n      <td>4182</td>\n      <td>19221</td>\n      <td>genomic</td>\n      <td>na</td>\n      <td>-</td>\n      <td>-</td>\n      <td>AAK07616.1:p.Val201Asp</td>\n      <td>p.Val201Asp</td>\n      <td>No</td>\n      <td>No</td>\n      <td>No</td>\n    </tr>\n    <tr>\n      <th>144</th>\n      <td>-</td>\n      <td>111822955</td>\n      <td>4182</td>\n      <td>19221</td>\n      <td>genomic</td>\n      <td>na</td>\n      <td>-</td>\n      <td>-</td>\n      <td>Q9NSU2:p.Val256Asp</td>\n      <td>p.Val256Asp</td>\n      <td>No</td>\n      <td>No</td>\n      <td>No</td>\n    </tr>\n  </tbody>\n</table>\n</div>"
     },
     "execution_count": 73,
     "metadata": {},
     "output_type": "execute_result"
    }
   ],
   "source": [
    "protein_pattern_regex = r'p\\.\\w+\\d+[A-Z][a-z]+(?<!fs)$'\n",
    "testing_df = testing_df[testing_df['ProteinChange'].str.contains(protein_pattern_regex, regex=True)]\n",
    "testing_df"
   ],
   "metadata": {
    "collapsed": false,
    "pycharm": {
     "name": "#%%\n"
    }
   }
  },
  {
   "cell_type": "code",
   "execution_count": 98,
   "outputs": [
    {
     "data": {
      "text/plain": "         #Symbol     GeneID  VariationID  AlleleID     Type Assembly  \\\n11             -  121815974          169     15208  genomic       na   \n31             -  106799833         1171     16210  genomic       na   \n79             -  107303340         2221     17260  genomic       na   \n86             -  107303340         2224     17263  genomic       na   \n87             -  107303340         2231     17270  genomic       na   \n...          ...        ...          ...       ...      ...      ...   \n21795023    ZZZ3      26009      2408495   2391953   coding       na   \n21795024    ZZZ3      26009      2408495   2391953   coding       na   \n21795025    ZZZ3      26009      2408495   2391953   coding       na   \n21795026    ZZZ3      26009      2408495   2391953   coding       na   \n21795027    ZZZ3      26009      2408495   2391953   coding       na   \n\n            NucleotideExpression NucleotideChange          ProteinExpression  \\\n11                             -                -         P04181:p.Arg250Pro   \n31                             -                -         P15538:p.Arg448His   \n79                             -                -         P40337:p.Leu135Phe   \n86                             -                -         P40337:p.Val166Phe   \n87                             -                -         P40337:p.Leu163Pro   \n...                          ...              ...                        ...   \n21795023  NM_001376149.1:c.48A>T          c.48A>T  NP_001363078.1:p.Leu16Phe   \n21795024  NM_001376151.1:c.48A>T          c.48A>T  NP_001363080.1:p.Leu16Phe   \n21795025  NM_001376153.1:c.48A>T          c.48A>T  NP_001363082.1:p.Leu16Phe   \n21795026  NM_001376154.1:c.48A>T          c.48A>T  NP_001363083.1:p.Leu16Phe   \n21795027     NM_015534.6:c.48A>T          c.48A>T     NP_056349.1:p.Leu16Phe   \n\n         ProteinChange UsedForNaming Submitted OnRefSeqGene  \n11         p.Arg250Pro            No        No           No  \n31         p.Arg448His            No        No           No  \n79         p.Leu135Phe            No        No           No  \n86         p.Val166Phe            No        No           No  \n87         p.Leu163Pro            No        No           No  \n...                ...           ...       ...          ...  \n21795023    p.Leu16Phe           Yes        No           No  \n21795024    p.Leu16Phe           Yes        No           No  \n21795025    p.Leu16Phe           Yes        No           No  \n21795026    p.Leu16Phe           Yes        No           No  \n21795027    p.Leu16Phe           Yes        No           No  \n\n[6163656 rows x 13 columns]",
      "text/html": "<div>\n<style scoped>\n    .dataframe tbody tr th:only-of-type {\n        vertical-align: middle;\n    }\n\n    .dataframe tbody tr th {\n        vertical-align: top;\n    }\n\n    .dataframe thead th {\n        text-align: right;\n    }\n</style>\n<table border=\"1\" class=\"dataframe\">\n  <thead>\n    <tr style=\"text-align: right;\">\n      <th></th>\n      <th>#Symbol</th>\n      <th>GeneID</th>\n      <th>VariationID</th>\n      <th>AlleleID</th>\n      <th>Type</th>\n      <th>Assembly</th>\n      <th>NucleotideExpression</th>\n      <th>NucleotideChange</th>\n      <th>ProteinExpression</th>\n      <th>ProteinChange</th>\n      <th>UsedForNaming</th>\n      <th>Submitted</th>\n      <th>OnRefSeqGene</th>\n    </tr>\n  </thead>\n  <tbody>\n    <tr>\n      <th>11</th>\n      <td>-</td>\n      <td>121815974</td>\n      <td>169</td>\n      <td>15208</td>\n      <td>genomic</td>\n      <td>na</td>\n      <td>-</td>\n      <td>-</td>\n      <td>P04181:p.Arg250Pro</td>\n      <td>p.Arg250Pro</td>\n      <td>No</td>\n      <td>No</td>\n      <td>No</td>\n    </tr>\n    <tr>\n      <th>31</th>\n      <td>-</td>\n      <td>106799833</td>\n      <td>1171</td>\n      <td>16210</td>\n      <td>genomic</td>\n      <td>na</td>\n      <td>-</td>\n      <td>-</td>\n      <td>P15538:p.Arg448His</td>\n      <td>p.Arg448His</td>\n      <td>No</td>\n      <td>No</td>\n      <td>No</td>\n    </tr>\n    <tr>\n      <th>79</th>\n      <td>-</td>\n      <td>107303340</td>\n      <td>2221</td>\n      <td>17260</td>\n      <td>genomic</td>\n      <td>na</td>\n      <td>-</td>\n      <td>-</td>\n      <td>P40337:p.Leu135Phe</td>\n      <td>p.Leu135Phe</td>\n      <td>No</td>\n      <td>No</td>\n      <td>No</td>\n    </tr>\n    <tr>\n      <th>86</th>\n      <td>-</td>\n      <td>107303340</td>\n      <td>2224</td>\n      <td>17263</td>\n      <td>genomic</td>\n      <td>na</td>\n      <td>-</td>\n      <td>-</td>\n      <td>P40337:p.Val166Phe</td>\n      <td>p.Val166Phe</td>\n      <td>No</td>\n      <td>No</td>\n      <td>No</td>\n    </tr>\n    <tr>\n      <th>87</th>\n      <td>-</td>\n      <td>107303340</td>\n      <td>2231</td>\n      <td>17270</td>\n      <td>genomic</td>\n      <td>na</td>\n      <td>-</td>\n      <td>-</td>\n      <td>P40337:p.Leu163Pro</td>\n      <td>p.Leu163Pro</td>\n      <td>No</td>\n      <td>No</td>\n      <td>No</td>\n    </tr>\n    <tr>\n      <th>...</th>\n      <td>...</td>\n      <td>...</td>\n      <td>...</td>\n      <td>...</td>\n      <td>...</td>\n      <td>...</td>\n      <td>...</td>\n      <td>...</td>\n      <td>...</td>\n      <td>...</td>\n      <td>...</td>\n      <td>...</td>\n      <td>...</td>\n    </tr>\n    <tr>\n      <th>21795023</th>\n      <td>ZZZ3</td>\n      <td>26009</td>\n      <td>2408495</td>\n      <td>2391953</td>\n      <td>coding</td>\n      <td>na</td>\n      <td>NM_001376149.1:c.48A&gt;T</td>\n      <td>c.48A&gt;T</td>\n      <td>NP_001363078.1:p.Leu16Phe</td>\n      <td>p.Leu16Phe</td>\n      <td>Yes</td>\n      <td>No</td>\n      <td>No</td>\n    </tr>\n    <tr>\n      <th>21795024</th>\n      <td>ZZZ3</td>\n      <td>26009</td>\n      <td>2408495</td>\n      <td>2391953</td>\n      <td>coding</td>\n      <td>na</td>\n      <td>NM_001376151.1:c.48A&gt;T</td>\n      <td>c.48A&gt;T</td>\n      <td>NP_001363080.1:p.Leu16Phe</td>\n      <td>p.Leu16Phe</td>\n      <td>Yes</td>\n      <td>No</td>\n      <td>No</td>\n    </tr>\n    <tr>\n      <th>21795025</th>\n      <td>ZZZ3</td>\n      <td>26009</td>\n      <td>2408495</td>\n      <td>2391953</td>\n      <td>coding</td>\n      <td>na</td>\n      <td>NM_001376153.1:c.48A&gt;T</td>\n      <td>c.48A&gt;T</td>\n      <td>NP_001363082.1:p.Leu16Phe</td>\n      <td>p.Leu16Phe</td>\n      <td>Yes</td>\n      <td>No</td>\n      <td>No</td>\n    </tr>\n    <tr>\n      <th>21795026</th>\n      <td>ZZZ3</td>\n      <td>26009</td>\n      <td>2408495</td>\n      <td>2391953</td>\n      <td>coding</td>\n      <td>na</td>\n      <td>NM_001376154.1:c.48A&gt;T</td>\n      <td>c.48A&gt;T</td>\n      <td>NP_001363083.1:p.Leu16Phe</td>\n      <td>p.Leu16Phe</td>\n      <td>Yes</td>\n      <td>No</td>\n      <td>No</td>\n    </tr>\n    <tr>\n      <th>21795027</th>\n      <td>ZZZ3</td>\n      <td>26009</td>\n      <td>2408495</td>\n      <td>2391953</td>\n      <td>coding</td>\n      <td>na</td>\n      <td>NM_015534.6:c.48A&gt;T</td>\n      <td>c.48A&gt;T</td>\n      <td>NP_056349.1:p.Leu16Phe</td>\n      <td>p.Leu16Phe</td>\n      <td>Yes</td>\n      <td>No</td>\n      <td>No</td>\n    </tr>\n  </tbody>\n</table>\n<p>6163656 rows × 13 columns</p>\n</div>"
     },
     "execution_count": 98,
     "metadata": {},
     "output_type": "execute_result"
    }
   ],
   "source": [
    "# retrieve rows with amino acid substitutions\n",
    "# not filtering premature termination yet\n",
    "protein_pattern_regex = r'p\\.\\w+\\d+[A-Z][a-z]+(?<!fs)$'\n",
    "df_var = df_var[df_var['ProteinChange'].str.contains(protein_pattern_regex, regex=True)]\n",
    "df_var"
   ],
   "metadata": {
    "collapsed": false,
    "pycharm": {
     "name": "#%%\n"
    }
   }
  },
  {
   "cell_type": "code",
   "execution_count": 75,
   "outputs": [
    {
     "data": {
      "text/plain": "    #Symbol     GeneID  VariationID  AlleleID     Type Assembly  \\\n11        -  121815974          169     15208  genomic       na   \n31        -  106799833         1171     16210  genomic       na   \n79        -  107303340         2221     17260  genomic       na   \n142       -  111822955         4182     19221  genomic       na   \n144       -  111822955         4182     19221  genomic       na   \n\n    NucleotideExpression NucleotideChange       ProteinExpression  \\\n11                     -                -      P04181:p.Arg250Pro   \n31                     -                -      P15538:p.Arg448His   \n79                     -                -      P40337:p.Leu135Phe   \n142                    -                -  AAK07616.1:p.Val201Asp   \n144                    -                -      Q9NSU2:p.Val256Asp   \n\n    ProteinChange UsedForNaming Submitted OnRefSeqGene  \n11    p.Arg250Pro            No        No           No  \n31    p.Arg448His            No        No           No  \n79    p.Leu135Phe            No        No           No  \n142   p.Val201Asp            No        No           No  \n144   p.Val256Asp            No        No           No  ",
      "text/html": "<div>\n<style scoped>\n    .dataframe tbody tr th:only-of-type {\n        vertical-align: middle;\n    }\n\n    .dataframe tbody tr th {\n        vertical-align: top;\n    }\n\n    .dataframe thead th {\n        text-align: right;\n    }\n</style>\n<table border=\"1\" class=\"dataframe\">\n  <thead>\n    <tr style=\"text-align: right;\">\n      <th></th>\n      <th>#Symbol</th>\n      <th>GeneID</th>\n      <th>VariationID</th>\n      <th>AlleleID</th>\n      <th>Type</th>\n      <th>Assembly</th>\n      <th>NucleotideExpression</th>\n      <th>NucleotideChange</th>\n      <th>ProteinExpression</th>\n      <th>ProteinChange</th>\n      <th>UsedForNaming</th>\n      <th>Submitted</th>\n      <th>OnRefSeqGene</th>\n    </tr>\n  </thead>\n  <tbody>\n    <tr>\n      <th>11</th>\n      <td>-</td>\n      <td>121815974</td>\n      <td>169</td>\n      <td>15208</td>\n      <td>genomic</td>\n      <td>na</td>\n      <td>-</td>\n      <td>-</td>\n      <td>P04181:p.Arg250Pro</td>\n      <td>p.Arg250Pro</td>\n      <td>No</td>\n      <td>No</td>\n      <td>No</td>\n    </tr>\n    <tr>\n      <th>31</th>\n      <td>-</td>\n      <td>106799833</td>\n      <td>1171</td>\n      <td>16210</td>\n      <td>genomic</td>\n      <td>na</td>\n      <td>-</td>\n      <td>-</td>\n      <td>P15538:p.Arg448His</td>\n      <td>p.Arg448His</td>\n      <td>No</td>\n      <td>No</td>\n      <td>No</td>\n    </tr>\n    <tr>\n      <th>79</th>\n      <td>-</td>\n      <td>107303340</td>\n      <td>2221</td>\n      <td>17260</td>\n      <td>genomic</td>\n      <td>na</td>\n      <td>-</td>\n      <td>-</td>\n      <td>P40337:p.Leu135Phe</td>\n      <td>p.Leu135Phe</td>\n      <td>No</td>\n      <td>No</td>\n      <td>No</td>\n    </tr>\n    <tr>\n      <th>142</th>\n      <td>-</td>\n      <td>111822955</td>\n      <td>4182</td>\n      <td>19221</td>\n      <td>genomic</td>\n      <td>na</td>\n      <td>-</td>\n      <td>-</td>\n      <td>AAK07616.1:p.Val201Asp</td>\n      <td>p.Val201Asp</td>\n      <td>No</td>\n      <td>No</td>\n      <td>No</td>\n    </tr>\n    <tr>\n      <th>144</th>\n      <td>-</td>\n      <td>111822955</td>\n      <td>4182</td>\n      <td>19221</td>\n      <td>genomic</td>\n      <td>na</td>\n      <td>-</td>\n      <td>-</td>\n      <td>Q9NSU2:p.Val256Asp</td>\n      <td>p.Val256Asp</td>\n      <td>No</td>\n      <td>No</td>\n      <td>No</td>\n    </tr>\n  </tbody>\n</table>\n</div>"
     },
     "execution_count": 75,
     "metadata": {},
     "output_type": "execute_result"
    }
   ],
   "source": [
    "testing_df"
   ],
   "metadata": {
    "collapsed": false,
    "pycharm": {
     "name": "#%%\n"
    }
   }
  },
  {
   "cell_type": "code",
   "execution_count": 76,
   "outputs": [
    {
     "data": {
      "text/plain": "    #Symbol     GeneID  VariationID  AlleleID     Type Assembly  \\\n11        -  121815974          169     15208  genomic       na   \n31        -  106799833         1171     16210  genomic       na   \n79        -  107303340         2221     17260  genomic       na   \n142       -  111822955         4182     19221  genomic       na   \n144       -  111822955         4182     19221  genomic       na   \n\n    NucleotideExpression NucleotideChange       ProteinExpression  \\\n11                     -                -      P04181:p.Arg250Pro   \n31                     -                -      P15538:p.Arg448His   \n79                     -                -      P40337:p.Leu135Phe   \n142                    -                -  AAK07616.1:p.Val201Asp   \n144                    -                -      Q9NSU2:p.Val256Asp   \n\n    ProteinChange UsedForNaming Submitted OnRefSeqGene  \n11    p.Arg250Pro            No        No           No  \n31    p.Arg448His            No        No           No  \n79    p.Leu135Phe            No        No           No  \n142   p.Val201Asp            No        No           No  \n144   p.Val256Asp            No        No           No  ",
      "text/html": "<div>\n<style scoped>\n    .dataframe tbody tr th:only-of-type {\n        vertical-align: middle;\n    }\n\n    .dataframe tbody tr th {\n        vertical-align: top;\n    }\n\n    .dataframe thead th {\n        text-align: right;\n    }\n</style>\n<table border=\"1\" class=\"dataframe\">\n  <thead>\n    <tr style=\"text-align: right;\">\n      <th></th>\n      <th>#Symbol</th>\n      <th>GeneID</th>\n      <th>VariationID</th>\n      <th>AlleleID</th>\n      <th>Type</th>\n      <th>Assembly</th>\n      <th>NucleotideExpression</th>\n      <th>NucleotideChange</th>\n      <th>ProteinExpression</th>\n      <th>ProteinChange</th>\n      <th>UsedForNaming</th>\n      <th>Submitted</th>\n      <th>OnRefSeqGene</th>\n    </tr>\n  </thead>\n  <tbody>\n    <tr>\n      <th>11</th>\n      <td>-</td>\n      <td>121815974</td>\n      <td>169</td>\n      <td>15208</td>\n      <td>genomic</td>\n      <td>na</td>\n      <td>-</td>\n      <td>-</td>\n      <td>P04181:p.Arg250Pro</td>\n      <td>p.Arg250Pro</td>\n      <td>No</td>\n      <td>No</td>\n      <td>No</td>\n    </tr>\n    <tr>\n      <th>31</th>\n      <td>-</td>\n      <td>106799833</td>\n      <td>1171</td>\n      <td>16210</td>\n      <td>genomic</td>\n      <td>na</td>\n      <td>-</td>\n      <td>-</td>\n      <td>P15538:p.Arg448His</td>\n      <td>p.Arg448His</td>\n      <td>No</td>\n      <td>No</td>\n      <td>No</td>\n    </tr>\n    <tr>\n      <th>79</th>\n      <td>-</td>\n      <td>107303340</td>\n      <td>2221</td>\n      <td>17260</td>\n      <td>genomic</td>\n      <td>na</td>\n      <td>-</td>\n      <td>-</td>\n      <td>P40337:p.Leu135Phe</td>\n      <td>p.Leu135Phe</td>\n      <td>No</td>\n      <td>No</td>\n      <td>No</td>\n    </tr>\n    <tr>\n      <th>142</th>\n      <td>-</td>\n      <td>111822955</td>\n      <td>4182</td>\n      <td>19221</td>\n      <td>genomic</td>\n      <td>na</td>\n      <td>-</td>\n      <td>-</td>\n      <td>AAK07616.1:p.Val201Asp</td>\n      <td>p.Val201Asp</td>\n      <td>No</td>\n      <td>No</td>\n      <td>No</td>\n    </tr>\n    <tr>\n      <th>144</th>\n      <td>-</td>\n      <td>111822955</td>\n      <td>4182</td>\n      <td>19221</td>\n      <td>genomic</td>\n      <td>na</td>\n      <td>-</td>\n      <td>-</td>\n      <td>Q9NSU2:p.Val256Asp</td>\n      <td>p.Val256Asp</td>\n      <td>No</td>\n      <td>No</td>\n      <td>No</td>\n    </tr>\n  </tbody>\n</table>\n</div>"
     },
     "execution_count": 76,
     "metadata": {},
     "output_type": "execute_result"
    }
   ],
   "source": [
    "testing_df = testing_df.explode('ProteinExpression')\n",
    "testing_df"
   ],
   "metadata": {
    "collapsed": false,
    "pycharm": {
     "name": "#%%\n"
    }
   }
  },
  {
   "cell_type": "code",
   "execution_count": 97,
   "outputs": [
    {
     "data": {
      "text/plain": "     #Symbol     GeneID  VariationID  AlleleID     Type Assembly  \\\n11         -  121815974          169     15208  genomic       na   \n17         -  109461479          409     15448  genomic       na   \n18         -  109461479          409     15448  genomic       na   \n19         -  109461479          409     15448  genomic       na   \n31         -  106799833         1171     16210  genomic       na   \n79         -  107303340         2221     17260  genomic       na   \n142        -  111822955         4182     19221  genomic       na   \n144        -  111822955         4182     19221  genomic       na   \n4137       -      54782        39416     48015   coding       na   \n\n      NucleotideExpression NucleotideChange            ProteinExpression  \\\n11                       -                -           P04181:p.Arg250Pro   \n17                       -                -    NP_002102.4:p.Gln40(41_?)   \n18                       -                -  NP_002102.4:p.Gln18[(40_?)]   \n19                       -                -      LRG_763p1:p.Gln40(41_?)   \n31                       -                -           P15538:p.Arg448His   \n79                       -                -           P40337:p.Leu135Phe   \n142                      -                -       AAK07616.1:p.Val201Asp   \n144                      -                -           Q9NSU2:p.Val256Asp   \n4137  NM_017618.1:c.373dup         c.373dup    NP_060088.1:p.Ser125Lysfs   \n\n        ProteinChange UsedForNaming Submitted OnRefSeqGene   protein_id  \n11        p.Arg250Pro            No        No           No       P04181  \n17      p.Gln40(41_?)            No        No          Yes  NP_002102.4  \n18    p.Gln18[(40_?)]            No        No          Yes  NP_002102.4  \n19      p.Gln40(41_?)            No        No           No          NaN  \n31        p.Arg448His            No        No           No       P15538  \n79        p.Leu135Phe            No        No           No       P40337  \n142       p.Val201Asp            No        No           No   AAK07616.1  \n144       p.Val256Asp            No        No           No       Q9NSU2  \n4137    p.Ser125Lysfs           Yes        No           No  NP_060088.1  ",
      "text/html": "<div>\n<style scoped>\n    .dataframe tbody tr th:only-of-type {\n        vertical-align: middle;\n    }\n\n    .dataframe tbody tr th {\n        vertical-align: top;\n    }\n\n    .dataframe thead th {\n        text-align: right;\n    }\n</style>\n<table border=\"1\" class=\"dataframe\">\n  <thead>\n    <tr style=\"text-align: right;\">\n      <th></th>\n      <th>#Symbol</th>\n      <th>GeneID</th>\n      <th>VariationID</th>\n      <th>AlleleID</th>\n      <th>Type</th>\n      <th>Assembly</th>\n      <th>NucleotideExpression</th>\n      <th>NucleotideChange</th>\n      <th>ProteinExpression</th>\n      <th>ProteinChange</th>\n      <th>UsedForNaming</th>\n      <th>Submitted</th>\n      <th>OnRefSeqGene</th>\n      <th>protein_id</th>\n    </tr>\n  </thead>\n  <tbody>\n    <tr>\n      <th>11</th>\n      <td>-</td>\n      <td>121815974</td>\n      <td>169</td>\n      <td>15208</td>\n      <td>genomic</td>\n      <td>na</td>\n      <td>-</td>\n      <td>-</td>\n      <td>P04181:p.Arg250Pro</td>\n      <td>p.Arg250Pro</td>\n      <td>No</td>\n      <td>No</td>\n      <td>No</td>\n      <td>P04181</td>\n    </tr>\n    <tr>\n      <th>17</th>\n      <td>-</td>\n      <td>109461479</td>\n      <td>409</td>\n      <td>15448</td>\n      <td>genomic</td>\n      <td>na</td>\n      <td>-</td>\n      <td>-</td>\n      <td>NP_002102.4:p.Gln40(41_?)</td>\n      <td>p.Gln40(41_?)</td>\n      <td>No</td>\n      <td>No</td>\n      <td>Yes</td>\n      <td>NP_002102.4</td>\n    </tr>\n    <tr>\n      <th>18</th>\n      <td>-</td>\n      <td>109461479</td>\n      <td>409</td>\n      <td>15448</td>\n      <td>genomic</td>\n      <td>na</td>\n      <td>-</td>\n      <td>-</td>\n      <td>NP_002102.4:p.Gln18[(40_?)]</td>\n      <td>p.Gln18[(40_?)]</td>\n      <td>No</td>\n      <td>No</td>\n      <td>Yes</td>\n      <td>NP_002102.4</td>\n    </tr>\n    <tr>\n      <th>19</th>\n      <td>-</td>\n      <td>109461479</td>\n      <td>409</td>\n      <td>15448</td>\n      <td>genomic</td>\n      <td>na</td>\n      <td>-</td>\n      <td>-</td>\n      <td>LRG_763p1:p.Gln40(41_?)</td>\n      <td>p.Gln40(41_?)</td>\n      <td>No</td>\n      <td>No</td>\n      <td>No</td>\n      <td>NaN</td>\n    </tr>\n    <tr>\n      <th>31</th>\n      <td>-</td>\n      <td>106799833</td>\n      <td>1171</td>\n      <td>16210</td>\n      <td>genomic</td>\n      <td>na</td>\n      <td>-</td>\n      <td>-</td>\n      <td>P15538:p.Arg448His</td>\n      <td>p.Arg448His</td>\n      <td>No</td>\n      <td>No</td>\n      <td>No</td>\n      <td>P15538</td>\n    </tr>\n    <tr>\n      <th>79</th>\n      <td>-</td>\n      <td>107303340</td>\n      <td>2221</td>\n      <td>17260</td>\n      <td>genomic</td>\n      <td>na</td>\n      <td>-</td>\n      <td>-</td>\n      <td>P40337:p.Leu135Phe</td>\n      <td>p.Leu135Phe</td>\n      <td>No</td>\n      <td>No</td>\n      <td>No</td>\n      <td>P40337</td>\n    </tr>\n    <tr>\n      <th>142</th>\n      <td>-</td>\n      <td>111822955</td>\n      <td>4182</td>\n      <td>19221</td>\n      <td>genomic</td>\n      <td>na</td>\n      <td>-</td>\n      <td>-</td>\n      <td>AAK07616.1:p.Val201Asp</td>\n      <td>p.Val201Asp</td>\n      <td>No</td>\n      <td>No</td>\n      <td>No</td>\n      <td>AAK07616.1</td>\n    </tr>\n    <tr>\n      <th>144</th>\n      <td>-</td>\n      <td>111822955</td>\n      <td>4182</td>\n      <td>19221</td>\n      <td>genomic</td>\n      <td>na</td>\n      <td>-</td>\n      <td>-</td>\n      <td>Q9NSU2:p.Val256Asp</td>\n      <td>p.Val256Asp</td>\n      <td>No</td>\n      <td>No</td>\n      <td>No</td>\n      <td>Q9NSU2</td>\n    </tr>\n    <tr>\n      <th>4137</th>\n      <td>-</td>\n      <td>54782</td>\n      <td>39416</td>\n      <td>48015</td>\n      <td>coding</td>\n      <td>na</td>\n      <td>NM_017618.1:c.373dup</td>\n      <td>c.373dup</td>\n      <td>NP_060088.1:p.Ser125Lysfs</td>\n      <td>p.Ser125Lysfs</td>\n      <td>Yes</td>\n      <td>No</td>\n      <td>No</td>\n      <td>NP_060088.1</td>\n    </tr>\n  </tbody>\n</table>\n</div>"
     },
     "execution_count": 97,
     "metadata": {},
     "output_type": "execute_result"
    }
   ],
   "source": [
    "import numpy as np\n",
    "np_id_regex = r'^(\\w+\\d+[^p]\\.*\\d*):'\n",
    "# From the start of the string before the :, take strings that don’t contain _ (NP_ and LRG_) or . (NP_)\n",
    "uniprot_id_regex = r'^([^_ | ^.]+)\\:'\n",
    "testing_df['np_id'] = testing_df['ProteinExpression'].str.extract(np_id_regex, expand=False).fillna(np.nan)\n",
    "testing_df['uniprot_id'] = testing_df['ProteinExpression'].str.extract(uniprot_id_regex, expand=False).fillna(np.nan)\n",
    "testing_df['protein_id'] = testing_df['np_id'].fillna(testing_df['uniprot_id'])\n",
    "testing_df = testing_df.drop(['np_id', 'uniprot_id'], axis=1)\n",
    "testing_df"
   ],
   "metadata": {
    "collapsed": false,
    "pycharm": {
     "name": "#%%\n"
    }
   }
  },
  {
   "cell_type": "code",
   "execution_count": 104,
   "outputs": [
    {
     "data": {
      "text/plain": "         #Symbol     GeneID  VariationID  AlleleID     Type Assembly  \\\n11             -  121815974          169     15208  genomic       na   \n17             -  109461479          409     15448  genomic       na   \n18             -  109461479          409     15448  genomic       na   \n31             -  106799833         1171     16210  genomic       na   \n79             -  107303340         2221     17260  genomic       na   \n...          ...        ...          ...       ...      ...      ...   \n21795023    ZZZ3      26009      2408495   2391953   coding       na   \n21795024    ZZZ3      26009      2408495   2391953   coding       na   \n21795025    ZZZ3      26009      2408495   2391953   coding       na   \n21795026    ZZZ3      26009      2408495   2391953   coding       na   \n21795027    ZZZ3      26009      2408495   2391953   coding       na   \n\n            NucleotideExpression NucleotideChange  \\\n11                             -                -   \n17                             -                -   \n18                             -                -   \n31                             -                -   \n79                             -                -   \n...                          ...              ...   \n21795023  NM_001376149.1:c.48A>T          c.48A>T   \n21795024  NM_001376151.1:c.48A>T          c.48A>T   \n21795025  NM_001376153.1:c.48A>T          c.48A>T   \n21795026  NM_001376154.1:c.48A>T          c.48A>T   \n21795027     NM_015534.6:c.48A>T          c.48A>T   \n\n                    ProteinExpression    ProteinChange UsedForNaming  \\\n11                 P04181:p.Arg250Pro      p.Arg250Pro            No   \n17          NP_002102.4:p.Gln40(41_?)    p.Gln40(41_?)            No   \n18        NP_002102.4:p.Gln18[(40_?)]  p.Gln18[(40_?)]            No   \n31                 P15538:p.Arg448His      p.Arg448His            No   \n79                 P40337:p.Leu135Phe      p.Leu135Phe            No   \n...                               ...              ...           ...   \n21795023    NP_001363078.1:p.Leu16Phe       p.Leu16Phe           Yes   \n21795024    NP_001363080.1:p.Leu16Phe       p.Leu16Phe           Yes   \n21795025    NP_001363082.1:p.Leu16Phe       p.Leu16Phe           Yes   \n21795026    NP_001363083.1:p.Leu16Phe       p.Leu16Phe           Yes   \n21795027       NP_056349.1:p.Leu16Phe       p.Leu16Phe           Yes   \n\n         Submitted OnRefSeqGene      protein_id  \n11              No           No          P04181  \n17              No          Yes     NP_002102.4  \n18              No          Yes     NP_002102.4  \n31              No           No          P15538  \n79              No           No          P40337  \n...            ...          ...             ...  \n21795023        No           No  NP_001363078.1  \n21795024        No           No  NP_001363080.1  \n21795025        No           No  NP_001363082.1  \n21795026        No           No  NP_001363083.1  \n21795027        No           No     NP_056349.1  \n\n[9275271 rows x 14 columns]",
      "text/html": "<div>\n<style scoped>\n    .dataframe tbody tr th:only-of-type {\n        vertical-align: middle;\n    }\n\n    .dataframe tbody tr th {\n        vertical-align: top;\n    }\n\n    .dataframe thead th {\n        text-align: right;\n    }\n</style>\n<table border=\"1\" class=\"dataframe\">\n  <thead>\n    <tr style=\"text-align: right;\">\n      <th></th>\n      <th>#Symbol</th>\n      <th>GeneID</th>\n      <th>VariationID</th>\n      <th>AlleleID</th>\n      <th>Type</th>\n      <th>Assembly</th>\n      <th>NucleotideExpression</th>\n      <th>NucleotideChange</th>\n      <th>ProteinExpression</th>\n      <th>ProteinChange</th>\n      <th>UsedForNaming</th>\n      <th>Submitted</th>\n      <th>OnRefSeqGene</th>\n      <th>protein_id</th>\n    </tr>\n  </thead>\n  <tbody>\n    <tr>\n      <th>11</th>\n      <td>-</td>\n      <td>121815974</td>\n      <td>169</td>\n      <td>15208</td>\n      <td>genomic</td>\n      <td>na</td>\n      <td>-</td>\n      <td>-</td>\n      <td>P04181:p.Arg250Pro</td>\n      <td>p.Arg250Pro</td>\n      <td>No</td>\n      <td>No</td>\n      <td>No</td>\n      <td>P04181</td>\n    </tr>\n    <tr>\n      <th>17</th>\n      <td>-</td>\n      <td>109461479</td>\n      <td>409</td>\n      <td>15448</td>\n      <td>genomic</td>\n      <td>na</td>\n      <td>-</td>\n      <td>-</td>\n      <td>NP_002102.4:p.Gln40(41_?)</td>\n      <td>p.Gln40(41_?)</td>\n      <td>No</td>\n      <td>No</td>\n      <td>Yes</td>\n      <td>NP_002102.4</td>\n    </tr>\n    <tr>\n      <th>18</th>\n      <td>-</td>\n      <td>109461479</td>\n      <td>409</td>\n      <td>15448</td>\n      <td>genomic</td>\n      <td>na</td>\n      <td>-</td>\n      <td>-</td>\n      <td>NP_002102.4:p.Gln18[(40_?)]</td>\n      <td>p.Gln18[(40_?)]</td>\n      <td>No</td>\n      <td>No</td>\n      <td>Yes</td>\n      <td>NP_002102.4</td>\n    </tr>\n    <tr>\n      <th>31</th>\n      <td>-</td>\n      <td>106799833</td>\n      <td>1171</td>\n      <td>16210</td>\n      <td>genomic</td>\n      <td>na</td>\n      <td>-</td>\n      <td>-</td>\n      <td>P15538:p.Arg448His</td>\n      <td>p.Arg448His</td>\n      <td>No</td>\n      <td>No</td>\n      <td>No</td>\n      <td>P15538</td>\n    </tr>\n    <tr>\n      <th>79</th>\n      <td>-</td>\n      <td>107303340</td>\n      <td>2221</td>\n      <td>17260</td>\n      <td>genomic</td>\n      <td>na</td>\n      <td>-</td>\n      <td>-</td>\n      <td>P40337:p.Leu135Phe</td>\n      <td>p.Leu135Phe</td>\n      <td>No</td>\n      <td>No</td>\n      <td>No</td>\n      <td>P40337</td>\n    </tr>\n    <tr>\n      <th>...</th>\n      <td>...</td>\n      <td>...</td>\n      <td>...</td>\n      <td>...</td>\n      <td>...</td>\n      <td>...</td>\n      <td>...</td>\n      <td>...</td>\n      <td>...</td>\n      <td>...</td>\n      <td>...</td>\n      <td>...</td>\n      <td>...</td>\n      <td>...</td>\n    </tr>\n    <tr>\n      <th>21795023</th>\n      <td>ZZZ3</td>\n      <td>26009</td>\n      <td>2408495</td>\n      <td>2391953</td>\n      <td>coding</td>\n      <td>na</td>\n      <td>NM_001376149.1:c.48A&gt;T</td>\n      <td>c.48A&gt;T</td>\n      <td>NP_001363078.1:p.Leu16Phe</td>\n      <td>p.Leu16Phe</td>\n      <td>Yes</td>\n      <td>No</td>\n      <td>No</td>\n      <td>NP_001363078.1</td>\n    </tr>\n    <tr>\n      <th>21795024</th>\n      <td>ZZZ3</td>\n      <td>26009</td>\n      <td>2408495</td>\n      <td>2391953</td>\n      <td>coding</td>\n      <td>na</td>\n      <td>NM_001376151.1:c.48A&gt;T</td>\n      <td>c.48A&gt;T</td>\n      <td>NP_001363080.1:p.Leu16Phe</td>\n      <td>p.Leu16Phe</td>\n      <td>Yes</td>\n      <td>No</td>\n      <td>No</td>\n      <td>NP_001363080.1</td>\n    </tr>\n    <tr>\n      <th>21795025</th>\n      <td>ZZZ3</td>\n      <td>26009</td>\n      <td>2408495</td>\n      <td>2391953</td>\n      <td>coding</td>\n      <td>na</td>\n      <td>NM_001376153.1:c.48A&gt;T</td>\n      <td>c.48A&gt;T</td>\n      <td>NP_001363082.1:p.Leu16Phe</td>\n      <td>p.Leu16Phe</td>\n      <td>Yes</td>\n      <td>No</td>\n      <td>No</td>\n      <td>NP_001363082.1</td>\n    </tr>\n    <tr>\n      <th>21795026</th>\n      <td>ZZZ3</td>\n      <td>26009</td>\n      <td>2408495</td>\n      <td>2391953</td>\n      <td>coding</td>\n      <td>na</td>\n      <td>NM_001376154.1:c.48A&gt;T</td>\n      <td>c.48A&gt;T</td>\n      <td>NP_001363083.1:p.Leu16Phe</td>\n      <td>p.Leu16Phe</td>\n      <td>Yes</td>\n      <td>No</td>\n      <td>No</td>\n      <td>NP_001363083.1</td>\n    </tr>\n    <tr>\n      <th>21795027</th>\n      <td>ZZZ3</td>\n      <td>26009</td>\n      <td>2408495</td>\n      <td>2391953</td>\n      <td>coding</td>\n      <td>na</td>\n      <td>NM_015534.6:c.48A&gt;T</td>\n      <td>c.48A&gt;T</td>\n      <td>NP_056349.1:p.Leu16Phe</td>\n      <td>p.Leu16Phe</td>\n      <td>Yes</td>\n      <td>No</td>\n      <td>No</td>\n      <td>NP_056349.1</td>\n    </tr>\n  </tbody>\n</table>\n<p>9275271 rows × 14 columns</p>\n</div>"
     },
     "execution_count": 104,
     "metadata": {},
     "output_type": "execute_result"
    }
   ],
   "source": [
    "# apply the above id extraction to mega data, and drop NAs (meaning no protein ID to map)\n",
    "np_id_regex = r'^(\\w+\\d+[^p]\\.*\\d*):'\n",
    "# From the start of the string before the :, take strings that don’t contain _ (NP_ and LRG_) or . (NP_)\n",
    "uniprot_id_regex = r'^([^_ | ^.]+)\\:'\n",
    "df_var['np_id'] = df_var['ProteinExpression'].str.extract(np_id_regex, expand=False).fillna(np.nan)\n",
    "df_var['uniprot_id'] = df_var['ProteinExpression'].str.extract(uniprot_id_regex, expand=False).fillna(np.nan)\n",
    "df_var['protein_id'] = df_var['np_id'].fillna(df_var['uniprot_id'])\n",
    "df_var = df_var.drop(['np_id', 'uniprot_id'], axis=1)\n",
    "df_var = df_var[df_var['protein_id'].notna()]\n",
    "df_var"
   ],
   "metadata": {
    "collapsed": false,
    "pycharm": {
     "name": "#%%\n"
    }
   }
  },
  {
   "cell_type": "code",
   "execution_count": 105,
   "metadata": {},
   "outputs": [
    {
     "data": {
      "text/plain": "         #Symbol     GeneID  VariationID  AlleleID     Type Assembly  \\\n11             -  121815974          169     15208  genomic       na   \n17             -  109461479          409     15448  genomic       na   \n18             -  109461479          409     15448  genomic       na   \n31             -  106799833         1171     16210  genomic       na   \n79             -  107303340         2221     17260  genomic       na   \n...          ...        ...          ...       ...      ...      ...   \n21795023    ZZZ3      26009      2408495   2391953   coding       na   \n21795024    ZZZ3      26009      2408495   2391953   coding       na   \n21795025    ZZZ3      26009      2408495   2391953   coding       na   \n21795026    ZZZ3      26009      2408495   2391953   coding       na   \n21795027    ZZZ3      26009      2408495   2391953   coding       na   \n\n            NucleotideExpression NucleotideChange  \\\n11                             -                -   \n17                             -                -   \n18                             -                -   \n31                             -                -   \n79                             -                -   \n...                          ...              ...   \n21795023  NM_001376149.1:c.48A>T          c.48A>T   \n21795024  NM_001376151.1:c.48A>T          c.48A>T   \n21795025  NM_001376153.1:c.48A>T          c.48A>T   \n21795026  NM_001376154.1:c.48A>T          c.48A>T   \n21795027     NM_015534.6:c.48A>T          c.48A>T   \n\n                    ProteinExpression    ProteinChange UsedForNaming  \\\n11                 P04181:p.Arg250Pro      p.Arg250Pro            No   \n17          NP_002102.4:p.Gln40(41_?)    p.Gln40(41_?)            No   \n18        NP_002102.4:p.Gln18[(40_?)]  p.Gln18[(40_?)]            No   \n31                 P15538:p.Arg448His      p.Arg448His            No   \n79                 P40337:p.Leu135Phe      p.Leu135Phe            No   \n...                               ...              ...           ...   \n21795023    NP_001363078.1:p.Leu16Phe       p.Leu16Phe           Yes   \n21795024    NP_001363080.1:p.Leu16Phe       p.Leu16Phe           Yes   \n21795025    NP_001363082.1:p.Leu16Phe       p.Leu16Phe           Yes   \n21795026    NP_001363083.1:p.Leu16Phe       p.Leu16Phe           Yes   \n21795027       NP_056349.1:p.Leu16Phe       p.Leu16Phe           Yes   \n\n         Submitted OnRefSeqGene      protein_id           NM_ID  \n11              No           No          P04181              NA  \n17              No          Yes     NP_002102.4              NA  \n18              No          Yes     NP_002102.4              NA  \n31              No           No          P15538              NA  \n79              No           No          P40337              NA  \n...            ...          ...             ...             ...  \n21795023        No           No  NP_001363078.1  NM_001376149.1  \n21795024        No           No  NP_001363080.1  NM_001376151.1  \n21795025        No           No  NP_001363082.1  NM_001376153.1  \n21795026        No           No  NP_001363083.1  NM_001376154.1  \n21795027        No           No     NP_056349.1     NM_015534.6  \n\n[9275271 rows x 15 columns]",
      "text/html": "<div>\n<style scoped>\n    .dataframe tbody tr th:only-of-type {\n        vertical-align: middle;\n    }\n\n    .dataframe tbody tr th {\n        vertical-align: top;\n    }\n\n    .dataframe thead th {\n        text-align: right;\n    }\n</style>\n<table border=\"1\" class=\"dataframe\">\n  <thead>\n    <tr style=\"text-align: right;\">\n      <th></th>\n      <th>#Symbol</th>\n      <th>GeneID</th>\n      <th>VariationID</th>\n      <th>AlleleID</th>\n      <th>Type</th>\n      <th>Assembly</th>\n      <th>NucleotideExpression</th>\n      <th>NucleotideChange</th>\n      <th>ProteinExpression</th>\n      <th>ProteinChange</th>\n      <th>UsedForNaming</th>\n      <th>Submitted</th>\n      <th>OnRefSeqGene</th>\n      <th>protein_id</th>\n      <th>NM_ID</th>\n    </tr>\n  </thead>\n  <tbody>\n    <tr>\n      <th>11</th>\n      <td>-</td>\n      <td>121815974</td>\n      <td>169</td>\n      <td>15208</td>\n      <td>genomic</td>\n      <td>na</td>\n      <td>-</td>\n      <td>-</td>\n      <td>P04181:p.Arg250Pro</td>\n      <td>p.Arg250Pro</td>\n      <td>No</td>\n      <td>No</td>\n      <td>No</td>\n      <td>P04181</td>\n      <td>NA</td>\n    </tr>\n    <tr>\n      <th>17</th>\n      <td>-</td>\n      <td>109461479</td>\n      <td>409</td>\n      <td>15448</td>\n      <td>genomic</td>\n      <td>na</td>\n      <td>-</td>\n      <td>-</td>\n      <td>NP_002102.4:p.Gln40(41_?)</td>\n      <td>p.Gln40(41_?)</td>\n      <td>No</td>\n      <td>No</td>\n      <td>Yes</td>\n      <td>NP_002102.4</td>\n      <td>NA</td>\n    </tr>\n    <tr>\n      <th>18</th>\n      <td>-</td>\n      <td>109461479</td>\n      <td>409</td>\n      <td>15448</td>\n      <td>genomic</td>\n      <td>na</td>\n      <td>-</td>\n      <td>-</td>\n      <td>NP_002102.4:p.Gln18[(40_?)]</td>\n      <td>p.Gln18[(40_?)]</td>\n      <td>No</td>\n      <td>No</td>\n      <td>Yes</td>\n      <td>NP_002102.4</td>\n      <td>NA</td>\n    </tr>\n    <tr>\n      <th>31</th>\n      <td>-</td>\n      <td>106799833</td>\n      <td>1171</td>\n      <td>16210</td>\n      <td>genomic</td>\n      <td>na</td>\n      <td>-</td>\n      <td>-</td>\n      <td>P15538:p.Arg448His</td>\n      <td>p.Arg448His</td>\n      <td>No</td>\n      <td>No</td>\n      <td>No</td>\n      <td>P15538</td>\n      <td>NA</td>\n    </tr>\n    <tr>\n      <th>79</th>\n      <td>-</td>\n      <td>107303340</td>\n      <td>2221</td>\n      <td>17260</td>\n      <td>genomic</td>\n      <td>na</td>\n      <td>-</td>\n      <td>-</td>\n      <td>P40337:p.Leu135Phe</td>\n      <td>p.Leu135Phe</td>\n      <td>No</td>\n      <td>No</td>\n      <td>No</td>\n      <td>P40337</td>\n      <td>NA</td>\n    </tr>\n    <tr>\n      <th>...</th>\n      <td>...</td>\n      <td>...</td>\n      <td>...</td>\n      <td>...</td>\n      <td>...</td>\n      <td>...</td>\n      <td>...</td>\n      <td>...</td>\n      <td>...</td>\n      <td>...</td>\n      <td>...</td>\n      <td>...</td>\n      <td>...</td>\n      <td>...</td>\n      <td>...</td>\n    </tr>\n    <tr>\n      <th>21795023</th>\n      <td>ZZZ3</td>\n      <td>26009</td>\n      <td>2408495</td>\n      <td>2391953</td>\n      <td>coding</td>\n      <td>na</td>\n      <td>NM_001376149.1:c.48A&gt;T</td>\n      <td>c.48A&gt;T</td>\n      <td>NP_001363078.1:p.Leu16Phe</td>\n      <td>p.Leu16Phe</td>\n      <td>Yes</td>\n      <td>No</td>\n      <td>No</td>\n      <td>NP_001363078.1</td>\n      <td>NM_001376149.1</td>\n    </tr>\n    <tr>\n      <th>21795024</th>\n      <td>ZZZ3</td>\n      <td>26009</td>\n      <td>2408495</td>\n      <td>2391953</td>\n      <td>coding</td>\n      <td>na</td>\n      <td>NM_001376151.1:c.48A&gt;T</td>\n      <td>c.48A&gt;T</td>\n      <td>NP_001363080.1:p.Leu16Phe</td>\n      <td>p.Leu16Phe</td>\n      <td>Yes</td>\n      <td>No</td>\n      <td>No</td>\n      <td>NP_001363080.1</td>\n      <td>NM_001376151.1</td>\n    </tr>\n    <tr>\n      <th>21795025</th>\n      <td>ZZZ3</td>\n      <td>26009</td>\n      <td>2408495</td>\n      <td>2391953</td>\n      <td>coding</td>\n      <td>na</td>\n      <td>NM_001376153.1:c.48A&gt;T</td>\n      <td>c.48A&gt;T</td>\n      <td>NP_001363082.1:p.Leu16Phe</td>\n      <td>p.Leu16Phe</td>\n      <td>Yes</td>\n      <td>No</td>\n      <td>No</td>\n      <td>NP_001363082.1</td>\n      <td>NM_001376153.1</td>\n    </tr>\n    <tr>\n      <th>21795026</th>\n      <td>ZZZ3</td>\n      <td>26009</td>\n      <td>2408495</td>\n      <td>2391953</td>\n      <td>coding</td>\n      <td>na</td>\n      <td>NM_001376154.1:c.48A&gt;T</td>\n      <td>c.48A&gt;T</td>\n      <td>NP_001363083.1:p.Leu16Phe</td>\n      <td>p.Leu16Phe</td>\n      <td>Yes</td>\n      <td>No</td>\n      <td>No</td>\n      <td>NP_001363083.1</td>\n      <td>NM_001376154.1</td>\n    </tr>\n    <tr>\n      <th>21795027</th>\n      <td>ZZZ3</td>\n      <td>26009</td>\n      <td>2408495</td>\n      <td>2391953</td>\n      <td>coding</td>\n      <td>na</td>\n      <td>NM_015534.6:c.48A&gt;T</td>\n      <td>c.48A&gt;T</td>\n      <td>NP_056349.1:p.Leu16Phe</td>\n      <td>p.Leu16Phe</td>\n      <td>Yes</td>\n      <td>No</td>\n      <td>No</td>\n      <td>NP_056349.1</td>\n      <td>NM_015534.6</td>\n    </tr>\n  </tbody>\n</table>\n<p>9275271 rows × 15 columns</p>\n</div>"
     },
     "execution_count": 105,
     "metadata": {},
     "output_type": "execute_result"
    }
   ],
   "source": [
    "nm_id_regex = r'(NM_\\d+\\.*\\d*)\\:'\n",
    "df_var['NM_ID'] = df_var['NucleotideExpression'].str.extract(nm_id_regex).fillna('NA')\n",
    "df_var"
   ]
  },
  {
   "cell_type": "code",
   "execution_count": 106,
   "metadata": {},
   "outputs": [
    {
     "name": "stderr",
     "output_type": "stream",
     "text": [
      "/var/tmp/pbs.478431.hn-10-03/ipykernel_106576/2946798835.py:2: SettingWithCopyWarning: \n",
      "A value is trying to be set on a copy of a slice from a DataFrame\n",
      "\n",
      "See the caveats in the documentation: https://pandas.pydata.org/pandas-docs/stable/user_guide/indexing.html#returning-a-view-versus-a-copy\n",
      "  df_IDs.drop_duplicates(inplace=True)\n"
     ]
    },
    {
     "data": {
      "text/plain": "         #Symbol     GeneID           NM_ID      protein_id\n11             -  121815974              NA          P04181\n17             -  109461479              NA     NP_002102.4\n31             -  106799833              NA          P15538\n79             -  107303340              NA          P40337\n130            -  107080644              NA          Q14749\n...          ...        ...             ...             ...\n21794538    ZZZ3      26009  NM_001376153.1  NP_001363082.1\n21794539    ZZZ3      26009  NM_001376154.1  NP_001363083.1\n21794540    ZZZ3      26009  NM_001376155.1  NP_001363084.1\n21794541    ZZZ3      26009  NM_001376156.1  NP_001363085.1\n21794542    ZZZ3      26009     NM_015534.6     NP_056349.1\n\n[70855 rows x 4 columns]",
      "text/html": "<div>\n<style scoped>\n    .dataframe tbody tr th:only-of-type {\n        vertical-align: middle;\n    }\n\n    .dataframe tbody tr th {\n        vertical-align: top;\n    }\n\n    .dataframe thead th {\n        text-align: right;\n    }\n</style>\n<table border=\"1\" class=\"dataframe\">\n  <thead>\n    <tr style=\"text-align: right;\">\n      <th></th>\n      <th>#Symbol</th>\n      <th>GeneID</th>\n      <th>NM_ID</th>\n      <th>protein_id</th>\n    </tr>\n  </thead>\n  <tbody>\n    <tr>\n      <th>11</th>\n      <td>-</td>\n      <td>121815974</td>\n      <td>NA</td>\n      <td>P04181</td>\n    </tr>\n    <tr>\n      <th>17</th>\n      <td>-</td>\n      <td>109461479</td>\n      <td>NA</td>\n      <td>NP_002102.4</td>\n    </tr>\n    <tr>\n      <th>31</th>\n      <td>-</td>\n      <td>106799833</td>\n      <td>NA</td>\n      <td>P15538</td>\n    </tr>\n    <tr>\n      <th>79</th>\n      <td>-</td>\n      <td>107303340</td>\n      <td>NA</td>\n      <td>P40337</td>\n    </tr>\n    <tr>\n      <th>130</th>\n      <td>-</td>\n      <td>107080644</td>\n      <td>NA</td>\n      <td>Q14749</td>\n    </tr>\n    <tr>\n      <th>...</th>\n      <td>...</td>\n      <td>...</td>\n      <td>...</td>\n      <td>...</td>\n    </tr>\n    <tr>\n      <th>21794538</th>\n      <td>ZZZ3</td>\n      <td>26009</td>\n      <td>NM_001376153.1</td>\n      <td>NP_001363082.1</td>\n    </tr>\n    <tr>\n      <th>21794539</th>\n      <td>ZZZ3</td>\n      <td>26009</td>\n      <td>NM_001376154.1</td>\n      <td>NP_001363083.1</td>\n    </tr>\n    <tr>\n      <th>21794540</th>\n      <td>ZZZ3</td>\n      <td>26009</td>\n      <td>NM_001376155.1</td>\n      <td>NP_001363084.1</td>\n    </tr>\n    <tr>\n      <th>21794541</th>\n      <td>ZZZ3</td>\n      <td>26009</td>\n      <td>NM_001376156.1</td>\n      <td>NP_001363085.1</td>\n    </tr>\n    <tr>\n      <th>21794542</th>\n      <td>ZZZ3</td>\n      <td>26009</td>\n      <td>NM_015534.6</td>\n      <td>NP_056349.1</td>\n    </tr>\n  </tbody>\n</table>\n<p>70855 rows × 4 columns</p>\n</div>"
     },
     "execution_count": 106,
     "metadata": {},
     "output_type": "execute_result"
    }
   ],
   "source": [
    "df_IDs = df_var[['#Symbol','GeneID','NM_ID', 'protein_id']]\n",
    "df_IDs.drop_duplicates(inplace=True)\n",
    "df_IDs.to_csv('./data/metas/hgvs_nonredundant_id_mapping.csv', index=False)\n",
    "df_IDs"
   ]
  },
  {
   "cell_type": "code",
   "execution_count": 26,
   "metadata": {
    "collapsed": false,
    "jupyter": {
     "outputs_hidden": false
    },
    "pycharm": {
     "name": "#%%\n"
    }
   },
   "outputs": [
    {
     "data": {
      "text/html": [
       "<div>\n",
       "<style scoped>\n",
       "    .dataframe tbody tr th:only-of-type {\n",
       "        vertical-align: middle;\n",
       "    }\n",
       "\n",
       "    .dataframe tbody tr th {\n",
       "        vertical-align: top;\n",
       "    }\n",
       "\n",
       "    .dataframe thead th {\n",
       "        text-align: right;\n",
       "    }\n",
       "</style>\n",
       "<table border=\"1\" class=\"dataframe\">\n",
       "  <thead>\n",
       "    <tr style=\"text-align: right;\">\n",
       "      <th></th>\n",
       "      <th>#Symbol</th>\n",
       "      <th>GeneID</th>\n",
       "      <th>VariationID</th>\n",
       "      <th>AlleleID</th>\n",
       "      <th>Type</th>\n",
       "      <th>Assembly</th>\n",
       "      <th>NucleotideExpression</th>\n",
       "      <th>NucleotideChange</th>\n",
       "      <th>ProteinExpression</th>\n",
       "      <th>ProteinChange</th>\n",
       "      <th>UsedForNaming</th>\n",
       "      <th>Submitted</th>\n",
       "      <th>OnRefSeqGene</th>\n",
       "    </tr>\n",
       "  </thead>\n",
       "  <tbody>\n",
       "    <tr>\n",
       "      <th>136</th>\n",
       "      <td>-</td>\n",
       "      <td>107080644</td>\n",
       "      <td>4170</td>\n",
       "      <td>19209</td>\n",
       "      <td>coding</td>\n",
       "      <td>na</td>\n",
       "      <td>NM_001318856.2:c.331C&gt;A</td>\n",
       "      <td>c.331C&gt;A</td>\n",
       "      <td>NP_001305785.1:p.His111Asn</td>\n",
       "      <td>p.His111Asn</td>\n",
       "      <td>Yes</td>\n",
       "      <td>No</td>\n",
       "      <td>No</td>\n",
       "    </tr>\n",
       "    <tr>\n",
       "      <th>137</th>\n",
       "      <td>-</td>\n",
       "      <td>107080644</td>\n",
       "      <td>4170</td>\n",
       "      <td>19209</td>\n",
       "      <td>coding</td>\n",
       "      <td>na</td>\n",
       "      <td>NM_001318857.2:c.346C&gt;A</td>\n",
       "      <td>c.346C&gt;A</td>\n",
       "      <td>NP_001305786.1:p.His116Asn</td>\n",
       "      <td>p.His116Asn</td>\n",
       "      <td>Yes</td>\n",
       "      <td>No</td>\n",
       "      <td>No</td>\n",
       "    </tr>\n",
       "    <tr>\n",
       "      <th>3197</th>\n",
       "      <td>-</td>\n",
       "      <td>651928</td>\n",
       "      <td>29758</td>\n",
       "      <td>38713</td>\n",
       "      <td>coding</td>\n",
       "      <td>na</td>\n",
       "      <td>NM_001040075.1:c.517T&gt;C</td>\n",
       "      <td>c.517T&gt;C</td>\n",
       "      <td>NP_001035164.1:p.Trp173Arg</td>\n",
       "      <td>p.Trp173Arg</td>\n",
       "      <td>Yes</td>\n",
       "      <td>No</td>\n",
       "      <td>No</td>\n",
       "    </tr>\n",
       "    <tr>\n",
       "      <th>3198</th>\n",
       "      <td>-</td>\n",
       "      <td>651928</td>\n",
       "      <td>29759</td>\n",
       "      <td>38714</td>\n",
       "      <td>coding</td>\n",
       "      <td>na</td>\n",
       "      <td>NM_001040075.1:c.517T&gt;G</td>\n",
       "      <td>c.517T&gt;G</td>\n",
       "      <td>NP_001035164.1:p.Trp173Gly</td>\n",
       "      <td>p.Trp173Gly</td>\n",
       "      <td>Yes</td>\n",
       "      <td>No</td>\n",
       "      <td>No</td>\n",
       "    </tr>\n",
       "    <tr>\n",
       "      <th>39347</th>\n",
       "      <td>-</td>\n",
       "      <td>445372</td>\n",
       "      <td>161478</td>\n",
       "      <td>171511</td>\n",
       "      <td>coding</td>\n",
       "      <td>na</td>\n",
       "      <td>NM_001003819.4:c.1058G&gt;A</td>\n",
       "      <td>c.1058G&gt;A</td>\n",
       "      <td>NP_001003819.1:p.Ser353Asn</td>\n",
       "      <td>p.Ser353Asn</td>\n",
       "      <td>No</td>\n",
       "      <td>No</td>\n",
       "      <td>No</td>\n",
       "    </tr>\n",
       "    <tr>\n",
       "      <th>...</th>\n",
       "      <td>...</td>\n",
       "      <td>...</td>\n",
       "      <td>...</td>\n",
       "      <td>...</td>\n",
       "      <td>...</td>\n",
       "      <td>...</td>\n",
       "      <td>...</td>\n",
       "      <td>...</td>\n",
       "      <td>...</td>\n",
       "      <td>...</td>\n",
       "      <td>...</td>\n",
       "      <td>...</td>\n",
       "      <td>...</td>\n",
       "    </tr>\n",
       "    <tr>\n",
       "      <th>21795023</th>\n",
       "      <td>ZZZ3</td>\n",
       "      <td>26009</td>\n",
       "      <td>2408495</td>\n",
       "      <td>2391953</td>\n",
       "      <td>coding</td>\n",
       "      <td>na</td>\n",
       "      <td>NM_001376149.1:c.48A&gt;T</td>\n",
       "      <td>c.48A&gt;T</td>\n",
       "      <td>NP_001363078.1:p.Leu16Phe</td>\n",
       "      <td>p.Leu16Phe</td>\n",
       "      <td>Yes</td>\n",
       "      <td>No</td>\n",
       "      <td>No</td>\n",
       "    </tr>\n",
       "    <tr>\n",
       "      <th>21795024</th>\n",
       "      <td>ZZZ3</td>\n",
       "      <td>26009</td>\n",
       "      <td>2408495</td>\n",
       "      <td>2391953</td>\n",
       "      <td>coding</td>\n",
       "      <td>na</td>\n",
       "      <td>NM_001376151.1:c.48A&gt;T</td>\n",
       "      <td>c.48A&gt;T</td>\n",
       "      <td>NP_001363080.1:p.Leu16Phe</td>\n",
       "      <td>p.Leu16Phe</td>\n",
       "      <td>Yes</td>\n",
       "      <td>No</td>\n",
       "      <td>No</td>\n",
       "    </tr>\n",
       "    <tr>\n",
       "      <th>21795025</th>\n",
       "      <td>ZZZ3</td>\n",
       "      <td>26009</td>\n",
       "      <td>2408495</td>\n",
       "      <td>2391953</td>\n",
       "      <td>coding</td>\n",
       "      <td>na</td>\n",
       "      <td>NM_001376153.1:c.48A&gt;T</td>\n",
       "      <td>c.48A&gt;T</td>\n",
       "      <td>NP_001363082.1:p.Leu16Phe</td>\n",
       "      <td>p.Leu16Phe</td>\n",
       "      <td>Yes</td>\n",
       "      <td>No</td>\n",
       "      <td>No</td>\n",
       "    </tr>\n",
       "    <tr>\n",
       "      <th>21795026</th>\n",
       "      <td>ZZZ3</td>\n",
       "      <td>26009</td>\n",
       "      <td>2408495</td>\n",
       "      <td>2391953</td>\n",
       "      <td>coding</td>\n",
       "      <td>na</td>\n",
       "      <td>NM_001376154.1:c.48A&gt;T</td>\n",
       "      <td>c.48A&gt;T</td>\n",
       "      <td>NP_001363083.1:p.Leu16Phe</td>\n",
       "      <td>p.Leu16Phe</td>\n",
       "      <td>Yes</td>\n",
       "      <td>No</td>\n",
       "      <td>No</td>\n",
       "    </tr>\n",
       "    <tr>\n",
       "      <th>21795027</th>\n",
       "      <td>ZZZ3</td>\n",
       "      <td>26009</td>\n",
       "      <td>2408495</td>\n",
       "      <td>2391953</td>\n",
       "      <td>coding</td>\n",
       "      <td>na</td>\n",
       "      <td>NM_015534.6:c.48A&gt;T</td>\n",
       "      <td>c.48A&gt;T</td>\n",
       "      <td>NP_056349.1:p.Leu16Phe</td>\n",
       "      <td>p.Leu16Phe</td>\n",
       "      <td>Yes</td>\n",
       "      <td>No</td>\n",
       "      <td>No</td>\n",
       "    </tr>\n",
       "  </tbody>\n",
       "</table>\n",
       "<p>8698932 rows × 13 columns</p>\n",
       "</div>"
      ],
      "text/plain": [
       "         #Symbol     GeneID VariationID AlleleID    Type Assembly  \\\n",
       "136            -  107080644        4170    19209  coding       na   \n",
       "137            -  107080644        4170    19209  coding       na   \n",
       "3197           -     651928       29758    38713  coding       na   \n",
       "3198           -     651928       29759    38714  coding       na   \n",
       "39347          -     445372      161478   171511  coding       na   \n",
       "...          ...        ...         ...      ...     ...      ...   \n",
       "21795023    ZZZ3      26009     2408495  2391953  coding       na   \n",
       "21795024    ZZZ3      26009     2408495  2391953  coding       na   \n",
       "21795025    ZZZ3      26009     2408495  2391953  coding       na   \n",
       "21795026    ZZZ3      26009     2408495  2391953  coding       na   \n",
       "21795027    ZZZ3      26009     2408495  2391953  coding       na   \n",
       "\n",
       "              NucleotideExpression NucleotideChange  \\\n",
       "136        NM_001318856.2:c.331C>A         c.331C>A   \n",
       "137        NM_001318857.2:c.346C>A         c.346C>A   \n",
       "3197       NM_001040075.1:c.517T>C         c.517T>C   \n",
       "3198       NM_001040075.1:c.517T>G         c.517T>G   \n",
       "39347     NM_001003819.4:c.1058G>A        c.1058G>A   \n",
       "...                            ...              ...   \n",
       "21795023    NM_001376149.1:c.48A>T          c.48A>T   \n",
       "21795024    NM_001376151.1:c.48A>T          c.48A>T   \n",
       "21795025    NM_001376153.1:c.48A>T          c.48A>T   \n",
       "21795026    NM_001376154.1:c.48A>T          c.48A>T   \n",
       "21795027       NM_015534.6:c.48A>T          c.48A>T   \n",
       "\n",
       "                   ProteinExpression ProteinChange UsedForNaming Submitted  \\\n",
       "136       NP_001305785.1:p.His111Asn   p.His111Asn           Yes        No   \n",
       "137       NP_001305786.1:p.His116Asn   p.His116Asn           Yes        No   \n",
       "3197      NP_001035164.1:p.Trp173Arg   p.Trp173Arg           Yes        No   \n",
       "3198      NP_001035164.1:p.Trp173Gly   p.Trp173Gly           Yes        No   \n",
       "39347     NP_001003819.1:p.Ser353Asn   p.Ser353Asn            No        No   \n",
       "...                              ...           ...           ...       ...   \n",
       "21795023   NP_001363078.1:p.Leu16Phe    p.Leu16Phe           Yes        No   \n",
       "21795024   NP_001363080.1:p.Leu16Phe    p.Leu16Phe           Yes        No   \n",
       "21795025   NP_001363082.1:p.Leu16Phe    p.Leu16Phe           Yes        No   \n",
       "21795026   NP_001363083.1:p.Leu16Phe    p.Leu16Phe           Yes        No   \n",
       "21795027      NP_056349.1:p.Leu16Phe    p.Leu16Phe           Yes        No   \n",
       "\n",
       "         OnRefSeqGene  \n",
       "136                No  \n",
       "137                No  \n",
       "3197               No  \n",
       "3198               No  \n",
       "39347              No  \n",
       "...               ...  \n",
       "21795023           No  \n",
       "21795024           No  \n",
       "21795025           No  \n",
       "21795026           No  \n",
       "21795027           No  \n",
       "\n",
       "[8698932 rows x 13 columns]"
      ]
     },
     "execution_count": 26,
     "metadata": {},
     "output_type": "execute_result"
    }
   ],
   "source": [
    "df_snv = df_reduced[~(df_reduced['ProteinExpression'].str.contains('fs'))]\n",
    "df_snv"
   ]
  },
  {
   "cell_type": "code",
   "execution_count": null,
   "metadata": {
    "collapsed": false,
    "jupyter": {
     "outputs_hidden": false
    },
    "pycharm": {
     "name": "#%%\n"
    }
   },
   "outputs": [],
   "source": [
    "nm_id_regex = r'(NM_\\d+\\.\\d+)'\n",
    "df_need['NM_ID'] = df_need['Name'].str.extract(nm_id_regex).fillna('NA')\n",
    "df_need"
   ]
  }
 ],
 "metadata": {
  "kernelspec": {
   "display_name": "Python 3 (ipykernel)",
   "language": "python",
   "name": "python3"
  },
  "language_info": {
   "codemirror_mode": {
    "name": "ipython",
    "version": 3
   },
   "file_extension": ".py",
   "mimetype": "text/x-python",
   "name": "python",
   "nbconvert_exporter": "python",
   "pygments_lexer": "ipython3",
   "version": "3.9.7"
  }
 },
 "nbformat": 4,
 "nbformat_minor": 4
}