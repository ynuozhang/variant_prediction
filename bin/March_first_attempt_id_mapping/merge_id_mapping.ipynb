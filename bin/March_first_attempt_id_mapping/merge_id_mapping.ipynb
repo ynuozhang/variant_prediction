{
 "cells": [
  {
   "cell_type": "code",
   "execution_count": 1,
   "metadata": {
    "collapsed": true
   },
   "outputs": [],
   "source": [
    "'''id cross mapping between clinvar and hgvs and uniprot'''\n",
    "import pandas as pd\n",
    "import numpy as np"
   ]
  },
  {
   "cell_type": "code",
   "execution_count": 2,
   "outputs": [
    {
     "data": {
      "text/plain": "                                                 Name  GeneID GeneSymbol  \\\n0        NM_014630.3(ZNF592):c.3136G>A (p.Gly1046Arg)    9640     ZNF592   \n1        NM_014630.3(ZNF592):c.3136G>A (p.Gly1046Arg)    9640     ZNF592   \n2        NM_017547.4(FOXRED1):c.1289A>G (p.Asn430Ser)   55572    FOXRED1   \n3        NM_017547.4(FOXRED1):c.1289A>G (p.Asn430Ser)   55572    FOXRED1   \n4            NM_025152.3(NUBPL):c.166G>A (p.Gly56Arg)   80224      NUBPL   \n...                                               ...     ...        ...   \n1295739  NM_000089.4(COL1A2):c.3142G>A (p.Gly1048Ser)    1278     COL1A2   \n1295740      NM_004456.5(EZH2):c.395C>T (p.Pro132Leu)    2146       EZH2   \n1295741      NM_004456.5(EZH2):c.395C>T (p.Pro132Leu)    2146       EZH2   \n1295742     NM_001972.4(ELANE):c.640G>C (p.Gly214Arg)    1991      ELANE   \n1295743     NM_001972.4(ELANE):c.640G>C (p.Gly214Arg)    1991      ELANE   \n\n        Assembly    ClinicalSignificance  \\\n0         GRCh37  Uncertain significance   \n1         GRCh38  Uncertain significance   \n2         GRCh37              Pathogenic   \n3         GRCh38              Pathogenic   \n4         GRCh37  Uncertain significance   \n...          ...                     ...   \n1295739   GRCh38       Likely pathogenic   \n1295740   GRCh37            not provided   \n1295741   GRCh38            not provided   \n1295742   GRCh37            not provided   \n1295743   GRCh38            not provided   \n\n                                              ReviewStatus  CDS_position  \\\n0                           no assertion criteria provided          3136   \n1                           no assertion criteria provided          3136   \n2                           no assertion criteria provided          1289   \n3                           no assertion criteria provided          1289   \n4        criteria provided, multiple submitters, no con...           166   \n...                                                    ...           ...   \n1295739                     no assertion criteria provided          3142   \n1295740                              no assertion provided           395   \n1295741                              no assertion provided           395   \n1295742                              no assertion provided           640   \n1295743                              no assertion provided           640   \n\n                                                  OtherIDs AlleleChange  \\\n0        OMIM:613624.0001,ClinGen:CA210674,UniProtKB:Q9...          G/A   \n1        OMIM:613624.0001,ClinGen:CA210674,UniProtKB:Q9...          G/A   \n2        ClinGen:CA113794,UniProtKB:Q96CU9#VAR_064571,O...          A/G   \n3        ClinGen:CA113794,UniProtKB:Q96CU9#VAR_064571,O...          A/G   \n4        ClinVar:7,ClinGen:CA321015,UniProtKB:Q8TB37#VA...          G/A   \n...                                                    ...          ...   \n1295739                                                  -          G/A   \n1295740                                                  -          C/T   \n1295741                                                  -          C/T   \n1295742                                                  -          G/C   \n1295743                                                  -          G/C   \n\n        Protein_Patterns Amino_acids_before_3letters  Protein_positions  \\\n0             Gly1046Arg                         Gly               1046   \n1             Gly1046Arg                         Gly               1046   \n2              Asn430Ser                         Asn                430   \n3              Asn430Ser                         Asn                430   \n4               Gly56Arg                         Gly                 56   \n...                  ...                         ...                ...   \n1295739       Gly1048Ser                         Gly               1048   \n1295740        Pro132Leu                         Pro                132   \n1295741        Pro132Leu                         Pro                132   \n1295742        Gly214Arg                         Gly                214   \n1295743        Gly214Arg                         Gly                214   \n\n        Amino_acids_after_3letters        NM_ID  \n0                              Arg  NM_014630.3  \n1                              Arg  NM_014630.3  \n2                              Ser  NM_017547.4  \n3                              Ser  NM_017547.4  \n4                              Arg  NM_025152.3  \n...                            ...          ...  \n1295739                        Ser  NM_000089.4  \n1295740                        Leu  NM_004456.5  \n1295741                        Leu  NM_004456.5  \n1295742                        Arg  NM_001972.4  \n1295743                        Arg  NM_001972.4  \n\n[1295744 rows x 14 columns]",
      "text/html": "<div>\n<style scoped>\n    .dataframe tbody tr th:only-of-type {\n        vertical-align: middle;\n    }\n\n    .dataframe tbody tr th {\n        vertical-align: top;\n    }\n\n    .dataframe thead th {\n        text-align: right;\n    }\n</style>\n<table border=\"1\" class=\"dataframe\">\n  <thead>\n    <tr style=\"text-align: right;\">\n      <th></th>\n      <th>Name</th>\n      <th>GeneID</th>\n      <th>GeneSymbol</th>\n      <th>Assembly</th>\n      <th>ClinicalSignificance</th>\n      <th>ReviewStatus</th>\n      <th>CDS_position</th>\n      <th>OtherIDs</th>\n      <th>AlleleChange</th>\n      <th>Protein_Patterns</th>\n      <th>Amino_acids_before_3letters</th>\n      <th>Protein_positions</th>\n      <th>Amino_acids_after_3letters</th>\n      <th>NM_ID</th>\n    </tr>\n  </thead>\n  <tbody>\n    <tr>\n      <th>0</th>\n      <td>NM_014630.3(ZNF592):c.3136G&gt;A (p.Gly1046Arg)</td>\n      <td>9640</td>\n      <td>ZNF592</td>\n      <td>GRCh37</td>\n      <td>Uncertain significance</td>\n      <td>no assertion criteria provided</td>\n      <td>3136</td>\n      <td>OMIM:613624.0001,ClinGen:CA210674,UniProtKB:Q9...</td>\n      <td>G/A</td>\n      <td>Gly1046Arg</td>\n      <td>Gly</td>\n      <td>1046</td>\n      <td>Arg</td>\n      <td>NM_014630.3</td>\n    </tr>\n    <tr>\n      <th>1</th>\n      <td>NM_014630.3(ZNF592):c.3136G&gt;A (p.Gly1046Arg)</td>\n      <td>9640</td>\n      <td>ZNF592</td>\n      <td>GRCh38</td>\n      <td>Uncertain significance</td>\n      <td>no assertion criteria provided</td>\n      <td>3136</td>\n      <td>OMIM:613624.0001,ClinGen:CA210674,UniProtKB:Q9...</td>\n      <td>G/A</td>\n      <td>Gly1046Arg</td>\n      <td>Gly</td>\n      <td>1046</td>\n      <td>Arg</td>\n      <td>NM_014630.3</td>\n    </tr>\n    <tr>\n      <th>2</th>\n      <td>NM_017547.4(FOXRED1):c.1289A&gt;G (p.Asn430Ser)</td>\n      <td>55572</td>\n      <td>FOXRED1</td>\n      <td>GRCh37</td>\n      <td>Pathogenic</td>\n      <td>no assertion criteria provided</td>\n      <td>1289</td>\n      <td>ClinGen:CA113794,UniProtKB:Q96CU9#VAR_064571,O...</td>\n      <td>A/G</td>\n      <td>Asn430Ser</td>\n      <td>Asn</td>\n      <td>430</td>\n      <td>Ser</td>\n      <td>NM_017547.4</td>\n    </tr>\n    <tr>\n      <th>3</th>\n      <td>NM_017547.4(FOXRED1):c.1289A&gt;G (p.Asn430Ser)</td>\n      <td>55572</td>\n      <td>FOXRED1</td>\n      <td>GRCh38</td>\n      <td>Pathogenic</td>\n      <td>no assertion criteria provided</td>\n      <td>1289</td>\n      <td>ClinGen:CA113794,UniProtKB:Q96CU9#VAR_064571,O...</td>\n      <td>A/G</td>\n      <td>Asn430Ser</td>\n      <td>Asn</td>\n      <td>430</td>\n      <td>Ser</td>\n      <td>NM_017547.4</td>\n    </tr>\n    <tr>\n      <th>4</th>\n      <td>NM_025152.3(NUBPL):c.166G&gt;A (p.Gly56Arg)</td>\n      <td>80224</td>\n      <td>NUBPL</td>\n      <td>GRCh37</td>\n      <td>Uncertain significance</td>\n      <td>criteria provided, multiple submitters, no con...</td>\n      <td>166</td>\n      <td>ClinVar:7,ClinGen:CA321015,UniProtKB:Q8TB37#VA...</td>\n      <td>G/A</td>\n      <td>Gly56Arg</td>\n      <td>Gly</td>\n      <td>56</td>\n      <td>Arg</td>\n      <td>NM_025152.3</td>\n    </tr>\n    <tr>\n      <th>...</th>\n      <td>...</td>\n      <td>...</td>\n      <td>...</td>\n      <td>...</td>\n      <td>...</td>\n      <td>...</td>\n      <td>...</td>\n      <td>...</td>\n      <td>...</td>\n      <td>...</td>\n      <td>...</td>\n      <td>...</td>\n      <td>...</td>\n      <td>...</td>\n    </tr>\n    <tr>\n      <th>1295739</th>\n      <td>NM_000089.4(COL1A2):c.3142G&gt;A (p.Gly1048Ser)</td>\n      <td>1278</td>\n      <td>COL1A2</td>\n      <td>GRCh38</td>\n      <td>Likely pathogenic</td>\n      <td>no assertion criteria provided</td>\n      <td>3142</td>\n      <td>-</td>\n      <td>G/A</td>\n      <td>Gly1048Ser</td>\n      <td>Gly</td>\n      <td>1048</td>\n      <td>Ser</td>\n      <td>NM_000089.4</td>\n    </tr>\n    <tr>\n      <th>1295740</th>\n      <td>NM_004456.5(EZH2):c.395C&gt;T (p.Pro132Leu)</td>\n      <td>2146</td>\n      <td>EZH2</td>\n      <td>GRCh37</td>\n      <td>not provided</td>\n      <td>no assertion provided</td>\n      <td>395</td>\n      <td>-</td>\n      <td>C/T</td>\n      <td>Pro132Leu</td>\n      <td>Pro</td>\n      <td>132</td>\n      <td>Leu</td>\n      <td>NM_004456.5</td>\n    </tr>\n    <tr>\n      <th>1295741</th>\n      <td>NM_004456.5(EZH2):c.395C&gt;T (p.Pro132Leu)</td>\n      <td>2146</td>\n      <td>EZH2</td>\n      <td>GRCh38</td>\n      <td>not provided</td>\n      <td>no assertion provided</td>\n      <td>395</td>\n      <td>-</td>\n      <td>C/T</td>\n      <td>Pro132Leu</td>\n      <td>Pro</td>\n      <td>132</td>\n      <td>Leu</td>\n      <td>NM_004456.5</td>\n    </tr>\n    <tr>\n      <th>1295742</th>\n      <td>NM_001972.4(ELANE):c.640G&gt;C (p.Gly214Arg)</td>\n      <td>1991</td>\n      <td>ELANE</td>\n      <td>GRCh37</td>\n      <td>not provided</td>\n      <td>no assertion provided</td>\n      <td>640</td>\n      <td>-</td>\n      <td>G/C</td>\n      <td>Gly214Arg</td>\n      <td>Gly</td>\n      <td>214</td>\n      <td>Arg</td>\n      <td>NM_001972.4</td>\n    </tr>\n    <tr>\n      <th>1295743</th>\n      <td>NM_001972.4(ELANE):c.640G&gt;C (p.Gly214Arg)</td>\n      <td>1991</td>\n      <td>ELANE</td>\n      <td>GRCh38</td>\n      <td>not provided</td>\n      <td>no assertion provided</td>\n      <td>640</td>\n      <td>-</td>\n      <td>G/C</td>\n      <td>Gly214Arg</td>\n      <td>Gly</td>\n      <td>214</td>\n      <td>Arg</td>\n      <td>NM_001972.4</td>\n    </tr>\n  </tbody>\n</table>\n<p>1295744 rows × 14 columns</p>\n</div>"
     },
     "execution_count": 2,
     "metadata": {},
     "output_type": "execute_result"
    }
   ],
   "source": [
    "df_clinvar = pd.read_csv('./data/metas/clinvar_reduced.csv')\n",
    "df_clinvar"
   ],
   "metadata": {
    "collapsed": false,
    "pycharm": {
     "name": "#%%\n"
    }
   }
  },
  {
   "cell_type": "code",
   "execution_count": 3,
   "outputs": [
    {
     "data": {
      "text/plain": "      #Symbol     GeneID           NM_ID      protein_id\n0           -  121815974             NaN          P04181\n1           -  109461479             NaN     NP_002102.4\n2           -  106799833             NaN          P15538\n3           -  107303340             NaN          P40337\n4           -  107080644             NaN          Q14749\n...       ...        ...             ...             ...\n70850    ZZZ3      26009  NM_001376153.1  NP_001363082.1\n70851    ZZZ3      26009  NM_001376154.1  NP_001363083.1\n70852    ZZZ3      26009  NM_001376155.1  NP_001363084.1\n70853    ZZZ3      26009  NM_001376156.1  NP_001363085.1\n70854    ZZZ3      26009     NM_015534.6     NP_056349.1\n\n[70855 rows x 4 columns]",
      "text/html": "<div>\n<style scoped>\n    .dataframe tbody tr th:only-of-type {\n        vertical-align: middle;\n    }\n\n    .dataframe tbody tr th {\n        vertical-align: top;\n    }\n\n    .dataframe thead th {\n        text-align: right;\n    }\n</style>\n<table border=\"1\" class=\"dataframe\">\n  <thead>\n    <tr style=\"text-align: right;\">\n      <th></th>\n      <th>#Symbol</th>\n      <th>GeneID</th>\n      <th>NM_ID</th>\n      <th>protein_id</th>\n    </tr>\n  </thead>\n  <tbody>\n    <tr>\n      <th>0</th>\n      <td>-</td>\n      <td>121815974</td>\n      <td>NaN</td>\n      <td>P04181</td>\n    </tr>\n    <tr>\n      <th>1</th>\n      <td>-</td>\n      <td>109461479</td>\n      <td>NaN</td>\n      <td>NP_002102.4</td>\n    </tr>\n    <tr>\n      <th>2</th>\n      <td>-</td>\n      <td>106799833</td>\n      <td>NaN</td>\n      <td>P15538</td>\n    </tr>\n    <tr>\n      <th>3</th>\n      <td>-</td>\n      <td>107303340</td>\n      <td>NaN</td>\n      <td>P40337</td>\n    </tr>\n    <tr>\n      <th>4</th>\n      <td>-</td>\n      <td>107080644</td>\n      <td>NaN</td>\n      <td>Q14749</td>\n    </tr>\n    <tr>\n      <th>...</th>\n      <td>...</td>\n      <td>...</td>\n      <td>...</td>\n      <td>...</td>\n    </tr>\n    <tr>\n      <th>70850</th>\n      <td>ZZZ3</td>\n      <td>26009</td>\n      <td>NM_001376153.1</td>\n      <td>NP_001363082.1</td>\n    </tr>\n    <tr>\n      <th>70851</th>\n      <td>ZZZ3</td>\n      <td>26009</td>\n      <td>NM_001376154.1</td>\n      <td>NP_001363083.1</td>\n    </tr>\n    <tr>\n      <th>70852</th>\n      <td>ZZZ3</td>\n      <td>26009</td>\n      <td>NM_001376155.1</td>\n      <td>NP_001363084.1</td>\n    </tr>\n    <tr>\n      <th>70853</th>\n      <td>ZZZ3</td>\n      <td>26009</td>\n      <td>NM_001376156.1</td>\n      <td>NP_001363085.1</td>\n    </tr>\n    <tr>\n      <th>70854</th>\n      <td>ZZZ3</td>\n      <td>26009</td>\n      <td>NM_015534.6</td>\n      <td>NP_056349.1</td>\n    </tr>\n  </tbody>\n</table>\n<p>70855 rows × 4 columns</p>\n</div>"
     },
     "execution_count": 3,
     "metadata": {},
     "output_type": "execute_result"
    }
   ],
   "source": [
    "df_hgva = pd.read_csv('./data/metas/hgvs_nonredundant_id_mapping.csv')\n",
    "df_hgva"
   ],
   "metadata": {
    "collapsed": false,
    "pycharm": {
     "name": "#%%\n"
    }
   }
  },
  {
   "cell_type": "code",
   "execution_count": 4,
   "outputs": [
    {
     "name": "stderr",
     "output_type": "stream",
     "text": [
      "/var/tmp/pbs.498551.hn-10-03/ipykernel_17774/2137934085.py:2: SettingWithCopyWarning: \n",
      "A value is trying to be set on a copy of a slice from a DataFrame\n",
      "\n",
      "See the caveats in the documentation: https://pandas.pydata.org/pandas-docs/stable/user_guide/indexing.html#returning-a-view-versus-a-copy\n",
      "  df_nm_np.drop_duplicates(inplace=True)\n",
      "/var/tmp/pbs.498551.hn-10-03/ipykernel_17774/2137934085.py:3: SettingWithCopyWarning: \n",
      "A value is trying to be set on a copy of a slice from a DataFrame\n",
      "\n",
      "See the caveats in the documentation: https://pandas.pydata.org/pandas-docs/stable/user_guide/indexing.html#returning-a-view-versus-a-copy\n",
      "  df_nm_np.dropna(inplace=True)\n"
     ]
    },
    {
     "data": {
      "text/plain": "                NM_ID      protein_id\n5      NM_001318856.2  NP_001305785.1\n6      NM_001318857.2  NP_001305786.1\n43     NM_001040075.1  NP_001035164.1\n48        NM_017618.1     NP_060088.1\n55     NM_001318809.2  NP_001305738.1\n...               ...             ...\n70850  NM_001376153.1  NP_001363082.1\n70851  NM_001376154.1  NP_001363083.1\n70852  NM_001376155.1  NP_001363084.1\n70853  NM_001376156.1  NP_001363085.1\n70854     NM_015534.6     NP_056349.1\n\n[67106 rows x 2 columns]",
      "text/html": "<div>\n<style scoped>\n    .dataframe tbody tr th:only-of-type {\n        vertical-align: middle;\n    }\n\n    .dataframe tbody tr th {\n        vertical-align: top;\n    }\n\n    .dataframe thead th {\n        text-align: right;\n    }\n</style>\n<table border=\"1\" class=\"dataframe\">\n  <thead>\n    <tr style=\"text-align: right;\">\n      <th></th>\n      <th>NM_ID</th>\n      <th>protein_id</th>\n    </tr>\n  </thead>\n  <tbody>\n    <tr>\n      <th>5</th>\n      <td>NM_001318856.2</td>\n      <td>NP_001305785.1</td>\n    </tr>\n    <tr>\n      <th>6</th>\n      <td>NM_001318857.2</td>\n      <td>NP_001305786.1</td>\n    </tr>\n    <tr>\n      <th>43</th>\n      <td>NM_001040075.1</td>\n      <td>NP_001035164.1</td>\n    </tr>\n    <tr>\n      <th>48</th>\n      <td>NM_017618.1</td>\n      <td>NP_060088.1</td>\n    </tr>\n    <tr>\n      <th>55</th>\n      <td>NM_001318809.2</td>\n      <td>NP_001305738.1</td>\n    </tr>\n    <tr>\n      <th>...</th>\n      <td>...</td>\n      <td>...</td>\n    </tr>\n    <tr>\n      <th>70850</th>\n      <td>NM_001376153.1</td>\n      <td>NP_001363082.1</td>\n    </tr>\n    <tr>\n      <th>70851</th>\n      <td>NM_001376154.1</td>\n      <td>NP_001363083.1</td>\n    </tr>\n    <tr>\n      <th>70852</th>\n      <td>NM_001376155.1</td>\n      <td>NP_001363084.1</td>\n    </tr>\n    <tr>\n      <th>70853</th>\n      <td>NM_001376156.1</td>\n      <td>NP_001363085.1</td>\n    </tr>\n    <tr>\n      <th>70854</th>\n      <td>NM_015534.6</td>\n      <td>NP_056349.1</td>\n    </tr>\n  </tbody>\n</table>\n<p>67106 rows × 2 columns</p>\n</div>"
     },
     "execution_count": 4,
     "metadata": {},
     "output_type": "execute_result"
    }
   ],
   "source": [
    "df_nm_np = df_hgva[['NM_ID', 'protein_id']]\n",
    "df_nm_np.drop_duplicates(inplace=True)\n",
    "df_nm_np.dropna(inplace=True)\n",
    "df_nm_np"
   ],
   "metadata": {
    "collapsed": false,
    "pycharm": {
     "name": "#%%\n"
    }
   }
  },
  {
   "cell_type": "code",
   "execution_count": 5,
   "outputs": [
    {
     "data": {
      "text/plain": "Empty DataFrame\nColumns: [NM_ID, protein_id]\nIndex: []",
      "text/html": "<div>\n<style scoped>\n    .dataframe tbody tr th:only-of-type {\n        vertical-align: middle;\n    }\n\n    .dataframe tbody tr th {\n        vertical-align: top;\n    }\n\n    .dataframe thead th {\n        text-align: right;\n    }\n</style>\n<table border=\"1\" class=\"dataframe\">\n  <thead>\n    <tr style=\"text-align: right;\">\n      <th></th>\n      <th>NM_ID</th>\n      <th>protein_id</th>\n    </tr>\n  </thead>\n  <tbody>\n  </tbody>\n</table>\n</div>"
     },
     "execution_count": 5,
     "metadata": {},
     "output_type": "execute_result"
    }
   ],
   "source": [
    "# check if there's any duplications\n",
    "# otherwise the output will have extra rows\n",
    "df_nm_np[df_nm_np.duplicated(subset=['NM_ID'], keep=False)].sort_values('NM_ID')"
   ],
   "metadata": {
    "collapsed": false,
    "pycharm": {
     "name": "#%%\n"
    }
   }
  },
  {
   "cell_type": "code",
   "execution_count": 22,
   "outputs": [
    {
     "data": {
      "text/plain": "     ID Amino Acid           NM_ID\n0  1046        Arg     NM_014630.3\n1  1046        Arg     NM_014630.3\n2   430        Ser     NM_017547.4\n3   430        Ser     NM_017547.4\n4    56        Arg  NM_001040075.1",
      "text/html": "<div>\n<style scoped>\n    .dataframe tbody tr th:only-of-type {\n        vertical-align: middle;\n    }\n\n    .dataframe tbody tr th {\n        vertical-align: top;\n    }\n\n    .dataframe thead th {\n        text-align: right;\n    }\n</style>\n<table border=\"1\" class=\"dataframe\">\n  <thead>\n    <tr style=\"text-align: right;\">\n      <th></th>\n      <th>ID</th>\n      <th>Amino Acid</th>\n      <th>NM_ID</th>\n    </tr>\n  </thead>\n  <tbody>\n    <tr>\n      <th>0</th>\n      <td>1046</td>\n      <td>Arg</td>\n      <td>NM_014630.3</td>\n    </tr>\n    <tr>\n      <th>1</th>\n      <td>1046</td>\n      <td>Arg</td>\n      <td>NM_014630.3</td>\n    </tr>\n    <tr>\n      <th>2</th>\n      <td>430</td>\n      <td>Ser</td>\n      <td>NM_017547.4</td>\n    </tr>\n    <tr>\n      <th>3</th>\n      <td>430</td>\n      <td>Ser</td>\n      <td>NM_017547.4</td>\n    </tr>\n    <tr>\n      <th>4</th>\n      <td>56</td>\n      <td>Arg</td>\n      <td>NM_001040075.1</td>\n    </tr>\n  </tbody>\n</table>\n</div>"
     },
     "execution_count": 22,
     "metadata": {},
     "output_type": "execute_result"
    }
   ],
   "source": [
    "data = [\n",
    "    ['1046', 'Arg', 'NM_014630.3'],\n",
    "    ['1046', 'Arg', 'NM_014630.3'],\n",
    "    ['430', 'Ser', 'NM_017547.4'],\n",
    "    ['430', 'Ser', 'NM_017547.4'],\n",
    "    ['56', 'Arg', 'NM_001040075.1']\n",
    "]\n",
    "\n",
    "df2 = pd.DataFrame(data, columns=['ID', 'Amino Acid', 'NM_ID'])\n",
    "df2"
   ],
   "metadata": {
    "collapsed": false,
    "pycharm": {
     "name": "#%%\n"
    }
   }
  },
  {
   "cell_type": "code",
   "execution_count": 23,
   "outputs": [
    {
     "data": {
      "text/plain": "     ID Amino Acid           NM_ID      protein_id\n0  1046        Arg     NM_014630.3             NaN\n1  1046        Arg     NM_014630.3             NaN\n2   430        Ser     NM_017547.4             NaN\n3   430        Ser     NM_017547.4             NaN\n4    56        Arg  NM_001040075.1  NP_001035164.1",
      "text/html": "<div>\n<style scoped>\n    .dataframe tbody tr th:only-of-type {\n        vertical-align: middle;\n    }\n\n    .dataframe tbody tr th {\n        vertical-align: top;\n    }\n\n    .dataframe thead th {\n        text-align: right;\n    }\n</style>\n<table border=\"1\" class=\"dataframe\">\n  <thead>\n    <tr style=\"text-align: right;\">\n      <th></th>\n      <th>ID</th>\n      <th>Amino Acid</th>\n      <th>NM_ID</th>\n      <th>protein_id</th>\n    </tr>\n  </thead>\n  <tbody>\n    <tr>\n      <th>0</th>\n      <td>1046</td>\n      <td>Arg</td>\n      <td>NM_014630.3</td>\n      <td>NaN</td>\n    </tr>\n    <tr>\n      <th>1</th>\n      <td>1046</td>\n      <td>Arg</td>\n      <td>NM_014630.3</td>\n      <td>NaN</td>\n    </tr>\n    <tr>\n      <th>2</th>\n      <td>430</td>\n      <td>Ser</td>\n      <td>NM_017547.4</td>\n      <td>NaN</td>\n    </tr>\n    <tr>\n      <th>3</th>\n      <td>430</td>\n      <td>Ser</td>\n      <td>NM_017547.4</td>\n      <td>NaN</td>\n    </tr>\n    <tr>\n      <th>4</th>\n      <td>56</td>\n      <td>Arg</td>\n      <td>NM_001040075.1</td>\n      <td>NP_001035164.1</td>\n    </tr>\n  </tbody>\n</table>\n</div>"
     },
     "execution_count": 23,
     "metadata": {},
     "output_type": "execute_result"
    }
   ],
   "source": [
    "pd.merge(df2, df1, how='left', on='NM_ID')"
   ],
   "metadata": {
    "collapsed": false,
    "pycharm": {
     "name": "#%%\n"
    }
   }
  },
  {
   "cell_type": "code",
   "execution_count": 6,
   "outputs": [
    {
     "data": {
      "text/plain": "                                                 Name  GeneID GeneSymbol  \\\n0        NM_014630.3(ZNF592):c.3136G>A (p.Gly1046Arg)    9640     ZNF592   \n1        NM_014630.3(ZNF592):c.3136G>A (p.Gly1046Arg)    9640     ZNF592   \n2        NM_017547.4(FOXRED1):c.1289A>G (p.Asn430Ser)   55572    FOXRED1   \n3        NM_017547.4(FOXRED1):c.1289A>G (p.Asn430Ser)   55572    FOXRED1   \n4            NM_025152.3(NUBPL):c.166G>A (p.Gly56Arg)   80224      NUBPL   \n...                                               ...     ...        ...   \n1295739  NM_000089.4(COL1A2):c.3142G>A (p.Gly1048Ser)    1278     COL1A2   \n1295740      NM_004456.5(EZH2):c.395C>T (p.Pro132Leu)    2146       EZH2   \n1295741      NM_004456.5(EZH2):c.395C>T (p.Pro132Leu)    2146       EZH2   \n1295742     NM_001972.4(ELANE):c.640G>C (p.Gly214Arg)    1991      ELANE   \n1295743     NM_001972.4(ELANE):c.640G>C (p.Gly214Arg)    1991      ELANE   \n\n        Assembly    ClinicalSignificance  \\\n0         GRCh37  Uncertain significance   \n1         GRCh38  Uncertain significance   \n2         GRCh37              Pathogenic   \n3         GRCh38              Pathogenic   \n4         GRCh37  Uncertain significance   \n...          ...                     ...   \n1295739   GRCh38       Likely pathogenic   \n1295740   GRCh37            not provided   \n1295741   GRCh38            not provided   \n1295742   GRCh37            not provided   \n1295743   GRCh38            not provided   \n\n                                              ReviewStatus  CDS_position  \\\n0                           no assertion criteria provided          3136   \n1                           no assertion criteria provided          3136   \n2                           no assertion criteria provided          1289   \n3                           no assertion criteria provided          1289   \n4        criteria provided, multiple submitters, no con...           166   \n...                                                    ...           ...   \n1295739                     no assertion criteria provided          3142   \n1295740                              no assertion provided           395   \n1295741                              no assertion provided           395   \n1295742                              no assertion provided           640   \n1295743                              no assertion provided           640   \n\n                                                  OtherIDs AlleleChange  \\\n0        OMIM:613624.0001,ClinGen:CA210674,UniProtKB:Q9...          G/A   \n1        OMIM:613624.0001,ClinGen:CA210674,UniProtKB:Q9...          G/A   \n2        ClinGen:CA113794,UniProtKB:Q96CU9#VAR_064571,O...          A/G   \n3        ClinGen:CA113794,UniProtKB:Q96CU9#VAR_064571,O...          A/G   \n4        ClinVar:7,ClinGen:CA321015,UniProtKB:Q8TB37#VA...          G/A   \n...                                                    ...          ...   \n1295739                                                  -          G/A   \n1295740                                                  -          C/T   \n1295741                                                  -          C/T   \n1295742                                                  -          G/C   \n1295743                                                  -          G/C   \n\n        Protein_Patterns Amino_acids_before_3letters  Protein_positions  \\\n0             Gly1046Arg                         Gly               1046   \n1             Gly1046Arg                         Gly               1046   \n2              Asn430Ser                         Asn                430   \n3              Asn430Ser                         Asn                430   \n4               Gly56Arg                         Gly                 56   \n...                  ...                         ...                ...   \n1295739       Gly1048Ser                         Gly               1048   \n1295740        Pro132Leu                         Pro                132   \n1295741        Pro132Leu                         Pro                132   \n1295742        Gly214Arg                         Gly                214   \n1295743        Gly214Arg                         Gly                214   \n\n        Amino_acids_after_3letters        NM_ID   protein_id  \n0                              Arg  NM_014630.3  NP_055445.2  \n1                              Arg  NM_014630.3  NP_055445.2  \n2                              Ser  NM_017547.4  NP_060017.1  \n3                              Ser  NM_017547.4  NP_060017.1  \n4                              Arg  NM_025152.3  NP_079428.2  \n...                            ...          ...          ...  \n1295739                        Ser  NM_000089.4  NP_000080.2  \n1295740                        Leu  NM_004456.5  NP_004447.2  \n1295741                        Leu  NM_004456.5  NP_004447.2  \n1295742                        Arg  NM_001972.4  NP_001963.1  \n1295743                        Arg  NM_001972.4  NP_001963.1  \n\n[1295744 rows x 15 columns]",
      "text/html": "<div>\n<style scoped>\n    .dataframe tbody tr th:only-of-type {\n        vertical-align: middle;\n    }\n\n    .dataframe tbody tr th {\n        vertical-align: top;\n    }\n\n    .dataframe thead th {\n        text-align: right;\n    }\n</style>\n<table border=\"1\" class=\"dataframe\">\n  <thead>\n    <tr style=\"text-align: right;\">\n      <th></th>\n      <th>Name</th>\n      <th>GeneID</th>\n      <th>GeneSymbol</th>\n      <th>Assembly</th>\n      <th>ClinicalSignificance</th>\n      <th>ReviewStatus</th>\n      <th>CDS_position</th>\n      <th>OtherIDs</th>\n      <th>AlleleChange</th>\n      <th>Protein_Patterns</th>\n      <th>Amino_acids_before_3letters</th>\n      <th>Protein_positions</th>\n      <th>Amino_acids_after_3letters</th>\n      <th>NM_ID</th>\n      <th>protein_id</th>\n    </tr>\n  </thead>\n  <tbody>\n    <tr>\n      <th>0</th>\n      <td>NM_014630.3(ZNF592):c.3136G&gt;A (p.Gly1046Arg)</td>\n      <td>9640</td>\n      <td>ZNF592</td>\n      <td>GRCh37</td>\n      <td>Uncertain significance</td>\n      <td>no assertion criteria provided</td>\n      <td>3136</td>\n      <td>OMIM:613624.0001,ClinGen:CA210674,UniProtKB:Q9...</td>\n      <td>G/A</td>\n      <td>Gly1046Arg</td>\n      <td>Gly</td>\n      <td>1046</td>\n      <td>Arg</td>\n      <td>NM_014630.3</td>\n      <td>NP_055445.2</td>\n    </tr>\n    <tr>\n      <th>1</th>\n      <td>NM_014630.3(ZNF592):c.3136G&gt;A (p.Gly1046Arg)</td>\n      <td>9640</td>\n      <td>ZNF592</td>\n      <td>GRCh38</td>\n      <td>Uncertain significance</td>\n      <td>no assertion criteria provided</td>\n      <td>3136</td>\n      <td>OMIM:613624.0001,ClinGen:CA210674,UniProtKB:Q9...</td>\n      <td>G/A</td>\n      <td>Gly1046Arg</td>\n      <td>Gly</td>\n      <td>1046</td>\n      <td>Arg</td>\n      <td>NM_014630.3</td>\n      <td>NP_055445.2</td>\n    </tr>\n    <tr>\n      <th>2</th>\n      <td>NM_017547.4(FOXRED1):c.1289A&gt;G (p.Asn430Ser)</td>\n      <td>55572</td>\n      <td>FOXRED1</td>\n      <td>GRCh37</td>\n      <td>Pathogenic</td>\n      <td>no assertion criteria provided</td>\n      <td>1289</td>\n      <td>ClinGen:CA113794,UniProtKB:Q96CU9#VAR_064571,O...</td>\n      <td>A/G</td>\n      <td>Asn430Ser</td>\n      <td>Asn</td>\n      <td>430</td>\n      <td>Ser</td>\n      <td>NM_017547.4</td>\n      <td>NP_060017.1</td>\n    </tr>\n    <tr>\n      <th>3</th>\n      <td>NM_017547.4(FOXRED1):c.1289A&gt;G (p.Asn430Ser)</td>\n      <td>55572</td>\n      <td>FOXRED1</td>\n      <td>GRCh38</td>\n      <td>Pathogenic</td>\n      <td>no assertion criteria provided</td>\n      <td>1289</td>\n      <td>ClinGen:CA113794,UniProtKB:Q96CU9#VAR_064571,O...</td>\n      <td>A/G</td>\n      <td>Asn430Ser</td>\n      <td>Asn</td>\n      <td>430</td>\n      <td>Ser</td>\n      <td>NM_017547.4</td>\n      <td>NP_060017.1</td>\n    </tr>\n    <tr>\n      <th>4</th>\n      <td>NM_025152.3(NUBPL):c.166G&gt;A (p.Gly56Arg)</td>\n      <td>80224</td>\n      <td>NUBPL</td>\n      <td>GRCh37</td>\n      <td>Uncertain significance</td>\n      <td>criteria provided, multiple submitters, no con...</td>\n      <td>166</td>\n      <td>ClinVar:7,ClinGen:CA321015,UniProtKB:Q8TB37#VA...</td>\n      <td>G/A</td>\n      <td>Gly56Arg</td>\n      <td>Gly</td>\n      <td>56</td>\n      <td>Arg</td>\n      <td>NM_025152.3</td>\n      <td>NP_079428.2</td>\n    </tr>\n    <tr>\n      <th>...</th>\n      <td>...</td>\n      <td>...</td>\n      <td>...</td>\n      <td>...</td>\n      <td>...</td>\n      <td>...</td>\n      <td>...</td>\n      <td>...</td>\n      <td>...</td>\n      <td>...</td>\n      <td>...</td>\n      <td>...</td>\n      <td>...</td>\n      <td>...</td>\n      <td>...</td>\n    </tr>\n    <tr>\n      <th>1295739</th>\n      <td>NM_000089.4(COL1A2):c.3142G&gt;A (p.Gly1048Ser)</td>\n      <td>1278</td>\n      <td>COL1A2</td>\n      <td>GRCh38</td>\n      <td>Likely pathogenic</td>\n      <td>no assertion criteria provided</td>\n      <td>3142</td>\n      <td>-</td>\n      <td>G/A</td>\n      <td>Gly1048Ser</td>\n      <td>Gly</td>\n      <td>1048</td>\n      <td>Ser</td>\n      <td>NM_000089.4</td>\n      <td>NP_000080.2</td>\n    </tr>\n    <tr>\n      <th>1295740</th>\n      <td>NM_004456.5(EZH2):c.395C&gt;T (p.Pro132Leu)</td>\n      <td>2146</td>\n      <td>EZH2</td>\n      <td>GRCh37</td>\n      <td>not provided</td>\n      <td>no assertion provided</td>\n      <td>395</td>\n      <td>-</td>\n      <td>C/T</td>\n      <td>Pro132Leu</td>\n      <td>Pro</td>\n      <td>132</td>\n      <td>Leu</td>\n      <td>NM_004456.5</td>\n      <td>NP_004447.2</td>\n    </tr>\n    <tr>\n      <th>1295741</th>\n      <td>NM_004456.5(EZH2):c.395C&gt;T (p.Pro132Leu)</td>\n      <td>2146</td>\n      <td>EZH2</td>\n      <td>GRCh38</td>\n      <td>not provided</td>\n      <td>no assertion provided</td>\n      <td>395</td>\n      <td>-</td>\n      <td>C/T</td>\n      <td>Pro132Leu</td>\n      <td>Pro</td>\n      <td>132</td>\n      <td>Leu</td>\n      <td>NM_004456.5</td>\n      <td>NP_004447.2</td>\n    </tr>\n    <tr>\n      <th>1295742</th>\n      <td>NM_001972.4(ELANE):c.640G&gt;C (p.Gly214Arg)</td>\n      <td>1991</td>\n      <td>ELANE</td>\n      <td>GRCh37</td>\n      <td>not provided</td>\n      <td>no assertion provided</td>\n      <td>640</td>\n      <td>-</td>\n      <td>G/C</td>\n      <td>Gly214Arg</td>\n      <td>Gly</td>\n      <td>214</td>\n      <td>Arg</td>\n      <td>NM_001972.4</td>\n      <td>NP_001963.1</td>\n    </tr>\n    <tr>\n      <th>1295743</th>\n      <td>NM_001972.4(ELANE):c.640G&gt;C (p.Gly214Arg)</td>\n      <td>1991</td>\n      <td>ELANE</td>\n      <td>GRCh38</td>\n      <td>not provided</td>\n      <td>no assertion provided</td>\n      <td>640</td>\n      <td>-</td>\n      <td>G/C</td>\n      <td>Gly214Arg</td>\n      <td>Gly</td>\n      <td>214</td>\n      <td>Arg</td>\n      <td>NM_001972.4</td>\n      <td>NP_001963.1</td>\n    </tr>\n  </tbody>\n</table>\n<p>1295744 rows × 15 columns</p>\n</div>"
     },
     "execution_count": 6,
     "metadata": {},
     "output_type": "execute_result"
    }
   ],
   "source": [
    "# left join\n",
    "df_merged = pd.merge(df_clinvar, df_nm_np, how='left', on='NM_ID')\n",
    "df_merged"
   ],
   "metadata": {
    "collapsed": false,
    "pycharm": {
     "name": "#%%\n"
    }
   }
  },
  {
   "cell_type": "code",
   "execution_count": 7,
   "outputs": [
    {
     "data": {
      "text/plain": "                                                 Name  GeneID GeneSymbol  \\\n0        NM_014630.3(ZNF592):c.3136G>A (p.Gly1046Arg)    9640     ZNF592   \n1        NM_014630.3(ZNF592):c.3136G>A (p.Gly1046Arg)    9640     ZNF592   \n2        NM_017547.4(FOXRED1):c.1289A>G (p.Asn430Ser)   55572    FOXRED1   \n3        NM_017547.4(FOXRED1):c.1289A>G (p.Asn430Ser)   55572    FOXRED1   \n4            NM_025152.3(NUBPL):c.166G>A (p.Gly56Arg)   80224      NUBPL   \n...                                               ...     ...        ...   \n1295739  NM_000089.4(COL1A2):c.3142G>A (p.Gly1048Ser)    1278     COL1A2   \n1295740      NM_004456.5(EZH2):c.395C>T (p.Pro132Leu)    2146       EZH2   \n1295741      NM_004456.5(EZH2):c.395C>T (p.Pro132Leu)    2146       EZH2   \n1295742     NM_001972.4(ELANE):c.640G>C (p.Gly214Arg)    1991      ELANE   \n1295743     NM_001972.4(ELANE):c.640G>C (p.Gly214Arg)    1991      ELANE   \n\n        Assembly    ClinicalSignificance  \\\n0         GRCh37  Uncertain significance   \n1         GRCh38  Uncertain significance   \n2         GRCh37              Pathogenic   \n3         GRCh38              Pathogenic   \n4         GRCh37  Uncertain significance   \n...          ...                     ...   \n1295739   GRCh38       Likely pathogenic   \n1295740   GRCh37            not provided   \n1295741   GRCh38            not provided   \n1295742   GRCh37            not provided   \n1295743   GRCh38            not provided   \n\n                                              ReviewStatus  CDS_position  \\\n0                           no assertion criteria provided          3136   \n1                           no assertion criteria provided          3136   \n2                           no assertion criteria provided          1289   \n3                           no assertion criteria provided          1289   \n4        criteria provided, multiple submitters, no con...           166   \n...                                                    ...           ...   \n1295739                     no assertion criteria provided          3142   \n1295740                              no assertion provided           395   \n1295741                              no assertion provided           395   \n1295742                              no assertion provided           640   \n1295743                              no assertion provided           640   \n\n                                                  OtherIDs AlleleChange  \\\n0        OMIM:613624.0001,ClinGen:CA210674,UniProtKB:Q9...          G/A   \n1        OMIM:613624.0001,ClinGen:CA210674,UniProtKB:Q9...          G/A   \n2        ClinGen:CA113794,UniProtKB:Q96CU9#VAR_064571,O...          A/G   \n3        ClinGen:CA113794,UniProtKB:Q96CU9#VAR_064571,O...          A/G   \n4        ClinVar:7,ClinGen:CA321015,UniProtKB:Q8TB37#VA...          G/A   \n...                                                    ...          ...   \n1295739                                                  -          G/A   \n1295740                                                  -          C/T   \n1295741                                                  -          C/T   \n1295742                                                  -          G/C   \n1295743                                                  -          G/C   \n\n        Protein_Patterns Amino_acids_before_3letters  Protein_positions  \\\n0             Gly1046Arg                         Gly               1046   \n1             Gly1046Arg                         Gly               1046   \n2              Asn430Ser                         Asn                430   \n3              Asn430Ser                         Asn                430   \n4               Gly56Arg                         Gly                 56   \n...                  ...                         ...                ...   \n1295739       Gly1048Ser                         Gly               1048   \n1295740        Pro132Leu                         Pro                132   \n1295741        Pro132Leu                         Pro                132   \n1295742        Gly214Arg                         Gly                214   \n1295743        Gly214Arg                         Gly                214   \n\n        Amino_acids_after_3letters        NM_ID   protein_id  \n0                              Arg  NM_014630.3  NP_055445.2  \n1                              Arg  NM_014630.3  NP_055445.2  \n2                              Ser  NM_017547.4  NP_060017.1  \n3                              Ser  NM_017547.4  NP_060017.1  \n4                              Arg  NM_025152.3  NP_079428.2  \n...                            ...          ...          ...  \n1295739                        Ser  NM_000089.4  NP_000080.2  \n1295740                        Leu  NM_004456.5  NP_004447.2  \n1295741                        Leu  NM_004456.5  NP_004447.2  \n1295742                        Arg  NM_001972.4  NP_001963.1  \n1295743                        Arg  NM_001972.4  NP_001963.1  \n\n[1295268 rows x 15 columns]",
      "text/html": "<div>\n<style scoped>\n    .dataframe tbody tr th:only-of-type {\n        vertical-align: middle;\n    }\n\n    .dataframe tbody tr th {\n        vertical-align: top;\n    }\n\n    .dataframe thead th {\n        text-align: right;\n    }\n</style>\n<table border=\"1\" class=\"dataframe\">\n  <thead>\n    <tr style=\"text-align: right;\">\n      <th></th>\n      <th>Name</th>\n      <th>GeneID</th>\n      <th>GeneSymbol</th>\n      <th>Assembly</th>\n      <th>ClinicalSignificance</th>\n      <th>ReviewStatus</th>\n      <th>CDS_position</th>\n      <th>OtherIDs</th>\n      <th>AlleleChange</th>\n      <th>Protein_Patterns</th>\n      <th>Amino_acids_before_3letters</th>\n      <th>Protein_positions</th>\n      <th>Amino_acids_after_3letters</th>\n      <th>NM_ID</th>\n      <th>protein_id</th>\n    </tr>\n  </thead>\n  <tbody>\n    <tr>\n      <th>0</th>\n      <td>NM_014630.3(ZNF592):c.3136G&gt;A (p.Gly1046Arg)</td>\n      <td>9640</td>\n      <td>ZNF592</td>\n      <td>GRCh37</td>\n      <td>Uncertain significance</td>\n      <td>no assertion criteria provided</td>\n      <td>3136</td>\n      <td>OMIM:613624.0001,ClinGen:CA210674,UniProtKB:Q9...</td>\n      <td>G/A</td>\n      <td>Gly1046Arg</td>\n      <td>Gly</td>\n      <td>1046</td>\n      <td>Arg</td>\n      <td>NM_014630.3</td>\n      <td>NP_055445.2</td>\n    </tr>\n    <tr>\n      <th>1</th>\n      <td>NM_014630.3(ZNF592):c.3136G&gt;A (p.Gly1046Arg)</td>\n      <td>9640</td>\n      <td>ZNF592</td>\n      <td>GRCh38</td>\n      <td>Uncertain significance</td>\n      <td>no assertion criteria provided</td>\n      <td>3136</td>\n      <td>OMIM:613624.0001,ClinGen:CA210674,UniProtKB:Q9...</td>\n      <td>G/A</td>\n      <td>Gly1046Arg</td>\n      <td>Gly</td>\n      <td>1046</td>\n      <td>Arg</td>\n      <td>NM_014630.3</td>\n      <td>NP_055445.2</td>\n    </tr>\n    <tr>\n      <th>2</th>\n      <td>NM_017547.4(FOXRED1):c.1289A&gt;G (p.Asn430Ser)</td>\n      <td>55572</td>\n      <td>FOXRED1</td>\n      <td>GRCh37</td>\n      <td>Pathogenic</td>\n      <td>no assertion criteria provided</td>\n      <td>1289</td>\n      <td>ClinGen:CA113794,UniProtKB:Q96CU9#VAR_064571,O...</td>\n      <td>A/G</td>\n      <td>Asn430Ser</td>\n      <td>Asn</td>\n      <td>430</td>\n      <td>Ser</td>\n      <td>NM_017547.4</td>\n      <td>NP_060017.1</td>\n    </tr>\n    <tr>\n      <th>3</th>\n      <td>NM_017547.4(FOXRED1):c.1289A&gt;G (p.Asn430Ser)</td>\n      <td>55572</td>\n      <td>FOXRED1</td>\n      <td>GRCh38</td>\n      <td>Pathogenic</td>\n      <td>no assertion criteria provided</td>\n      <td>1289</td>\n      <td>ClinGen:CA113794,UniProtKB:Q96CU9#VAR_064571,O...</td>\n      <td>A/G</td>\n      <td>Asn430Ser</td>\n      <td>Asn</td>\n      <td>430</td>\n      <td>Ser</td>\n      <td>NM_017547.4</td>\n      <td>NP_060017.1</td>\n    </tr>\n    <tr>\n      <th>4</th>\n      <td>NM_025152.3(NUBPL):c.166G&gt;A (p.Gly56Arg)</td>\n      <td>80224</td>\n      <td>NUBPL</td>\n      <td>GRCh37</td>\n      <td>Uncertain significance</td>\n      <td>criteria provided, multiple submitters, no con...</td>\n      <td>166</td>\n      <td>ClinVar:7,ClinGen:CA321015,UniProtKB:Q8TB37#VA...</td>\n      <td>G/A</td>\n      <td>Gly56Arg</td>\n      <td>Gly</td>\n      <td>56</td>\n      <td>Arg</td>\n      <td>NM_025152.3</td>\n      <td>NP_079428.2</td>\n    </tr>\n    <tr>\n      <th>...</th>\n      <td>...</td>\n      <td>...</td>\n      <td>...</td>\n      <td>...</td>\n      <td>...</td>\n      <td>...</td>\n      <td>...</td>\n      <td>...</td>\n      <td>...</td>\n      <td>...</td>\n      <td>...</td>\n      <td>...</td>\n      <td>...</td>\n      <td>...</td>\n      <td>...</td>\n    </tr>\n    <tr>\n      <th>1295739</th>\n      <td>NM_000089.4(COL1A2):c.3142G&gt;A (p.Gly1048Ser)</td>\n      <td>1278</td>\n      <td>COL1A2</td>\n      <td>GRCh38</td>\n      <td>Likely pathogenic</td>\n      <td>no assertion criteria provided</td>\n      <td>3142</td>\n      <td>-</td>\n      <td>G/A</td>\n      <td>Gly1048Ser</td>\n      <td>Gly</td>\n      <td>1048</td>\n      <td>Ser</td>\n      <td>NM_000089.4</td>\n      <td>NP_000080.2</td>\n    </tr>\n    <tr>\n      <th>1295740</th>\n      <td>NM_004456.5(EZH2):c.395C&gt;T (p.Pro132Leu)</td>\n      <td>2146</td>\n      <td>EZH2</td>\n      <td>GRCh37</td>\n      <td>not provided</td>\n      <td>no assertion provided</td>\n      <td>395</td>\n      <td>-</td>\n      <td>C/T</td>\n      <td>Pro132Leu</td>\n      <td>Pro</td>\n      <td>132</td>\n      <td>Leu</td>\n      <td>NM_004456.5</td>\n      <td>NP_004447.2</td>\n    </tr>\n    <tr>\n      <th>1295741</th>\n      <td>NM_004456.5(EZH2):c.395C&gt;T (p.Pro132Leu)</td>\n      <td>2146</td>\n      <td>EZH2</td>\n      <td>GRCh38</td>\n      <td>not provided</td>\n      <td>no assertion provided</td>\n      <td>395</td>\n      <td>-</td>\n      <td>C/T</td>\n      <td>Pro132Leu</td>\n      <td>Pro</td>\n      <td>132</td>\n      <td>Leu</td>\n      <td>NM_004456.5</td>\n      <td>NP_004447.2</td>\n    </tr>\n    <tr>\n      <th>1295742</th>\n      <td>NM_001972.4(ELANE):c.640G&gt;C (p.Gly214Arg)</td>\n      <td>1991</td>\n      <td>ELANE</td>\n      <td>GRCh37</td>\n      <td>not provided</td>\n      <td>no assertion provided</td>\n      <td>640</td>\n      <td>-</td>\n      <td>G/C</td>\n      <td>Gly214Arg</td>\n      <td>Gly</td>\n      <td>214</td>\n      <td>Arg</td>\n      <td>NM_001972.4</td>\n      <td>NP_001963.1</td>\n    </tr>\n    <tr>\n      <th>1295743</th>\n      <td>NM_001972.4(ELANE):c.640G&gt;C (p.Gly214Arg)</td>\n      <td>1991</td>\n      <td>ELANE</td>\n      <td>GRCh38</td>\n      <td>not provided</td>\n      <td>no assertion provided</td>\n      <td>640</td>\n      <td>-</td>\n      <td>G/C</td>\n      <td>Gly214Arg</td>\n      <td>Gly</td>\n      <td>214</td>\n      <td>Arg</td>\n      <td>NM_001972.4</td>\n      <td>NP_001963.1</td>\n    </tr>\n  </tbody>\n</table>\n<p>1295268 rows × 15 columns</p>\n</div>"
     },
     "execution_count": 7,
     "metadata": {},
     "output_type": "execute_result"
    }
   ],
   "source": [
    "df_match = df_merged[~df_merged['protein_id'].isnull()]\n",
    "df_match"
   ],
   "metadata": {
    "collapsed": false,
    "pycharm": {
     "name": "#%%\n"
    }
   }
  },
  {
   "cell_type": "code",
   "execution_count": 19,
   "outputs": [],
   "source": [
    "refseq_uniprot_mapping = pd.read_csv('./data/metas/RefSeq_UniProt_mapping_new.csv')\n",
    "refseq_uniprot_mapping = refseq_uniprot_mapping.rename(columns={'ID':'protein_id'})\n",
    "# contains same Unipac but different uniprotkb issue\n",
    "# redundant"
   ],
   "metadata": {
    "collapsed": false,
    "pycharm": {
     "name": "#%%\n"
    }
   }
  },
  {
   "cell_type": "code",
   "execution_count": 44,
   "outputs": [
    {
     "data": {
      "text/plain": "      UniProtKB-AC      protein_id\n18251       Q6EEV4  NP_001018112.1\n18252       Q6EEV4     NP_056347.1",
      "text/html": "<div>\n<style scoped>\n    .dataframe tbody tr th:only-of-type {\n        vertical-align: middle;\n    }\n\n    .dataframe tbody tr th {\n        vertical-align: top;\n    }\n\n    .dataframe thead th {\n        text-align: right;\n    }\n</style>\n<table border=\"1\" class=\"dataframe\">\n  <thead>\n    <tr style=\"text-align: right;\">\n      <th></th>\n      <th>UniProtKB-AC</th>\n      <th>protein_id</th>\n    </tr>\n  </thead>\n  <tbody>\n    <tr>\n      <th>18251</th>\n      <td>Q6EEV4</td>\n      <td>NP_001018112.1</td>\n    </tr>\n    <tr>\n      <th>18252</th>\n      <td>Q6EEV4</td>\n      <td>NP_056347.1</td>\n    </tr>\n  </tbody>\n</table>\n</div>"
     },
     "execution_count": 44,
     "metadata": {},
     "output_type": "execute_result"
    }
   ],
   "source": [
    "refseq_uniprot_mapping[refseq_uniprot_mapping['UniProtKB-AC'].str.contains('Q6EEV4')]"
   ],
   "metadata": {
    "collapsed": false,
    "pycharm": {
     "name": "#%%\n"
    }
   }
  },
  {
   "cell_type": "code",
   "execution_count": 45,
   "outputs": [
    {
     "data": {
      "text/plain": "      UniProtKB-AC   protein_id\n18252       Q6EEV4  NP_056347.1\n19211     P0CAP2-1  NP_056347.1",
      "text/html": "<div>\n<style scoped>\n    .dataframe tbody tr th:only-of-type {\n        vertical-align: middle;\n    }\n\n    .dataframe tbody tr th {\n        vertical-align: top;\n    }\n\n    .dataframe thead th {\n        text-align: right;\n    }\n</style>\n<table border=\"1\" class=\"dataframe\">\n  <thead>\n    <tr style=\"text-align: right;\">\n      <th></th>\n      <th>UniProtKB-AC</th>\n      <th>protein_id</th>\n    </tr>\n  </thead>\n  <tbody>\n    <tr>\n      <th>18252</th>\n      <td>Q6EEV4</td>\n      <td>NP_056347.1</td>\n    </tr>\n    <tr>\n      <th>19211</th>\n      <td>P0CAP2-1</td>\n      <td>NP_056347.1</td>\n    </tr>\n  </tbody>\n</table>\n</div>"
     },
     "execution_count": 45,
     "metadata": {},
     "output_type": "execute_result"
    }
   ],
   "source": [
    "refseq_uniprot_mapping[refseq_uniprot_mapping['protein_id'].str.contains('NP_056347.1')]"
   ],
   "metadata": {
    "collapsed": false,
    "pycharm": {
     "name": "#%%\n"
    }
   }
  },
  {
   "cell_type": "code",
   "execution_count": 46,
   "outputs": [
    {
     "data": {
      "text/plain": "      UniProtKB-AC      protein_id\n18251       Q6EEV4  NP_001018112.1\n19210     P0CAP2-2  NP_001018112.1\n29389       P0CAP1  NP_001018112.1",
      "text/html": "<div>\n<style scoped>\n    .dataframe tbody tr th:only-of-type {\n        vertical-align: middle;\n    }\n\n    .dataframe tbody tr th {\n        vertical-align: top;\n    }\n\n    .dataframe thead th {\n        text-align: right;\n    }\n</style>\n<table border=\"1\" class=\"dataframe\">\n  <thead>\n    <tr style=\"text-align: right;\">\n      <th></th>\n      <th>UniProtKB-AC</th>\n      <th>protein_id</th>\n    </tr>\n  </thead>\n  <tbody>\n    <tr>\n      <th>18251</th>\n      <td>Q6EEV4</td>\n      <td>NP_001018112.1</td>\n    </tr>\n    <tr>\n      <th>19210</th>\n      <td>P0CAP2-2</td>\n      <td>NP_001018112.1</td>\n    </tr>\n    <tr>\n      <th>29389</th>\n      <td>P0CAP1</td>\n      <td>NP_001018112.1</td>\n    </tr>\n  </tbody>\n</table>\n</div>"
     },
     "execution_count": 46,
     "metadata": {},
     "output_type": "execute_result"
    }
   ],
   "source": [
    "refseq_uniprot_mapping[refseq_uniprot_mapping['protein_id'].str.contains('NP_001018112.1')]"
   ],
   "metadata": {
    "collapsed": false,
    "pycharm": {
     "name": "#%%\n"
    }
   }
  },
  {
   "cell_type": "code",
   "execution_count": 52,
   "outputs": [
    {
     "data": {
      "text/plain": "array(['P31946', 'P62258', 'A0A024R1K7', ..., 'A0A7E1QX52', 'O75579',\n       'Q6ZNU4'], dtype=object)"
     },
     "execution_count": 52,
     "metadata": {},
     "output_type": "execute_result"
    }
   ],
   "source": [
    "refseq_uniprot_mapping['UniProtKB-AC'].unique()"
   ],
   "metadata": {
    "collapsed": false,
    "pycharm": {
     "name": "#%%\n"
    }
   }
  },
  {
   "cell_type": "code",
   "execution_count": 20,
   "outputs": [
    {
     "data": {
      "text/plain": "      UniProtKB-AC      protein_id\n69396       B2R5S1     NP_000020.1\n2021        B0ZBE2     NP_000020.1\n19906   A0A140VJL9     NP_000022.3\n62869       Q6ZMU0     NP_000022.3\n67215       Q4LE70     NP_000029.2\n...            ...             ...\n2790        A5YM69  XP_016885946.1\n3821        P00846  YP_003024031.1\n57310       Q9B1D3  YP_003024031.1\n11189       P00156  YP_003024038.1\n56936       Q6VLV1  YP_003024038.1\n\n[17213 rows x 2 columns]",
      "text/html": "<div>\n<style scoped>\n    .dataframe tbody tr th:only-of-type {\n        vertical-align: middle;\n    }\n\n    .dataframe tbody tr th {\n        vertical-align: top;\n    }\n\n    .dataframe thead th {\n        text-align: right;\n    }\n</style>\n<table border=\"1\" class=\"dataframe\">\n  <thead>\n    <tr style=\"text-align: right;\">\n      <th></th>\n      <th>UniProtKB-AC</th>\n      <th>protein_id</th>\n    </tr>\n  </thead>\n  <tbody>\n    <tr>\n      <th>69396</th>\n      <td>B2R5S1</td>\n      <td>NP_000020.1</td>\n    </tr>\n    <tr>\n      <th>2021</th>\n      <td>B0ZBE2</td>\n      <td>NP_000020.1</td>\n    </tr>\n    <tr>\n      <th>19906</th>\n      <td>A0A140VJL9</td>\n      <td>NP_000022.3</td>\n    </tr>\n    <tr>\n      <th>62869</th>\n      <td>Q6ZMU0</td>\n      <td>NP_000022.3</td>\n    </tr>\n    <tr>\n      <th>67215</th>\n      <td>Q4LE70</td>\n      <td>NP_000029.2</td>\n    </tr>\n    <tr>\n      <th>...</th>\n      <td>...</td>\n      <td>...</td>\n    </tr>\n    <tr>\n      <th>2790</th>\n      <td>A5YM69</td>\n      <td>XP_016885946.1</td>\n    </tr>\n    <tr>\n      <th>3821</th>\n      <td>P00846</td>\n      <td>YP_003024031.1</td>\n    </tr>\n    <tr>\n      <th>57310</th>\n      <td>Q9B1D3</td>\n      <td>YP_003024031.1</td>\n    </tr>\n    <tr>\n      <th>11189</th>\n      <td>P00156</td>\n      <td>YP_003024038.1</td>\n    </tr>\n    <tr>\n      <th>56936</th>\n      <td>Q6VLV1</td>\n      <td>YP_003024038.1</td>\n    </tr>\n  </tbody>\n</table>\n<p>17213 rows × 2 columns</p>\n</div>"
     },
     "execution_count": 20,
     "metadata": {},
     "output_type": "execute_result"
    }
   ],
   "source": [
    "# check if there's any duplications\n",
    "# found out one NP_ can be linked to multiple UniProtKB entries, so will only keep the first one matches\n",
    "refseq_uniprot_mapping[refseq_uniprot_mapping.duplicated(subset=['protein_id'], keep=False)].sort_values('protein_id')"
   ],
   "metadata": {
    "collapsed": false,
    "pycharm": {
     "name": "#%%\n"
    }
   }
  },
  {
   "cell_type": "code",
   "execution_count": 21,
   "outputs": [
    {
     "data": {
      "text/plain": "                                                 Name  GeneID GeneSymbol  \\\n0        NM_014630.3(ZNF592):c.3136G>A (p.Gly1046Arg)    9640     ZNF592   \n1        NM_014630.3(ZNF592):c.3136G>A (p.Gly1046Arg)    9640     ZNF592   \n2        NM_017547.4(FOXRED1):c.1289A>G (p.Asn430Ser)   55572    FOXRED1   \n3        NM_017547.4(FOXRED1):c.1289A>G (p.Asn430Ser)   55572    FOXRED1   \n4            NM_025152.3(NUBPL):c.166G>A (p.Gly56Arg)   80224      NUBPL   \n...                                               ...     ...        ...   \n1295263  NM_000089.4(COL1A2):c.3142G>A (p.Gly1048Ser)    1278     COL1A2   \n1295264      NM_004456.5(EZH2):c.395C>T (p.Pro132Leu)    2146       EZH2   \n1295265      NM_004456.5(EZH2):c.395C>T (p.Pro132Leu)    2146       EZH2   \n1295266     NM_001972.4(ELANE):c.640G>C (p.Gly214Arg)    1991      ELANE   \n1295267     NM_001972.4(ELANE):c.640G>C (p.Gly214Arg)    1991      ELANE   \n\n        Assembly    ClinicalSignificance  \\\n0         GRCh37  Uncertain significance   \n1         GRCh38  Uncertain significance   \n2         GRCh37              Pathogenic   \n3         GRCh38              Pathogenic   \n4         GRCh37  Uncertain significance   \n...          ...                     ...   \n1295263   GRCh38       Likely pathogenic   \n1295264   GRCh37            not provided   \n1295265   GRCh38            not provided   \n1295266   GRCh37            not provided   \n1295267   GRCh38            not provided   \n\n                                              ReviewStatus  CDS_position  \\\n0                           no assertion criteria provided          3136   \n1                           no assertion criteria provided          3136   \n2                           no assertion criteria provided          1289   \n3                           no assertion criteria provided          1289   \n4        criteria provided, multiple submitters, no con...           166   \n...                                                    ...           ...   \n1295263                     no assertion criteria provided          3142   \n1295264                              no assertion provided           395   \n1295265                              no assertion provided           395   \n1295266                              no assertion provided           640   \n1295267                              no assertion provided           640   \n\n                                                  OtherIDs AlleleChange  \\\n0        OMIM:613624.0001,ClinGen:CA210674,UniProtKB:Q9...          G/A   \n1        OMIM:613624.0001,ClinGen:CA210674,UniProtKB:Q9...          G/A   \n2        ClinGen:CA113794,UniProtKB:Q96CU9#VAR_064571,O...          A/G   \n3        ClinGen:CA113794,UniProtKB:Q96CU9#VAR_064571,O...          A/G   \n4        ClinVar:7,ClinGen:CA321015,UniProtKB:Q8TB37#VA...          G/A   \n...                                                    ...          ...   \n1295263                                                  -          G/A   \n1295264                                                  -          C/T   \n1295265                                                  -          C/T   \n1295266                                                  -          G/C   \n1295267                                                  -          G/C   \n\n        Protein_Patterns Amino_acids_before_3letters  Protein_positions  \\\n0             Gly1046Arg                         Gly               1046   \n1             Gly1046Arg                         Gly               1046   \n2              Asn430Ser                         Asn                430   \n3              Asn430Ser                         Asn                430   \n4               Gly56Arg                         Gly                 56   \n...                  ...                         ...                ...   \n1295263       Gly1048Ser                         Gly               1048   \n1295264        Pro132Leu                         Pro                132   \n1295265        Pro132Leu                         Pro                132   \n1295266        Gly214Arg                         Gly                214   \n1295267        Gly214Arg                         Gly                214   \n\n        Amino_acids_after_3letters        NM_ID   protein_id UniProtKB-AC  \n0                              Arg  NM_014630.3  NP_055445.2       Q92610  \n1                              Arg  NM_014630.3  NP_055445.2       Q92610  \n2                              Ser  NM_017547.4  NP_060017.1       Q96CU9  \n3                              Ser  NM_017547.4  NP_060017.1       Q96CU9  \n4                              Arg  NM_025152.3  NP_079428.2       Q8TB37  \n...                            ...          ...          ...          ...  \n1295263                        Ser  NM_000089.4  NP_000080.2   A0A0S2Z3H5  \n1295264                        Leu  NM_004456.5  NP_004447.2   A0A090N8E9  \n1295265                        Leu  NM_004456.5  NP_004447.2   A0A090N8E9  \n1295266                        Arg  NM_001972.4  NP_001963.1       P08246  \n1295267                        Arg  NM_001972.4  NP_001963.1       P08246  \n\n[1295268 rows x 16 columns]",
      "text/html": "<div>\n<style scoped>\n    .dataframe tbody tr th:only-of-type {\n        vertical-align: middle;\n    }\n\n    .dataframe tbody tr th {\n        vertical-align: top;\n    }\n\n    .dataframe thead th {\n        text-align: right;\n    }\n</style>\n<table border=\"1\" class=\"dataframe\">\n  <thead>\n    <tr style=\"text-align: right;\">\n      <th></th>\n      <th>Name</th>\n      <th>GeneID</th>\n      <th>GeneSymbol</th>\n      <th>Assembly</th>\n      <th>ClinicalSignificance</th>\n      <th>ReviewStatus</th>\n      <th>CDS_position</th>\n      <th>OtherIDs</th>\n      <th>AlleleChange</th>\n      <th>Protein_Patterns</th>\n      <th>Amino_acids_before_3letters</th>\n      <th>Protein_positions</th>\n      <th>Amino_acids_after_3letters</th>\n      <th>NM_ID</th>\n      <th>protein_id</th>\n      <th>UniProtKB-AC</th>\n    </tr>\n  </thead>\n  <tbody>\n    <tr>\n      <th>0</th>\n      <td>NM_014630.3(ZNF592):c.3136G&gt;A (p.Gly1046Arg)</td>\n      <td>9640</td>\n      <td>ZNF592</td>\n      <td>GRCh37</td>\n      <td>Uncertain significance</td>\n      <td>no assertion criteria provided</td>\n      <td>3136</td>\n      <td>OMIM:613624.0001,ClinGen:CA210674,UniProtKB:Q9...</td>\n      <td>G/A</td>\n      <td>Gly1046Arg</td>\n      <td>Gly</td>\n      <td>1046</td>\n      <td>Arg</td>\n      <td>NM_014630.3</td>\n      <td>NP_055445.2</td>\n      <td>Q92610</td>\n    </tr>\n    <tr>\n      <th>1</th>\n      <td>NM_014630.3(ZNF592):c.3136G&gt;A (p.Gly1046Arg)</td>\n      <td>9640</td>\n      <td>ZNF592</td>\n      <td>GRCh38</td>\n      <td>Uncertain significance</td>\n      <td>no assertion criteria provided</td>\n      <td>3136</td>\n      <td>OMIM:613624.0001,ClinGen:CA210674,UniProtKB:Q9...</td>\n      <td>G/A</td>\n      <td>Gly1046Arg</td>\n      <td>Gly</td>\n      <td>1046</td>\n      <td>Arg</td>\n      <td>NM_014630.3</td>\n      <td>NP_055445.2</td>\n      <td>Q92610</td>\n    </tr>\n    <tr>\n      <th>2</th>\n      <td>NM_017547.4(FOXRED1):c.1289A&gt;G (p.Asn430Ser)</td>\n      <td>55572</td>\n      <td>FOXRED1</td>\n      <td>GRCh37</td>\n      <td>Pathogenic</td>\n      <td>no assertion criteria provided</td>\n      <td>1289</td>\n      <td>ClinGen:CA113794,UniProtKB:Q96CU9#VAR_064571,O...</td>\n      <td>A/G</td>\n      <td>Asn430Ser</td>\n      <td>Asn</td>\n      <td>430</td>\n      <td>Ser</td>\n      <td>NM_017547.4</td>\n      <td>NP_060017.1</td>\n      <td>Q96CU9</td>\n    </tr>\n    <tr>\n      <th>3</th>\n      <td>NM_017547.4(FOXRED1):c.1289A&gt;G (p.Asn430Ser)</td>\n      <td>55572</td>\n      <td>FOXRED1</td>\n      <td>GRCh38</td>\n      <td>Pathogenic</td>\n      <td>no assertion criteria provided</td>\n      <td>1289</td>\n      <td>ClinGen:CA113794,UniProtKB:Q96CU9#VAR_064571,O...</td>\n      <td>A/G</td>\n      <td>Asn430Ser</td>\n      <td>Asn</td>\n      <td>430</td>\n      <td>Ser</td>\n      <td>NM_017547.4</td>\n      <td>NP_060017.1</td>\n      <td>Q96CU9</td>\n    </tr>\n    <tr>\n      <th>4</th>\n      <td>NM_025152.3(NUBPL):c.166G&gt;A (p.Gly56Arg)</td>\n      <td>80224</td>\n      <td>NUBPL</td>\n      <td>GRCh37</td>\n      <td>Uncertain significance</td>\n      <td>criteria provided, multiple submitters, no con...</td>\n      <td>166</td>\n      <td>ClinVar:7,ClinGen:CA321015,UniProtKB:Q8TB37#VA...</td>\n      <td>G/A</td>\n      <td>Gly56Arg</td>\n      <td>Gly</td>\n      <td>56</td>\n      <td>Arg</td>\n      <td>NM_025152.3</td>\n      <td>NP_079428.2</td>\n      <td>Q8TB37</td>\n    </tr>\n    <tr>\n      <th>...</th>\n      <td>...</td>\n      <td>...</td>\n      <td>...</td>\n      <td>...</td>\n      <td>...</td>\n      <td>...</td>\n      <td>...</td>\n      <td>...</td>\n      <td>...</td>\n      <td>...</td>\n      <td>...</td>\n      <td>...</td>\n      <td>...</td>\n      <td>...</td>\n      <td>...</td>\n      <td>...</td>\n    </tr>\n    <tr>\n      <th>1295263</th>\n      <td>NM_000089.4(COL1A2):c.3142G&gt;A (p.Gly1048Ser)</td>\n      <td>1278</td>\n      <td>COL1A2</td>\n      <td>GRCh38</td>\n      <td>Likely pathogenic</td>\n      <td>no assertion criteria provided</td>\n      <td>3142</td>\n      <td>-</td>\n      <td>G/A</td>\n      <td>Gly1048Ser</td>\n      <td>Gly</td>\n      <td>1048</td>\n      <td>Ser</td>\n      <td>NM_000089.4</td>\n      <td>NP_000080.2</td>\n      <td>A0A0S2Z3H5</td>\n    </tr>\n    <tr>\n      <th>1295264</th>\n      <td>NM_004456.5(EZH2):c.395C&gt;T (p.Pro132Leu)</td>\n      <td>2146</td>\n      <td>EZH2</td>\n      <td>GRCh37</td>\n      <td>not provided</td>\n      <td>no assertion provided</td>\n      <td>395</td>\n      <td>-</td>\n      <td>C/T</td>\n      <td>Pro132Leu</td>\n      <td>Pro</td>\n      <td>132</td>\n      <td>Leu</td>\n      <td>NM_004456.5</td>\n      <td>NP_004447.2</td>\n      <td>A0A090N8E9</td>\n    </tr>\n    <tr>\n      <th>1295265</th>\n      <td>NM_004456.5(EZH2):c.395C&gt;T (p.Pro132Leu)</td>\n      <td>2146</td>\n      <td>EZH2</td>\n      <td>GRCh38</td>\n      <td>not provided</td>\n      <td>no assertion provided</td>\n      <td>395</td>\n      <td>-</td>\n      <td>C/T</td>\n      <td>Pro132Leu</td>\n      <td>Pro</td>\n      <td>132</td>\n      <td>Leu</td>\n      <td>NM_004456.5</td>\n      <td>NP_004447.2</td>\n      <td>A0A090N8E9</td>\n    </tr>\n    <tr>\n      <th>1295266</th>\n      <td>NM_001972.4(ELANE):c.640G&gt;C (p.Gly214Arg)</td>\n      <td>1991</td>\n      <td>ELANE</td>\n      <td>GRCh37</td>\n      <td>not provided</td>\n      <td>no assertion provided</td>\n      <td>640</td>\n      <td>-</td>\n      <td>G/C</td>\n      <td>Gly214Arg</td>\n      <td>Gly</td>\n      <td>214</td>\n      <td>Arg</td>\n      <td>NM_001972.4</td>\n      <td>NP_001963.1</td>\n      <td>P08246</td>\n    </tr>\n    <tr>\n      <th>1295267</th>\n      <td>NM_001972.4(ELANE):c.640G&gt;C (p.Gly214Arg)</td>\n      <td>1991</td>\n      <td>ELANE</td>\n      <td>GRCh38</td>\n      <td>not provided</td>\n      <td>no assertion provided</td>\n      <td>640</td>\n      <td>-</td>\n      <td>G/C</td>\n      <td>Gly214Arg</td>\n      <td>Gly</td>\n      <td>214</td>\n      <td>Arg</td>\n      <td>NM_001972.4</td>\n      <td>NP_001963.1</td>\n      <td>P08246</td>\n    </tr>\n  </tbody>\n</table>\n<p>1295268 rows × 16 columns</p>\n</div>"
     },
     "execution_count": 21,
     "metadata": {},
     "output_type": "execute_result"
    }
   ],
   "source": [
    "# see if can map with uniprotkb id\n",
    "uniprot_id_mapping_merge1 = pd.merge(df_match, refseq_uniprot_mapping.drop_duplicates(subset='protein_id'), how='left', on='protein_id')\n",
    "uniprot_id_mapping_merge1"
   ],
   "metadata": {
    "collapsed": false,
    "pycharm": {
     "name": "#%%\n"
    }
   }
  },
  {
   "cell_type": "code",
   "execution_count": 22,
   "outputs": [
    {
     "data": {
      "text/plain": "                                                 Name  GeneID GeneSymbol  \\\n0        NM_014630.3(ZNF592):c.3136G>A (p.Gly1046Arg)    9640     ZNF592   \n1        NM_014630.3(ZNF592):c.3136G>A (p.Gly1046Arg)    9640     ZNF592   \n2        NM_017547.4(FOXRED1):c.1289A>G (p.Asn430Ser)   55572    FOXRED1   \n3        NM_017547.4(FOXRED1):c.1289A>G (p.Asn430Ser)   55572    FOXRED1   \n4            NM_025152.3(NUBPL):c.166G>A (p.Gly56Arg)   80224      NUBPL   \n...                                               ...     ...        ...   \n1295263  NM_000089.4(COL1A2):c.3142G>A (p.Gly1048Ser)    1278     COL1A2   \n1295264      NM_004456.5(EZH2):c.395C>T (p.Pro132Leu)    2146       EZH2   \n1295265      NM_004456.5(EZH2):c.395C>T (p.Pro132Leu)    2146       EZH2   \n1295266     NM_001972.4(ELANE):c.640G>C (p.Gly214Arg)    1991      ELANE   \n1295267     NM_001972.4(ELANE):c.640G>C (p.Gly214Arg)    1991      ELANE   \n\n        Assembly    ClinicalSignificance  \\\n0         GRCh37  Uncertain significance   \n1         GRCh38  Uncertain significance   \n2         GRCh37              Pathogenic   \n3         GRCh38              Pathogenic   \n4         GRCh37  Uncertain significance   \n...          ...                     ...   \n1295263   GRCh38       Likely pathogenic   \n1295264   GRCh37            not provided   \n1295265   GRCh38            not provided   \n1295266   GRCh37            not provided   \n1295267   GRCh38            not provided   \n\n                                              ReviewStatus  CDS_position  \\\n0                           no assertion criteria provided          3136   \n1                           no assertion criteria provided          3136   \n2                           no assertion criteria provided          1289   \n3                           no assertion criteria provided          1289   \n4        criteria provided, multiple submitters, no con...           166   \n...                                                    ...           ...   \n1295263                     no assertion criteria provided          3142   \n1295264                              no assertion provided           395   \n1295265                              no assertion provided           395   \n1295266                              no assertion provided           640   \n1295267                              no assertion provided           640   \n\n                                                  OtherIDs AlleleChange  \\\n0        OMIM:613624.0001,ClinGen:CA210674,UniProtKB:Q9...          G/A   \n1        OMIM:613624.0001,ClinGen:CA210674,UniProtKB:Q9...          G/A   \n2        ClinGen:CA113794,UniProtKB:Q96CU9#VAR_064571,O...          A/G   \n3        ClinGen:CA113794,UniProtKB:Q96CU9#VAR_064571,O...          A/G   \n4        ClinVar:7,ClinGen:CA321015,UniProtKB:Q8TB37#VA...          G/A   \n...                                                    ...          ...   \n1295263                                                  -          G/A   \n1295264                                                  -          C/T   \n1295265                                                  -          C/T   \n1295266                                                  -          G/C   \n1295267                                                  -          G/C   \n\n        Protein_Patterns Amino_acids_before_3letters  Protein_positions  \\\n0             Gly1046Arg                         Gly               1046   \n1             Gly1046Arg                         Gly               1046   \n2              Asn430Ser                         Asn                430   \n3              Asn430Ser                         Asn                430   \n4               Gly56Arg                         Gly                 56   \n...                  ...                         ...                ...   \n1295263       Gly1048Ser                         Gly               1048   \n1295264        Pro132Leu                         Pro                132   \n1295265        Pro132Leu                         Pro                132   \n1295266        Gly214Arg                         Gly                214   \n1295267        Gly214Arg                         Gly                214   \n\n        Amino_acids_after_3letters        NM_ID   protein_id UniProtKB-AC  \n0                              Arg  NM_014630.3  NP_055445.2       Q92610  \n1                              Arg  NM_014630.3  NP_055445.2       Q92610  \n2                              Ser  NM_017547.4  NP_060017.1       Q96CU9  \n3                              Ser  NM_017547.4  NP_060017.1       Q96CU9  \n4                              Arg  NM_025152.3  NP_079428.2       Q8TB37  \n...                            ...          ...          ...          ...  \n1295263                        Ser  NM_000089.4  NP_000080.2   A0A0S2Z3H5  \n1295264                        Leu  NM_004456.5  NP_004447.2   A0A090N8E9  \n1295265                        Leu  NM_004456.5  NP_004447.2   A0A090N8E9  \n1295266                        Arg  NM_001972.4  NP_001963.1       P08246  \n1295267                        Arg  NM_001972.4  NP_001963.1       P08246  \n\n[1139111 rows x 16 columns]",
      "text/html": "<div>\n<style scoped>\n    .dataframe tbody tr th:only-of-type {\n        vertical-align: middle;\n    }\n\n    .dataframe tbody tr th {\n        vertical-align: top;\n    }\n\n    .dataframe thead th {\n        text-align: right;\n    }\n</style>\n<table border=\"1\" class=\"dataframe\">\n  <thead>\n    <tr style=\"text-align: right;\">\n      <th></th>\n      <th>Name</th>\n      <th>GeneID</th>\n      <th>GeneSymbol</th>\n      <th>Assembly</th>\n      <th>ClinicalSignificance</th>\n      <th>ReviewStatus</th>\n      <th>CDS_position</th>\n      <th>OtherIDs</th>\n      <th>AlleleChange</th>\n      <th>Protein_Patterns</th>\n      <th>Amino_acids_before_3letters</th>\n      <th>Protein_positions</th>\n      <th>Amino_acids_after_3letters</th>\n      <th>NM_ID</th>\n      <th>protein_id</th>\n      <th>UniProtKB-AC</th>\n    </tr>\n  </thead>\n  <tbody>\n    <tr>\n      <th>0</th>\n      <td>NM_014630.3(ZNF592):c.3136G&gt;A (p.Gly1046Arg)</td>\n      <td>9640</td>\n      <td>ZNF592</td>\n      <td>GRCh37</td>\n      <td>Uncertain significance</td>\n      <td>no assertion criteria provided</td>\n      <td>3136</td>\n      <td>OMIM:613624.0001,ClinGen:CA210674,UniProtKB:Q9...</td>\n      <td>G/A</td>\n      <td>Gly1046Arg</td>\n      <td>Gly</td>\n      <td>1046</td>\n      <td>Arg</td>\n      <td>NM_014630.3</td>\n      <td>NP_055445.2</td>\n      <td>Q92610</td>\n    </tr>\n    <tr>\n      <th>1</th>\n      <td>NM_014630.3(ZNF592):c.3136G&gt;A (p.Gly1046Arg)</td>\n      <td>9640</td>\n      <td>ZNF592</td>\n      <td>GRCh38</td>\n      <td>Uncertain significance</td>\n      <td>no assertion criteria provided</td>\n      <td>3136</td>\n      <td>OMIM:613624.0001,ClinGen:CA210674,UniProtKB:Q9...</td>\n      <td>G/A</td>\n      <td>Gly1046Arg</td>\n      <td>Gly</td>\n      <td>1046</td>\n      <td>Arg</td>\n      <td>NM_014630.3</td>\n      <td>NP_055445.2</td>\n      <td>Q92610</td>\n    </tr>\n    <tr>\n      <th>2</th>\n      <td>NM_017547.4(FOXRED1):c.1289A&gt;G (p.Asn430Ser)</td>\n      <td>55572</td>\n      <td>FOXRED1</td>\n      <td>GRCh37</td>\n      <td>Pathogenic</td>\n      <td>no assertion criteria provided</td>\n      <td>1289</td>\n      <td>ClinGen:CA113794,UniProtKB:Q96CU9#VAR_064571,O...</td>\n      <td>A/G</td>\n      <td>Asn430Ser</td>\n      <td>Asn</td>\n      <td>430</td>\n      <td>Ser</td>\n      <td>NM_017547.4</td>\n      <td>NP_060017.1</td>\n      <td>Q96CU9</td>\n    </tr>\n    <tr>\n      <th>3</th>\n      <td>NM_017547.4(FOXRED1):c.1289A&gt;G (p.Asn430Ser)</td>\n      <td>55572</td>\n      <td>FOXRED1</td>\n      <td>GRCh38</td>\n      <td>Pathogenic</td>\n      <td>no assertion criteria provided</td>\n      <td>1289</td>\n      <td>ClinGen:CA113794,UniProtKB:Q96CU9#VAR_064571,O...</td>\n      <td>A/G</td>\n      <td>Asn430Ser</td>\n      <td>Asn</td>\n      <td>430</td>\n      <td>Ser</td>\n      <td>NM_017547.4</td>\n      <td>NP_060017.1</td>\n      <td>Q96CU9</td>\n    </tr>\n    <tr>\n      <th>4</th>\n      <td>NM_025152.3(NUBPL):c.166G&gt;A (p.Gly56Arg)</td>\n      <td>80224</td>\n      <td>NUBPL</td>\n      <td>GRCh37</td>\n      <td>Uncertain significance</td>\n      <td>criteria provided, multiple submitters, no con...</td>\n      <td>166</td>\n      <td>ClinVar:7,ClinGen:CA321015,UniProtKB:Q8TB37#VA...</td>\n      <td>G/A</td>\n      <td>Gly56Arg</td>\n      <td>Gly</td>\n      <td>56</td>\n      <td>Arg</td>\n      <td>NM_025152.3</td>\n      <td>NP_079428.2</td>\n      <td>Q8TB37</td>\n    </tr>\n    <tr>\n      <th>...</th>\n      <td>...</td>\n      <td>...</td>\n      <td>...</td>\n      <td>...</td>\n      <td>...</td>\n      <td>...</td>\n      <td>...</td>\n      <td>...</td>\n      <td>...</td>\n      <td>...</td>\n      <td>...</td>\n      <td>...</td>\n      <td>...</td>\n      <td>...</td>\n      <td>...</td>\n      <td>...</td>\n    </tr>\n    <tr>\n      <th>1295263</th>\n      <td>NM_000089.4(COL1A2):c.3142G&gt;A (p.Gly1048Ser)</td>\n      <td>1278</td>\n      <td>COL1A2</td>\n      <td>GRCh38</td>\n      <td>Likely pathogenic</td>\n      <td>no assertion criteria provided</td>\n      <td>3142</td>\n      <td>-</td>\n      <td>G/A</td>\n      <td>Gly1048Ser</td>\n      <td>Gly</td>\n      <td>1048</td>\n      <td>Ser</td>\n      <td>NM_000089.4</td>\n      <td>NP_000080.2</td>\n      <td>A0A0S2Z3H5</td>\n    </tr>\n    <tr>\n      <th>1295264</th>\n      <td>NM_004456.5(EZH2):c.395C&gt;T (p.Pro132Leu)</td>\n      <td>2146</td>\n      <td>EZH2</td>\n      <td>GRCh37</td>\n      <td>not provided</td>\n      <td>no assertion provided</td>\n      <td>395</td>\n      <td>-</td>\n      <td>C/T</td>\n      <td>Pro132Leu</td>\n      <td>Pro</td>\n      <td>132</td>\n      <td>Leu</td>\n      <td>NM_004456.5</td>\n      <td>NP_004447.2</td>\n      <td>A0A090N8E9</td>\n    </tr>\n    <tr>\n      <th>1295265</th>\n      <td>NM_004456.5(EZH2):c.395C&gt;T (p.Pro132Leu)</td>\n      <td>2146</td>\n      <td>EZH2</td>\n      <td>GRCh38</td>\n      <td>not provided</td>\n      <td>no assertion provided</td>\n      <td>395</td>\n      <td>-</td>\n      <td>C/T</td>\n      <td>Pro132Leu</td>\n      <td>Pro</td>\n      <td>132</td>\n      <td>Leu</td>\n      <td>NM_004456.5</td>\n      <td>NP_004447.2</td>\n      <td>A0A090N8E9</td>\n    </tr>\n    <tr>\n      <th>1295266</th>\n      <td>NM_001972.4(ELANE):c.640G&gt;C (p.Gly214Arg)</td>\n      <td>1991</td>\n      <td>ELANE</td>\n      <td>GRCh37</td>\n      <td>not provided</td>\n      <td>no assertion provided</td>\n      <td>640</td>\n      <td>-</td>\n      <td>G/C</td>\n      <td>Gly214Arg</td>\n      <td>Gly</td>\n      <td>214</td>\n      <td>Arg</td>\n      <td>NM_001972.4</td>\n      <td>NP_001963.1</td>\n      <td>P08246</td>\n    </tr>\n    <tr>\n      <th>1295267</th>\n      <td>NM_001972.4(ELANE):c.640G&gt;C (p.Gly214Arg)</td>\n      <td>1991</td>\n      <td>ELANE</td>\n      <td>GRCh38</td>\n      <td>not provided</td>\n      <td>no assertion provided</td>\n      <td>640</td>\n      <td>-</td>\n      <td>G/C</td>\n      <td>Gly214Arg</td>\n      <td>Gly</td>\n      <td>214</td>\n      <td>Arg</td>\n      <td>NM_001972.4</td>\n      <td>NP_001963.1</td>\n      <td>P08246</td>\n    </tr>\n  </tbody>\n</table>\n<p>1139111 rows × 16 columns</p>\n</div>"
     },
     "execution_count": 22,
     "metadata": {},
     "output_type": "execute_result"
    }
   ],
   "source": [
    "uniprot_id_np_mapped = uniprot_id_mapping_merge1[~uniprot_id_mapping_merge1['UniProtKB-AC'].isnull()]\n",
    "uniprot_id_np_mapped"
   ],
   "metadata": {
    "collapsed": false,
    "pycharm": {
     "name": "#%%\n"
    }
   }
  },
  {
   "cell_type": "code",
   "execution_count": null,
   "outputs": [],
   "source": [
    "# remove redundant canonical sequences"
   ],
   "metadata": {
    "collapsed": false,
    "pycharm": {
     "name": "#%%\n"
    }
   }
  },
  {
   "cell_type": "code",
   "execution_count": 23,
   "outputs": [],
   "source": [
    "uniprot_id_np_mapped.to_csv('./data/metas/clinvar_variant_uniprot_id_mapping.csv', index=False)"
   ],
   "metadata": {
    "collapsed": false,
    "pycharm": {
     "name": "#%%\n"
    }
   }
  },
  {
   "cell_type": "code",
   "execution_count": 92,
   "outputs": [
    {
     "data": {
      "text/plain": "array(['Q92610', 'Q96CU9', 'Q8TB37', ..., 'A0A140VK42', 'A0A024R9X7',\n       'Q9H4G0-4'], dtype=object)"
     },
     "execution_count": 92,
     "metadata": {},
     "output_type": "execute_result"
    }
   ],
   "source": [
    "uniprot_id_np_mapped['UniProtKB-AC'].unique()"
   ],
   "metadata": {
    "collapsed": false,
    "pycharm": {
     "name": "#%%\n"
    }
   }
  },
  {
   "cell_type": "code",
   "execution_count": 69,
   "outputs": [
    {
     "data": {
      "text/plain": "                                             Name  GeneID GeneSymbol Assembly  \\\n276     NM_000552.5(VWF):c.4883T>C (p.Ile1628Thr)    7450        VWF   GRCh37   \n277     NM_000552.5(VWF):c.4883T>C (p.Ile1628Thr)    7450        VWF   GRCh38   \n278     NM_000552.5(VWF):c.4789C>T (p.Arg1597Trp)    7450        VWF   GRCh37   \n279     NM_000552.5(VWF):c.4789C>T (p.Arg1597Trp)    7450        VWF   GRCh38   \n280     NM_000552.5(VWF):c.4820T>A (p.Val1607Asp)    7450        VWF   GRCh37   \n...                                           ...     ...        ...      ...   \n566581      NM_000029.4(AGT):c.58A>C (p.Thr20Pro)     183        AGT   GRCh38   \n566582      NM_000029.4(AGT):c.28A>T (p.Met10Leu)     183        AGT   GRCh37   \n566583      NM_000029.4(AGT):c.28A>T (p.Met10Leu)     183        AGT   GRCh38   \n737200  NM_001165927.1(MKS1):c.32G>C (p.Arg11Pro)   54903       MKS1   GRCh37   \n737201  NM_001165927.1(MKS1):c.32G>C (p.Arg11Pro)   54903       MKS1   GRCh38   \n\n                ClinicalSignificance  \\\n276                       Pathogenic   \n277                       Pathogenic   \n278     Pathogenic/Likely pathogenic   \n279     Pathogenic/Likely pathogenic   \n280                       Pathogenic   \n...                              ...   \n566581        Uncertain significance   \n566582                 Likely benign   \n566583                 Likely benign   \n737200        Uncertain significance   \n737201        Uncertain significance   \n\n                                             ReviewStatus  CDS_position  \\\n276     criteria provided, multiple submitters, no con...          4883   \n277     criteria provided, multiple submitters, no con...          4883   \n278     criteria provided, multiple submitters, no con...          4789   \n279     criteria provided, multiple submitters, no con...          4789   \n280                        no assertion criteria provided          4820   \n...                                                   ...           ...   \n566581                criteria provided, single submitter            58   \n566582                criteria provided, single submitter            28   \n566583                criteria provided, single submitter            28   \n737200                criteria provided, single submitter            32   \n737201                criteria provided, single submitter            32   \n\n                                                 OtherIDs AlleleChange  \\\n276     ClinGen:CA114115,UniProtKB:P04275#VAR_005817,O...          T/C   \n277     ClinGen:CA114115,UniProtKB:P04275#VAR_005817,O...          T/C   \n278     ClinGen:CA114117,UniProtKB:P04275#VAR_005813,O...          C/T   \n279     ClinGen:CA114117,UniProtKB:P04275#VAR_005813,O...          C/T   \n280     ClinGen:CA114119,UniProtKB:P04275#VAR_005814,O...          T/A   \n...                                                   ...          ...   \n566581                                                  -          A/C   \n566582                                                  -          A/T   \n566583                                                  -          A/T   \n737200                                                  -          G/C   \n737201                                                  -          G/C   \n\n       Protein_Patterns Amino_acids_before_3letters  Protein_positions  \\\n276          Ile1628Thr                         Ile               1628   \n277          Ile1628Thr                         Ile               1628   \n278          Arg1597Trp                         Arg               1597   \n279          Arg1597Trp                         Arg               1597   \n280          Val1607Asp                         Val               1607   \n...                 ...                         ...                ...   \n566581         Thr20Pro                         Thr                 20   \n566582         Met10Leu                         Met                 10   \n566583         Met10Leu                         Met                 10   \n737200         Arg11Pro                         Arg                 11   \n737201         Arg11Pro                         Arg                 11   \n\n       Amino_acids_after_3letters           NM_ID   protein_id UniProtKB-AC  \n276                           Thr     NM_000552.5  NP_000543.3          NaN  \n277                           Thr     NM_000552.5  NP_000543.3          NaN  \n278                           Trp     NM_000552.5  NP_000543.3          NaN  \n279                           Trp     NM_000552.5  NP_000543.3          NaN  \n280                           Asp     NM_000552.5  NP_000543.3          NaN  \n...                           ...             ...          ...          ...  \n566581                        Pro     NM_000029.4          NaN          NaN  \n566582                        Leu     NM_000029.4          NaN          NaN  \n566583                        Leu     NM_000029.4          NaN          NaN  \n737200                        Pro  NM_001165927.1          NaN          NaN  \n737201                        Pro  NM_001165927.1          NaN          NaN  \n\n[156633 rows x 16 columns]",
      "text/html": "<div>\n<style scoped>\n    .dataframe tbody tr th:only-of-type {\n        vertical-align: middle;\n    }\n\n    .dataframe tbody tr th {\n        vertical-align: top;\n    }\n\n    .dataframe thead th {\n        text-align: right;\n    }\n</style>\n<table border=\"1\" class=\"dataframe\">\n  <thead>\n    <tr style=\"text-align: right;\">\n      <th></th>\n      <th>Name</th>\n      <th>GeneID</th>\n      <th>GeneSymbol</th>\n      <th>Assembly</th>\n      <th>ClinicalSignificance</th>\n      <th>ReviewStatus</th>\n      <th>CDS_position</th>\n      <th>OtherIDs</th>\n      <th>AlleleChange</th>\n      <th>Protein_Patterns</th>\n      <th>Amino_acids_before_3letters</th>\n      <th>Protein_positions</th>\n      <th>Amino_acids_after_3letters</th>\n      <th>NM_ID</th>\n      <th>protein_id</th>\n      <th>UniProtKB-AC</th>\n    </tr>\n  </thead>\n  <tbody>\n    <tr>\n      <th>276</th>\n      <td>NM_000552.5(VWF):c.4883T&gt;C (p.Ile1628Thr)</td>\n      <td>7450</td>\n      <td>VWF</td>\n      <td>GRCh37</td>\n      <td>Pathogenic</td>\n      <td>criteria provided, multiple submitters, no con...</td>\n      <td>4883</td>\n      <td>ClinGen:CA114115,UniProtKB:P04275#VAR_005817,O...</td>\n      <td>T/C</td>\n      <td>Ile1628Thr</td>\n      <td>Ile</td>\n      <td>1628</td>\n      <td>Thr</td>\n      <td>NM_000552.5</td>\n      <td>NP_000543.3</td>\n      <td>NaN</td>\n    </tr>\n    <tr>\n      <th>277</th>\n      <td>NM_000552.5(VWF):c.4883T&gt;C (p.Ile1628Thr)</td>\n      <td>7450</td>\n      <td>VWF</td>\n      <td>GRCh38</td>\n      <td>Pathogenic</td>\n      <td>criteria provided, multiple submitters, no con...</td>\n      <td>4883</td>\n      <td>ClinGen:CA114115,UniProtKB:P04275#VAR_005817,O...</td>\n      <td>T/C</td>\n      <td>Ile1628Thr</td>\n      <td>Ile</td>\n      <td>1628</td>\n      <td>Thr</td>\n      <td>NM_000552.5</td>\n      <td>NP_000543.3</td>\n      <td>NaN</td>\n    </tr>\n    <tr>\n      <th>278</th>\n      <td>NM_000552.5(VWF):c.4789C&gt;T (p.Arg1597Trp)</td>\n      <td>7450</td>\n      <td>VWF</td>\n      <td>GRCh37</td>\n      <td>Pathogenic/Likely pathogenic</td>\n      <td>criteria provided, multiple submitters, no con...</td>\n      <td>4789</td>\n      <td>ClinGen:CA114117,UniProtKB:P04275#VAR_005813,O...</td>\n      <td>C/T</td>\n      <td>Arg1597Trp</td>\n      <td>Arg</td>\n      <td>1597</td>\n      <td>Trp</td>\n      <td>NM_000552.5</td>\n      <td>NP_000543.3</td>\n      <td>NaN</td>\n    </tr>\n    <tr>\n      <th>279</th>\n      <td>NM_000552.5(VWF):c.4789C&gt;T (p.Arg1597Trp)</td>\n      <td>7450</td>\n      <td>VWF</td>\n      <td>GRCh38</td>\n      <td>Pathogenic/Likely pathogenic</td>\n      <td>criteria provided, multiple submitters, no con...</td>\n      <td>4789</td>\n      <td>ClinGen:CA114117,UniProtKB:P04275#VAR_005813,O...</td>\n      <td>C/T</td>\n      <td>Arg1597Trp</td>\n      <td>Arg</td>\n      <td>1597</td>\n      <td>Trp</td>\n      <td>NM_000552.5</td>\n      <td>NP_000543.3</td>\n      <td>NaN</td>\n    </tr>\n    <tr>\n      <th>280</th>\n      <td>NM_000552.5(VWF):c.4820T&gt;A (p.Val1607Asp)</td>\n      <td>7450</td>\n      <td>VWF</td>\n      <td>GRCh37</td>\n      <td>Pathogenic</td>\n      <td>no assertion criteria provided</td>\n      <td>4820</td>\n      <td>ClinGen:CA114119,UniProtKB:P04275#VAR_005814,O...</td>\n      <td>T/A</td>\n      <td>Val1607Asp</td>\n      <td>Val</td>\n      <td>1607</td>\n      <td>Asp</td>\n      <td>NM_000552.5</td>\n      <td>NP_000543.3</td>\n      <td>NaN</td>\n    </tr>\n    <tr>\n      <th>...</th>\n      <td>...</td>\n      <td>...</td>\n      <td>...</td>\n      <td>...</td>\n      <td>...</td>\n      <td>...</td>\n      <td>...</td>\n      <td>...</td>\n      <td>...</td>\n      <td>...</td>\n      <td>...</td>\n      <td>...</td>\n      <td>...</td>\n      <td>...</td>\n      <td>...</td>\n      <td>...</td>\n    </tr>\n    <tr>\n      <th>566581</th>\n      <td>NM_000029.4(AGT):c.58A&gt;C (p.Thr20Pro)</td>\n      <td>183</td>\n      <td>AGT</td>\n      <td>GRCh38</td>\n      <td>Uncertain significance</td>\n      <td>criteria provided, single submitter</td>\n      <td>58</td>\n      <td>-</td>\n      <td>A/C</td>\n      <td>Thr20Pro</td>\n      <td>Thr</td>\n      <td>20</td>\n      <td>Pro</td>\n      <td>NM_000029.4</td>\n      <td>NaN</td>\n      <td>NaN</td>\n    </tr>\n    <tr>\n      <th>566582</th>\n      <td>NM_000029.4(AGT):c.28A&gt;T (p.Met10Leu)</td>\n      <td>183</td>\n      <td>AGT</td>\n      <td>GRCh37</td>\n      <td>Likely benign</td>\n      <td>criteria provided, single submitter</td>\n      <td>28</td>\n      <td>-</td>\n      <td>A/T</td>\n      <td>Met10Leu</td>\n      <td>Met</td>\n      <td>10</td>\n      <td>Leu</td>\n      <td>NM_000029.4</td>\n      <td>NaN</td>\n      <td>NaN</td>\n    </tr>\n    <tr>\n      <th>566583</th>\n      <td>NM_000029.4(AGT):c.28A&gt;T (p.Met10Leu)</td>\n      <td>183</td>\n      <td>AGT</td>\n      <td>GRCh38</td>\n      <td>Likely benign</td>\n      <td>criteria provided, single submitter</td>\n      <td>28</td>\n      <td>-</td>\n      <td>A/T</td>\n      <td>Met10Leu</td>\n      <td>Met</td>\n      <td>10</td>\n      <td>Leu</td>\n      <td>NM_000029.4</td>\n      <td>NaN</td>\n      <td>NaN</td>\n    </tr>\n    <tr>\n      <th>737200</th>\n      <td>NM_001165927.1(MKS1):c.32G&gt;C (p.Arg11Pro)</td>\n      <td>54903</td>\n      <td>MKS1</td>\n      <td>GRCh37</td>\n      <td>Uncertain significance</td>\n      <td>criteria provided, single submitter</td>\n      <td>32</td>\n      <td>-</td>\n      <td>G/C</td>\n      <td>Arg11Pro</td>\n      <td>Arg</td>\n      <td>11</td>\n      <td>Pro</td>\n      <td>NM_001165927.1</td>\n      <td>NaN</td>\n      <td>NaN</td>\n    </tr>\n    <tr>\n      <th>737201</th>\n      <td>NM_001165927.1(MKS1):c.32G&gt;C (p.Arg11Pro)</td>\n      <td>54903</td>\n      <td>MKS1</td>\n      <td>GRCh38</td>\n      <td>Uncertain significance</td>\n      <td>criteria provided, single submitter</td>\n      <td>32</td>\n      <td>-</td>\n      <td>G/C</td>\n      <td>Arg11Pro</td>\n      <td>Arg</td>\n      <td>11</td>\n      <td>Pro</td>\n      <td>NM_001165927.1</td>\n      <td>NaN</td>\n      <td>NaN</td>\n    </tr>\n  </tbody>\n</table>\n<p>156633 rows × 16 columns</p>\n</div>"
     },
     "execution_count": 69,
     "metadata": {},
     "output_type": "execute_result"
    }
   ],
   "source": [
    "# using GeneID mapping strategy later (ABANDON)\n",
    "# EXTRACT uniprot from OtherIDs first\n",
    "no_np_mapping = uniprot_id_mapping_merge1[uniprot_id_mapping_merge1['UniProtKB-AC'].isnull()]\n",
    "no_nm_mapping = df_merged[df_merged['protein_id'].isnull()]\n",
    "re_mapping = pd.concat([no_np_mapping, no_nm_mapping])\n",
    "re_mapping"
   ],
   "metadata": {
    "collapsed": false,
    "pycharm": {
     "name": "#%%\n"
    }
   }
  },
  {
   "cell_type": "code",
   "execution_count": 70,
   "outputs": [
    {
     "data": {
      "text/plain": "                                              Name  GeneID GeneSymbol  \\\n276      NM_000552.5(VWF):c.4883T>C (p.Ile1628Thr)    7450        VWF   \n277      NM_000552.5(VWF):c.4883T>C (p.Ile1628Thr)    7450        VWF   \n278      NM_000552.5(VWF):c.4789C>T (p.Arg1597Trp)    7450        VWF   \n279      NM_000552.5(VWF):c.4789C>T (p.Arg1597Trp)    7450        VWF   \n280      NM_000552.5(VWF):c.4820T>A (p.Val1607Asp)    7450        VWF   \n...                                            ...     ...        ...   \n47785   NM_002730.3(PRKACA):c.617T>G (p.Leu206Arg)    5566     PRKACA   \n57060     NM_000520.4(HEXA):c.745C>T (p.Arg249Trp)    3073       HEXA   \n57061     NM_000520.4(HEXA):c.745C>T (p.Arg249Trp)    3073       HEXA   \n164054     NM_000029.4(AGT):c.620C>T (p.Thr207Met)     183        AGT   \n164055     NM_000029.4(AGT):c.620C>T (p.Thr207Met)     183        AGT   \n\n       Assembly          ClinicalSignificance  \\\n276      GRCh37                    Pathogenic   \n277      GRCh38                    Pathogenic   \n278      GRCh37  Pathogenic/Likely pathogenic   \n279      GRCh38  Pathogenic/Likely pathogenic   \n280      GRCh37                    Pathogenic   \n...         ...                           ...   \n47785    GRCh38  Pathogenic/Likely pathogenic   \n57060    GRCh37                 Benign; other   \n57061    GRCh38                 Benign; other   \n164054   GRCh37                        Benign   \n164055   GRCh38                        Benign   \n\n                                             ReviewStatus  CDS_position  \\\n276     criteria provided, multiple submitters, no con...          4883   \n277     criteria provided, multiple submitters, no con...          4883   \n278     criteria provided, multiple submitters, no con...          4789   \n279     criteria provided, multiple submitters, no con...          4789   \n280                        no assertion criteria provided          4820   \n...                                                   ...           ...   \n47785                      no assertion criteria provided           617   \n57060   criteria provided, multiple submitters, no con...           745   \n57061   criteria provided, multiple submitters, no con...           745   \n164054  criteria provided, multiple submitters, no con...           620   \n164055  criteria provided, multiple submitters, no con...           620   \n\n                                                 OtherIDs AlleleChange  \\\n276     ClinGen:CA114115,UniProtKB:P04275#VAR_005817,O...          T/C   \n277     ClinGen:CA114115,UniProtKB:P04275#VAR_005817,O...          T/C   \n278     ClinGen:CA114117,UniProtKB:P04275#VAR_005813,O...          C/T   \n279     ClinGen:CA114117,UniProtKB:P04275#VAR_005813,O...          C/T   \n280     ClinGen:CA114119,UniProtKB:P04275#VAR_005814,O...          T/A   \n...                                                   ...          ...   \n47785   ClinGen:CA215006,UniProtKB:P17612#VAR_071707,O...          T/G   \n57060        ClinGen:CA276005,UniProtKB:P06865#VAR_003220          C/T   \n57061        ClinGen:CA276005,UniProtKB:P06865#VAR_003220          C/T   \n164054      ClinGen:CA1448272,UniProtKB:P01019#VAR_007093          C/T   \n164055      ClinGen:CA1448272,UniProtKB:P01019#VAR_007093          C/T   \n\n       Protein_Patterns Amino_acids_before_3letters  Protein_positions  \\\n276          Ile1628Thr                         Ile               1628   \n277          Ile1628Thr                         Ile               1628   \n278          Arg1597Trp                         Arg               1597   \n279          Arg1597Trp                         Arg               1597   \n280          Val1607Asp                         Val               1607   \n...                 ...                         ...                ...   \n47785         Leu206Arg                         Leu                206   \n57060         Arg249Trp                         Arg                249   \n57061         Arg249Trp                         Arg                249   \n164054        Thr207Met                         Thr                207   \n164055        Thr207Met                         Thr                207   \n\n       Amino_acids_after_3letters        NM_ID   protein_id UniProtKB-AC  \n276                           Thr  NM_000552.5  NP_000543.3          NaN  \n277                           Thr  NM_000552.5  NP_000543.3          NaN  \n278                           Trp  NM_000552.5  NP_000543.3          NaN  \n279                           Trp  NM_000552.5  NP_000543.3          NaN  \n280                           Asp  NM_000552.5  NP_000543.3          NaN  \n...                           ...          ...          ...          ...  \n47785                         Arg  NM_002730.3          NaN          NaN  \n57060                         Trp  NM_000520.4          NaN          NaN  \n57061                         Trp  NM_000520.4          NaN          NaN  \n164054                        Met  NM_000029.4          NaN          NaN  \n164055                        Met  NM_000029.4          NaN          NaN  \n\n[3084 rows x 16 columns]",
      "text/html": "<div>\n<style scoped>\n    .dataframe tbody tr th:only-of-type {\n        vertical-align: middle;\n    }\n\n    .dataframe tbody tr th {\n        vertical-align: top;\n    }\n\n    .dataframe thead th {\n        text-align: right;\n    }\n</style>\n<table border=\"1\" class=\"dataframe\">\n  <thead>\n    <tr style=\"text-align: right;\">\n      <th></th>\n      <th>Name</th>\n      <th>GeneID</th>\n      <th>GeneSymbol</th>\n      <th>Assembly</th>\n      <th>ClinicalSignificance</th>\n      <th>ReviewStatus</th>\n      <th>CDS_position</th>\n      <th>OtherIDs</th>\n      <th>AlleleChange</th>\n      <th>Protein_Patterns</th>\n      <th>Amino_acids_before_3letters</th>\n      <th>Protein_positions</th>\n      <th>Amino_acids_after_3letters</th>\n      <th>NM_ID</th>\n      <th>protein_id</th>\n      <th>UniProtKB-AC</th>\n    </tr>\n  </thead>\n  <tbody>\n    <tr>\n      <th>276</th>\n      <td>NM_000552.5(VWF):c.4883T&gt;C (p.Ile1628Thr)</td>\n      <td>7450</td>\n      <td>VWF</td>\n      <td>GRCh37</td>\n      <td>Pathogenic</td>\n      <td>criteria provided, multiple submitters, no con...</td>\n      <td>4883</td>\n      <td>ClinGen:CA114115,UniProtKB:P04275#VAR_005817,O...</td>\n      <td>T/C</td>\n      <td>Ile1628Thr</td>\n      <td>Ile</td>\n      <td>1628</td>\n      <td>Thr</td>\n      <td>NM_000552.5</td>\n      <td>NP_000543.3</td>\n      <td>NaN</td>\n    </tr>\n    <tr>\n      <th>277</th>\n      <td>NM_000552.5(VWF):c.4883T&gt;C (p.Ile1628Thr)</td>\n      <td>7450</td>\n      <td>VWF</td>\n      <td>GRCh38</td>\n      <td>Pathogenic</td>\n      <td>criteria provided, multiple submitters, no con...</td>\n      <td>4883</td>\n      <td>ClinGen:CA114115,UniProtKB:P04275#VAR_005817,O...</td>\n      <td>T/C</td>\n      <td>Ile1628Thr</td>\n      <td>Ile</td>\n      <td>1628</td>\n      <td>Thr</td>\n      <td>NM_000552.5</td>\n      <td>NP_000543.3</td>\n      <td>NaN</td>\n    </tr>\n    <tr>\n      <th>278</th>\n      <td>NM_000552.5(VWF):c.4789C&gt;T (p.Arg1597Trp)</td>\n      <td>7450</td>\n      <td>VWF</td>\n      <td>GRCh37</td>\n      <td>Pathogenic/Likely pathogenic</td>\n      <td>criteria provided, multiple submitters, no con...</td>\n      <td>4789</td>\n      <td>ClinGen:CA114117,UniProtKB:P04275#VAR_005813,O...</td>\n      <td>C/T</td>\n      <td>Arg1597Trp</td>\n      <td>Arg</td>\n      <td>1597</td>\n      <td>Trp</td>\n      <td>NM_000552.5</td>\n      <td>NP_000543.3</td>\n      <td>NaN</td>\n    </tr>\n    <tr>\n      <th>279</th>\n      <td>NM_000552.5(VWF):c.4789C&gt;T (p.Arg1597Trp)</td>\n      <td>7450</td>\n      <td>VWF</td>\n      <td>GRCh38</td>\n      <td>Pathogenic/Likely pathogenic</td>\n      <td>criteria provided, multiple submitters, no con...</td>\n      <td>4789</td>\n      <td>ClinGen:CA114117,UniProtKB:P04275#VAR_005813,O...</td>\n      <td>C/T</td>\n      <td>Arg1597Trp</td>\n      <td>Arg</td>\n      <td>1597</td>\n      <td>Trp</td>\n      <td>NM_000552.5</td>\n      <td>NP_000543.3</td>\n      <td>NaN</td>\n    </tr>\n    <tr>\n      <th>280</th>\n      <td>NM_000552.5(VWF):c.4820T&gt;A (p.Val1607Asp)</td>\n      <td>7450</td>\n      <td>VWF</td>\n      <td>GRCh37</td>\n      <td>Pathogenic</td>\n      <td>no assertion criteria provided</td>\n      <td>4820</td>\n      <td>ClinGen:CA114119,UniProtKB:P04275#VAR_005814,O...</td>\n      <td>T/A</td>\n      <td>Val1607Asp</td>\n      <td>Val</td>\n      <td>1607</td>\n      <td>Asp</td>\n      <td>NM_000552.5</td>\n      <td>NP_000543.3</td>\n      <td>NaN</td>\n    </tr>\n    <tr>\n      <th>...</th>\n      <td>...</td>\n      <td>...</td>\n      <td>...</td>\n      <td>...</td>\n      <td>...</td>\n      <td>...</td>\n      <td>...</td>\n      <td>...</td>\n      <td>...</td>\n      <td>...</td>\n      <td>...</td>\n      <td>...</td>\n      <td>...</td>\n      <td>...</td>\n      <td>...</td>\n      <td>...</td>\n    </tr>\n    <tr>\n      <th>47785</th>\n      <td>NM_002730.3(PRKACA):c.617T&gt;G (p.Leu206Arg)</td>\n      <td>5566</td>\n      <td>PRKACA</td>\n      <td>GRCh38</td>\n      <td>Pathogenic/Likely pathogenic</td>\n      <td>no assertion criteria provided</td>\n      <td>617</td>\n      <td>ClinGen:CA215006,UniProtKB:P17612#VAR_071707,O...</td>\n      <td>T/G</td>\n      <td>Leu206Arg</td>\n      <td>Leu</td>\n      <td>206</td>\n      <td>Arg</td>\n      <td>NM_002730.3</td>\n      <td>NaN</td>\n      <td>NaN</td>\n    </tr>\n    <tr>\n      <th>57060</th>\n      <td>NM_000520.4(HEXA):c.745C&gt;T (p.Arg249Trp)</td>\n      <td>3073</td>\n      <td>HEXA</td>\n      <td>GRCh37</td>\n      <td>Benign; other</td>\n      <td>criteria provided, multiple submitters, no con...</td>\n      <td>745</td>\n      <td>ClinGen:CA276005,UniProtKB:P06865#VAR_003220</td>\n      <td>C/T</td>\n      <td>Arg249Trp</td>\n      <td>Arg</td>\n      <td>249</td>\n      <td>Trp</td>\n      <td>NM_000520.4</td>\n      <td>NaN</td>\n      <td>NaN</td>\n    </tr>\n    <tr>\n      <th>57061</th>\n      <td>NM_000520.4(HEXA):c.745C&gt;T (p.Arg249Trp)</td>\n      <td>3073</td>\n      <td>HEXA</td>\n      <td>GRCh38</td>\n      <td>Benign; other</td>\n      <td>criteria provided, multiple submitters, no con...</td>\n      <td>745</td>\n      <td>ClinGen:CA276005,UniProtKB:P06865#VAR_003220</td>\n      <td>C/T</td>\n      <td>Arg249Trp</td>\n      <td>Arg</td>\n      <td>249</td>\n      <td>Trp</td>\n      <td>NM_000520.4</td>\n      <td>NaN</td>\n      <td>NaN</td>\n    </tr>\n    <tr>\n      <th>164054</th>\n      <td>NM_000029.4(AGT):c.620C&gt;T (p.Thr207Met)</td>\n      <td>183</td>\n      <td>AGT</td>\n      <td>GRCh37</td>\n      <td>Benign</td>\n      <td>criteria provided, multiple submitters, no con...</td>\n      <td>620</td>\n      <td>ClinGen:CA1448272,UniProtKB:P01019#VAR_007093</td>\n      <td>C/T</td>\n      <td>Thr207Met</td>\n      <td>Thr</td>\n      <td>207</td>\n      <td>Met</td>\n      <td>NM_000029.4</td>\n      <td>NaN</td>\n      <td>NaN</td>\n    </tr>\n    <tr>\n      <th>164055</th>\n      <td>NM_000029.4(AGT):c.620C&gt;T (p.Thr207Met)</td>\n      <td>183</td>\n      <td>AGT</td>\n      <td>GRCh38</td>\n      <td>Benign</td>\n      <td>criteria provided, multiple submitters, no con...</td>\n      <td>620</td>\n      <td>ClinGen:CA1448272,UniProtKB:P01019#VAR_007093</td>\n      <td>C/T</td>\n      <td>Thr207Met</td>\n      <td>Thr</td>\n      <td>207</td>\n      <td>Met</td>\n      <td>NM_000029.4</td>\n      <td>NaN</td>\n      <td>NaN</td>\n    </tr>\n  </tbody>\n</table>\n<p>3084 rows × 16 columns</p>\n</div>"
     },
     "execution_count": 70,
     "metadata": {},
     "output_type": "execute_result"
    }
   ],
   "source": [
    "df_p = re_mapping[re_mapping['OtherIDs'].str.contains('UniProtKB')]\n",
    "df_p"
   ],
   "metadata": {
    "collapsed": false,
    "pycharm": {
     "name": "#%%\n"
    }
   }
  },
  {
   "cell_type": "code",
   "execution_count": 71,
   "outputs": [
    {
     "name": "stderr",
     "output_type": "stream",
     "text": [
      "/var/tmp/pbs.498551.hn-10-03/ipykernel_17774/1836605064.py:4: SettingWithCopyWarning: \n",
      "A value is trying to be set on a copy of a slice from a DataFrame.\n",
      "Try using .loc[row_indexer,col_indexer] = value instead\n",
      "\n",
      "See the caveats in the documentation: https://pandas.pydata.org/pandas-docs/stable/user_guide/indexing.html#returning-a-view-versus-a-copy\n",
      "  df_p['UniProtKB-AC'] = df_p['OtherIDs'].str.extract(uniprot_id_regex)\n",
      "/var/tmp/pbs.498551.hn-10-03/ipykernel_17774/1836605064.py:5: SettingWithCopyWarning: \n",
      "A value is trying to be set on a copy of a slice from a DataFrame.\n",
      "Try using .loc[row_indexer,col_indexer] = value instead\n",
      "\n",
      "See the caveats in the documentation: https://pandas.pydata.org/pandas-docs/stable/user_guide/indexing.html#returning-a-view-versus-a-copy\n",
      "  df_p['variant_id'] = df_p['OtherIDs'].str.extract(variant_id_regex).fillna('NA')\n"
     ]
    },
    {
     "data": {
      "text/plain": "                                              Name  GeneID GeneSymbol  \\\n276      NM_000552.5(VWF):c.4883T>C (p.Ile1628Thr)    7450        VWF   \n277      NM_000552.5(VWF):c.4883T>C (p.Ile1628Thr)    7450        VWF   \n278      NM_000552.5(VWF):c.4789C>T (p.Arg1597Trp)    7450        VWF   \n279      NM_000552.5(VWF):c.4789C>T (p.Arg1597Trp)    7450        VWF   \n280      NM_000552.5(VWF):c.4820T>A (p.Val1607Asp)    7450        VWF   \n...                                            ...     ...        ...   \n47785   NM_002730.3(PRKACA):c.617T>G (p.Leu206Arg)    5566     PRKACA   \n57060     NM_000520.4(HEXA):c.745C>T (p.Arg249Trp)    3073       HEXA   \n57061     NM_000520.4(HEXA):c.745C>T (p.Arg249Trp)    3073       HEXA   \n164054     NM_000029.4(AGT):c.620C>T (p.Thr207Met)     183        AGT   \n164055     NM_000029.4(AGT):c.620C>T (p.Thr207Met)     183        AGT   \n\n       Assembly          ClinicalSignificance  \\\n276      GRCh37                    Pathogenic   \n277      GRCh38                    Pathogenic   \n278      GRCh37  Pathogenic/Likely pathogenic   \n279      GRCh38  Pathogenic/Likely pathogenic   \n280      GRCh37                    Pathogenic   \n...         ...                           ...   \n47785    GRCh38  Pathogenic/Likely pathogenic   \n57060    GRCh37                 Benign; other   \n57061    GRCh38                 Benign; other   \n164054   GRCh37                        Benign   \n164055   GRCh38                        Benign   \n\n                                             ReviewStatus  CDS_position  \\\n276     criteria provided, multiple submitters, no con...          4883   \n277     criteria provided, multiple submitters, no con...          4883   \n278     criteria provided, multiple submitters, no con...          4789   \n279     criteria provided, multiple submitters, no con...          4789   \n280                        no assertion criteria provided          4820   \n...                                                   ...           ...   \n47785                      no assertion criteria provided           617   \n57060   criteria provided, multiple submitters, no con...           745   \n57061   criteria provided, multiple submitters, no con...           745   \n164054  criteria provided, multiple submitters, no con...           620   \n164055  criteria provided, multiple submitters, no con...           620   \n\n                                                 OtherIDs AlleleChange  \\\n276     ClinGen:CA114115,UniProtKB:P04275#VAR_005817,O...          T/C   \n277     ClinGen:CA114115,UniProtKB:P04275#VAR_005817,O...          T/C   \n278     ClinGen:CA114117,UniProtKB:P04275#VAR_005813,O...          C/T   \n279     ClinGen:CA114117,UniProtKB:P04275#VAR_005813,O...          C/T   \n280     ClinGen:CA114119,UniProtKB:P04275#VAR_005814,O...          T/A   \n...                                                   ...          ...   \n47785   ClinGen:CA215006,UniProtKB:P17612#VAR_071707,O...          T/G   \n57060        ClinGen:CA276005,UniProtKB:P06865#VAR_003220          C/T   \n57061        ClinGen:CA276005,UniProtKB:P06865#VAR_003220          C/T   \n164054      ClinGen:CA1448272,UniProtKB:P01019#VAR_007093          C/T   \n164055      ClinGen:CA1448272,UniProtKB:P01019#VAR_007093          C/T   \n\n       Protein_Patterns Amino_acids_before_3letters  Protein_positions  \\\n276          Ile1628Thr                         Ile               1628   \n277          Ile1628Thr                         Ile               1628   \n278          Arg1597Trp                         Arg               1597   \n279          Arg1597Trp                         Arg               1597   \n280          Val1607Asp                         Val               1607   \n...                 ...                         ...                ...   \n47785         Leu206Arg                         Leu                206   \n57060         Arg249Trp                         Arg                249   \n57061         Arg249Trp                         Arg                249   \n164054        Thr207Met                         Thr                207   \n164055        Thr207Met                         Thr                207   \n\n       Amino_acids_after_3letters        NM_ID   protein_id UniProtKB-AC  \\\n276                           Thr  NM_000552.5  NP_000543.3       P04275   \n277                           Thr  NM_000552.5  NP_000543.3       P04275   \n278                           Trp  NM_000552.5  NP_000543.3       P04275   \n279                           Trp  NM_000552.5  NP_000543.3       P04275   \n280                           Asp  NM_000552.5  NP_000543.3       P04275   \n...                           ...          ...          ...          ...   \n47785                         Arg  NM_002730.3          NaN       P17612   \n57060                         Trp  NM_000520.4          NaN       P06865   \n57061                         Trp  NM_000520.4          NaN       P06865   \n164054                        Met  NM_000029.4          NaN       P01019   \n164055                        Met  NM_000029.4          NaN       P01019   \n\n        variant_id  \n276     VAR_005817  \n277     VAR_005817  \n278     VAR_005813  \n279     VAR_005813  \n280     VAR_005814  \n...            ...  \n47785   VAR_071707  \n57060   VAR_003220  \n57061   VAR_003220  \n164054  VAR_007093  \n164055  VAR_007093  \n\n[3084 rows x 17 columns]",
      "text/html": "<div>\n<style scoped>\n    .dataframe tbody tr th:only-of-type {\n        vertical-align: middle;\n    }\n\n    .dataframe tbody tr th {\n        vertical-align: top;\n    }\n\n    .dataframe thead th {\n        text-align: right;\n    }\n</style>\n<table border=\"1\" class=\"dataframe\">\n  <thead>\n    <tr style=\"text-align: right;\">\n      <th></th>\n      <th>Name</th>\n      <th>GeneID</th>\n      <th>GeneSymbol</th>\n      <th>Assembly</th>\n      <th>ClinicalSignificance</th>\n      <th>ReviewStatus</th>\n      <th>CDS_position</th>\n      <th>OtherIDs</th>\n      <th>AlleleChange</th>\n      <th>Protein_Patterns</th>\n      <th>Amino_acids_before_3letters</th>\n      <th>Protein_positions</th>\n      <th>Amino_acids_after_3letters</th>\n      <th>NM_ID</th>\n      <th>protein_id</th>\n      <th>UniProtKB-AC</th>\n      <th>variant_id</th>\n    </tr>\n  </thead>\n  <tbody>\n    <tr>\n      <th>276</th>\n      <td>NM_000552.5(VWF):c.4883T&gt;C (p.Ile1628Thr)</td>\n      <td>7450</td>\n      <td>VWF</td>\n      <td>GRCh37</td>\n      <td>Pathogenic</td>\n      <td>criteria provided, multiple submitters, no con...</td>\n      <td>4883</td>\n      <td>ClinGen:CA114115,UniProtKB:P04275#VAR_005817,O...</td>\n      <td>T/C</td>\n      <td>Ile1628Thr</td>\n      <td>Ile</td>\n      <td>1628</td>\n      <td>Thr</td>\n      <td>NM_000552.5</td>\n      <td>NP_000543.3</td>\n      <td>P04275</td>\n      <td>VAR_005817</td>\n    </tr>\n    <tr>\n      <th>277</th>\n      <td>NM_000552.5(VWF):c.4883T&gt;C (p.Ile1628Thr)</td>\n      <td>7450</td>\n      <td>VWF</td>\n      <td>GRCh38</td>\n      <td>Pathogenic</td>\n      <td>criteria provided, multiple submitters, no con...</td>\n      <td>4883</td>\n      <td>ClinGen:CA114115,UniProtKB:P04275#VAR_005817,O...</td>\n      <td>T/C</td>\n      <td>Ile1628Thr</td>\n      <td>Ile</td>\n      <td>1628</td>\n      <td>Thr</td>\n      <td>NM_000552.5</td>\n      <td>NP_000543.3</td>\n      <td>P04275</td>\n      <td>VAR_005817</td>\n    </tr>\n    <tr>\n      <th>278</th>\n      <td>NM_000552.5(VWF):c.4789C&gt;T (p.Arg1597Trp)</td>\n      <td>7450</td>\n      <td>VWF</td>\n      <td>GRCh37</td>\n      <td>Pathogenic/Likely pathogenic</td>\n      <td>criteria provided, multiple submitters, no con...</td>\n      <td>4789</td>\n      <td>ClinGen:CA114117,UniProtKB:P04275#VAR_005813,O...</td>\n      <td>C/T</td>\n      <td>Arg1597Trp</td>\n      <td>Arg</td>\n      <td>1597</td>\n      <td>Trp</td>\n      <td>NM_000552.5</td>\n      <td>NP_000543.3</td>\n      <td>P04275</td>\n      <td>VAR_005813</td>\n    </tr>\n    <tr>\n      <th>279</th>\n      <td>NM_000552.5(VWF):c.4789C&gt;T (p.Arg1597Trp)</td>\n      <td>7450</td>\n      <td>VWF</td>\n      <td>GRCh38</td>\n      <td>Pathogenic/Likely pathogenic</td>\n      <td>criteria provided, multiple submitters, no con...</td>\n      <td>4789</td>\n      <td>ClinGen:CA114117,UniProtKB:P04275#VAR_005813,O...</td>\n      <td>C/T</td>\n      <td>Arg1597Trp</td>\n      <td>Arg</td>\n      <td>1597</td>\n      <td>Trp</td>\n      <td>NM_000552.5</td>\n      <td>NP_000543.3</td>\n      <td>P04275</td>\n      <td>VAR_005813</td>\n    </tr>\n    <tr>\n      <th>280</th>\n      <td>NM_000552.5(VWF):c.4820T&gt;A (p.Val1607Asp)</td>\n      <td>7450</td>\n      <td>VWF</td>\n      <td>GRCh37</td>\n      <td>Pathogenic</td>\n      <td>no assertion criteria provided</td>\n      <td>4820</td>\n      <td>ClinGen:CA114119,UniProtKB:P04275#VAR_005814,O...</td>\n      <td>T/A</td>\n      <td>Val1607Asp</td>\n      <td>Val</td>\n      <td>1607</td>\n      <td>Asp</td>\n      <td>NM_000552.5</td>\n      <td>NP_000543.3</td>\n      <td>P04275</td>\n      <td>VAR_005814</td>\n    </tr>\n    <tr>\n      <th>...</th>\n      <td>...</td>\n      <td>...</td>\n      <td>...</td>\n      <td>...</td>\n      <td>...</td>\n      <td>...</td>\n      <td>...</td>\n      <td>...</td>\n      <td>...</td>\n      <td>...</td>\n      <td>...</td>\n      <td>...</td>\n      <td>...</td>\n      <td>...</td>\n      <td>...</td>\n      <td>...</td>\n      <td>...</td>\n    </tr>\n    <tr>\n      <th>47785</th>\n      <td>NM_002730.3(PRKACA):c.617T&gt;G (p.Leu206Arg)</td>\n      <td>5566</td>\n      <td>PRKACA</td>\n      <td>GRCh38</td>\n      <td>Pathogenic/Likely pathogenic</td>\n      <td>no assertion criteria provided</td>\n      <td>617</td>\n      <td>ClinGen:CA215006,UniProtKB:P17612#VAR_071707,O...</td>\n      <td>T/G</td>\n      <td>Leu206Arg</td>\n      <td>Leu</td>\n      <td>206</td>\n      <td>Arg</td>\n      <td>NM_002730.3</td>\n      <td>NaN</td>\n      <td>P17612</td>\n      <td>VAR_071707</td>\n    </tr>\n    <tr>\n      <th>57060</th>\n      <td>NM_000520.4(HEXA):c.745C&gt;T (p.Arg249Trp)</td>\n      <td>3073</td>\n      <td>HEXA</td>\n      <td>GRCh37</td>\n      <td>Benign; other</td>\n      <td>criteria provided, multiple submitters, no con...</td>\n      <td>745</td>\n      <td>ClinGen:CA276005,UniProtKB:P06865#VAR_003220</td>\n      <td>C/T</td>\n      <td>Arg249Trp</td>\n      <td>Arg</td>\n      <td>249</td>\n      <td>Trp</td>\n      <td>NM_000520.4</td>\n      <td>NaN</td>\n      <td>P06865</td>\n      <td>VAR_003220</td>\n    </tr>\n    <tr>\n      <th>57061</th>\n      <td>NM_000520.4(HEXA):c.745C&gt;T (p.Arg249Trp)</td>\n      <td>3073</td>\n      <td>HEXA</td>\n      <td>GRCh38</td>\n      <td>Benign; other</td>\n      <td>criteria provided, multiple submitters, no con...</td>\n      <td>745</td>\n      <td>ClinGen:CA276005,UniProtKB:P06865#VAR_003220</td>\n      <td>C/T</td>\n      <td>Arg249Trp</td>\n      <td>Arg</td>\n      <td>249</td>\n      <td>Trp</td>\n      <td>NM_000520.4</td>\n      <td>NaN</td>\n      <td>P06865</td>\n      <td>VAR_003220</td>\n    </tr>\n    <tr>\n      <th>164054</th>\n      <td>NM_000029.4(AGT):c.620C&gt;T (p.Thr207Met)</td>\n      <td>183</td>\n      <td>AGT</td>\n      <td>GRCh37</td>\n      <td>Benign</td>\n      <td>criteria provided, multiple submitters, no con...</td>\n      <td>620</td>\n      <td>ClinGen:CA1448272,UniProtKB:P01019#VAR_007093</td>\n      <td>C/T</td>\n      <td>Thr207Met</td>\n      <td>Thr</td>\n      <td>207</td>\n      <td>Met</td>\n      <td>NM_000029.4</td>\n      <td>NaN</td>\n      <td>P01019</td>\n      <td>VAR_007093</td>\n    </tr>\n    <tr>\n      <th>164055</th>\n      <td>NM_000029.4(AGT):c.620C&gt;T (p.Thr207Met)</td>\n      <td>183</td>\n      <td>AGT</td>\n      <td>GRCh38</td>\n      <td>Benign</td>\n      <td>criteria provided, multiple submitters, no con...</td>\n      <td>620</td>\n      <td>ClinGen:CA1448272,UniProtKB:P01019#VAR_007093</td>\n      <td>C/T</td>\n      <td>Thr207Met</td>\n      <td>Thr</td>\n      <td>207</td>\n      <td>Met</td>\n      <td>NM_000029.4</td>\n      <td>NaN</td>\n      <td>P01019</td>\n      <td>VAR_007093</td>\n    </tr>\n  </tbody>\n</table>\n<p>3084 rows × 17 columns</p>\n</div>"
     },
     "execution_count": 71,
     "metadata": {},
     "output_type": "execute_result"
    }
   ],
   "source": [
    "# retrieve UniProtKB id from the OtherIDs column\n",
    "uniprot_id_regex = r'UniProtKB:(.+?)#VAR'\n",
    "variant_id_regex = r'(VAR_\\d+)'\n",
    "df_p['UniProtKB-AC'] = df_p['OtherIDs'].str.extract(uniprot_id_regex)\n",
    "df_p['variant_id'] = df_p['OtherIDs'].str.extract(variant_id_regex).fillna('NA')\n",
    "df_p"
   ],
   "metadata": {
    "collapsed": false,
    "pycharm": {
     "name": "#%%\n"
    }
   }
  },
  {
   "cell_type": "code",
   "execution_count": 72,
   "outputs": [
    {
     "data": {
      "text/plain": "                   Unnamed: 0 Gene_name Accession Variant_FTId  \\\n0      P04217/VAR_018369/A1BG      A1BG    P04217   VAR_018369   \n1      P04217/VAR_018370/A1BG      A1BG    P04217   VAR_018370   \n2      Q9NQ94/VAR_052201/A1CF      A1CF    Q9NQ94   VAR_052201   \n3      Q9NQ94/VAR_059821/A1CF      A1CF    Q9NQ94   VAR_059821   \n4       P01023/VAR_000012/A2M       A2M    P01023   VAR_000012   \n...                       ...       ...       ...          ...   \n80849     Q8N402/VAR_042675/-         -    Q8N402   VAR_042675   \n80850     Q96M66/VAR_039178/-         -    Q96M66   VAR_039178   \n80851     Q96M66/VAR_039179/-         -    Q96M66   VAR_039179   \n80852     Q9N2K0/VAR_017799/-         -    Q9N2K0   VAR_017799   \n80853     Q9N2K0/VAR_017800/-         -    Q9N2K0   VAR_017800   \n\n      Amino_acid_change Variant_category       dbSNP Disease_name  \\\n0            p.His52Arg             LB/B    rs893184            -   \n1           p.His395Arg             LB/B   rs2241788            -   \n2           p.Val555Met             LB/B      rs9073            -   \n3           p.Ala558Ser             LB/B  rs11817448            -   \n4           p.Arg704His             LB/B   rs1800434            -   \n...                 ...              ...         ...          ...   \n80849       p.Thr131Pro             LB/B   rs6519442            -   \n80850        p.Arg37His             LB/B    rs350229            -   \n80851       p.Arg171Ser             LB/B  rs11648228            -   \n80852        p.Val81Leu             LB/B           -            -   \n80853       p.Phe150Leu             LB/B           -            -   \n\n      Amino_acids_before_3letters  Protein_positions  \\\n0                             His                 52   \n1                             His                395   \n2                             Val                555   \n3                             Ala                558   \n4                             Arg                704   \n...                           ...                ...   \n80849                         Thr                131   \n80850                         Arg                 37   \n80851                         Arg                171   \n80852                         Val                 81   \n80853                         Phe                150   \n\n      Amino_acids_after_3letters Amino_acids_before Amino_acids_after  \\\n0                            Arg                  H                 R   \n1                            Arg                  H                 R   \n2                            Met                  V                 M   \n3                            Ser                  A                 S   \n4                            His                  R                 H   \n...                          ...                ...               ...   \n80849                        Pro                  T                 P   \n80850                        His                  R                 H   \n80851                        Ser                  R                 S   \n80852                        Leu                  V                 L   \n80853                        Leu                  F                 L   \n\n      Amino_acids  \n0             H/R  \n1             H/R  \n2             V/M  \n3             A/S  \n4             R/H  \n...           ...  \n80849         T/P  \n80850         R/H  \n80851         R/S  \n80852         V/L  \n80853         F/L  \n\n[80854 rows x 14 columns]",
      "text/html": "<div>\n<style scoped>\n    .dataframe tbody tr th:only-of-type {\n        vertical-align: middle;\n    }\n\n    .dataframe tbody tr th {\n        vertical-align: top;\n    }\n\n    .dataframe thead th {\n        text-align: right;\n    }\n</style>\n<table border=\"1\" class=\"dataframe\">\n  <thead>\n    <tr style=\"text-align: right;\">\n      <th></th>\n      <th>Unnamed: 0</th>\n      <th>Gene_name</th>\n      <th>Accession</th>\n      <th>Variant_FTId</th>\n      <th>Amino_acid_change</th>\n      <th>Variant_category</th>\n      <th>dbSNP</th>\n      <th>Disease_name</th>\n      <th>Amino_acids_before_3letters</th>\n      <th>Protein_positions</th>\n      <th>Amino_acids_after_3letters</th>\n      <th>Amino_acids_before</th>\n      <th>Amino_acids_after</th>\n      <th>Amino_acids</th>\n    </tr>\n  </thead>\n  <tbody>\n    <tr>\n      <th>0</th>\n      <td>P04217/VAR_018369/A1BG</td>\n      <td>A1BG</td>\n      <td>P04217</td>\n      <td>VAR_018369</td>\n      <td>p.His52Arg</td>\n      <td>LB/B</td>\n      <td>rs893184</td>\n      <td>-</td>\n      <td>His</td>\n      <td>52</td>\n      <td>Arg</td>\n      <td>H</td>\n      <td>R</td>\n      <td>H/R</td>\n    </tr>\n    <tr>\n      <th>1</th>\n      <td>P04217/VAR_018370/A1BG</td>\n      <td>A1BG</td>\n      <td>P04217</td>\n      <td>VAR_018370</td>\n      <td>p.His395Arg</td>\n      <td>LB/B</td>\n      <td>rs2241788</td>\n      <td>-</td>\n      <td>His</td>\n      <td>395</td>\n      <td>Arg</td>\n      <td>H</td>\n      <td>R</td>\n      <td>H/R</td>\n    </tr>\n    <tr>\n      <th>2</th>\n      <td>Q9NQ94/VAR_052201/A1CF</td>\n      <td>A1CF</td>\n      <td>Q9NQ94</td>\n      <td>VAR_052201</td>\n      <td>p.Val555Met</td>\n      <td>LB/B</td>\n      <td>rs9073</td>\n      <td>-</td>\n      <td>Val</td>\n      <td>555</td>\n      <td>Met</td>\n      <td>V</td>\n      <td>M</td>\n      <td>V/M</td>\n    </tr>\n    <tr>\n      <th>3</th>\n      <td>Q9NQ94/VAR_059821/A1CF</td>\n      <td>A1CF</td>\n      <td>Q9NQ94</td>\n      <td>VAR_059821</td>\n      <td>p.Ala558Ser</td>\n      <td>LB/B</td>\n      <td>rs11817448</td>\n      <td>-</td>\n      <td>Ala</td>\n      <td>558</td>\n      <td>Ser</td>\n      <td>A</td>\n      <td>S</td>\n      <td>A/S</td>\n    </tr>\n    <tr>\n      <th>4</th>\n      <td>P01023/VAR_000012/A2M</td>\n      <td>A2M</td>\n      <td>P01023</td>\n      <td>VAR_000012</td>\n      <td>p.Arg704His</td>\n      <td>LB/B</td>\n      <td>rs1800434</td>\n      <td>-</td>\n      <td>Arg</td>\n      <td>704</td>\n      <td>His</td>\n      <td>R</td>\n      <td>H</td>\n      <td>R/H</td>\n    </tr>\n    <tr>\n      <th>...</th>\n      <td>...</td>\n      <td>...</td>\n      <td>...</td>\n      <td>...</td>\n      <td>...</td>\n      <td>...</td>\n      <td>...</td>\n      <td>...</td>\n      <td>...</td>\n      <td>...</td>\n      <td>...</td>\n      <td>...</td>\n      <td>...</td>\n      <td>...</td>\n    </tr>\n    <tr>\n      <th>80849</th>\n      <td>Q8N402/VAR_042675/-</td>\n      <td>-</td>\n      <td>Q8N402</td>\n      <td>VAR_042675</td>\n      <td>p.Thr131Pro</td>\n      <td>LB/B</td>\n      <td>rs6519442</td>\n      <td>-</td>\n      <td>Thr</td>\n      <td>131</td>\n      <td>Pro</td>\n      <td>T</td>\n      <td>P</td>\n      <td>T/P</td>\n    </tr>\n    <tr>\n      <th>80850</th>\n      <td>Q96M66/VAR_039178/-</td>\n      <td>-</td>\n      <td>Q96M66</td>\n      <td>VAR_039178</td>\n      <td>p.Arg37His</td>\n      <td>LB/B</td>\n      <td>rs350229</td>\n      <td>-</td>\n      <td>Arg</td>\n      <td>37</td>\n      <td>His</td>\n      <td>R</td>\n      <td>H</td>\n      <td>R/H</td>\n    </tr>\n    <tr>\n      <th>80851</th>\n      <td>Q96M66/VAR_039179/-</td>\n      <td>-</td>\n      <td>Q96M66</td>\n      <td>VAR_039179</td>\n      <td>p.Arg171Ser</td>\n      <td>LB/B</td>\n      <td>rs11648228</td>\n      <td>-</td>\n      <td>Arg</td>\n      <td>171</td>\n      <td>Ser</td>\n      <td>R</td>\n      <td>S</td>\n      <td>R/S</td>\n    </tr>\n    <tr>\n      <th>80852</th>\n      <td>Q9N2K0/VAR_017799/-</td>\n      <td>-</td>\n      <td>Q9N2K0</td>\n      <td>VAR_017799</td>\n      <td>p.Val81Leu</td>\n      <td>LB/B</td>\n      <td>-</td>\n      <td>-</td>\n      <td>Val</td>\n      <td>81</td>\n      <td>Leu</td>\n      <td>V</td>\n      <td>L</td>\n      <td>V/L</td>\n    </tr>\n    <tr>\n      <th>80853</th>\n      <td>Q9N2K0/VAR_017800/-</td>\n      <td>-</td>\n      <td>Q9N2K0</td>\n      <td>VAR_017800</td>\n      <td>p.Phe150Leu</td>\n      <td>LB/B</td>\n      <td>-</td>\n      <td>-</td>\n      <td>Phe</td>\n      <td>150</td>\n      <td>Leu</td>\n      <td>F</td>\n      <td>L</td>\n      <td>F/L</td>\n    </tr>\n  </tbody>\n</table>\n<p>80854 rows × 14 columns</p>\n</div>"
     },
     "execution_count": 72,
     "metadata": {},
     "output_type": "execute_result"
    }
   ],
   "source": [
    "df_uniprot_VAR_mapping = pd.read_csv('./data/metas/uniprot_VAR_variant_mapping.csv')\n",
    "df_uniprot_VAR_mapping"
   ],
   "metadata": {
    "collapsed": false,
    "pycharm": {
     "name": "#%%\n"
    }
   }
  },
  {
   "cell_type": "code",
   "execution_count": 73,
   "outputs": [
    {
     "data": {
      "text/plain": "                                                Name  GeneID GeneSymbol  \\\n22402  NM_001366385.1(CARD14):c.349G>A (p.Gly117Ser)   79092     CARD14   \n22403  NM_001366385.1(CARD14):c.349G>A (p.Gly117Ser)   79092     CARD14   \n\n      Assembly ClinicalSignificance                         ReviewStatus  \\\n22402   GRCh37           Pathogenic  criteria provided, single submitter   \n22403   GRCh38           Pathogenic  criteria provided, single submitter   \n\n       CDS_position                                           OtherIDs  \\\n22402           349  ClinGen:CA129841,UniProtKB/Swiss-Prot:VAR_0682...   \n22403           349  ClinGen:CA129841,UniProtKB/Swiss-Prot:VAR_0682...   \n\n      AlleleChange Protein_Patterns Amino_acids_before_3letters  \\\n22402          G/A        Gly117Ser                         Gly   \n22403          G/A        Gly117Ser                         Gly   \n\n       Protein_positions Amino_acids_after_3letters           NM_ID  \\\n22402                117                        Ser  NM_001366385.1   \n22403                117                        Ser  NM_001366385.1   \n\n           protein_id UniProtKB-AC  variant_id  \n22402  NP_001353314.1          NaN  VAR_068224  \n22403  NP_001353314.1          NaN  VAR_068224  ",
      "text/html": "<div>\n<style scoped>\n    .dataframe tbody tr th:only-of-type {\n        vertical-align: middle;\n    }\n\n    .dataframe tbody tr th {\n        vertical-align: top;\n    }\n\n    .dataframe thead th {\n        text-align: right;\n    }\n</style>\n<table border=\"1\" class=\"dataframe\">\n  <thead>\n    <tr style=\"text-align: right;\">\n      <th></th>\n      <th>Name</th>\n      <th>GeneID</th>\n      <th>GeneSymbol</th>\n      <th>Assembly</th>\n      <th>ClinicalSignificance</th>\n      <th>ReviewStatus</th>\n      <th>CDS_position</th>\n      <th>OtherIDs</th>\n      <th>AlleleChange</th>\n      <th>Protein_Patterns</th>\n      <th>Amino_acids_before_3letters</th>\n      <th>Protein_positions</th>\n      <th>Amino_acids_after_3letters</th>\n      <th>NM_ID</th>\n      <th>protein_id</th>\n      <th>UniProtKB-AC</th>\n      <th>variant_id</th>\n    </tr>\n  </thead>\n  <tbody>\n    <tr>\n      <th>22402</th>\n      <td>NM_001366385.1(CARD14):c.349G&gt;A (p.Gly117Ser)</td>\n      <td>79092</td>\n      <td>CARD14</td>\n      <td>GRCh37</td>\n      <td>Pathogenic</td>\n      <td>criteria provided, single submitter</td>\n      <td>349</td>\n      <td>ClinGen:CA129841,UniProtKB/Swiss-Prot:VAR_0682...</td>\n      <td>G/A</td>\n      <td>Gly117Ser</td>\n      <td>Gly</td>\n      <td>117</td>\n      <td>Ser</td>\n      <td>NM_001366385.1</td>\n      <td>NP_001353314.1</td>\n      <td>NaN</td>\n      <td>VAR_068224</td>\n    </tr>\n    <tr>\n      <th>22403</th>\n      <td>NM_001366385.1(CARD14):c.349G&gt;A (p.Gly117Ser)</td>\n      <td>79092</td>\n      <td>CARD14</td>\n      <td>GRCh38</td>\n      <td>Pathogenic</td>\n      <td>criteria provided, single submitter</td>\n      <td>349</td>\n      <td>ClinGen:CA129841,UniProtKB/Swiss-Prot:VAR_0682...</td>\n      <td>G/A</td>\n      <td>Gly117Ser</td>\n      <td>Gly</td>\n      <td>117</td>\n      <td>Ser</td>\n      <td>NM_001366385.1</td>\n      <td>NP_001353314.1</td>\n      <td>NaN</td>\n      <td>VAR_068224</td>\n    </tr>\n  </tbody>\n</table>\n</div>"
     },
     "execution_count": 73,
     "metadata": {},
     "output_type": "execute_result"
    }
   ],
   "source": [
    "# the extra two sequence need special handling later\n",
    "df_extra_var_mapping = df_p[df_p['UniProtKB-AC'].isnull()]\n",
    "df_extra_var_mapping"
   ],
   "metadata": {
    "collapsed": false,
    "pycharm": {
     "name": "#%%\n"
    }
   }
  },
  {
   "cell_type": "code",
   "execution_count": 74,
   "outputs": [
    {
     "name": "stderr",
     "output_type": "stream",
     "text": [
      "/var/tmp/pbs.498551.hn-10-03/ipykernel_17774/1190709349.py:9: SettingWithCopyWarning: \n",
      "A value is trying to be set on a copy of a slice from a DataFrame.\n",
      "Try using .loc[row_indexer,col_indexer] = value instead\n",
      "\n",
      "See the caveats in the documentation: https://pandas.pydata.org/pandas-docs/stable/user_guide/indexing.html#returning-a-view-versus-a-copy\n",
      "  df_extra_var_mapping['UniProtKB-AC'] = retrieved_id\n"
     ]
    },
    {
     "data": {
      "text/plain": "                                                Name  GeneID GeneSymbol  \\\n22402  NM_001366385.1(CARD14):c.349G>A (p.Gly117Ser)   79092     CARD14   \n22403  NM_001366385.1(CARD14):c.349G>A (p.Gly117Ser)   79092     CARD14   \n\n      Assembly ClinicalSignificance                         ReviewStatus  \\\n22402   GRCh37           Pathogenic  criteria provided, single submitter   \n22403   GRCh38           Pathogenic  criteria provided, single submitter   \n\n       CDS_position                                           OtherIDs  \\\n22402           349  ClinGen:CA129841,UniProtKB/Swiss-Prot:VAR_0682...   \n22403           349  ClinGen:CA129841,UniProtKB/Swiss-Prot:VAR_0682...   \n\n      AlleleChange Protein_Patterns Amino_acids_before_3letters  \\\n22402          G/A        Gly117Ser                         Gly   \n22403          G/A        Gly117Ser                         Gly   \n\n       Protein_positions Amino_acids_after_3letters           NM_ID  \\\n22402                117                        Ser  NM_001366385.1   \n22403                117                        Ser  NM_001366385.1   \n\n           protein_id UniProtKB-AC  variant_id  \n22402  NP_001353314.1       Q9BXL6  VAR_068224  \n22403  NP_001353314.1       Q9BXL6  VAR_068224  ",
      "text/html": "<div>\n<style scoped>\n    .dataframe tbody tr th:only-of-type {\n        vertical-align: middle;\n    }\n\n    .dataframe tbody tr th {\n        vertical-align: top;\n    }\n\n    .dataframe thead th {\n        text-align: right;\n    }\n</style>\n<table border=\"1\" class=\"dataframe\">\n  <thead>\n    <tr style=\"text-align: right;\">\n      <th></th>\n      <th>Name</th>\n      <th>GeneID</th>\n      <th>GeneSymbol</th>\n      <th>Assembly</th>\n      <th>ClinicalSignificance</th>\n      <th>ReviewStatus</th>\n      <th>CDS_position</th>\n      <th>OtherIDs</th>\n      <th>AlleleChange</th>\n      <th>Protein_Patterns</th>\n      <th>Amino_acids_before_3letters</th>\n      <th>Protein_positions</th>\n      <th>Amino_acids_after_3letters</th>\n      <th>NM_ID</th>\n      <th>protein_id</th>\n      <th>UniProtKB-AC</th>\n      <th>variant_id</th>\n    </tr>\n  </thead>\n  <tbody>\n    <tr>\n      <th>22402</th>\n      <td>NM_001366385.1(CARD14):c.349G&gt;A (p.Gly117Ser)</td>\n      <td>79092</td>\n      <td>CARD14</td>\n      <td>GRCh37</td>\n      <td>Pathogenic</td>\n      <td>criteria provided, single submitter</td>\n      <td>349</td>\n      <td>ClinGen:CA129841,UniProtKB/Swiss-Prot:VAR_0682...</td>\n      <td>G/A</td>\n      <td>Gly117Ser</td>\n      <td>Gly</td>\n      <td>117</td>\n      <td>Ser</td>\n      <td>NM_001366385.1</td>\n      <td>NP_001353314.1</td>\n      <td>Q9BXL6</td>\n      <td>VAR_068224</td>\n    </tr>\n    <tr>\n      <th>22403</th>\n      <td>NM_001366385.1(CARD14):c.349G&gt;A (p.Gly117Ser)</td>\n      <td>79092</td>\n      <td>CARD14</td>\n      <td>GRCh38</td>\n      <td>Pathogenic</td>\n      <td>criteria provided, single submitter</td>\n      <td>349</td>\n      <td>ClinGen:CA129841,UniProtKB/Swiss-Prot:VAR_0682...</td>\n      <td>G/A</td>\n      <td>Gly117Ser</td>\n      <td>Gly</td>\n      <td>117</td>\n      <td>Ser</td>\n      <td>NM_001366385.1</td>\n      <td>NP_001353314.1</td>\n      <td>Q9BXL6</td>\n      <td>VAR_068224</td>\n    </tr>\n  </tbody>\n</table>\n</div>"
     },
     "execution_count": 74,
     "metadata": {},
     "output_type": "execute_result"
    }
   ],
   "source": [
    "for index, row in df_extra_var_mapping.iterrows():\n",
    "    var_id = row['variant_id']\n",
    "    a_b, a_p, a_a = row['Amino_acids_before_3letters'], row['Protein_positions'], row['Amino_acids_after_3letters']\n",
    "    retrieved_criteria = (df_uniprot_VAR_mapping['Variant_FTId'] == var_id) & \\\n",
    "                         (df_uniprot_VAR_mapping['Amino_acids_before_3letters'] == a_b) & \\\n",
    "                         (df_uniprot_VAR_mapping['Protein_positions'] == a_p) & \\\n",
    "                         (df_uniprot_VAR_mapping['Amino_acids_after_3letters'] == a_a)\n",
    "    retrieved_id = df_uniprot_VAR_mapping.loc[retrieved_criteria]['Accession'].values[0]\n",
    "    df_extra_var_mapping['UniProtKB-AC'] = retrieved_id\n",
    "df_extra_var_mapping"
   ],
   "metadata": {
    "collapsed": false,
    "pycharm": {
     "name": "#%%\n"
    }
   }
  },
  {
   "cell_type": "code",
   "execution_count": 75,
   "outputs": [
    {
     "data": {
      "text/plain": "                NM_ID UniProtKB-AC\n276       NM_000552.5       P04275\n432    NM_001042631.3       A6NFY7\n518    NM_001393500.2       Q8WZ04\n748    NM_001378615.1       Q9P2K1\n970    NM_001371596.2       Q8NHS3\n...               ...          ...\n18840     NM_000295.4       P01009\n18964     NM_000029.4       P01019\n34928     NM_003647.2       P52429\n47784     NM_002730.3       P17612\n57060     NM_000520.4       P06865\n\n[220 rows x 2 columns]",
      "text/html": "<div>\n<style scoped>\n    .dataframe tbody tr th:only-of-type {\n        vertical-align: middle;\n    }\n\n    .dataframe tbody tr th {\n        vertical-align: top;\n    }\n\n    .dataframe thead th {\n        text-align: right;\n    }\n</style>\n<table border=\"1\" class=\"dataframe\">\n  <thead>\n    <tr style=\"text-align: right;\">\n      <th></th>\n      <th>NM_ID</th>\n      <th>UniProtKB-AC</th>\n    </tr>\n  </thead>\n  <tbody>\n    <tr>\n      <th>276</th>\n      <td>NM_000552.5</td>\n      <td>P04275</td>\n    </tr>\n    <tr>\n      <th>432</th>\n      <td>NM_001042631.3</td>\n      <td>A6NFY7</td>\n    </tr>\n    <tr>\n      <th>518</th>\n      <td>NM_001393500.2</td>\n      <td>Q8WZ04</td>\n    </tr>\n    <tr>\n      <th>748</th>\n      <td>NM_001378615.1</td>\n      <td>Q9P2K1</td>\n    </tr>\n    <tr>\n      <th>970</th>\n      <td>NM_001371596.2</td>\n      <td>Q8NHS3</td>\n    </tr>\n    <tr>\n      <th>...</th>\n      <td>...</td>\n      <td>...</td>\n    </tr>\n    <tr>\n      <th>18840</th>\n      <td>NM_000295.4</td>\n      <td>P01009</td>\n    </tr>\n    <tr>\n      <th>18964</th>\n      <td>NM_000029.4</td>\n      <td>P01019</td>\n    </tr>\n    <tr>\n      <th>34928</th>\n      <td>NM_003647.2</td>\n      <td>P52429</td>\n    </tr>\n    <tr>\n      <th>47784</th>\n      <td>NM_002730.3</td>\n      <td>P17612</td>\n    </tr>\n    <tr>\n      <th>57060</th>\n      <td>NM_000520.4</td>\n      <td>P06865</td>\n    </tr>\n  </tbody>\n</table>\n<p>220 rows × 2 columns</p>\n</div>"
     },
     "execution_count": 75,
     "metadata": {},
     "output_type": "execute_result"
    }
   ],
   "source": [
    "# back mapping with known 3084 newly added protein-uniprot mappings\n",
    "back_mapping_id_list = pd.concat([df_p[df_p['UniProtKB-AC'].notnull()], df_extra_var_mapping])\n",
    "# use NM id since there are NM ids that is not mapped to NP id\n",
    "back_mapping_id_list = back_mapping_id_list[['NM_ID', 'UniProtKB-AC']]\n",
    "back_mapping_id_list.drop_duplicates(inplace=True)\n",
    "back_mapping_id_list"
   ],
   "metadata": {
    "collapsed": false,
    "pycharm": {
     "name": "#%%\n"
    }
   }
  },
  {
   "cell_type": "code",
   "execution_count": 76,
   "outputs": [
    {
     "data": {
      "text/plain": "                NM_ID UniProtKB-AC\n3840      NM_017739.4       Q8WZA1\n39034  NM_001243766.1       Q8WZA1",
      "text/html": "<div>\n<style scoped>\n    .dataframe tbody tr th:only-of-type {\n        vertical-align: middle;\n    }\n\n    .dataframe tbody tr th {\n        vertical-align: top;\n    }\n\n    .dataframe thead th {\n        text-align: right;\n    }\n</style>\n<table border=\"1\" class=\"dataframe\">\n  <thead>\n    <tr style=\"text-align: right;\">\n      <th></th>\n      <th>NM_ID</th>\n      <th>UniProtKB-AC</th>\n    </tr>\n  </thead>\n  <tbody>\n    <tr>\n      <th>3840</th>\n      <td>NM_017739.4</td>\n      <td>Q8WZA1</td>\n    </tr>\n    <tr>\n      <th>39034</th>\n      <td>NM_001243766.1</td>\n      <td>Q8WZA1</td>\n    </tr>\n  </tbody>\n</table>\n</div>"
     },
     "execution_count": 76,
     "metadata": {},
     "output_type": "execute_result"
    }
   ],
   "source": [
    "# check if there's any duplications\n",
    "back_mapping_id_list[back_mapping_id_list.duplicated(subset=['UniProtKB-AC'], keep=False)].sort_values('UniProtKB-AC')"
   ],
   "metadata": {
    "collapsed": false,
    "pycharm": {
     "name": "#%%\n"
    }
   }
  },
  {
   "cell_type": "code",
   "execution_count": 77,
   "outputs": [
    {
     "data": {
      "text/plain": "              NM_ID UniProtKB-AC             ID\n0       NM_000552.5       P04275  UPI00001AE7EE\n1    NM_001042631.3       A6NFY7  UPI0000161497\n2    NM_001393500.2       Q8WZ04  UPI00019150CB\n3    NM_001378615.1       Q9P2K1  UPI000023731A\n4    NM_001371596.2       Q8NHS3  UPI000004DAF1\n..              ...          ...            ...\n215     NM_000295.4       P01009  UPI000000CBEC\n216     NM_000029.4       P01019  UPI0000125B13\n217     NM_003647.2       P52429  UPI000012DD1F\n218     NM_002730.3       P17612  UPI0000001C8D\n219     NM_000520.4       P06865  UPI000013D798\n\n[220 rows x 3 columns]",
      "text/html": "<div>\n<style scoped>\n    .dataframe tbody tr th:only-of-type {\n        vertical-align: middle;\n    }\n\n    .dataframe tbody tr th {\n        vertical-align: top;\n    }\n\n    .dataframe thead th {\n        text-align: right;\n    }\n</style>\n<table border=\"1\" class=\"dataframe\">\n  <thead>\n    <tr style=\"text-align: right;\">\n      <th></th>\n      <th>NM_ID</th>\n      <th>UniProtKB-AC</th>\n      <th>ID</th>\n    </tr>\n  </thead>\n  <tbody>\n    <tr>\n      <th>0</th>\n      <td>NM_000552.5</td>\n      <td>P04275</td>\n      <td>UPI00001AE7EE</td>\n    </tr>\n    <tr>\n      <th>1</th>\n      <td>NM_001042631.3</td>\n      <td>A6NFY7</td>\n      <td>UPI0000161497</td>\n    </tr>\n    <tr>\n      <th>2</th>\n      <td>NM_001393500.2</td>\n      <td>Q8WZ04</td>\n      <td>UPI00019150CB</td>\n    </tr>\n    <tr>\n      <th>3</th>\n      <td>NM_001378615.1</td>\n      <td>Q9P2K1</td>\n      <td>UPI000023731A</td>\n    </tr>\n    <tr>\n      <th>4</th>\n      <td>NM_001371596.2</td>\n      <td>Q8NHS3</td>\n      <td>UPI000004DAF1</td>\n    </tr>\n    <tr>\n      <th>...</th>\n      <td>...</td>\n      <td>...</td>\n      <td>...</td>\n    </tr>\n    <tr>\n      <th>215</th>\n      <td>NM_000295.4</td>\n      <td>P01009</td>\n      <td>UPI000000CBEC</td>\n    </tr>\n    <tr>\n      <th>216</th>\n      <td>NM_000029.4</td>\n      <td>P01019</td>\n      <td>UPI0000125B13</td>\n    </tr>\n    <tr>\n      <th>217</th>\n      <td>NM_003647.2</td>\n      <td>P52429</td>\n      <td>UPI000012DD1F</td>\n    </tr>\n    <tr>\n      <th>218</th>\n      <td>NM_002730.3</td>\n      <td>P17612</td>\n      <td>UPI0000001C8D</td>\n    </tr>\n    <tr>\n      <th>219</th>\n      <td>NM_000520.4</td>\n      <td>P06865</td>\n      <td>UPI000013D798</td>\n    </tr>\n  </tbody>\n</table>\n<p>220 rows × 3 columns</p>\n</div>"
     },
     "execution_count": 77,
     "metadata": {},
     "output_type": "execute_result"
    }
   ],
   "source": [
    "# further check duplicates by mapping to UniParc\n",
    "# consider this as previously unidentified NM or NPs that lack uniprotkb annotation\n",
    "df_uniparc_crossmapping = pd.read_csv('./data/metas/unipac_uniprot_mapping.csv')\n",
    "uniparc_merging = pd.merge(back_mapping_id_list, df_uniparc_crossmapping, how='left', on='UniProtKB-AC')\n",
    "# checked no null entries\n",
    "uniparc_merging"
   ],
   "metadata": {
    "collapsed": false,
    "pycharm": {
     "name": "#%%\n"
    }
   }
  },
  {
   "cell_type": "code",
   "execution_count": 78,
   "outputs": [
    {
     "data": {
      "text/plain": "              NM_ID UniProtKB-AC\n0       NM_000552.5       P04275\n1    NM_001042631.3       A6NFY7\n2    NM_001393500.2       Q8WZ04\n3    NM_001378615.1       Q9P2K1\n4    NM_001371596.2       Q8NHS3\n..              ...          ...\n215     NM_000295.4       E9KL23\n216     NM_000029.4       B0ZBE2\n217     NM_003647.2       A1L4Q0\n218     NM_002730.3   A0A024R7J0\n219     NM_000520.4   A0A0S2Z3W3\n\n[220 rows x 2 columns]",
      "text/html": "<div>\n<style scoped>\n    .dataframe tbody tr th:only-of-type {\n        vertical-align: middle;\n    }\n\n    .dataframe tbody tr th {\n        vertical-align: top;\n    }\n\n    .dataframe thead th {\n        text-align: right;\n    }\n</style>\n<table border=\"1\" class=\"dataframe\">\n  <thead>\n    <tr style=\"text-align: right;\">\n      <th></th>\n      <th>NM_ID</th>\n      <th>UniProtKB-AC</th>\n    </tr>\n  </thead>\n  <tbody>\n    <tr>\n      <th>0</th>\n      <td>NM_000552.5</td>\n      <td>P04275</td>\n    </tr>\n    <tr>\n      <th>1</th>\n      <td>NM_001042631.3</td>\n      <td>A6NFY7</td>\n    </tr>\n    <tr>\n      <th>2</th>\n      <td>NM_001393500.2</td>\n      <td>Q8WZ04</td>\n    </tr>\n    <tr>\n      <th>3</th>\n      <td>NM_001378615.1</td>\n      <td>Q9P2K1</td>\n    </tr>\n    <tr>\n      <th>4</th>\n      <td>NM_001371596.2</td>\n      <td>Q8NHS3</td>\n    </tr>\n    <tr>\n      <th>...</th>\n      <td>...</td>\n      <td>...</td>\n    </tr>\n    <tr>\n      <th>215</th>\n      <td>NM_000295.4</td>\n      <td>E9KL23</td>\n    </tr>\n    <tr>\n      <th>216</th>\n      <td>NM_000029.4</td>\n      <td>B0ZBE2</td>\n    </tr>\n    <tr>\n      <th>217</th>\n      <td>NM_003647.2</td>\n      <td>A1L4Q0</td>\n    </tr>\n    <tr>\n      <th>218</th>\n      <td>NM_002730.3</td>\n      <td>A0A024R7J0</td>\n    </tr>\n    <tr>\n      <th>219</th>\n      <td>NM_000520.4</td>\n      <td>A0A0S2Z3W3</td>\n    </tr>\n  </tbody>\n</table>\n<p>220 rows × 2 columns</p>\n</div>"
     },
     "execution_count": 78,
     "metadata": {},
     "output_type": "execute_result"
    }
   ],
   "source": [
    "# get the existed used Uniprotkb accessions, avoid sequence duplicates\n",
    "df_uniparc_nodup = pd.read_csv('./data/metas/unipac_uniprot_rmdup.csv')\n",
    "uniparc_merging_no_dup = pd.merge(uniparc_merging, df_uniparc_nodup, how='left', on='ID')\n",
    "uniparc_merging_no_dup.drop(['UniProtKB-AC_x','ID'], axis=1, inplace=True)\n",
    "uniparc_merging_no_dup.rename(columns={'UniProtKB-AC_y': 'UniProtKB-AC'}, inplace=True)\n",
    "uniparc_merging_no_dup"
   ],
   "metadata": {
    "collapsed": false,
    "pycharm": {
     "name": "#%%\n"
    }
   }
  },
  {
   "cell_type": "code",
   "execution_count": 79,
   "outputs": [
    {
     "data": {
      "text/plain": "              NM_ID UniProtKB-AC\n27      NM_017739.4       Q8WZA1\n141  NM_001243766.1       Q8WZA1",
      "text/html": "<div>\n<style scoped>\n    .dataframe tbody tr th:only-of-type {\n        vertical-align: middle;\n    }\n\n    .dataframe tbody tr th {\n        vertical-align: top;\n    }\n\n    .dataframe thead th {\n        text-align: right;\n    }\n</style>\n<table border=\"1\" class=\"dataframe\">\n  <thead>\n    <tr style=\"text-align: right;\">\n      <th></th>\n      <th>NM_ID</th>\n      <th>UniProtKB-AC</th>\n    </tr>\n  </thead>\n  <tbody>\n    <tr>\n      <th>27</th>\n      <td>NM_017739.4</td>\n      <td>Q8WZA1</td>\n    </tr>\n    <tr>\n      <th>141</th>\n      <td>NM_001243766.1</td>\n      <td>Q8WZA1</td>\n    </tr>\n  </tbody>\n</table>\n</div>"
     },
     "execution_count": 79,
     "metadata": {},
     "output_type": "execute_result"
    }
   ],
   "source": [
    "uniparc_merging_no_dup[uniparc_merging_no_dup.duplicated(subset=['UniProtKB-AC'], keep=False)].sort_values('UniProtKB-AC')"
   ],
   "metadata": {
    "collapsed": false,
    "pycharm": {
     "name": "#%%\n"
    }
   }
  },
  {
   "cell_type": "code",
   "execution_count": 80,
   "outputs": [
    {
     "data": {
      "text/plain": "                                             Name  GeneID GeneSymbol Assembly  \\\n0       NM_000552.5(VWF):c.4883T>C (p.Ile1628Thr)    7450        VWF   GRCh37   \n1       NM_000552.5(VWF):c.4883T>C (p.Ile1628Thr)    7450        VWF   GRCh38   \n2       NM_000552.5(VWF):c.4789C>T (p.Arg1597Trp)    7450        VWF   GRCh37   \n3       NM_000552.5(VWF):c.4789C>T (p.Arg1597Trp)    7450        VWF   GRCh38   \n4       NM_000552.5(VWF):c.4820T>A (p.Val1607Asp)    7450        VWF   GRCh37   \n...                                           ...     ...        ...      ...   \n156628      NM_000029.4(AGT):c.58A>C (p.Thr20Pro)     183        AGT   GRCh38   \n156629      NM_000029.4(AGT):c.28A>T (p.Met10Leu)     183        AGT   GRCh37   \n156630      NM_000029.4(AGT):c.28A>T (p.Met10Leu)     183        AGT   GRCh38   \n156631  NM_001165927.1(MKS1):c.32G>C (p.Arg11Pro)   54903       MKS1   GRCh37   \n156632  NM_001165927.1(MKS1):c.32G>C (p.Arg11Pro)   54903       MKS1   GRCh38   \n\n                ClinicalSignificance  \\\n0                         Pathogenic   \n1                         Pathogenic   \n2       Pathogenic/Likely pathogenic   \n3       Pathogenic/Likely pathogenic   \n4                         Pathogenic   \n...                              ...   \n156628        Uncertain significance   \n156629                 Likely benign   \n156630                 Likely benign   \n156631        Uncertain significance   \n156632        Uncertain significance   \n\n                                             ReviewStatus  CDS_position  \\\n0       criteria provided, multiple submitters, no con...          4883   \n1       criteria provided, multiple submitters, no con...          4883   \n2       criteria provided, multiple submitters, no con...          4789   \n3       criteria provided, multiple submitters, no con...          4789   \n4                          no assertion criteria provided          4820   \n...                                                   ...           ...   \n156628                criteria provided, single submitter            58   \n156629                criteria provided, single submitter            28   \n156630                criteria provided, single submitter            28   \n156631                criteria provided, single submitter            32   \n156632                criteria provided, single submitter            32   \n\n                                                 OtherIDs AlleleChange  \\\n0       ClinGen:CA114115,UniProtKB:P04275#VAR_005817,O...          T/C   \n1       ClinGen:CA114115,UniProtKB:P04275#VAR_005817,O...          T/C   \n2       ClinGen:CA114117,UniProtKB:P04275#VAR_005813,O...          C/T   \n3       ClinGen:CA114117,UniProtKB:P04275#VAR_005813,O...          C/T   \n4       ClinGen:CA114119,UniProtKB:P04275#VAR_005814,O...          T/A   \n...                                                   ...          ...   \n156628                                                  -          A/C   \n156629                                                  -          A/T   \n156630                                                  -          A/T   \n156631                                                  -          G/C   \n156632                                                  -          G/C   \n\n       Protein_Patterns Amino_acids_before_3letters  Protein_positions  \\\n0            Ile1628Thr                         Ile               1628   \n1            Ile1628Thr                         Ile               1628   \n2            Arg1597Trp                         Arg               1597   \n3            Arg1597Trp                         Arg               1597   \n4            Val1607Asp                         Val               1607   \n...                 ...                         ...                ...   \n156628         Thr20Pro                         Thr                 20   \n156629         Met10Leu                         Met                 10   \n156630         Met10Leu                         Met                 10   \n156631         Arg11Pro                         Arg                 11   \n156632         Arg11Pro                         Arg                 11   \n\n       Amino_acids_after_3letters           NM_ID   protein_id UniProtKB-AC  \n0                             Thr     NM_000552.5  NP_000543.3       P04275  \n1                             Thr     NM_000552.5  NP_000543.3       P04275  \n2                             Trp     NM_000552.5  NP_000543.3       P04275  \n3                             Trp     NM_000552.5  NP_000543.3       P04275  \n4                             Asp     NM_000552.5  NP_000543.3       P04275  \n...                           ...             ...          ...          ...  \n156628                        Pro     NM_000029.4          NaN       B0ZBE2  \n156629                        Leu     NM_000029.4          NaN       B0ZBE2  \n156630                        Leu     NM_000029.4          NaN       B0ZBE2  \n156631                        Pro  NM_001165927.1          NaN          NaN  \n156632                        Pro  NM_001165927.1          NaN          NaN  \n\n[156633 rows x 16 columns]",
      "text/html": "<div>\n<style scoped>\n    .dataframe tbody tr th:only-of-type {\n        vertical-align: middle;\n    }\n\n    .dataframe tbody tr th {\n        vertical-align: top;\n    }\n\n    .dataframe thead th {\n        text-align: right;\n    }\n</style>\n<table border=\"1\" class=\"dataframe\">\n  <thead>\n    <tr style=\"text-align: right;\">\n      <th></th>\n      <th>Name</th>\n      <th>GeneID</th>\n      <th>GeneSymbol</th>\n      <th>Assembly</th>\n      <th>ClinicalSignificance</th>\n      <th>ReviewStatus</th>\n      <th>CDS_position</th>\n      <th>OtherIDs</th>\n      <th>AlleleChange</th>\n      <th>Protein_Patterns</th>\n      <th>Amino_acids_before_3letters</th>\n      <th>Protein_positions</th>\n      <th>Amino_acids_after_3letters</th>\n      <th>NM_ID</th>\n      <th>protein_id</th>\n      <th>UniProtKB-AC</th>\n    </tr>\n  </thead>\n  <tbody>\n    <tr>\n      <th>0</th>\n      <td>NM_000552.5(VWF):c.4883T&gt;C (p.Ile1628Thr)</td>\n      <td>7450</td>\n      <td>VWF</td>\n      <td>GRCh37</td>\n      <td>Pathogenic</td>\n      <td>criteria provided, multiple submitters, no con...</td>\n      <td>4883</td>\n      <td>ClinGen:CA114115,UniProtKB:P04275#VAR_005817,O...</td>\n      <td>T/C</td>\n      <td>Ile1628Thr</td>\n      <td>Ile</td>\n      <td>1628</td>\n      <td>Thr</td>\n      <td>NM_000552.5</td>\n      <td>NP_000543.3</td>\n      <td>P04275</td>\n    </tr>\n    <tr>\n      <th>1</th>\n      <td>NM_000552.5(VWF):c.4883T&gt;C (p.Ile1628Thr)</td>\n      <td>7450</td>\n      <td>VWF</td>\n      <td>GRCh38</td>\n      <td>Pathogenic</td>\n      <td>criteria provided, multiple submitters, no con...</td>\n      <td>4883</td>\n      <td>ClinGen:CA114115,UniProtKB:P04275#VAR_005817,O...</td>\n      <td>T/C</td>\n      <td>Ile1628Thr</td>\n      <td>Ile</td>\n      <td>1628</td>\n      <td>Thr</td>\n      <td>NM_000552.5</td>\n      <td>NP_000543.3</td>\n      <td>P04275</td>\n    </tr>\n    <tr>\n      <th>2</th>\n      <td>NM_000552.5(VWF):c.4789C&gt;T (p.Arg1597Trp)</td>\n      <td>7450</td>\n      <td>VWF</td>\n      <td>GRCh37</td>\n      <td>Pathogenic/Likely pathogenic</td>\n      <td>criteria provided, multiple submitters, no con...</td>\n      <td>4789</td>\n      <td>ClinGen:CA114117,UniProtKB:P04275#VAR_005813,O...</td>\n      <td>C/T</td>\n      <td>Arg1597Trp</td>\n      <td>Arg</td>\n      <td>1597</td>\n      <td>Trp</td>\n      <td>NM_000552.5</td>\n      <td>NP_000543.3</td>\n      <td>P04275</td>\n    </tr>\n    <tr>\n      <th>3</th>\n      <td>NM_000552.5(VWF):c.4789C&gt;T (p.Arg1597Trp)</td>\n      <td>7450</td>\n      <td>VWF</td>\n      <td>GRCh38</td>\n      <td>Pathogenic/Likely pathogenic</td>\n      <td>criteria provided, multiple submitters, no con...</td>\n      <td>4789</td>\n      <td>ClinGen:CA114117,UniProtKB:P04275#VAR_005813,O...</td>\n      <td>C/T</td>\n      <td>Arg1597Trp</td>\n      <td>Arg</td>\n      <td>1597</td>\n      <td>Trp</td>\n      <td>NM_000552.5</td>\n      <td>NP_000543.3</td>\n      <td>P04275</td>\n    </tr>\n    <tr>\n      <th>4</th>\n      <td>NM_000552.5(VWF):c.4820T&gt;A (p.Val1607Asp)</td>\n      <td>7450</td>\n      <td>VWF</td>\n      <td>GRCh37</td>\n      <td>Pathogenic</td>\n      <td>no assertion criteria provided</td>\n      <td>4820</td>\n      <td>ClinGen:CA114119,UniProtKB:P04275#VAR_005814,O...</td>\n      <td>T/A</td>\n      <td>Val1607Asp</td>\n      <td>Val</td>\n      <td>1607</td>\n      <td>Asp</td>\n      <td>NM_000552.5</td>\n      <td>NP_000543.3</td>\n      <td>P04275</td>\n    </tr>\n    <tr>\n      <th>...</th>\n      <td>...</td>\n      <td>...</td>\n      <td>...</td>\n      <td>...</td>\n      <td>...</td>\n      <td>...</td>\n      <td>...</td>\n      <td>...</td>\n      <td>...</td>\n      <td>...</td>\n      <td>...</td>\n      <td>...</td>\n      <td>...</td>\n      <td>...</td>\n      <td>...</td>\n      <td>...</td>\n    </tr>\n    <tr>\n      <th>156628</th>\n      <td>NM_000029.4(AGT):c.58A&gt;C (p.Thr20Pro)</td>\n      <td>183</td>\n      <td>AGT</td>\n      <td>GRCh38</td>\n      <td>Uncertain significance</td>\n      <td>criteria provided, single submitter</td>\n      <td>58</td>\n      <td>-</td>\n      <td>A/C</td>\n      <td>Thr20Pro</td>\n      <td>Thr</td>\n      <td>20</td>\n      <td>Pro</td>\n      <td>NM_000029.4</td>\n      <td>NaN</td>\n      <td>B0ZBE2</td>\n    </tr>\n    <tr>\n      <th>156629</th>\n      <td>NM_000029.4(AGT):c.28A&gt;T (p.Met10Leu)</td>\n      <td>183</td>\n      <td>AGT</td>\n      <td>GRCh37</td>\n      <td>Likely benign</td>\n      <td>criteria provided, single submitter</td>\n      <td>28</td>\n      <td>-</td>\n      <td>A/T</td>\n      <td>Met10Leu</td>\n      <td>Met</td>\n      <td>10</td>\n      <td>Leu</td>\n      <td>NM_000029.4</td>\n      <td>NaN</td>\n      <td>B0ZBE2</td>\n    </tr>\n    <tr>\n      <th>156630</th>\n      <td>NM_000029.4(AGT):c.28A&gt;T (p.Met10Leu)</td>\n      <td>183</td>\n      <td>AGT</td>\n      <td>GRCh38</td>\n      <td>Likely benign</td>\n      <td>criteria provided, single submitter</td>\n      <td>28</td>\n      <td>-</td>\n      <td>A/T</td>\n      <td>Met10Leu</td>\n      <td>Met</td>\n      <td>10</td>\n      <td>Leu</td>\n      <td>NM_000029.4</td>\n      <td>NaN</td>\n      <td>B0ZBE2</td>\n    </tr>\n    <tr>\n      <th>156631</th>\n      <td>NM_001165927.1(MKS1):c.32G&gt;C (p.Arg11Pro)</td>\n      <td>54903</td>\n      <td>MKS1</td>\n      <td>GRCh37</td>\n      <td>Uncertain significance</td>\n      <td>criteria provided, single submitter</td>\n      <td>32</td>\n      <td>-</td>\n      <td>G/C</td>\n      <td>Arg11Pro</td>\n      <td>Arg</td>\n      <td>11</td>\n      <td>Pro</td>\n      <td>NM_001165927.1</td>\n      <td>NaN</td>\n      <td>NaN</td>\n    </tr>\n    <tr>\n      <th>156632</th>\n      <td>NM_001165927.1(MKS1):c.32G&gt;C (p.Arg11Pro)</td>\n      <td>54903</td>\n      <td>MKS1</td>\n      <td>GRCh38</td>\n      <td>Uncertain significance</td>\n      <td>criteria provided, single submitter</td>\n      <td>32</td>\n      <td>-</td>\n      <td>G/C</td>\n      <td>Arg11Pro</td>\n      <td>Arg</td>\n      <td>11</td>\n      <td>Pro</td>\n      <td>NM_001165927.1</td>\n      <td>NaN</td>\n      <td>NaN</td>\n    </tr>\n  </tbody>\n</table>\n<p>156633 rows × 16 columns</p>\n</div>"
     },
     "execution_count": 80,
     "metadata": {},
     "output_type": "execute_result"
    }
   ],
   "source": [
    "# back mapping with known 3084 newly added protein-uniprot mappings\n",
    "re_mapping.drop(['UniProtKB-AC'], axis=1, inplace=True)\n",
    "re_mapping = pd.merge(re_mapping, uniparc_merging_no_dup, how=\"left\", on=\"NM_ID\")\n",
    "re_mapping"
   ],
   "metadata": {
    "collapsed": false,
    "pycharm": {
     "name": "#%%\n"
    }
   }
  },
  {
   "cell_type": "code",
   "execution_count": 86,
   "outputs": [],
   "source": [
    "# should be exactly 219 newly added UniProtKB ids\n",
    "# -1 for NaN\n",
    "assert len(re_mapping['UniProtKB-AC'].unique())-1 == len(uniparc_merging_no_dup['UniProtKB-AC'].unique())"
   ],
   "metadata": {
    "collapsed": false,
    "pycharm": {
     "name": "#%%\n"
    }
   }
  },
  {
   "cell_type": "code",
   "execution_count": 87,
   "outputs": [
    {
     "data": {
      "text/plain": "                                             Name  GeneID GeneSymbol Assembly  \\\n0       NM_000552.5(VWF):c.4883T>C (p.Ile1628Thr)    7450        VWF   GRCh37   \n1       NM_000552.5(VWF):c.4883T>C (p.Ile1628Thr)    7450        VWF   GRCh38   \n2       NM_000552.5(VWF):c.4789C>T (p.Arg1597Trp)    7450        VWF   GRCh37   \n3       NM_000552.5(VWF):c.4789C>T (p.Arg1597Trp)    7450        VWF   GRCh38   \n4       NM_000552.5(VWF):c.4820T>A (p.Val1607Asp)    7450        VWF   GRCh37   \n...                                           ...     ...        ...      ...   \n156626     NM_000029.4(AGT):c.127C>T (p.Leu43Phe)     183        AGT   GRCh38   \n156627      NM_000029.4(AGT):c.58A>C (p.Thr20Pro)     183        AGT   GRCh37   \n156628      NM_000029.4(AGT):c.58A>C (p.Thr20Pro)     183        AGT   GRCh38   \n156629      NM_000029.4(AGT):c.28A>T (p.Met10Leu)     183        AGT   GRCh37   \n156630      NM_000029.4(AGT):c.28A>T (p.Met10Leu)     183        AGT   GRCh38   \n\n                ClinicalSignificance  \\\n0                         Pathogenic   \n1                         Pathogenic   \n2       Pathogenic/Likely pathogenic   \n3       Pathogenic/Likely pathogenic   \n4                         Pathogenic   \n...                              ...   \n156626        Uncertain significance   \n156627        Uncertain significance   \n156628        Uncertain significance   \n156629                 Likely benign   \n156630                 Likely benign   \n\n                                             ReviewStatus  CDS_position  \\\n0       criteria provided, multiple submitters, no con...          4883   \n1       criteria provided, multiple submitters, no con...          4883   \n2       criteria provided, multiple submitters, no con...          4789   \n3       criteria provided, multiple submitters, no con...          4789   \n4                          no assertion criteria provided          4820   \n...                                                   ...           ...   \n156626  criteria provided, multiple submitters, no con...           127   \n156627                criteria provided, single submitter            58   \n156628                criteria provided, single submitter            58   \n156629                criteria provided, single submitter            28   \n156630                criteria provided, single submitter            28   \n\n                                                 OtherIDs AlleleChange  \\\n0       ClinGen:CA114115,UniProtKB:P04275#VAR_005817,O...          T/C   \n1       ClinGen:CA114115,UniProtKB:P04275#VAR_005817,O...          T/C   \n2       ClinGen:CA114117,UniProtKB:P04275#VAR_005813,O...          C/T   \n3       ClinGen:CA114117,UniProtKB:P04275#VAR_005813,O...          C/T   \n4       ClinGen:CA114119,UniProtKB:P04275#VAR_005814,O...          T/A   \n...                                                   ...          ...   \n156626                                                  -          C/T   \n156627                                                  -          A/C   \n156628                                                  -          A/C   \n156629                                                  -          A/T   \n156630                                                  -          A/T   \n\n       Protein_Patterns Amino_acids_before_3letters  Protein_positions  \\\n0            Ile1628Thr                         Ile               1628   \n1            Ile1628Thr                         Ile               1628   \n2            Arg1597Trp                         Arg               1597   \n3            Arg1597Trp                         Arg               1597   \n4            Val1607Asp                         Val               1607   \n...                 ...                         ...                ...   \n156626         Leu43Phe                         Leu                 43   \n156627         Thr20Pro                         Thr                 20   \n156628         Thr20Pro                         Thr                 20   \n156629         Met10Leu                         Met                 10   \n156630         Met10Leu                         Met                 10   \n\n       Amino_acids_after_3letters        NM_ID   protein_id UniProtKB-AC  \n0                             Thr  NM_000552.5  NP_000543.3       P04275  \n1                             Thr  NM_000552.5  NP_000543.3       P04275  \n2                             Trp  NM_000552.5  NP_000543.3       P04275  \n3                             Trp  NM_000552.5  NP_000543.3       P04275  \n4                             Asp  NM_000552.5  NP_000543.3       P04275  \n...                           ...          ...          ...          ...  \n156626                        Phe  NM_000029.4          NaN       B0ZBE2  \n156627                        Pro  NM_000029.4          NaN       B0ZBE2  \n156628                        Pro  NM_000029.4          NaN       B0ZBE2  \n156629                        Leu  NM_000029.4          NaN       B0ZBE2  \n156630                        Leu  NM_000029.4          NaN       B0ZBE2  \n\n[74223 rows x 16 columns]",
      "text/html": "<div>\n<style scoped>\n    .dataframe tbody tr th:only-of-type {\n        vertical-align: middle;\n    }\n\n    .dataframe tbody tr th {\n        vertical-align: top;\n    }\n\n    .dataframe thead th {\n        text-align: right;\n    }\n</style>\n<table border=\"1\" class=\"dataframe\">\n  <thead>\n    <tr style=\"text-align: right;\">\n      <th></th>\n      <th>Name</th>\n      <th>GeneID</th>\n      <th>GeneSymbol</th>\n      <th>Assembly</th>\n      <th>ClinicalSignificance</th>\n      <th>ReviewStatus</th>\n      <th>CDS_position</th>\n      <th>OtherIDs</th>\n      <th>AlleleChange</th>\n      <th>Protein_Patterns</th>\n      <th>Amino_acids_before_3letters</th>\n      <th>Protein_positions</th>\n      <th>Amino_acids_after_3letters</th>\n      <th>NM_ID</th>\n      <th>protein_id</th>\n      <th>UniProtKB-AC</th>\n    </tr>\n  </thead>\n  <tbody>\n    <tr>\n      <th>0</th>\n      <td>NM_000552.5(VWF):c.4883T&gt;C (p.Ile1628Thr)</td>\n      <td>7450</td>\n      <td>VWF</td>\n      <td>GRCh37</td>\n      <td>Pathogenic</td>\n      <td>criteria provided, multiple submitters, no con...</td>\n      <td>4883</td>\n      <td>ClinGen:CA114115,UniProtKB:P04275#VAR_005817,O...</td>\n      <td>T/C</td>\n      <td>Ile1628Thr</td>\n      <td>Ile</td>\n      <td>1628</td>\n      <td>Thr</td>\n      <td>NM_000552.5</td>\n      <td>NP_000543.3</td>\n      <td>P04275</td>\n    </tr>\n    <tr>\n      <th>1</th>\n      <td>NM_000552.5(VWF):c.4883T&gt;C (p.Ile1628Thr)</td>\n      <td>7450</td>\n      <td>VWF</td>\n      <td>GRCh38</td>\n      <td>Pathogenic</td>\n      <td>criteria provided, multiple submitters, no con...</td>\n      <td>4883</td>\n      <td>ClinGen:CA114115,UniProtKB:P04275#VAR_005817,O...</td>\n      <td>T/C</td>\n      <td>Ile1628Thr</td>\n      <td>Ile</td>\n      <td>1628</td>\n      <td>Thr</td>\n      <td>NM_000552.5</td>\n      <td>NP_000543.3</td>\n      <td>P04275</td>\n    </tr>\n    <tr>\n      <th>2</th>\n      <td>NM_000552.5(VWF):c.4789C&gt;T (p.Arg1597Trp)</td>\n      <td>7450</td>\n      <td>VWF</td>\n      <td>GRCh37</td>\n      <td>Pathogenic/Likely pathogenic</td>\n      <td>criteria provided, multiple submitters, no con...</td>\n      <td>4789</td>\n      <td>ClinGen:CA114117,UniProtKB:P04275#VAR_005813,O...</td>\n      <td>C/T</td>\n      <td>Arg1597Trp</td>\n      <td>Arg</td>\n      <td>1597</td>\n      <td>Trp</td>\n      <td>NM_000552.5</td>\n      <td>NP_000543.3</td>\n      <td>P04275</td>\n    </tr>\n    <tr>\n      <th>3</th>\n      <td>NM_000552.5(VWF):c.4789C&gt;T (p.Arg1597Trp)</td>\n      <td>7450</td>\n      <td>VWF</td>\n      <td>GRCh38</td>\n      <td>Pathogenic/Likely pathogenic</td>\n      <td>criteria provided, multiple submitters, no con...</td>\n      <td>4789</td>\n      <td>ClinGen:CA114117,UniProtKB:P04275#VAR_005813,O...</td>\n      <td>C/T</td>\n      <td>Arg1597Trp</td>\n      <td>Arg</td>\n      <td>1597</td>\n      <td>Trp</td>\n      <td>NM_000552.5</td>\n      <td>NP_000543.3</td>\n      <td>P04275</td>\n    </tr>\n    <tr>\n      <th>4</th>\n      <td>NM_000552.5(VWF):c.4820T&gt;A (p.Val1607Asp)</td>\n      <td>7450</td>\n      <td>VWF</td>\n      <td>GRCh37</td>\n      <td>Pathogenic</td>\n      <td>no assertion criteria provided</td>\n      <td>4820</td>\n      <td>ClinGen:CA114119,UniProtKB:P04275#VAR_005814,O...</td>\n      <td>T/A</td>\n      <td>Val1607Asp</td>\n      <td>Val</td>\n      <td>1607</td>\n      <td>Asp</td>\n      <td>NM_000552.5</td>\n      <td>NP_000543.3</td>\n      <td>P04275</td>\n    </tr>\n    <tr>\n      <th>...</th>\n      <td>...</td>\n      <td>...</td>\n      <td>...</td>\n      <td>...</td>\n      <td>...</td>\n      <td>...</td>\n      <td>...</td>\n      <td>...</td>\n      <td>...</td>\n      <td>...</td>\n      <td>...</td>\n      <td>...</td>\n      <td>...</td>\n      <td>...</td>\n      <td>...</td>\n      <td>...</td>\n    </tr>\n    <tr>\n      <th>156626</th>\n      <td>NM_000029.4(AGT):c.127C&gt;T (p.Leu43Phe)</td>\n      <td>183</td>\n      <td>AGT</td>\n      <td>GRCh38</td>\n      <td>Uncertain significance</td>\n      <td>criteria provided, multiple submitters, no con...</td>\n      <td>127</td>\n      <td>-</td>\n      <td>C/T</td>\n      <td>Leu43Phe</td>\n      <td>Leu</td>\n      <td>43</td>\n      <td>Phe</td>\n      <td>NM_000029.4</td>\n      <td>NaN</td>\n      <td>B0ZBE2</td>\n    </tr>\n    <tr>\n      <th>156627</th>\n      <td>NM_000029.4(AGT):c.58A&gt;C (p.Thr20Pro)</td>\n      <td>183</td>\n      <td>AGT</td>\n      <td>GRCh37</td>\n      <td>Uncertain significance</td>\n      <td>criteria provided, single submitter</td>\n      <td>58</td>\n      <td>-</td>\n      <td>A/C</td>\n      <td>Thr20Pro</td>\n      <td>Thr</td>\n      <td>20</td>\n      <td>Pro</td>\n      <td>NM_000029.4</td>\n      <td>NaN</td>\n      <td>B0ZBE2</td>\n    </tr>\n    <tr>\n      <th>156628</th>\n      <td>NM_000029.4(AGT):c.58A&gt;C (p.Thr20Pro)</td>\n      <td>183</td>\n      <td>AGT</td>\n      <td>GRCh38</td>\n      <td>Uncertain significance</td>\n      <td>criteria provided, single submitter</td>\n      <td>58</td>\n      <td>-</td>\n      <td>A/C</td>\n      <td>Thr20Pro</td>\n      <td>Thr</td>\n      <td>20</td>\n      <td>Pro</td>\n      <td>NM_000029.4</td>\n      <td>NaN</td>\n      <td>B0ZBE2</td>\n    </tr>\n    <tr>\n      <th>156629</th>\n      <td>NM_000029.4(AGT):c.28A&gt;T (p.Met10Leu)</td>\n      <td>183</td>\n      <td>AGT</td>\n      <td>GRCh37</td>\n      <td>Likely benign</td>\n      <td>criteria provided, single submitter</td>\n      <td>28</td>\n      <td>-</td>\n      <td>A/T</td>\n      <td>Met10Leu</td>\n      <td>Met</td>\n      <td>10</td>\n      <td>Leu</td>\n      <td>NM_000029.4</td>\n      <td>NaN</td>\n      <td>B0ZBE2</td>\n    </tr>\n    <tr>\n      <th>156630</th>\n      <td>NM_000029.4(AGT):c.28A&gt;T (p.Met10Leu)</td>\n      <td>183</td>\n      <td>AGT</td>\n      <td>GRCh38</td>\n      <td>Likely benign</td>\n      <td>criteria provided, single submitter</td>\n      <td>28</td>\n      <td>-</td>\n      <td>A/T</td>\n      <td>Met10Leu</td>\n      <td>Met</td>\n      <td>10</td>\n      <td>Leu</td>\n      <td>NM_000029.4</td>\n      <td>NaN</td>\n      <td>B0ZBE2</td>\n    </tr>\n  </tbody>\n</table>\n<p>74223 rows × 16 columns</p>\n</div>"
     },
     "execution_count": 87,
     "metadata": {},
     "output_type": "execute_result"
    }
   ],
   "source": [
    "# concat 2 dataframes together\n",
    "re_mapping = re_mapping[re_mapping['UniProtKB-AC'].notnull()]\n",
    "re_mapping"
   ],
   "metadata": {
    "collapsed": false,
    "pycharm": {
     "name": "#%%\n"
    }
   }
  },
  {
   "cell_type": "code",
   "execution_count": 88,
   "outputs": [
    {
     "data": {
      "text/plain": "                                                Name  GeneID GeneSymbol  \\\n0       NM_014630.3(ZNF592):c.3136G>A (p.Gly1046Arg)    9640     ZNF592   \n1       NM_014630.3(ZNF592):c.3136G>A (p.Gly1046Arg)    9640     ZNF592   \n2       NM_017547.4(FOXRED1):c.1289A>G (p.Asn430Ser)   55572    FOXRED1   \n3       NM_017547.4(FOXRED1):c.1289A>G (p.Asn430Ser)   55572    FOXRED1   \n4           NM_025152.3(NUBPL):c.166G>A (p.Gly56Arg)   80224      NUBPL   \n...                                              ...     ...        ...   \n156626        NM_000029.4(AGT):c.127C>T (p.Leu43Phe)     183        AGT   \n156627         NM_000029.4(AGT):c.58A>C (p.Thr20Pro)     183        AGT   \n156628         NM_000029.4(AGT):c.58A>C (p.Thr20Pro)     183        AGT   \n156629         NM_000029.4(AGT):c.28A>T (p.Met10Leu)     183        AGT   \n156630         NM_000029.4(AGT):c.28A>T (p.Met10Leu)     183        AGT   \n\n       Assembly    ClinicalSignificance  \\\n0        GRCh37  Uncertain significance   \n1        GRCh38  Uncertain significance   \n2        GRCh37              Pathogenic   \n3        GRCh38              Pathogenic   \n4        GRCh37  Uncertain significance   \n...         ...                     ...   \n156626   GRCh38  Uncertain significance   \n156627   GRCh37  Uncertain significance   \n156628   GRCh38  Uncertain significance   \n156629   GRCh37           Likely benign   \n156630   GRCh38           Likely benign   \n\n                                             ReviewStatus  CDS_position  \\\n0                          no assertion criteria provided          3136   \n1                          no assertion criteria provided          3136   \n2                          no assertion criteria provided          1289   \n3                          no assertion criteria provided          1289   \n4       criteria provided, multiple submitters, no con...           166   \n...                                                   ...           ...   \n156626  criteria provided, multiple submitters, no con...           127   \n156627                criteria provided, single submitter            58   \n156628                criteria provided, single submitter            58   \n156629                criteria provided, single submitter            28   \n156630                criteria provided, single submitter            28   \n\n                                                 OtherIDs AlleleChange  \\\n0       OMIM:613624.0001,ClinGen:CA210674,UniProtKB:Q9...          G/A   \n1       OMIM:613624.0001,ClinGen:CA210674,UniProtKB:Q9...          G/A   \n2       ClinGen:CA113794,UniProtKB:Q96CU9#VAR_064571,O...          A/G   \n3       ClinGen:CA113794,UniProtKB:Q96CU9#VAR_064571,O...          A/G   \n4       ClinVar:7,ClinGen:CA321015,UniProtKB:Q8TB37#VA...          G/A   \n...                                                   ...          ...   \n156626                                                  -          C/T   \n156627                                                  -          A/C   \n156628                                                  -          A/C   \n156629                                                  -          A/T   \n156630                                                  -          A/T   \n\n       Protein_Patterns Amino_acids_before_3letters  Protein_positions  \\\n0            Gly1046Arg                         Gly               1046   \n1            Gly1046Arg                         Gly               1046   \n2             Asn430Ser                         Asn                430   \n3             Asn430Ser                         Asn                430   \n4              Gly56Arg                         Gly                 56   \n...                 ...                         ...                ...   \n156626         Leu43Phe                         Leu                 43   \n156627         Thr20Pro                         Thr                 20   \n156628         Thr20Pro                         Thr                 20   \n156629         Met10Leu                         Met                 10   \n156630         Met10Leu                         Met                 10   \n\n       Amino_acids_after_3letters        NM_ID   protein_id UniProtKB-AC  \n0                             Arg  NM_014630.3  NP_055445.2       Q92610  \n1                             Arg  NM_014630.3  NP_055445.2       Q92610  \n2                             Ser  NM_017547.4  NP_060017.1       Q96CU9  \n3                             Ser  NM_017547.4  NP_060017.1       Q96CU9  \n4                             Arg  NM_025152.3  NP_079428.2       Q8TB37  \n...                           ...          ...          ...          ...  \n156626                        Phe  NM_000029.4          NaN       B0ZBE2  \n156627                        Pro  NM_000029.4          NaN       B0ZBE2  \n156628                        Pro  NM_000029.4          NaN       B0ZBE2  \n156629                        Leu  NM_000029.4          NaN       B0ZBE2  \n156630                        Leu  NM_000029.4          NaN       B0ZBE2  \n\n[1213334 rows x 16 columns]",
      "text/html": "<div>\n<style scoped>\n    .dataframe tbody tr th:only-of-type {\n        vertical-align: middle;\n    }\n\n    .dataframe tbody tr th {\n        vertical-align: top;\n    }\n\n    .dataframe thead th {\n        text-align: right;\n    }\n</style>\n<table border=\"1\" class=\"dataframe\">\n  <thead>\n    <tr style=\"text-align: right;\">\n      <th></th>\n      <th>Name</th>\n      <th>GeneID</th>\n      <th>GeneSymbol</th>\n      <th>Assembly</th>\n      <th>ClinicalSignificance</th>\n      <th>ReviewStatus</th>\n      <th>CDS_position</th>\n      <th>OtherIDs</th>\n      <th>AlleleChange</th>\n      <th>Protein_Patterns</th>\n      <th>Amino_acids_before_3letters</th>\n      <th>Protein_positions</th>\n      <th>Amino_acids_after_3letters</th>\n      <th>NM_ID</th>\n      <th>protein_id</th>\n      <th>UniProtKB-AC</th>\n    </tr>\n  </thead>\n  <tbody>\n    <tr>\n      <th>0</th>\n      <td>NM_014630.3(ZNF592):c.3136G&gt;A (p.Gly1046Arg)</td>\n      <td>9640</td>\n      <td>ZNF592</td>\n      <td>GRCh37</td>\n      <td>Uncertain significance</td>\n      <td>no assertion criteria provided</td>\n      <td>3136</td>\n      <td>OMIM:613624.0001,ClinGen:CA210674,UniProtKB:Q9...</td>\n      <td>G/A</td>\n      <td>Gly1046Arg</td>\n      <td>Gly</td>\n      <td>1046</td>\n      <td>Arg</td>\n      <td>NM_014630.3</td>\n      <td>NP_055445.2</td>\n      <td>Q92610</td>\n    </tr>\n    <tr>\n      <th>1</th>\n      <td>NM_014630.3(ZNF592):c.3136G&gt;A (p.Gly1046Arg)</td>\n      <td>9640</td>\n      <td>ZNF592</td>\n      <td>GRCh38</td>\n      <td>Uncertain significance</td>\n      <td>no assertion criteria provided</td>\n      <td>3136</td>\n      <td>OMIM:613624.0001,ClinGen:CA210674,UniProtKB:Q9...</td>\n      <td>G/A</td>\n      <td>Gly1046Arg</td>\n      <td>Gly</td>\n      <td>1046</td>\n      <td>Arg</td>\n      <td>NM_014630.3</td>\n      <td>NP_055445.2</td>\n      <td>Q92610</td>\n    </tr>\n    <tr>\n      <th>2</th>\n      <td>NM_017547.4(FOXRED1):c.1289A&gt;G (p.Asn430Ser)</td>\n      <td>55572</td>\n      <td>FOXRED1</td>\n      <td>GRCh37</td>\n      <td>Pathogenic</td>\n      <td>no assertion criteria provided</td>\n      <td>1289</td>\n      <td>ClinGen:CA113794,UniProtKB:Q96CU9#VAR_064571,O...</td>\n      <td>A/G</td>\n      <td>Asn430Ser</td>\n      <td>Asn</td>\n      <td>430</td>\n      <td>Ser</td>\n      <td>NM_017547.4</td>\n      <td>NP_060017.1</td>\n      <td>Q96CU9</td>\n    </tr>\n    <tr>\n      <th>3</th>\n      <td>NM_017547.4(FOXRED1):c.1289A&gt;G (p.Asn430Ser)</td>\n      <td>55572</td>\n      <td>FOXRED1</td>\n      <td>GRCh38</td>\n      <td>Pathogenic</td>\n      <td>no assertion criteria provided</td>\n      <td>1289</td>\n      <td>ClinGen:CA113794,UniProtKB:Q96CU9#VAR_064571,O...</td>\n      <td>A/G</td>\n      <td>Asn430Ser</td>\n      <td>Asn</td>\n      <td>430</td>\n      <td>Ser</td>\n      <td>NM_017547.4</td>\n      <td>NP_060017.1</td>\n      <td>Q96CU9</td>\n    </tr>\n    <tr>\n      <th>4</th>\n      <td>NM_025152.3(NUBPL):c.166G&gt;A (p.Gly56Arg)</td>\n      <td>80224</td>\n      <td>NUBPL</td>\n      <td>GRCh37</td>\n      <td>Uncertain significance</td>\n      <td>criteria provided, multiple submitters, no con...</td>\n      <td>166</td>\n      <td>ClinVar:7,ClinGen:CA321015,UniProtKB:Q8TB37#VA...</td>\n      <td>G/A</td>\n      <td>Gly56Arg</td>\n      <td>Gly</td>\n      <td>56</td>\n      <td>Arg</td>\n      <td>NM_025152.3</td>\n      <td>NP_079428.2</td>\n      <td>Q8TB37</td>\n    </tr>\n    <tr>\n      <th>...</th>\n      <td>...</td>\n      <td>...</td>\n      <td>...</td>\n      <td>...</td>\n      <td>...</td>\n      <td>...</td>\n      <td>...</td>\n      <td>...</td>\n      <td>...</td>\n      <td>...</td>\n      <td>...</td>\n      <td>...</td>\n      <td>...</td>\n      <td>...</td>\n      <td>...</td>\n      <td>...</td>\n    </tr>\n    <tr>\n      <th>156626</th>\n      <td>NM_000029.4(AGT):c.127C&gt;T (p.Leu43Phe)</td>\n      <td>183</td>\n      <td>AGT</td>\n      <td>GRCh38</td>\n      <td>Uncertain significance</td>\n      <td>criteria provided, multiple submitters, no con...</td>\n      <td>127</td>\n      <td>-</td>\n      <td>C/T</td>\n      <td>Leu43Phe</td>\n      <td>Leu</td>\n      <td>43</td>\n      <td>Phe</td>\n      <td>NM_000029.4</td>\n      <td>NaN</td>\n      <td>B0ZBE2</td>\n    </tr>\n    <tr>\n      <th>156627</th>\n      <td>NM_000029.4(AGT):c.58A&gt;C (p.Thr20Pro)</td>\n      <td>183</td>\n      <td>AGT</td>\n      <td>GRCh37</td>\n      <td>Uncertain significance</td>\n      <td>criteria provided, single submitter</td>\n      <td>58</td>\n      <td>-</td>\n      <td>A/C</td>\n      <td>Thr20Pro</td>\n      <td>Thr</td>\n      <td>20</td>\n      <td>Pro</td>\n      <td>NM_000029.4</td>\n      <td>NaN</td>\n      <td>B0ZBE2</td>\n    </tr>\n    <tr>\n      <th>156628</th>\n      <td>NM_000029.4(AGT):c.58A&gt;C (p.Thr20Pro)</td>\n      <td>183</td>\n      <td>AGT</td>\n      <td>GRCh38</td>\n      <td>Uncertain significance</td>\n      <td>criteria provided, single submitter</td>\n      <td>58</td>\n      <td>-</td>\n      <td>A/C</td>\n      <td>Thr20Pro</td>\n      <td>Thr</td>\n      <td>20</td>\n      <td>Pro</td>\n      <td>NM_000029.4</td>\n      <td>NaN</td>\n      <td>B0ZBE2</td>\n    </tr>\n    <tr>\n      <th>156629</th>\n      <td>NM_000029.4(AGT):c.28A&gt;T (p.Met10Leu)</td>\n      <td>183</td>\n      <td>AGT</td>\n      <td>GRCh37</td>\n      <td>Likely benign</td>\n      <td>criteria provided, single submitter</td>\n      <td>28</td>\n      <td>-</td>\n      <td>A/T</td>\n      <td>Met10Leu</td>\n      <td>Met</td>\n      <td>10</td>\n      <td>Leu</td>\n      <td>NM_000029.4</td>\n      <td>NaN</td>\n      <td>B0ZBE2</td>\n    </tr>\n    <tr>\n      <th>156630</th>\n      <td>NM_000029.4(AGT):c.28A&gt;T (p.Met10Leu)</td>\n      <td>183</td>\n      <td>AGT</td>\n      <td>GRCh38</td>\n      <td>Likely benign</td>\n      <td>criteria provided, single submitter</td>\n      <td>28</td>\n      <td>-</td>\n      <td>A/T</td>\n      <td>Met10Leu</td>\n      <td>Met</td>\n      <td>10</td>\n      <td>Leu</td>\n      <td>NM_000029.4</td>\n      <td>NaN</td>\n      <td>B0ZBE2</td>\n    </tr>\n  </tbody>\n</table>\n<p>1213334 rows × 16 columns</p>\n</div>"
     },
     "execution_count": 88,
     "metadata": {},
     "output_type": "execute_result"
    }
   ],
   "source": [
    "# concatenation\n",
    "df_final_mapped_variants = pd.concat([uniprot_id_np_mapped, re_mapping]).reindex()\n",
    "df_final_mapped_variants"
   ],
   "metadata": {
    "collapsed": false,
    "pycharm": {
     "name": "#%%\n"
    }
   }
  },
  {
   "cell_type": "code",
   "execution_count": 89,
   "outputs": [
    {
     "data": {
      "text/plain": "array(['Q92610', 'Q96CU9', 'Q8TB37', ..., 'P10619', 'P23760', 'B0ZBE2'],\n      dtype=object)"
     },
     "execution_count": 89,
     "metadata": {},
     "output_type": "execute_result"
    }
   ],
   "source": [
    "df_final_mapped_variants['UniProtKB-AC'].unique()"
   ],
   "metadata": {
    "collapsed": false,
    "pycharm": {
     "name": "#%%\n"
    }
   }
  },
  {
   "cell_type": "code",
   "execution_count": 90,
   "outputs": [],
   "source": [
    "df_final_mapped_variants.to_csv('./data/metas/final_clinvar_variant_uniprot_id_mapping.csv', index=False)"
   ],
   "metadata": {
    "collapsed": false,
    "pycharm": {
     "name": "#%%\n"
    }
   }
  },
  {
   "cell_type": "code",
   "execution_count": null,
   "outputs": [],
   "source": [],
   "metadata": {
    "collapsed": false,
    "pycharm": {
     "name": "#%%\n"
    }
   }
  },
  {
   "cell_type": "code",
   "execution_count": null,
   "outputs": [],
   "source": [],
   "metadata": {
    "collapsed": false,
    "pycharm": {
     "name": "#%%\n"
    }
   }
  },
  {
   "cell_type": "code",
   "execution_count": 38,
   "outputs": [
    {
     "data": {
      "text/plain": "          GeneID  protein_id\n0      121815974      P04181\n2      106799833      P15538\n3      107303340      P40337\n4      107080644      Q14749\n7      111822955  AAK07616.1\n...          ...         ...\n70197      84146      Q9H582\n70257     641339      Q2M3X9\n70290      57592      Q8N1G0\n70487     347344      P51508\n70818      57688      Q9HCJ5\n\n[2996 rows x 2 columns]",
      "text/html": "<div>\n<style scoped>\n    .dataframe tbody tr th:only-of-type {\n        vertical-align: middle;\n    }\n\n    .dataframe tbody tr th {\n        vertical-align: top;\n    }\n\n    .dataframe thead th {\n        text-align: right;\n    }\n</style>\n<table border=\"1\" class=\"dataframe\">\n  <thead>\n    <tr style=\"text-align: right;\">\n      <th></th>\n      <th>GeneID</th>\n      <th>protein_id</th>\n    </tr>\n  </thead>\n  <tbody>\n    <tr>\n      <th>0</th>\n      <td>121815974</td>\n      <td>P04181</td>\n    </tr>\n    <tr>\n      <th>2</th>\n      <td>106799833</td>\n      <td>P15538</td>\n    </tr>\n    <tr>\n      <th>3</th>\n      <td>107303340</td>\n      <td>P40337</td>\n    </tr>\n    <tr>\n      <th>4</th>\n      <td>107080644</td>\n      <td>Q14749</td>\n    </tr>\n    <tr>\n      <th>7</th>\n      <td>111822955</td>\n      <td>AAK07616.1</td>\n    </tr>\n    <tr>\n      <th>...</th>\n      <td>...</td>\n      <td>...</td>\n    </tr>\n    <tr>\n      <th>70197</th>\n      <td>84146</td>\n      <td>Q9H582</td>\n    </tr>\n    <tr>\n      <th>70257</th>\n      <td>641339</td>\n      <td>Q2M3X9</td>\n    </tr>\n    <tr>\n      <th>70290</th>\n      <td>57592</td>\n      <td>Q8N1G0</td>\n    </tr>\n    <tr>\n      <th>70487</th>\n      <td>347344</td>\n      <td>P51508</td>\n    </tr>\n    <tr>\n      <th>70818</th>\n      <td>57688</td>\n      <td>Q9HCJ5</td>\n    </tr>\n  </tbody>\n</table>\n<p>2996 rows × 2 columns</p>\n</div>"
     },
     "execution_count": 38,
     "metadata": {},
     "output_type": "execute_result"
    }
   ],
   "source": [
    "# first merge hgvs and uniprotkb mapping dataframes\n",
    "df_geneid_uniprot = df_hgva[['GeneID', 'protein_id']]\n",
    "df_geneid_uniprot = df_geneid_uniprot[~df_geneid_uniprot['protein_id'].str.contains('NP_')]\n",
    "df_geneid_uniprot.drop_duplicates(inplace=True)\n",
    "df_geneid_uniprot.dropna(inplace=True)\n",
    "df_geneid_uniprot"
   ],
   "metadata": {
    "collapsed": false,
    "pycharm": {
     "name": "#%%\n"
    }
   }
  },
  {
   "cell_type": "code",
   "execution_count": 39,
   "outputs": [
    {
     "data": {
      "text/plain": "          GeneID   protein_id\n32429        987       Q9Y586\n32424        987       P50851\n25799       3048       P69891\n25797       3048       P69892\n26149       3077  NG_008720.1\n...          ...          ...\n13     106128904       P35499\n26165  108783645       Q30201\n26166  108783645  NG_008720.1\n8      111822955       Q9NSU2\n7      111822955   AAK07616.1\n\n[77 rows x 2 columns]",
      "text/html": "<div>\n<style scoped>\n    .dataframe tbody tr th:only-of-type {\n        vertical-align: middle;\n    }\n\n    .dataframe tbody tr th {\n        vertical-align: top;\n    }\n\n    .dataframe thead th {\n        text-align: right;\n    }\n</style>\n<table border=\"1\" class=\"dataframe\">\n  <thead>\n    <tr style=\"text-align: right;\">\n      <th></th>\n      <th>GeneID</th>\n      <th>protein_id</th>\n    </tr>\n  </thead>\n  <tbody>\n    <tr>\n      <th>32429</th>\n      <td>987</td>\n      <td>Q9Y586</td>\n    </tr>\n    <tr>\n      <th>32424</th>\n      <td>987</td>\n      <td>P50851</td>\n    </tr>\n    <tr>\n      <th>25799</th>\n      <td>3048</td>\n      <td>P69891</td>\n    </tr>\n    <tr>\n      <th>25797</th>\n      <td>3048</td>\n      <td>P69892</td>\n    </tr>\n    <tr>\n      <th>26149</th>\n      <td>3077</td>\n      <td>NG_008720.1</td>\n    </tr>\n    <tr>\n      <th>...</th>\n      <td>...</td>\n      <td>...</td>\n    </tr>\n    <tr>\n      <th>13</th>\n      <td>106128904</td>\n      <td>P35499</td>\n    </tr>\n    <tr>\n      <th>26165</th>\n      <td>108783645</td>\n      <td>Q30201</td>\n    </tr>\n    <tr>\n      <th>26166</th>\n      <td>108783645</td>\n      <td>NG_008720.1</td>\n    </tr>\n    <tr>\n      <th>8</th>\n      <td>111822955</td>\n      <td>Q9NSU2</td>\n    </tr>\n    <tr>\n      <th>7</th>\n      <td>111822955</td>\n      <td>AAK07616.1</td>\n    </tr>\n  </tbody>\n</table>\n<p>77 rows × 2 columns</p>\n</div>"
     },
     "execution_count": 39,
     "metadata": {},
     "output_type": "execute_result"
    }
   ],
   "source": [
    "# check if there's any duplications\n",
    "# found out one NP_ can be linked to multiple UniProtKB entries, so will only keep the first one matches\n",
    "# there's errors in the id mapping. gene id 987s point to different proteins, instead of same protein with different UniprotKB id\n",
    "df_geneid_uniprot[df_geneid_uniprot.duplicated(subset=['GeneID'], keep=False)].sort_values('GeneID')"
   ],
   "metadata": {
    "collapsed": false,
    "pycharm": {
     "name": "#%%\n"
    }
   }
  },
  {
   "cell_type": "code",
   "execution_count": 41,
   "outputs": [
    {
     "data": {
      "text/plain": "      UniProtKB-AC  protein_id\n0           P31946        7529\n1           P62258        7531\n2           Q04917        7533\n3           P61981        7532\n4           P31947        2810\n...            ...         ...\n33641   A0A0B4J1S1        4261\n33642       Q06AH7        7018\n33643       J3QQS3       92335\n33644   A0A7R8C2Y5       11009\n33645       O75579   100132285\n\n[33646 rows x 2 columns]",
      "text/html": "<div>\n<style scoped>\n    .dataframe tbody tr th:only-of-type {\n        vertical-align: middle;\n    }\n\n    .dataframe tbody tr th {\n        vertical-align: top;\n    }\n\n    .dataframe thead th {\n        text-align: right;\n    }\n</style>\n<table border=\"1\" class=\"dataframe\">\n  <thead>\n    <tr style=\"text-align: right;\">\n      <th></th>\n      <th>UniProtKB-AC</th>\n      <th>protein_id</th>\n    </tr>\n  </thead>\n  <tbody>\n    <tr>\n      <th>0</th>\n      <td>P31946</td>\n      <td>7529</td>\n    </tr>\n    <tr>\n      <th>1</th>\n      <td>P62258</td>\n      <td>7531</td>\n    </tr>\n    <tr>\n      <th>2</th>\n      <td>Q04917</td>\n      <td>7533</td>\n    </tr>\n    <tr>\n      <th>3</th>\n      <td>P61981</td>\n      <td>7532</td>\n    </tr>\n    <tr>\n      <th>4</th>\n      <td>P31947</td>\n      <td>2810</td>\n    </tr>\n    <tr>\n      <th>...</th>\n      <td>...</td>\n      <td>...</td>\n    </tr>\n    <tr>\n      <th>33641</th>\n      <td>A0A0B4J1S1</td>\n      <td>4261</td>\n    </tr>\n    <tr>\n      <th>33642</th>\n      <td>Q06AH7</td>\n      <td>7018</td>\n    </tr>\n    <tr>\n      <th>33643</th>\n      <td>J3QQS3</td>\n      <td>92335</td>\n    </tr>\n    <tr>\n      <th>33644</th>\n      <td>A0A7R8C2Y5</td>\n      <td>11009</td>\n    </tr>\n    <tr>\n      <th>33645</th>\n      <td>O75579</td>\n      <td>100132285</td>\n    </tr>\n  </tbody>\n</table>\n<p>33646 rows × 2 columns</p>\n</div>"
     },
     "execution_count": 41,
     "metadata": {},
     "output_type": "execute_result"
    }
   ],
   "source": [
    "geneid_uniprot_mapping = pd.read_csv('./data/metas/GI_UniProt_mapping.csv')\n",
    "geneid_uniprot_mapping = geneid_uniprot_mapping.rename(columns={'ID':'protein_id'})\n",
    "geneid_uniprot_mapping"
   ],
   "metadata": {
    "collapsed": false,
    "pycharm": {
     "name": "#%%\n"
    }
   }
  },
  {
   "cell_type": "code",
   "execution_count": 31,
   "outputs": [
    {
     "data": {
      "text/plain": "   A  B\n0  a  1\n1  b  2\n2  c  3\n3  d  4",
      "text/html": "<div>\n<style scoped>\n    .dataframe tbody tr th:only-of-type {\n        vertical-align: middle;\n    }\n\n    .dataframe tbody tr th {\n        vertical-align: top;\n    }\n\n    .dataframe thead th {\n        text-align: right;\n    }\n</style>\n<table border=\"1\" class=\"dataframe\">\n  <thead>\n    <tr style=\"text-align: right;\">\n      <th></th>\n      <th>A</th>\n      <th>B</th>\n    </tr>\n  </thead>\n  <tbody>\n    <tr>\n      <th>0</th>\n      <td>a</td>\n      <td>1</td>\n    </tr>\n    <tr>\n      <th>1</th>\n      <td>b</td>\n      <td>2</td>\n    </tr>\n    <tr>\n      <th>2</th>\n      <td>c</td>\n      <td>3</td>\n    </tr>\n    <tr>\n      <th>3</th>\n      <td>d</td>\n      <td>4</td>\n    </tr>\n  </tbody>\n</table>\n</div>"
     },
     "execution_count": 31,
     "metadata": {},
     "output_type": "execute_result"
    }
   ],
   "source": [
    "import pandas as pd\n",
    "\n",
    "df1 = pd.DataFrame({'A': ['a', 'b', 'c', 'd'], 'B': [1, 2, 3, 4]})\n",
    "df2 = pd.DataFrame({'A': ['a', 'a', 'b', 'b', 'b', 'c'], 'C': ['x', 'y', 'z', 'p', 'q', 'm']})\n",
    "df1"
   ],
   "metadata": {
    "collapsed": false,
    "pycharm": {
     "name": "#%%\n"
    }
   }
  },
  {
   "cell_type": "code",
   "execution_count": 32,
   "outputs": [
    {
     "data": {
      "text/plain": "   A  C\n0  a  x\n1  a  y\n2  b  z\n3  b  p\n4  b  q\n5  c  m",
      "text/html": "<div>\n<style scoped>\n    .dataframe tbody tr th:only-of-type {\n        vertical-align: middle;\n    }\n\n    .dataframe tbody tr th {\n        vertical-align: top;\n    }\n\n    .dataframe thead th {\n        text-align: right;\n    }\n</style>\n<table border=\"1\" class=\"dataframe\">\n  <thead>\n    <tr style=\"text-align: right;\">\n      <th></th>\n      <th>A</th>\n      <th>C</th>\n    </tr>\n  </thead>\n  <tbody>\n    <tr>\n      <th>0</th>\n      <td>a</td>\n      <td>x</td>\n    </tr>\n    <tr>\n      <th>1</th>\n      <td>a</td>\n      <td>y</td>\n    </tr>\n    <tr>\n      <th>2</th>\n      <td>b</td>\n      <td>z</td>\n    </tr>\n    <tr>\n      <th>3</th>\n      <td>b</td>\n      <td>p</td>\n    </tr>\n    <tr>\n      <th>4</th>\n      <td>b</td>\n      <td>q</td>\n    </tr>\n    <tr>\n      <th>5</th>\n      <td>c</td>\n      <td>m</td>\n    </tr>\n  </tbody>\n</table>\n</div>"
     },
     "execution_count": 32,
     "metadata": {},
     "output_type": "execute_result"
    }
   ],
   "source": [
    "df2"
   ],
   "metadata": {
    "collapsed": false,
    "pycharm": {
     "name": "#%%\n"
    }
   }
  },
  {
   "cell_type": "code",
   "execution_count": 33,
   "outputs": [
    {
     "data": {
      "text/plain": "   A  B    C     _merge\n0  a  1    x       both\n1  a  1    y       both\n2  b  2    z       both\n3  b  2    p       both\n4  b  2    q       both\n5  c  3    m       both\n6  d  4  NaN  left_only",
      "text/html": "<div>\n<style scoped>\n    .dataframe tbody tr th:only-of-type {\n        vertical-align: middle;\n    }\n\n    .dataframe tbody tr th {\n        vertical-align: top;\n    }\n\n    .dataframe thead th {\n        text-align: right;\n    }\n</style>\n<table border=\"1\" class=\"dataframe\">\n  <thead>\n    <tr style=\"text-align: right;\">\n      <th></th>\n      <th>A</th>\n      <th>B</th>\n      <th>C</th>\n      <th>_merge</th>\n    </tr>\n  </thead>\n  <tbody>\n    <tr>\n      <th>0</th>\n      <td>a</td>\n      <td>1</td>\n      <td>x</td>\n      <td>both</td>\n    </tr>\n    <tr>\n      <th>1</th>\n      <td>a</td>\n      <td>1</td>\n      <td>y</td>\n      <td>both</td>\n    </tr>\n    <tr>\n      <th>2</th>\n      <td>b</td>\n      <td>2</td>\n      <td>z</td>\n      <td>both</td>\n    </tr>\n    <tr>\n      <th>3</th>\n      <td>b</td>\n      <td>2</td>\n      <td>p</td>\n      <td>both</td>\n    </tr>\n    <tr>\n      <th>4</th>\n      <td>b</td>\n      <td>2</td>\n      <td>q</td>\n      <td>both</td>\n    </tr>\n    <tr>\n      <th>5</th>\n      <td>c</td>\n      <td>3</td>\n      <td>m</td>\n      <td>both</td>\n    </tr>\n    <tr>\n      <th>6</th>\n      <td>d</td>\n      <td>4</td>\n      <td>NaN</td>\n      <td>left_only</td>\n    </tr>\n  </tbody>\n</table>\n</div>"
     },
     "execution_count": 33,
     "metadata": {},
     "output_type": "execute_result"
    }
   ],
   "source": [
    "merged_df = pd.merge(df1, df2, on='A', how='left', indicator=True)\n",
    "merged_df"
   ],
   "metadata": {
    "collapsed": false,
    "pycharm": {
     "name": "#%%\n"
    }
   }
  },
  {
   "cell_type": "code",
   "execution_count": 35,
   "outputs": [
    {
     "data": {
      "text/plain": "   A  B  C\n0  a  1  x\n1  a  1  y\n2  b  2  z\n3  b  2  p\n4  b  2  q",
      "text/html": "<div>\n<style scoped>\n    .dataframe tbody tr th:only-of-type {\n        vertical-align: middle;\n    }\n\n    .dataframe tbody tr th {\n        vertical-align: top;\n    }\n\n    .dataframe thead th {\n        text-align: right;\n    }\n</style>\n<table border=\"1\" class=\"dataframe\">\n  <thead>\n    <tr style=\"text-align: right;\">\n      <th></th>\n      <th>A</th>\n      <th>B</th>\n      <th>C</th>\n    </tr>\n  </thead>\n  <tbody>\n    <tr>\n      <th>0</th>\n      <td>a</td>\n      <td>1</td>\n      <td>x</td>\n    </tr>\n    <tr>\n      <th>1</th>\n      <td>a</td>\n      <td>1</td>\n      <td>y</td>\n    </tr>\n    <tr>\n      <th>2</th>\n      <td>b</td>\n      <td>2</td>\n      <td>z</td>\n    </tr>\n    <tr>\n      <th>3</th>\n      <td>b</td>\n      <td>2</td>\n      <td>p</td>\n    </tr>\n    <tr>\n      <th>4</th>\n      <td>b</td>\n      <td>2</td>\n      <td>q</td>\n    </tr>\n  </tbody>\n</table>\n</div>"
     },
     "execution_count": 35,
     "metadata": {},
     "output_type": "execute_result"
    }
   ],
   "source": [
    "\n",
    "repeated_rows = merged_df[merged_df.duplicated(subset=['A'], keep=False)].sort_values('A')\n",
    "repeated_rows"
   ],
   "metadata": {
    "collapsed": false,
    "pycharm": {
     "name": "#%%\n"
    }
   }
  },
  {
   "cell_type": "code",
   "execution_count": null,
   "outputs": [],
   "source": [],
   "metadata": {
    "collapsed": false,
    "pycharm": {
     "name": "#%%\n"
    }
   }
  }
 ],
 "metadata": {
  "kernelspec": {
   "display_name": "Python 3",
   "language": "python",
   "name": "python3"
  },
  "language_info": {
   "codemirror_mode": {
    "name": "ipython",
    "version": 2
   },
   "file_extension": ".py",
   "mimetype": "text/x-python",
   "name": "python",
   "nbconvert_exporter": "python",
   "pygments_lexer": "ipython2",
   "version": "2.7.6"
  }
 },
 "nbformat": 4,
 "nbformat_minor": 0
}