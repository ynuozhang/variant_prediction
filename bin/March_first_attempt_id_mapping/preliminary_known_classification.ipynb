{
 "cells": [
  {
   "cell_type": "code",
   "execution_count": null,
   "metadata": {
    "collapsed": true
   },
   "outputs": [],
   "source": [
    "\"\"\"see if the UCSF hard threshold is working\n",
    "    the hard LLR threshold is -7.5\n",
    "\"\"\""
   ]
  },
  {
   "cell_type": "code",
   "execution_count": 2,
   "outputs": [],
   "source": [
    "import pandas as pd\n",
    "import matplotlib.pyplot as plt\n",
    "%matplotlib inline"
   ],
   "metadata": {
    "collapsed": false,
    "pycharm": {
     "name": "#%%\n"
    }
   }
  },
  {
   "cell_type": "code",
   "execution_count": 8,
   "outputs": [
    {
     "data": {
      "text/plain": "   uniprot_accession gene_name models     scores         labels locations  \\\n1             Q86YV9      HPS6  esm1b  -6.962340  Likely Benign   R_651_W   \n3             P19438  TNFRSF1A  esm1b -12.945795     Pathogenic    N_94_K   \n5             Q99715   COL12A1  esm1b  -5.032266         Benign  P_3022_S   \n7             P46100      ATRX  esm1b -12.564774     Pathogenic   P_190_L   \n9             O00555   CACNA1A  esm1b -14.452597     Pathogenic   D_714_G   \n11            O15360     FANCA  esm1b  -4.568139  Likely Benign   D_694_N   \n13            P12110    COL6A2  esm1b  -9.019671  Likely Benign   E_846_K   \n14            O75443     TECTA  esm1b  -3.410780  Likely Benign  P_1791_R   \n16            P21817      RYR1  esm1b  -5.644744  Likely Benign   V_440_I   \n19            O15121     DEGS1  esm1b -13.188966     Pathogenic   N_189_D   \n20            A2RRP1      NBAS  esm1b  -4.234088  Likely Benign  R_1408_C   \n22            O15294       OGT  esm1b  -8.933285     Pathogenic   E_498_G   \n25            P52333      JAK3  esm1b  -6.217999  Likely Benign   R_451_Q   \n\n   color  \n1   blue  \n3    red  \n5   blue  \n7    red  \n9    red  \n11  blue  \n13  blue  \n14  blue  \n16  blue  \n19   red  \n20  blue  \n22   red  \n25  blue  ",
      "text/html": "<div>\n<style scoped>\n    .dataframe tbody tr th:only-of-type {\n        vertical-align: middle;\n    }\n\n    .dataframe tbody tr th {\n        vertical-align: top;\n    }\n\n    .dataframe thead th {\n        text-align: right;\n    }\n</style>\n<table border=\"1\" class=\"dataframe\">\n  <thead>\n    <tr style=\"text-align: right;\">\n      <th></th>\n      <th>uniprot_accession</th>\n      <th>gene_name</th>\n      <th>models</th>\n      <th>scores</th>\n      <th>labels</th>\n      <th>locations</th>\n      <th>color</th>\n    </tr>\n  </thead>\n  <tbody>\n    <tr>\n      <th>1</th>\n      <td>Q86YV9</td>\n      <td>HPS6</td>\n      <td>esm1b</td>\n      <td>-6.962340</td>\n      <td>Likely Benign</td>\n      <td>R_651_W</td>\n      <td>blue</td>\n    </tr>\n    <tr>\n      <th>3</th>\n      <td>P19438</td>\n      <td>TNFRSF1A</td>\n      <td>esm1b</td>\n      <td>-12.945795</td>\n      <td>Pathogenic</td>\n      <td>N_94_K</td>\n      <td>red</td>\n    </tr>\n    <tr>\n      <th>5</th>\n      <td>Q99715</td>\n      <td>COL12A1</td>\n      <td>esm1b</td>\n      <td>-5.032266</td>\n      <td>Benign</td>\n      <td>P_3022_S</td>\n      <td>blue</td>\n    </tr>\n    <tr>\n      <th>7</th>\n      <td>P46100</td>\n      <td>ATRX</td>\n      <td>esm1b</td>\n      <td>-12.564774</td>\n      <td>Pathogenic</td>\n      <td>P_190_L</td>\n      <td>red</td>\n    </tr>\n    <tr>\n      <th>9</th>\n      <td>O00555</td>\n      <td>CACNA1A</td>\n      <td>esm1b</td>\n      <td>-14.452597</td>\n      <td>Pathogenic</td>\n      <td>D_714_G</td>\n      <td>red</td>\n    </tr>\n    <tr>\n      <th>11</th>\n      <td>O15360</td>\n      <td>FANCA</td>\n      <td>esm1b</td>\n      <td>-4.568139</td>\n      <td>Likely Benign</td>\n      <td>D_694_N</td>\n      <td>blue</td>\n    </tr>\n    <tr>\n      <th>13</th>\n      <td>P12110</td>\n      <td>COL6A2</td>\n      <td>esm1b</td>\n      <td>-9.019671</td>\n      <td>Likely Benign</td>\n      <td>E_846_K</td>\n      <td>blue</td>\n    </tr>\n    <tr>\n      <th>14</th>\n      <td>O75443</td>\n      <td>TECTA</td>\n      <td>esm1b</td>\n      <td>-3.410780</td>\n      <td>Likely Benign</td>\n      <td>P_1791_R</td>\n      <td>blue</td>\n    </tr>\n    <tr>\n      <th>16</th>\n      <td>P21817</td>\n      <td>RYR1</td>\n      <td>esm1b</td>\n      <td>-5.644744</td>\n      <td>Likely Benign</td>\n      <td>V_440_I</td>\n      <td>blue</td>\n    </tr>\n    <tr>\n      <th>19</th>\n      <td>O15121</td>\n      <td>DEGS1</td>\n      <td>esm1b</td>\n      <td>-13.188966</td>\n      <td>Pathogenic</td>\n      <td>N_189_D</td>\n      <td>red</td>\n    </tr>\n    <tr>\n      <th>20</th>\n      <td>A2RRP1</td>\n      <td>NBAS</td>\n      <td>esm1b</td>\n      <td>-4.234088</td>\n      <td>Likely Benign</td>\n      <td>R_1408_C</td>\n      <td>blue</td>\n    </tr>\n    <tr>\n      <th>22</th>\n      <td>O15294</td>\n      <td>OGT</td>\n      <td>esm1b</td>\n      <td>-8.933285</td>\n      <td>Pathogenic</td>\n      <td>E_498_G</td>\n      <td>red</td>\n    </tr>\n    <tr>\n      <th>25</th>\n      <td>P52333</td>\n      <td>JAK3</td>\n      <td>esm1b</td>\n      <td>-6.217999</td>\n      <td>Likely Benign</td>\n      <td>R_451_Q</td>\n      <td>blue</td>\n    </tr>\n  </tbody>\n</table>\n</div>"
     },
     "execution_count": 8,
     "metadata": {},
     "output_type": "execute_result"
    }
   ],
   "source": [
    "# read previously calculated scores for the known variants\n",
    "df = pd.read_csv('/data/rozen/home/e0833634/variant_prediction/single_VUS/known_variants_scores_organized.csv', index_col=0)\n",
    "df = df[df['models'] == 'esm1b']\n",
    "df"
   ],
   "metadata": {
    "collapsed": false,
    "pycharm": {
     "name": "#%%\n"
    }
   }
  },
  {
   "cell_type": "code",
   "execution_count": 9,
   "outputs": [
    {
     "data": {
      "text/plain": "   uniprot_accession gene_name models     scores         labels locations  \\\n1             Q86YV9      HPS6  esm1b  -6.962340  Likely Benign   R_651_W   \n3             P19438  TNFRSF1A  esm1b -12.945795     Pathogenic    N_94_K   \n5             Q99715   COL12A1  esm1b  -5.032266         Benign  P_3022_S   \n7             P46100      ATRX  esm1b -12.564774     Pathogenic   P_190_L   \n9             O00555   CACNA1A  esm1b -14.452597     Pathogenic   D_714_G   \n11            O15360     FANCA  esm1b  -4.568139  Likely Benign   D_694_N   \n13            P12110    COL6A2  esm1b  -9.019671  Likely Benign   E_846_K   \n14            O75443     TECTA  esm1b  -3.410780  Likely Benign  P_1791_R   \n16            P21817      RYR1  esm1b  -5.644744  Likely Benign   V_440_I   \n19            O15121     DEGS1  esm1b -13.188966     Pathogenic   N_189_D   \n20            A2RRP1      NBAS  esm1b  -4.234088  Likely Benign  R_1408_C   \n22            O15294       OGT  esm1b  -8.933285     Pathogenic   E_498_G   \n25            P52333      JAK3  esm1b  -6.217999  Likely Benign   R_451_Q   \n\n   color UCSF_hard_threshold  \n1   blue              benign  \n3    red          pathogenic  \n5   blue              benign  \n7    red          pathogenic  \n9    red          pathogenic  \n11  blue              benign  \n13  blue          pathogenic  \n14  blue              benign  \n16  blue              benign  \n19   red          pathogenic  \n20  blue              benign  \n22   red          pathogenic  \n25  blue              benign  ",
      "text/html": "<div>\n<style scoped>\n    .dataframe tbody tr th:only-of-type {\n        vertical-align: middle;\n    }\n\n    .dataframe tbody tr th {\n        vertical-align: top;\n    }\n\n    .dataframe thead th {\n        text-align: right;\n    }\n</style>\n<table border=\"1\" class=\"dataframe\">\n  <thead>\n    <tr style=\"text-align: right;\">\n      <th></th>\n      <th>uniprot_accession</th>\n      <th>gene_name</th>\n      <th>models</th>\n      <th>scores</th>\n      <th>labels</th>\n      <th>locations</th>\n      <th>color</th>\n      <th>UCSF_hard_threshold</th>\n    </tr>\n  </thead>\n  <tbody>\n    <tr>\n      <th>1</th>\n      <td>Q86YV9</td>\n      <td>HPS6</td>\n      <td>esm1b</td>\n      <td>-6.962340</td>\n      <td>Likely Benign</td>\n      <td>R_651_W</td>\n      <td>blue</td>\n      <td>benign</td>\n    </tr>\n    <tr>\n      <th>3</th>\n      <td>P19438</td>\n      <td>TNFRSF1A</td>\n      <td>esm1b</td>\n      <td>-12.945795</td>\n      <td>Pathogenic</td>\n      <td>N_94_K</td>\n      <td>red</td>\n      <td>pathogenic</td>\n    </tr>\n    <tr>\n      <th>5</th>\n      <td>Q99715</td>\n      <td>COL12A1</td>\n      <td>esm1b</td>\n      <td>-5.032266</td>\n      <td>Benign</td>\n      <td>P_3022_S</td>\n      <td>blue</td>\n      <td>benign</td>\n    </tr>\n    <tr>\n      <th>7</th>\n      <td>P46100</td>\n      <td>ATRX</td>\n      <td>esm1b</td>\n      <td>-12.564774</td>\n      <td>Pathogenic</td>\n      <td>P_190_L</td>\n      <td>red</td>\n      <td>pathogenic</td>\n    </tr>\n    <tr>\n      <th>9</th>\n      <td>O00555</td>\n      <td>CACNA1A</td>\n      <td>esm1b</td>\n      <td>-14.452597</td>\n      <td>Pathogenic</td>\n      <td>D_714_G</td>\n      <td>red</td>\n      <td>pathogenic</td>\n    </tr>\n    <tr>\n      <th>11</th>\n      <td>O15360</td>\n      <td>FANCA</td>\n      <td>esm1b</td>\n      <td>-4.568139</td>\n      <td>Likely Benign</td>\n      <td>D_694_N</td>\n      <td>blue</td>\n      <td>benign</td>\n    </tr>\n    <tr>\n      <th>13</th>\n      <td>P12110</td>\n      <td>COL6A2</td>\n      <td>esm1b</td>\n      <td>-9.019671</td>\n      <td>Likely Benign</td>\n      <td>E_846_K</td>\n      <td>blue</td>\n      <td>pathogenic</td>\n    </tr>\n    <tr>\n      <th>14</th>\n      <td>O75443</td>\n      <td>TECTA</td>\n      <td>esm1b</td>\n      <td>-3.410780</td>\n      <td>Likely Benign</td>\n      <td>P_1791_R</td>\n      <td>blue</td>\n      <td>benign</td>\n    </tr>\n    <tr>\n      <th>16</th>\n      <td>P21817</td>\n      <td>RYR1</td>\n      <td>esm1b</td>\n      <td>-5.644744</td>\n      <td>Likely Benign</td>\n      <td>V_440_I</td>\n      <td>blue</td>\n      <td>benign</td>\n    </tr>\n    <tr>\n      <th>19</th>\n      <td>O15121</td>\n      <td>DEGS1</td>\n      <td>esm1b</td>\n      <td>-13.188966</td>\n      <td>Pathogenic</td>\n      <td>N_189_D</td>\n      <td>red</td>\n      <td>pathogenic</td>\n    </tr>\n    <tr>\n      <th>20</th>\n      <td>A2RRP1</td>\n      <td>NBAS</td>\n      <td>esm1b</td>\n      <td>-4.234088</td>\n      <td>Likely Benign</td>\n      <td>R_1408_C</td>\n      <td>blue</td>\n      <td>benign</td>\n    </tr>\n    <tr>\n      <th>22</th>\n      <td>O15294</td>\n      <td>OGT</td>\n      <td>esm1b</td>\n      <td>-8.933285</td>\n      <td>Pathogenic</td>\n      <td>E_498_G</td>\n      <td>red</td>\n      <td>pathogenic</td>\n    </tr>\n    <tr>\n      <th>25</th>\n      <td>P52333</td>\n      <td>JAK3</td>\n      <td>esm1b</td>\n      <td>-6.217999</td>\n      <td>Likely Benign</td>\n      <td>R_451_Q</td>\n      <td>blue</td>\n      <td>benign</td>\n    </tr>\n  </tbody>\n</table>\n</div>"
     },
     "execution_count": 9,
     "metadata": {},
     "output_type": "execute_result"
    }
   ],
   "source": [
    "def assign_gaussian_threshold(row):\n",
    "    if row >= -7.5:\n",
    "        return 'benign'\n",
    "    else:\n",
    "        return 'pathogenic'\n",
    "\n",
    "\n",
    "df['UCSF_hard_threshold'] = df['scores'].apply(assign_gaussian_threshold)\n",
    "df"
   ],
   "metadata": {
    "collapsed": false,
    "pycharm": {
     "name": "#%%\n"
    }
   }
  },
  {
   "cell_type": "code",
   "execution_count": 11,
   "outputs": [
    {
     "data": {
      "text/plain": "   uniprot_accession gene_name models     scores         labels locations  \\\n1             Q86YV9      HPS6  esm1b  -6.962340  Likely Benign   R_651_W   \n3             P19438  TNFRSF1A  esm1b -12.945795     Pathogenic    N_94_K   \n5             Q99715   COL12A1  esm1b  -5.032266         Benign  P_3022_S   \n7             P46100      ATRX  esm1b -12.564774     Pathogenic   P_190_L   \n9             O00555   CACNA1A  esm1b -14.452597     Pathogenic   D_714_G   \n11            O15360     FANCA  esm1b  -4.568139  Likely Benign   D_694_N   \n13            P12110    COL6A2  esm1b  -9.019671  Likely Benign   E_846_K   \n14            O75443     TECTA  esm1b  -3.410780  Likely Benign  P_1791_R   \n16            P21817      RYR1  esm1b  -5.644744  Likely Benign   V_440_I   \n19            O15121     DEGS1  esm1b -13.188966     Pathogenic   N_189_D   \n20            A2RRP1      NBAS  esm1b  -4.234088  Likely Benign  R_1408_C   \n22            O15294       OGT  esm1b  -8.933285     Pathogenic   E_498_G   \n25            P52333      JAK3  esm1b  -6.217999  Likely Benign   R_451_Q   \n\n   color UCSF_hard_threshold conflict_check  \n1   blue              benign          match  \n3    red          pathogenic          match  \n5   blue              benign          match  \n7    red          pathogenic          match  \n9    red          pathogenic          match  \n11  blue              benign          match  \n13  blue          pathogenic       conflict  \n14  blue              benign          match  \n16  blue              benign          match  \n19   red          pathogenic          match  \n20  blue              benign          match  \n22   red          pathogenic          match  \n25  blue              benign          match  ",
      "text/html": "<div>\n<style scoped>\n    .dataframe tbody tr th:only-of-type {\n        vertical-align: middle;\n    }\n\n    .dataframe tbody tr th {\n        vertical-align: top;\n    }\n\n    .dataframe thead th {\n        text-align: right;\n    }\n</style>\n<table border=\"1\" class=\"dataframe\">\n  <thead>\n    <tr style=\"text-align: right;\">\n      <th></th>\n      <th>uniprot_accession</th>\n      <th>gene_name</th>\n      <th>models</th>\n      <th>scores</th>\n      <th>labels</th>\n      <th>locations</th>\n      <th>color</th>\n      <th>UCSF_hard_threshold</th>\n      <th>conflict_check</th>\n    </tr>\n  </thead>\n  <tbody>\n    <tr>\n      <th>1</th>\n      <td>Q86YV9</td>\n      <td>HPS6</td>\n      <td>esm1b</td>\n      <td>-6.962340</td>\n      <td>Likely Benign</td>\n      <td>R_651_W</td>\n      <td>blue</td>\n      <td>benign</td>\n      <td>match</td>\n    </tr>\n    <tr>\n      <th>3</th>\n      <td>P19438</td>\n      <td>TNFRSF1A</td>\n      <td>esm1b</td>\n      <td>-12.945795</td>\n      <td>Pathogenic</td>\n      <td>N_94_K</td>\n      <td>red</td>\n      <td>pathogenic</td>\n      <td>match</td>\n    </tr>\n    <tr>\n      <th>5</th>\n      <td>Q99715</td>\n      <td>COL12A1</td>\n      <td>esm1b</td>\n      <td>-5.032266</td>\n      <td>Benign</td>\n      <td>P_3022_S</td>\n      <td>blue</td>\n      <td>benign</td>\n      <td>match</td>\n    </tr>\n    <tr>\n      <th>7</th>\n      <td>P46100</td>\n      <td>ATRX</td>\n      <td>esm1b</td>\n      <td>-12.564774</td>\n      <td>Pathogenic</td>\n      <td>P_190_L</td>\n      <td>red</td>\n      <td>pathogenic</td>\n      <td>match</td>\n    </tr>\n    <tr>\n      <th>9</th>\n      <td>O00555</td>\n      <td>CACNA1A</td>\n      <td>esm1b</td>\n      <td>-14.452597</td>\n      <td>Pathogenic</td>\n      <td>D_714_G</td>\n      <td>red</td>\n      <td>pathogenic</td>\n      <td>match</td>\n    </tr>\n    <tr>\n      <th>11</th>\n      <td>O15360</td>\n      <td>FANCA</td>\n      <td>esm1b</td>\n      <td>-4.568139</td>\n      <td>Likely Benign</td>\n      <td>D_694_N</td>\n      <td>blue</td>\n      <td>benign</td>\n      <td>match</td>\n    </tr>\n    <tr>\n      <th>13</th>\n      <td>P12110</td>\n      <td>COL6A2</td>\n      <td>esm1b</td>\n      <td>-9.019671</td>\n      <td>Likely Benign</td>\n      <td>E_846_K</td>\n      <td>blue</td>\n      <td>pathogenic</td>\n      <td>conflict</td>\n    </tr>\n    <tr>\n      <th>14</th>\n      <td>O75443</td>\n      <td>TECTA</td>\n      <td>esm1b</td>\n      <td>-3.410780</td>\n      <td>Likely Benign</td>\n      <td>P_1791_R</td>\n      <td>blue</td>\n      <td>benign</td>\n      <td>match</td>\n    </tr>\n    <tr>\n      <th>16</th>\n      <td>P21817</td>\n      <td>RYR1</td>\n      <td>esm1b</td>\n      <td>-5.644744</td>\n      <td>Likely Benign</td>\n      <td>V_440_I</td>\n      <td>blue</td>\n      <td>benign</td>\n      <td>match</td>\n    </tr>\n    <tr>\n      <th>19</th>\n      <td>O15121</td>\n      <td>DEGS1</td>\n      <td>esm1b</td>\n      <td>-13.188966</td>\n      <td>Pathogenic</td>\n      <td>N_189_D</td>\n      <td>red</td>\n      <td>pathogenic</td>\n      <td>match</td>\n    </tr>\n    <tr>\n      <th>20</th>\n      <td>A2RRP1</td>\n      <td>NBAS</td>\n      <td>esm1b</td>\n      <td>-4.234088</td>\n      <td>Likely Benign</td>\n      <td>R_1408_C</td>\n      <td>blue</td>\n      <td>benign</td>\n      <td>match</td>\n    </tr>\n    <tr>\n      <th>22</th>\n      <td>O15294</td>\n      <td>OGT</td>\n      <td>esm1b</td>\n      <td>-8.933285</td>\n      <td>Pathogenic</td>\n      <td>E_498_G</td>\n      <td>red</td>\n      <td>pathogenic</td>\n      <td>match</td>\n    </tr>\n    <tr>\n      <th>25</th>\n      <td>P52333</td>\n      <td>JAK3</td>\n      <td>esm1b</td>\n      <td>-6.217999</td>\n      <td>Likely Benign</td>\n      <td>R_451_Q</td>\n      <td>blue</td>\n      <td>benign</td>\n      <td>match</td>\n    </tr>\n  </tbody>\n</table>\n</div>"
     },
     "execution_count": 11,
     "metadata": {},
     "output_type": "execute_result"
    }
   ],
   "source": [
    "def check_conflicts_actual_vs_hard_threshold(row):\n",
    "    if row['UCSF_hard_threshold'] in row['labels'].lower():\n",
    "        return 'match'\n",
    "    else:\n",
    "        return 'conflict'\n",
    "\n",
    "df['conflict_check'] = df.apply(lambda row: check_conflicts_actual_vs_hard_threshold(row), axis=1)\n",
    "df"
   ],
   "metadata": {
    "collapsed": false,
    "pycharm": {
     "name": "#%%\n"
    }
   }
  },
  {
   "cell_type": "code",
   "execution_count": 12,
   "outputs": [],
   "source": [
    "import plotly.express as px\n",
    "import plotly.graph_objs as go"
   ],
   "metadata": {
    "collapsed": false,
    "pycharm": {
     "name": "#%%\n"
    }
   }
  },
  {
   "cell_type": "code",
   "execution_count": 15,
   "outputs": [
    {
     "data": {
      "application/vnd.plotly.v1+json": {
       "data": [
        {
         "alignmentgroup": "True",
         "boxpoints": "all",
         "customdata": [
          [
           "Q86YV9",
           "esm1b",
           "Likely Benign",
           "R_651_W"
          ],
          [
           "Q99715",
           "esm1b",
           "Benign",
           "P_3022_S"
          ],
          [
           "O15360",
           "esm1b",
           "Likely Benign",
           "D_694_N"
          ],
          [
           "P12110",
           "esm1b",
           "Likely Benign",
           "E_846_K"
          ],
          [
           "O75443",
           "esm1b",
           "Likely Benign",
           "P_1791_R"
          ],
          [
           "P21817",
           "esm1b",
           "Likely Benign",
           "V_440_I"
          ],
          [
           "A2RRP1",
           "esm1b",
           "Likely Benign",
           "R_1408_C"
          ],
          [
           "P52333",
           "esm1b",
           "Likely Benign",
           "R_451_Q"
          ]
         ],
         "fillcolor": "rgba(255,255,255,0)",
         "hoveron": "points",
         "hovertemplate": "<b>%{hovertext}</b><br><br>color=blue<br>scores=%{x}<br>gene_name=%{y}<br>models=%{customdata[1]}<br>labels=%{customdata[2]}<br>locations=%{customdata[3]}<extra></extra>",
         "hovertext": [
          "Q86YV9",
          "Q99715",
          "O15360",
          "P12110",
          "O75443",
          "P21817",
          "A2RRP1",
          "P52333"
         ],
         "legendgroup": "blue",
         "line": {
          "color": "rgba(255,255,255,0)"
         },
         "marker": {
          "color": "#636efa"
         },
         "name": "blue",
         "offsetgroup": "blue",
         "orientation": "h",
         "pointpos": 0,
         "showlegend": true,
         "x": [
          -6.96234,
          -5.032266,
          -4.5681386,
          -9.0196705,
          -3.41078,
          -5.644744,
          -4.234088,
          -6.217999
         ],
         "x0": " ",
         "xaxis": "x",
         "y": [
          "HPS6",
          "COL12A1",
          "FANCA",
          "COL6A2",
          "TECTA",
          "RYR1",
          "NBAS",
          "JAK3"
         ],
         "y0": " ",
         "yaxis": "y",
         "type": "box"
        },
        {
         "alignmentgroup": "True",
         "boxpoints": "all",
         "customdata": [
          [
           "P19438",
           "esm1b",
           "Pathogenic",
           "N_94_K"
          ],
          [
           "P46100",
           "esm1b",
           "Pathogenic",
           "P_190_L"
          ],
          [
           "O00555",
           "esm1b",
           "Pathogenic",
           "D_714_G"
          ],
          [
           "O15121",
           "esm1b",
           "Pathogenic",
           "N_189_D"
          ],
          [
           "O15294",
           "esm1b",
           "Pathogenic",
           "E_498_G"
          ]
         ],
         "fillcolor": "rgba(255,255,255,0)",
         "hoveron": "points",
         "hovertemplate": "<b>%{hovertext}</b><br><br>color=red<br>scores=%{x}<br>gene_name=%{y}<br>models=%{customdata[1]}<br>labels=%{customdata[2]}<br>locations=%{customdata[3]}<extra></extra>",
         "hovertext": [
          "P19438",
          "P46100",
          "O00555",
          "O15121",
          "O15294"
         ],
         "legendgroup": "red",
         "line": {
          "color": "rgba(255,255,255,0)"
         },
         "marker": {
          "color": "#EF553B"
         },
         "name": "red",
         "offsetgroup": "red",
         "orientation": "h",
         "pointpos": 0,
         "showlegend": true,
         "x": [
          -12.945795,
          -12.564774,
          -14.452597,
          -13.188966,
          -8.933285
         ],
         "x0": " ",
         "xaxis": "x",
         "y": [
          "TNFRSF1A",
          "ATRX",
          "CACNA1A",
          "DEGS1",
          "OGT"
         ],
         "y0": " ",
         "yaxis": "y",
         "type": "box"
        }
       ],
       "layout": {
        "template": {
         "data": {
          "histogram2dcontour": [
           {
            "type": "histogram2dcontour",
            "colorbar": {
             "outlinewidth": 0,
             "ticks": ""
            },
            "colorscale": [
             [
              0.0,
              "#0d0887"
             ],
             [
              0.1111111111111111,
              "#46039f"
             ],
             [
              0.2222222222222222,
              "#7201a8"
             ],
             [
              0.3333333333333333,
              "#9c179e"
             ],
             [
              0.4444444444444444,
              "#bd3786"
             ],
             [
              0.5555555555555556,
              "#d8576b"
             ],
             [
              0.6666666666666666,
              "#ed7953"
             ],
             [
              0.7777777777777778,
              "#fb9f3a"
             ],
             [
              0.8888888888888888,
              "#fdca26"
             ],
             [
              1.0,
              "#f0f921"
             ]
            ]
           }
          ],
          "choropleth": [
           {
            "type": "choropleth",
            "colorbar": {
             "outlinewidth": 0,
             "ticks": ""
            }
           }
          ],
          "histogram2d": [
           {
            "type": "histogram2d",
            "colorbar": {
             "outlinewidth": 0,
             "ticks": ""
            },
            "colorscale": [
             [
              0.0,
              "#0d0887"
             ],
             [
              0.1111111111111111,
              "#46039f"
             ],
             [
              0.2222222222222222,
              "#7201a8"
             ],
             [
              0.3333333333333333,
              "#9c179e"
             ],
             [
              0.4444444444444444,
              "#bd3786"
             ],
             [
              0.5555555555555556,
              "#d8576b"
             ],
             [
              0.6666666666666666,
              "#ed7953"
             ],
             [
              0.7777777777777778,
              "#fb9f3a"
             ],
             [
              0.8888888888888888,
              "#fdca26"
             ],
             [
              1.0,
              "#f0f921"
             ]
            ]
           }
          ],
          "heatmap": [
           {
            "type": "heatmap",
            "colorbar": {
             "outlinewidth": 0,
             "ticks": ""
            },
            "colorscale": [
             [
              0.0,
              "#0d0887"
             ],
             [
              0.1111111111111111,
              "#46039f"
             ],
             [
              0.2222222222222222,
              "#7201a8"
             ],
             [
              0.3333333333333333,
              "#9c179e"
             ],
             [
              0.4444444444444444,
              "#bd3786"
             ],
             [
              0.5555555555555556,
              "#d8576b"
             ],
             [
              0.6666666666666666,
              "#ed7953"
             ],
             [
              0.7777777777777778,
              "#fb9f3a"
             ],
             [
              0.8888888888888888,
              "#fdca26"
             ],
             [
              1.0,
              "#f0f921"
             ]
            ]
           }
          ],
          "heatmapgl": [
           {
            "type": "heatmapgl",
            "colorbar": {
             "outlinewidth": 0,
             "ticks": ""
            },
            "colorscale": [
             [
              0.0,
              "#0d0887"
             ],
             [
              0.1111111111111111,
              "#46039f"
             ],
             [
              0.2222222222222222,
              "#7201a8"
             ],
             [
              0.3333333333333333,
              "#9c179e"
             ],
             [
              0.4444444444444444,
              "#bd3786"
             ],
             [
              0.5555555555555556,
              "#d8576b"
             ],
             [
              0.6666666666666666,
              "#ed7953"
             ],
             [
              0.7777777777777778,
              "#fb9f3a"
             ],
             [
              0.8888888888888888,
              "#fdca26"
             ],
             [
              1.0,
              "#f0f921"
             ]
            ]
           }
          ],
          "contourcarpet": [
           {
            "type": "contourcarpet",
            "colorbar": {
             "outlinewidth": 0,
             "ticks": ""
            }
           }
          ],
          "contour": [
           {
            "type": "contour",
            "colorbar": {
             "outlinewidth": 0,
             "ticks": ""
            },
            "colorscale": [
             [
              0.0,
              "#0d0887"
             ],
             [
              0.1111111111111111,
              "#46039f"
             ],
             [
              0.2222222222222222,
              "#7201a8"
             ],
             [
              0.3333333333333333,
              "#9c179e"
             ],
             [
              0.4444444444444444,
              "#bd3786"
             ],
             [
              0.5555555555555556,
              "#d8576b"
             ],
             [
              0.6666666666666666,
              "#ed7953"
             ],
             [
              0.7777777777777778,
              "#fb9f3a"
             ],
             [
              0.8888888888888888,
              "#fdca26"
             ],
             [
              1.0,
              "#f0f921"
             ]
            ]
           }
          ],
          "surface": [
           {
            "type": "surface",
            "colorbar": {
             "outlinewidth": 0,
             "ticks": ""
            },
            "colorscale": [
             [
              0.0,
              "#0d0887"
             ],
             [
              0.1111111111111111,
              "#46039f"
             ],
             [
              0.2222222222222222,
              "#7201a8"
             ],
             [
              0.3333333333333333,
              "#9c179e"
             ],
             [
              0.4444444444444444,
              "#bd3786"
             ],
             [
              0.5555555555555556,
              "#d8576b"
             ],
             [
              0.6666666666666666,
              "#ed7953"
             ],
             [
              0.7777777777777778,
              "#fb9f3a"
             ],
             [
              0.8888888888888888,
              "#fdca26"
             ],
             [
              1.0,
              "#f0f921"
             ]
            ]
           }
          ],
          "mesh3d": [
           {
            "type": "mesh3d",
            "colorbar": {
             "outlinewidth": 0,
             "ticks": ""
            }
           }
          ],
          "scatter": [
           {
            "fillpattern": {
             "fillmode": "overlay",
             "size": 10,
             "solidity": 0.2
            },
            "type": "scatter"
           }
          ],
          "parcoords": [
           {
            "type": "parcoords",
            "line": {
             "colorbar": {
              "outlinewidth": 0,
              "ticks": ""
             }
            }
           }
          ],
          "scatterpolargl": [
           {
            "type": "scatterpolargl",
            "marker": {
             "colorbar": {
              "outlinewidth": 0,
              "ticks": ""
             }
            }
           }
          ],
          "bar": [
           {
            "error_x": {
             "color": "#2a3f5f"
            },
            "error_y": {
             "color": "#2a3f5f"
            },
            "marker": {
             "line": {
              "color": "#E5ECF6",
              "width": 0.5
             },
             "pattern": {
              "fillmode": "overlay",
              "size": 10,
              "solidity": 0.2
             }
            },
            "type": "bar"
           }
          ],
          "scattergeo": [
           {
            "type": "scattergeo",
            "marker": {
             "colorbar": {
              "outlinewidth": 0,
              "ticks": ""
             }
            }
           }
          ],
          "scatterpolar": [
           {
            "type": "scatterpolar",
            "marker": {
             "colorbar": {
              "outlinewidth": 0,
              "ticks": ""
             }
            }
           }
          ],
          "histogram": [
           {
            "marker": {
             "pattern": {
              "fillmode": "overlay",
              "size": 10,
              "solidity": 0.2
             }
            },
            "type": "histogram"
           }
          ],
          "scattergl": [
           {
            "type": "scattergl",
            "marker": {
             "colorbar": {
              "outlinewidth": 0,
              "ticks": ""
             }
            }
           }
          ],
          "scatter3d": [
           {
            "type": "scatter3d",
            "line": {
             "colorbar": {
              "outlinewidth": 0,
              "ticks": ""
             }
            },
            "marker": {
             "colorbar": {
              "outlinewidth": 0,
              "ticks": ""
             }
            }
           }
          ],
          "scattermapbox": [
           {
            "type": "scattermapbox",
            "marker": {
             "colorbar": {
              "outlinewidth": 0,
              "ticks": ""
             }
            }
           }
          ],
          "scatterternary": [
           {
            "type": "scatterternary",
            "marker": {
             "colorbar": {
              "outlinewidth": 0,
              "ticks": ""
             }
            }
           }
          ],
          "scattercarpet": [
           {
            "type": "scattercarpet",
            "marker": {
             "colorbar": {
              "outlinewidth": 0,
              "ticks": ""
             }
            }
           }
          ],
          "carpet": [
           {
            "aaxis": {
             "endlinecolor": "#2a3f5f",
             "gridcolor": "white",
             "linecolor": "white",
             "minorgridcolor": "white",
             "startlinecolor": "#2a3f5f"
            },
            "baxis": {
             "endlinecolor": "#2a3f5f",
             "gridcolor": "white",
             "linecolor": "white",
             "minorgridcolor": "white",
             "startlinecolor": "#2a3f5f"
            },
            "type": "carpet"
           }
          ],
          "table": [
           {
            "cells": {
             "fill": {
              "color": "#EBF0F8"
             },
             "line": {
              "color": "white"
             }
            },
            "header": {
             "fill": {
              "color": "#C8D4E3"
             },
             "line": {
              "color": "white"
             }
            },
            "type": "table"
           }
          ],
          "barpolar": [
           {
            "marker": {
             "line": {
              "color": "#E5ECF6",
              "width": 0.5
             },
             "pattern": {
              "fillmode": "overlay",
              "size": 10,
              "solidity": 0.2
             }
            },
            "type": "barpolar"
           }
          ],
          "pie": [
           {
            "automargin": true,
            "type": "pie"
           }
          ]
         },
         "layout": {
          "autotypenumbers": "strict",
          "colorway": [
           "#636efa",
           "#EF553B",
           "#00cc96",
           "#ab63fa",
           "#FFA15A",
           "#19d3f3",
           "#FF6692",
           "#B6E880",
           "#FF97FF",
           "#FECB52"
          ],
          "font": {
           "color": "#2a3f5f"
          },
          "hovermode": "closest",
          "hoverlabel": {
           "align": "left"
          },
          "paper_bgcolor": "white",
          "plot_bgcolor": "#E5ECF6",
          "polar": {
           "bgcolor": "#E5ECF6",
           "angularaxis": {
            "gridcolor": "white",
            "linecolor": "white",
            "ticks": ""
           },
           "radialaxis": {
            "gridcolor": "white",
            "linecolor": "white",
            "ticks": ""
           }
          },
          "ternary": {
           "bgcolor": "#E5ECF6",
           "aaxis": {
            "gridcolor": "white",
            "linecolor": "white",
            "ticks": ""
           },
           "baxis": {
            "gridcolor": "white",
            "linecolor": "white",
            "ticks": ""
           },
           "caxis": {
            "gridcolor": "white",
            "linecolor": "white",
            "ticks": ""
           }
          },
          "coloraxis": {
           "colorbar": {
            "outlinewidth": 0,
            "ticks": ""
           }
          },
          "colorscale": {
           "sequential": [
            [
             0.0,
             "#0d0887"
            ],
            [
             0.1111111111111111,
             "#46039f"
            ],
            [
             0.2222222222222222,
             "#7201a8"
            ],
            [
             0.3333333333333333,
             "#9c179e"
            ],
            [
             0.4444444444444444,
             "#bd3786"
            ],
            [
             0.5555555555555556,
             "#d8576b"
            ],
            [
             0.6666666666666666,
             "#ed7953"
            ],
            [
             0.7777777777777778,
             "#fb9f3a"
            ],
            [
             0.8888888888888888,
             "#fdca26"
            ],
            [
             1.0,
             "#f0f921"
            ]
           ],
           "sequentialminus": [
            [
             0.0,
             "#0d0887"
            ],
            [
             0.1111111111111111,
             "#46039f"
            ],
            [
             0.2222222222222222,
             "#7201a8"
            ],
            [
             0.3333333333333333,
             "#9c179e"
            ],
            [
             0.4444444444444444,
             "#bd3786"
            ],
            [
             0.5555555555555556,
             "#d8576b"
            ],
            [
             0.6666666666666666,
             "#ed7953"
            ],
            [
             0.7777777777777778,
             "#fb9f3a"
            ],
            [
             0.8888888888888888,
             "#fdca26"
            ],
            [
             1.0,
             "#f0f921"
            ]
           ],
           "diverging": [
            [
             0,
             "#8e0152"
            ],
            [
             0.1,
             "#c51b7d"
            ],
            [
             0.2,
             "#de77ae"
            ],
            [
             0.3,
             "#f1b6da"
            ],
            [
             0.4,
             "#fde0ef"
            ],
            [
             0.5,
             "#f7f7f7"
            ],
            [
             0.6,
             "#e6f5d0"
            ],
            [
             0.7,
             "#b8e186"
            ],
            [
             0.8,
             "#7fbc41"
            ],
            [
             0.9,
             "#4d9221"
            ],
            [
             1,
             "#276419"
            ]
           ]
          },
          "xaxis": {
           "gridcolor": "white",
           "linecolor": "white",
           "ticks": "",
           "title": {
            "standoff": 15
           },
           "zerolinecolor": "white",
           "automargin": true,
           "zerolinewidth": 2
          },
          "yaxis": {
           "gridcolor": "white",
           "linecolor": "white",
           "ticks": "",
           "title": {
            "standoff": 15
           },
           "zerolinecolor": "white",
           "automargin": true,
           "zerolinewidth": 2
          },
          "scene": {
           "xaxis": {
            "backgroundcolor": "#E5ECF6",
            "gridcolor": "white",
            "linecolor": "white",
            "showbackground": true,
            "ticks": "",
            "zerolinecolor": "white",
            "gridwidth": 2
           },
           "yaxis": {
            "backgroundcolor": "#E5ECF6",
            "gridcolor": "white",
            "linecolor": "white",
            "showbackground": true,
            "ticks": "",
            "zerolinecolor": "white",
            "gridwidth": 2
           },
           "zaxis": {
            "backgroundcolor": "#E5ECF6",
            "gridcolor": "white",
            "linecolor": "white",
            "showbackground": true,
            "ticks": "",
            "zerolinecolor": "white",
            "gridwidth": 2
           }
          },
          "shapedefaults": {
           "line": {
            "color": "#2a3f5f"
           }
          },
          "annotationdefaults": {
           "arrowcolor": "#2a3f5f",
           "arrowhead": 0,
           "arrowwidth": 1
          },
          "geo": {
           "bgcolor": "white",
           "landcolor": "#E5ECF6",
           "subunitcolor": "white",
           "showland": true,
           "showlakes": true,
           "lakecolor": "white"
          },
          "title": {
           "x": 0.05
          },
          "mapbox": {
           "style": "light"
          }
         }
        },
        "xaxis": {
         "anchor": "y",
         "domain": [
          0.0,
          1.0
         ],
         "title": {
          "text": "scores"
         }
        },
        "yaxis": {
         "anchor": "x",
         "domain": [
          0.0,
          1.0
         ],
         "title": {
          "text": "gene_name"
         }
        },
        "legend": {
         "title": {
          "text": "color"
         },
         "tracegroupgap": 0
        },
        "margin": {
         "t": 60
        },
        "boxmode": "group"
       },
       "config": {
        "plotlyServerURL": "https://plot.ly"
       }
      },
      "text/html": "<div>                            <div id=\"d3bbf1d6-6774-4b19-8190-5ac6d693615f\" class=\"plotly-graph-div\" style=\"height:525px; width:100%;\"></div>            <script type=\"text/javascript\">                require([\"plotly\"], function(Plotly) {                    window.PLOTLYENV=window.PLOTLYENV || {};                                    if (document.getElementById(\"d3bbf1d6-6774-4b19-8190-5ac6d693615f\")) {                    Plotly.newPlot(                        \"d3bbf1d6-6774-4b19-8190-5ac6d693615f\",                        [{\"alignmentgroup\":\"True\",\"boxpoints\":\"all\",\"customdata\":[[\"Q86YV9\",\"esm1b\",\"Likely Benign\",\"R_651_W\"],[\"Q99715\",\"esm1b\",\"Benign\",\"P_3022_S\"],[\"O15360\",\"esm1b\",\"Likely Benign\",\"D_694_N\"],[\"P12110\",\"esm1b\",\"Likely Benign\",\"E_846_K\"],[\"O75443\",\"esm1b\",\"Likely Benign\",\"P_1791_R\"],[\"P21817\",\"esm1b\",\"Likely Benign\",\"V_440_I\"],[\"A2RRP1\",\"esm1b\",\"Likely Benign\",\"R_1408_C\"],[\"P52333\",\"esm1b\",\"Likely Benign\",\"R_451_Q\"]],\"fillcolor\":\"rgba(255,255,255,0)\",\"hoveron\":\"points\",\"hovertemplate\":\"<b>%{hovertext}</b><br><br>color=blue<br>scores=%{x}<br>gene_name=%{y}<br>models=%{customdata[1]}<br>labels=%{customdata[2]}<br>locations=%{customdata[3]}<extra></extra>\",\"hovertext\":[\"Q86YV9\",\"Q99715\",\"O15360\",\"P12110\",\"O75443\",\"P21817\",\"A2RRP1\",\"P52333\"],\"legendgroup\":\"blue\",\"line\":{\"color\":\"rgba(255,255,255,0)\"},\"marker\":{\"color\":\"#636efa\"},\"name\":\"blue\",\"offsetgroup\":\"blue\",\"orientation\":\"h\",\"pointpos\":0,\"showlegend\":true,\"x\":[-6.96234,-5.032266,-4.5681386,-9.0196705,-3.41078,-5.644744,-4.234088,-6.217999],\"x0\":\" \",\"xaxis\":\"x\",\"y\":[\"HPS6\",\"COL12A1\",\"FANCA\",\"COL6A2\",\"TECTA\",\"RYR1\",\"NBAS\",\"JAK3\"],\"y0\":\" \",\"yaxis\":\"y\",\"type\":\"box\"},{\"alignmentgroup\":\"True\",\"boxpoints\":\"all\",\"customdata\":[[\"P19438\",\"esm1b\",\"Pathogenic\",\"N_94_K\"],[\"P46100\",\"esm1b\",\"Pathogenic\",\"P_190_L\"],[\"O00555\",\"esm1b\",\"Pathogenic\",\"D_714_G\"],[\"O15121\",\"esm1b\",\"Pathogenic\",\"N_189_D\"],[\"O15294\",\"esm1b\",\"Pathogenic\",\"E_498_G\"]],\"fillcolor\":\"rgba(255,255,255,0)\",\"hoveron\":\"points\",\"hovertemplate\":\"<b>%{hovertext}</b><br><br>color=red<br>scores=%{x}<br>gene_name=%{y}<br>models=%{customdata[1]}<br>labels=%{customdata[2]}<br>locations=%{customdata[3]}<extra></extra>\",\"hovertext\":[\"P19438\",\"P46100\",\"O00555\",\"O15121\",\"O15294\"],\"legendgroup\":\"red\",\"line\":{\"color\":\"rgba(255,255,255,0)\"},\"marker\":{\"color\":\"#EF553B\"},\"name\":\"red\",\"offsetgroup\":\"red\",\"orientation\":\"h\",\"pointpos\":0,\"showlegend\":true,\"x\":[-12.945795,-12.564774,-14.452597,-13.188966,-8.933285],\"x0\":\" \",\"xaxis\":\"x\",\"y\":[\"TNFRSF1A\",\"ATRX\",\"CACNA1A\",\"DEGS1\",\"OGT\"],\"y0\":\" \",\"yaxis\":\"y\",\"type\":\"box\"}],                        {\"template\":{\"data\":{\"histogram2dcontour\":[{\"type\":\"histogram2dcontour\",\"colorbar\":{\"outlinewidth\":0,\"ticks\":\"\"},\"colorscale\":[[0.0,\"#0d0887\"],[0.1111111111111111,\"#46039f\"],[0.2222222222222222,\"#7201a8\"],[0.3333333333333333,\"#9c179e\"],[0.4444444444444444,\"#bd3786\"],[0.5555555555555556,\"#d8576b\"],[0.6666666666666666,\"#ed7953\"],[0.7777777777777778,\"#fb9f3a\"],[0.8888888888888888,\"#fdca26\"],[1.0,\"#f0f921\"]]}],\"choropleth\":[{\"type\":\"choropleth\",\"colorbar\":{\"outlinewidth\":0,\"ticks\":\"\"}}],\"histogram2d\":[{\"type\":\"histogram2d\",\"colorbar\":{\"outlinewidth\":0,\"ticks\":\"\"},\"colorscale\":[[0.0,\"#0d0887\"],[0.1111111111111111,\"#46039f\"],[0.2222222222222222,\"#7201a8\"],[0.3333333333333333,\"#9c179e\"],[0.4444444444444444,\"#bd3786\"],[0.5555555555555556,\"#d8576b\"],[0.6666666666666666,\"#ed7953\"],[0.7777777777777778,\"#fb9f3a\"],[0.8888888888888888,\"#fdca26\"],[1.0,\"#f0f921\"]]}],\"heatmap\":[{\"type\":\"heatmap\",\"colorbar\":{\"outlinewidth\":0,\"ticks\":\"\"},\"colorscale\":[[0.0,\"#0d0887\"],[0.1111111111111111,\"#46039f\"],[0.2222222222222222,\"#7201a8\"],[0.3333333333333333,\"#9c179e\"],[0.4444444444444444,\"#bd3786\"],[0.5555555555555556,\"#d8576b\"],[0.6666666666666666,\"#ed7953\"],[0.7777777777777778,\"#fb9f3a\"],[0.8888888888888888,\"#fdca26\"],[1.0,\"#f0f921\"]]}],\"heatmapgl\":[{\"type\":\"heatmapgl\",\"colorbar\":{\"outlinewidth\":0,\"ticks\":\"\"},\"colorscale\":[[0.0,\"#0d0887\"],[0.1111111111111111,\"#46039f\"],[0.2222222222222222,\"#7201a8\"],[0.3333333333333333,\"#9c179e\"],[0.4444444444444444,\"#bd3786\"],[0.5555555555555556,\"#d8576b\"],[0.6666666666666666,\"#ed7953\"],[0.7777777777777778,\"#fb9f3a\"],[0.8888888888888888,\"#fdca26\"],[1.0,\"#f0f921\"]]}],\"contourcarpet\":[{\"type\":\"contourcarpet\",\"colorbar\":{\"outlinewidth\":0,\"ticks\":\"\"}}],\"contour\":[{\"type\":\"contour\",\"colorbar\":{\"outlinewidth\":0,\"ticks\":\"\"},\"colorscale\":[[0.0,\"#0d0887\"],[0.1111111111111111,\"#46039f\"],[0.2222222222222222,\"#7201a8\"],[0.3333333333333333,\"#9c179e\"],[0.4444444444444444,\"#bd3786\"],[0.5555555555555556,\"#d8576b\"],[0.6666666666666666,\"#ed7953\"],[0.7777777777777778,\"#fb9f3a\"],[0.8888888888888888,\"#fdca26\"],[1.0,\"#f0f921\"]]}],\"surface\":[{\"type\":\"surface\",\"colorbar\":{\"outlinewidth\":0,\"ticks\":\"\"},\"colorscale\":[[0.0,\"#0d0887\"],[0.1111111111111111,\"#46039f\"],[0.2222222222222222,\"#7201a8\"],[0.3333333333333333,\"#9c179e\"],[0.4444444444444444,\"#bd3786\"],[0.5555555555555556,\"#d8576b\"],[0.6666666666666666,\"#ed7953\"],[0.7777777777777778,\"#fb9f3a\"],[0.8888888888888888,\"#fdca26\"],[1.0,\"#f0f921\"]]}],\"mesh3d\":[{\"type\":\"mesh3d\",\"colorbar\":{\"outlinewidth\":0,\"ticks\":\"\"}}],\"scatter\":[{\"fillpattern\":{\"fillmode\":\"overlay\",\"size\":10,\"solidity\":0.2},\"type\":\"scatter\"}],\"parcoords\":[{\"type\":\"parcoords\",\"line\":{\"colorbar\":{\"outlinewidth\":0,\"ticks\":\"\"}}}],\"scatterpolargl\":[{\"type\":\"scatterpolargl\",\"marker\":{\"colorbar\":{\"outlinewidth\":0,\"ticks\":\"\"}}}],\"bar\":[{\"error_x\":{\"color\":\"#2a3f5f\"},\"error_y\":{\"color\":\"#2a3f5f\"},\"marker\":{\"line\":{\"color\":\"#E5ECF6\",\"width\":0.5},\"pattern\":{\"fillmode\":\"overlay\",\"size\":10,\"solidity\":0.2}},\"type\":\"bar\"}],\"scattergeo\":[{\"type\":\"scattergeo\",\"marker\":{\"colorbar\":{\"outlinewidth\":0,\"ticks\":\"\"}}}],\"scatterpolar\":[{\"type\":\"scatterpolar\",\"marker\":{\"colorbar\":{\"outlinewidth\":0,\"ticks\":\"\"}}}],\"histogram\":[{\"marker\":{\"pattern\":{\"fillmode\":\"overlay\",\"size\":10,\"solidity\":0.2}},\"type\":\"histogram\"}],\"scattergl\":[{\"type\":\"scattergl\",\"marker\":{\"colorbar\":{\"outlinewidth\":0,\"ticks\":\"\"}}}],\"scatter3d\":[{\"type\":\"scatter3d\",\"line\":{\"colorbar\":{\"outlinewidth\":0,\"ticks\":\"\"}},\"marker\":{\"colorbar\":{\"outlinewidth\":0,\"ticks\":\"\"}}}],\"scattermapbox\":[{\"type\":\"scattermapbox\",\"marker\":{\"colorbar\":{\"outlinewidth\":0,\"ticks\":\"\"}}}],\"scatterternary\":[{\"type\":\"scatterternary\",\"marker\":{\"colorbar\":{\"outlinewidth\":0,\"ticks\":\"\"}}}],\"scattercarpet\":[{\"type\":\"scattercarpet\",\"marker\":{\"colorbar\":{\"outlinewidth\":0,\"ticks\":\"\"}}}],\"carpet\":[{\"aaxis\":{\"endlinecolor\":\"#2a3f5f\",\"gridcolor\":\"white\",\"linecolor\":\"white\",\"minorgridcolor\":\"white\",\"startlinecolor\":\"#2a3f5f\"},\"baxis\":{\"endlinecolor\":\"#2a3f5f\",\"gridcolor\":\"white\",\"linecolor\":\"white\",\"minorgridcolor\":\"white\",\"startlinecolor\":\"#2a3f5f\"},\"type\":\"carpet\"}],\"table\":[{\"cells\":{\"fill\":{\"color\":\"#EBF0F8\"},\"line\":{\"color\":\"white\"}},\"header\":{\"fill\":{\"color\":\"#C8D4E3\"},\"line\":{\"color\":\"white\"}},\"type\":\"table\"}],\"barpolar\":[{\"marker\":{\"line\":{\"color\":\"#E5ECF6\",\"width\":0.5},\"pattern\":{\"fillmode\":\"overlay\",\"size\":10,\"solidity\":0.2}},\"type\":\"barpolar\"}],\"pie\":[{\"automargin\":true,\"type\":\"pie\"}]},\"layout\":{\"autotypenumbers\":\"strict\",\"colorway\":[\"#636efa\",\"#EF553B\",\"#00cc96\",\"#ab63fa\",\"#FFA15A\",\"#19d3f3\",\"#FF6692\",\"#B6E880\",\"#FF97FF\",\"#FECB52\"],\"font\":{\"color\":\"#2a3f5f\"},\"hovermode\":\"closest\",\"hoverlabel\":{\"align\":\"left\"},\"paper_bgcolor\":\"white\",\"plot_bgcolor\":\"#E5ECF6\",\"polar\":{\"bgcolor\":\"#E5ECF6\",\"angularaxis\":{\"gridcolor\":\"white\",\"linecolor\":\"white\",\"ticks\":\"\"},\"radialaxis\":{\"gridcolor\":\"white\",\"linecolor\":\"white\",\"ticks\":\"\"}},\"ternary\":{\"bgcolor\":\"#E5ECF6\",\"aaxis\":{\"gridcolor\":\"white\",\"linecolor\":\"white\",\"ticks\":\"\"},\"baxis\":{\"gridcolor\":\"white\",\"linecolor\":\"white\",\"ticks\":\"\"},\"caxis\":{\"gridcolor\":\"white\",\"linecolor\":\"white\",\"ticks\":\"\"}},\"coloraxis\":{\"colorbar\":{\"outlinewidth\":0,\"ticks\":\"\"}},\"colorscale\":{\"sequential\":[[0.0,\"#0d0887\"],[0.1111111111111111,\"#46039f\"],[0.2222222222222222,\"#7201a8\"],[0.3333333333333333,\"#9c179e\"],[0.4444444444444444,\"#bd3786\"],[0.5555555555555556,\"#d8576b\"],[0.6666666666666666,\"#ed7953\"],[0.7777777777777778,\"#fb9f3a\"],[0.8888888888888888,\"#fdca26\"],[1.0,\"#f0f921\"]],\"sequentialminus\":[[0.0,\"#0d0887\"],[0.1111111111111111,\"#46039f\"],[0.2222222222222222,\"#7201a8\"],[0.3333333333333333,\"#9c179e\"],[0.4444444444444444,\"#bd3786\"],[0.5555555555555556,\"#d8576b\"],[0.6666666666666666,\"#ed7953\"],[0.7777777777777778,\"#fb9f3a\"],[0.8888888888888888,\"#fdca26\"],[1.0,\"#f0f921\"]],\"diverging\":[[0,\"#8e0152\"],[0.1,\"#c51b7d\"],[0.2,\"#de77ae\"],[0.3,\"#f1b6da\"],[0.4,\"#fde0ef\"],[0.5,\"#f7f7f7\"],[0.6,\"#e6f5d0\"],[0.7,\"#b8e186\"],[0.8,\"#7fbc41\"],[0.9,\"#4d9221\"],[1,\"#276419\"]]},\"xaxis\":{\"gridcolor\":\"white\",\"linecolor\":\"white\",\"ticks\":\"\",\"title\":{\"standoff\":15},\"zerolinecolor\":\"white\",\"automargin\":true,\"zerolinewidth\":2},\"yaxis\":{\"gridcolor\":\"white\",\"linecolor\":\"white\",\"ticks\":\"\",\"title\":{\"standoff\":15},\"zerolinecolor\":\"white\",\"automargin\":true,\"zerolinewidth\":2},\"scene\":{\"xaxis\":{\"backgroundcolor\":\"#E5ECF6\",\"gridcolor\":\"white\",\"linecolor\":\"white\",\"showbackground\":true,\"ticks\":\"\",\"zerolinecolor\":\"white\",\"gridwidth\":2},\"yaxis\":{\"backgroundcolor\":\"#E5ECF6\",\"gridcolor\":\"white\",\"linecolor\":\"white\",\"showbackground\":true,\"ticks\":\"\",\"zerolinecolor\":\"white\",\"gridwidth\":2},\"zaxis\":{\"backgroundcolor\":\"#E5ECF6\",\"gridcolor\":\"white\",\"linecolor\":\"white\",\"showbackground\":true,\"ticks\":\"\",\"zerolinecolor\":\"white\",\"gridwidth\":2}},\"shapedefaults\":{\"line\":{\"color\":\"#2a3f5f\"}},\"annotationdefaults\":{\"arrowcolor\":\"#2a3f5f\",\"arrowhead\":0,\"arrowwidth\":1},\"geo\":{\"bgcolor\":\"white\",\"landcolor\":\"#E5ECF6\",\"subunitcolor\":\"white\",\"showland\":true,\"showlakes\":true,\"lakecolor\":\"white\"},\"title\":{\"x\":0.05},\"mapbox\":{\"style\":\"light\"}}},\"xaxis\":{\"anchor\":\"y\",\"domain\":[0.0,1.0],\"title\":{\"text\":\"scores\"}},\"yaxis\":{\"anchor\":\"x\",\"domain\":[0.0,1.0],\"title\":{\"text\":\"gene_name\"}},\"legend\":{\"title\":{\"text\":\"color\"},\"tracegroupgap\":0},\"margin\":{\"t\":60},\"boxmode\":\"group\"},                        {\"responsive\": true}                    ).then(function(){\n                            \nvar gd = document.getElementById('d3bbf1d6-6774-4b19-8190-5ac6d693615f');\nvar x = new MutationObserver(function (mutations, observer) {{\n        var display = window.getComputedStyle(gd).display;\n        if (!display || display === 'none') {{\n            console.log([gd, 'removed!']);\n            Plotly.purge(gd);\n            observer.disconnect();\n        }}\n}});\n\n// Listen for the removal of the full notebook cells\nvar notebookContainer = gd.closest('#notebook-container');\nif (notebookContainer) {{\n    x.observe(notebookContainer, {childList: true});\n}}\n\n// Listen for the clearing of the current output cell\nvar outputEl = gd.closest('.output');\nif (outputEl) {{\n    x.observe(outputEl, {childList: true});\n}}\n\n                        })                };                });            </script>        </div>"
     },
     "metadata": {},
     "output_type": "display_data"
    }
   ],
   "source": [
    "# plot the conflicts\n",
    "fig = px.strip(df, x='scores', y='gene_name', color='color',\n",
    "               hover_name='uniprot_accession',\n",
    "               hover_data={'uniprot_accession': False,\n",
    "                           'models': True,\n",
    "                           'labels':True,\n",
    "                           'locations':True,\n",
    "                           'scores': True})\n",
    "fig.show()"
   ],
   "metadata": {
    "collapsed": false,
    "pycharm": {
     "name": "#%%\n"
    }
   }
  },
  {
   "cell_type": "code",
   "execution_count": 14,
   "outputs": [],
   "source": [
    "# re-organize clinvar calculated scores (~140 unique each, but one have multiple variants. over/well-studied proteins)\n",
    "import warnings\n",
    "from pandas.core.common import SettingWithCopyWarning\n",
    "warnings.simplefilter(action=\"ignore\", category=SettingWithCopyWarning)"
   ],
   "metadata": {
    "collapsed": false,
    "pycharm": {
     "name": "#%%\n"
    }
   }
  },
  {
   "cell_type": "code",
   "execution_count": null,
   "outputs": [],
   "source": [],
   "metadata": {
    "collapsed": false,
    "pycharm": {
     "name": "#%%\n"
    }
   }
  }
 ],
 "metadata": {
  "kernelspec": {
   "display_name": "Python 3",
   "language": "python",
   "name": "python3"
  },
  "language_info": {
   "codemirror_mode": {
    "name": "ipython",
    "version": 2
   },
   "file_extension": ".py",
   "mimetype": "text/x-python",
   "name": "python",
   "nbconvert_exporter": "python",
   "pygments_lexer": "ipython2",
   "version": "2.7.6"
  }
 },
 "nbformat": 4,
 "nbformat_minor": 0
}