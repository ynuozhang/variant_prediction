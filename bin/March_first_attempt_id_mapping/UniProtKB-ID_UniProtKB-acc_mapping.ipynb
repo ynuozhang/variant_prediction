{
 "cells": [
  {
   "cell_type": "code",
   "execution_count": 1,
   "metadata": {
    "collapsed": true
   },
   "outputs": [],
   "source": [
    "import pandas as pd\n",
    "import numpy as np"
   ]
  },
  {
   "cell_type": "code",
   "execution_count": 44,
   "outputs": [
    {
     "data": {
      "text/plain": "       UniProtKB-AC            ID\n0            P31946   1433B_HUMAN\n1            P62258   1433E_HUMAN\n2            Q04917   1433F_HUMAN\n3            P61981   1433G_HUMAN\n4            P31947   1433S_HUMAN\n...             ...           ...\n207044       Q5ZEY9  Q5ZEY9_HUMAN\n207045       V9H1E3  V9H1E3_HUMAN\n207046       B4E0L3  B4E0L3_HUMAN\n207047       Q59FC1  Q59FC1_HUMAN\n207048       G3CIH7  G3CIH7_HUMAN\n\n[207049 rows x 2 columns]",
      "text/html": "<div>\n<style scoped>\n    .dataframe tbody tr th:only-of-type {\n        vertical-align: middle;\n    }\n\n    .dataframe tbody tr th {\n        vertical-align: top;\n    }\n\n    .dataframe thead th {\n        text-align: right;\n    }\n</style>\n<table border=\"1\" class=\"dataframe\">\n  <thead>\n    <tr style=\"text-align: right;\">\n      <th></th>\n      <th>UniProtKB-AC</th>\n      <th>ID</th>\n    </tr>\n  </thead>\n  <tbody>\n    <tr>\n      <th>0</th>\n      <td>P31946</td>\n      <td>1433B_HUMAN</td>\n    </tr>\n    <tr>\n      <th>1</th>\n      <td>P62258</td>\n      <td>1433E_HUMAN</td>\n    </tr>\n    <tr>\n      <th>2</th>\n      <td>Q04917</td>\n      <td>1433F_HUMAN</td>\n    </tr>\n    <tr>\n      <th>3</th>\n      <td>P61981</td>\n      <td>1433G_HUMAN</td>\n    </tr>\n    <tr>\n      <th>4</th>\n      <td>P31947</td>\n      <td>1433S_HUMAN</td>\n    </tr>\n    <tr>\n      <th>...</th>\n      <td>...</td>\n      <td>...</td>\n    </tr>\n    <tr>\n      <th>207044</th>\n      <td>Q5ZEY9</td>\n      <td>Q5ZEY9_HUMAN</td>\n    </tr>\n    <tr>\n      <th>207045</th>\n      <td>V9H1E3</td>\n      <td>V9H1E3_HUMAN</td>\n    </tr>\n    <tr>\n      <th>207046</th>\n      <td>B4E0L3</td>\n      <td>B4E0L3_HUMAN</td>\n    </tr>\n    <tr>\n      <th>207047</th>\n      <td>Q59FC1</td>\n      <td>Q59FC1_HUMAN</td>\n    </tr>\n    <tr>\n      <th>207048</th>\n      <td>G3CIH7</td>\n      <td>G3CIH7_HUMAN</td>\n    </tr>\n  </tbody>\n</table>\n<p>207049 rows × 2 columns</p>\n</div>"
     },
     "execution_count": 44,
     "metadata": {},
     "output_type": "execute_result"
    }
   ],
   "source": [
    "df_uniprotid = pd.read_csv('./data/metas/uniprotid_uniprot_mapping.csv')\n",
    "df_uniprotid"
   ],
   "metadata": {
    "collapsed": false,
    "pycharm": {
     "name": "#%%\n"
    }
   }
  },
  {
   "cell_type": "code",
   "execution_count": 45,
   "outputs": [
    {
     "data": {
      "text/plain": "       UniProtKB-AC             ID\n0          P31946-1  UPI000013C714\n1          P31946-2  UPI000059C8F6\n2            P31946  UPI000013C714\n3          P62258-2  UPI00001E6021\n4          P62258-1  UPI0000021A46\n...             ...            ...\n239679       Q5ZEY9  UPI0000450360\n239680       V9H1E3  UPI000011E201\n239681       B4E0L3  UPI00017A8581\n239682       Q59FC1  UPI00004F6D35\n239683       G3CIH7  UPI00021E9B23\n\n[239684 rows x 2 columns]",
      "text/html": "<div>\n<style scoped>\n    .dataframe tbody tr th:only-of-type {\n        vertical-align: middle;\n    }\n\n    .dataframe tbody tr th {\n        vertical-align: top;\n    }\n\n    .dataframe thead th {\n        text-align: right;\n    }\n</style>\n<table border=\"1\" class=\"dataframe\">\n  <thead>\n    <tr style=\"text-align: right;\">\n      <th></th>\n      <th>UniProtKB-AC</th>\n      <th>ID</th>\n    </tr>\n  </thead>\n  <tbody>\n    <tr>\n      <th>0</th>\n      <td>P31946-1</td>\n      <td>UPI000013C714</td>\n    </tr>\n    <tr>\n      <th>1</th>\n      <td>P31946-2</td>\n      <td>UPI000059C8F6</td>\n    </tr>\n    <tr>\n      <th>2</th>\n      <td>P31946</td>\n      <td>UPI000013C714</td>\n    </tr>\n    <tr>\n      <th>3</th>\n      <td>P62258-2</td>\n      <td>UPI00001E6021</td>\n    </tr>\n    <tr>\n      <th>4</th>\n      <td>P62258-1</td>\n      <td>UPI0000021A46</td>\n    </tr>\n    <tr>\n      <th>...</th>\n      <td>...</td>\n      <td>...</td>\n    </tr>\n    <tr>\n      <th>239679</th>\n      <td>Q5ZEY9</td>\n      <td>UPI0000450360</td>\n    </tr>\n    <tr>\n      <th>239680</th>\n      <td>V9H1E3</td>\n      <td>UPI000011E201</td>\n    </tr>\n    <tr>\n      <th>239681</th>\n      <td>B4E0L3</td>\n      <td>UPI00017A8581</td>\n    </tr>\n    <tr>\n      <th>239682</th>\n      <td>Q59FC1</td>\n      <td>UPI00004F6D35</td>\n    </tr>\n    <tr>\n      <th>239683</th>\n      <td>G3CIH7</td>\n      <td>UPI00021E9B23</td>\n    </tr>\n  </tbody>\n</table>\n<p>239684 rows × 2 columns</p>\n</div>"
     },
     "execution_count": 45,
     "metadata": {},
     "output_type": "execute_result"
    }
   ],
   "source": [
    "# use uniparc to trace non-redundant ids\n",
    "df_uniparc = pd.read_csv('./data/metas/unipac_uniprot_mapping.csv')\n",
    "df_uniparc"
   ],
   "metadata": {
    "collapsed": false,
    "pycharm": {
     "name": "#%%\n"
    }
   }
  },
  {
   "cell_type": "code",
   "execution_count": 46,
   "outputs": [
    {
     "data": {
      "text/plain": "       UniProtKB-AC          ID_x           ID_y\n0            P31946   1433B_HUMAN  UPI000013C714\n1            P62258   1433E_HUMAN  UPI0000021A46\n2            Q04917   1433F_HUMAN  UPI000013CC64\n3            P61981   1433G_HUMAN  UPI000000106B\n4            P31947   1433S_HUMAN  UPI000004D117\n...             ...           ...            ...\n207044       Q5ZEY9  Q5ZEY9_HUMAN  UPI0000450360\n207045       V9H1E3  V9H1E3_HUMAN  UPI000011E201\n207046       B4E0L3  B4E0L3_HUMAN  UPI00017A8581\n207047       Q59FC1  Q59FC1_HUMAN  UPI00004F6D35\n207048       G3CIH7  G3CIH7_HUMAN  UPI00021E9B23\n\n[207049 rows x 3 columns]",
      "text/html": "<div>\n<style scoped>\n    .dataframe tbody tr th:only-of-type {\n        vertical-align: middle;\n    }\n\n    .dataframe tbody tr th {\n        vertical-align: top;\n    }\n\n    .dataframe thead th {\n        text-align: right;\n    }\n</style>\n<table border=\"1\" class=\"dataframe\">\n  <thead>\n    <tr style=\"text-align: right;\">\n      <th></th>\n      <th>UniProtKB-AC</th>\n      <th>ID_x</th>\n      <th>ID_y</th>\n    </tr>\n  </thead>\n  <tbody>\n    <tr>\n      <th>0</th>\n      <td>P31946</td>\n      <td>1433B_HUMAN</td>\n      <td>UPI000013C714</td>\n    </tr>\n    <tr>\n      <th>1</th>\n      <td>P62258</td>\n      <td>1433E_HUMAN</td>\n      <td>UPI0000021A46</td>\n    </tr>\n    <tr>\n      <th>2</th>\n      <td>Q04917</td>\n      <td>1433F_HUMAN</td>\n      <td>UPI000013CC64</td>\n    </tr>\n    <tr>\n      <th>3</th>\n      <td>P61981</td>\n      <td>1433G_HUMAN</td>\n      <td>UPI000000106B</td>\n    </tr>\n    <tr>\n      <th>4</th>\n      <td>P31947</td>\n      <td>1433S_HUMAN</td>\n      <td>UPI000004D117</td>\n    </tr>\n    <tr>\n      <th>...</th>\n      <td>...</td>\n      <td>...</td>\n      <td>...</td>\n    </tr>\n    <tr>\n      <th>207044</th>\n      <td>Q5ZEY9</td>\n      <td>Q5ZEY9_HUMAN</td>\n      <td>UPI0000450360</td>\n    </tr>\n    <tr>\n      <th>207045</th>\n      <td>V9H1E3</td>\n      <td>V9H1E3_HUMAN</td>\n      <td>UPI000011E201</td>\n    </tr>\n    <tr>\n      <th>207046</th>\n      <td>B4E0L3</td>\n      <td>B4E0L3_HUMAN</td>\n      <td>UPI00017A8581</td>\n    </tr>\n    <tr>\n      <th>207047</th>\n      <td>Q59FC1</td>\n      <td>Q59FC1_HUMAN</td>\n      <td>UPI00004F6D35</td>\n    </tr>\n    <tr>\n      <th>207048</th>\n      <td>G3CIH7</td>\n      <td>G3CIH7_HUMAN</td>\n      <td>UPI00021E9B23</td>\n    </tr>\n  </tbody>\n</table>\n<p>207049 rows × 3 columns</p>\n</div>"
     },
     "execution_count": 46,
     "metadata": {},
     "output_type": "execute_result"
    }
   ],
   "source": [
    "df_intermediate = pd.merge(df_uniprotid, df_uniparc, how='left', on='UniProtKB-AC')\n",
    "df_intermediate"
   ],
   "metadata": {
    "collapsed": false,
    "pycharm": {
     "name": "#%%\n"
    }
   }
  },
  {
   "cell_type": "code",
   "execution_count": 47,
   "outputs": [],
   "source": [
    "df_clinvar_organized = pd.read_csv('./data/metas/final_clinvar_variant_uniprot_id_mapping.csv')"
   ],
   "metadata": {
    "collapsed": false,
    "pycharm": {
     "name": "#%%\n"
    }
   }
  },
  {
   "cell_type": "code",
   "execution_count": 48,
   "outputs": [
    {
     "data": {
      "text/plain": "     UniProtKB-AC\n0          Q92610\n1          Q96CU9\n2          Q8TB37\n3          Q30201\n4        Q9P2L0-2\n...           ...\n9039       Q92621\n9040       P03999\n9041       P10619\n9042       P23760\n9043       B0ZBE2\n\n[9044 rows x 1 columns]",
      "text/html": "<div>\n<style scoped>\n    .dataframe tbody tr th:only-of-type {\n        vertical-align: middle;\n    }\n\n    .dataframe tbody tr th {\n        vertical-align: top;\n    }\n\n    .dataframe thead th {\n        text-align: right;\n    }\n</style>\n<table border=\"1\" class=\"dataframe\">\n  <thead>\n    <tr style=\"text-align: right;\">\n      <th></th>\n      <th>UniProtKB-AC</th>\n    </tr>\n  </thead>\n  <tbody>\n    <tr>\n      <th>0</th>\n      <td>Q92610</td>\n    </tr>\n    <tr>\n      <th>1</th>\n      <td>Q96CU9</td>\n    </tr>\n    <tr>\n      <th>2</th>\n      <td>Q8TB37</td>\n    </tr>\n    <tr>\n      <th>3</th>\n      <td>Q30201</td>\n    </tr>\n    <tr>\n      <th>4</th>\n      <td>Q9P2L0-2</td>\n    </tr>\n    <tr>\n      <th>...</th>\n      <td>...</td>\n    </tr>\n    <tr>\n      <th>9039</th>\n      <td>Q92621</td>\n    </tr>\n    <tr>\n      <th>9040</th>\n      <td>P03999</td>\n    </tr>\n    <tr>\n      <th>9041</th>\n      <td>P10619</td>\n    </tr>\n    <tr>\n      <th>9042</th>\n      <td>P23760</td>\n    </tr>\n    <tr>\n      <th>9043</th>\n      <td>B0ZBE2</td>\n    </tr>\n  </tbody>\n</table>\n<p>9044 rows × 1 columns</p>\n</div>"
     },
     "execution_count": 48,
     "metadata": {},
     "output_type": "execute_result"
    }
   ],
   "source": [
    "cared_uniprotids = pd.DataFrame(df_clinvar_organized['UniProtKB-AC'].unique(), columns=['UniProtKB-AC'])\n",
    "cared_uniprotids"
   ],
   "metadata": {
    "collapsed": false,
    "pycharm": {
     "name": "#%%\n"
    }
   }
  },
  {
   "cell_type": "code",
   "execution_count": 49,
   "outputs": [
    {
     "data": {
      "text/plain": "     UniProtKB-AC             ID\n0          Q92610  UPI000013E5FC\n1          Q96CU9  UPI0000037C04\n2          Q8TB37  UPI00003669AB\n3          Q30201  UPI0000001700\n4        Q9P2L0-2  UPI00001AF317\n...           ...            ...\n9039       Q92621  UPI00001D74D8\n9040       P03999  UPI000000014B\n9041       P10619  UPI00001323E1\n9042       P23760  UPI0000131369\n9043       B0ZBE2  UPI0000125B13\n\n[9044 rows x 2 columns]",
      "text/html": "<div>\n<style scoped>\n    .dataframe tbody tr th:only-of-type {\n        vertical-align: middle;\n    }\n\n    .dataframe tbody tr th {\n        vertical-align: top;\n    }\n\n    .dataframe thead th {\n        text-align: right;\n    }\n</style>\n<table border=\"1\" class=\"dataframe\">\n  <thead>\n    <tr style=\"text-align: right;\">\n      <th></th>\n      <th>UniProtKB-AC</th>\n      <th>ID</th>\n    </tr>\n  </thead>\n  <tbody>\n    <tr>\n      <th>0</th>\n      <td>Q92610</td>\n      <td>UPI000013E5FC</td>\n    </tr>\n    <tr>\n      <th>1</th>\n      <td>Q96CU9</td>\n      <td>UPI0000037C04</td>\n    </tr>\n    <tr>\n      <th>2</th>\n      <td>Q8TB37</td>\n      <td>UPI00003669AB</td>\n    </tr>\n    <tr>\n      <th>3</th>\n      <td>Q30201</td>\n      <td>UPI0000001700</td>\n    </tr>\n    <tr>\n      <th>4</th>\n      <td>Q9P2L0-2</td>\n      <td>UPI00001AF317</td>\n    </tr>\n    <tr>\n      <th>...</th>\n      <td>...</td>\n      <td>...</td>\n    </tr>\n    <tr>\n      <th>9039</th>\n      <td>Q92621</td>\n      <td>UPI00001D74D8</td>\n    </tr>\n    <tr>\n      <th>9040</th>\n      <td>P03999</td>\n      <td>UPI000000014B</td>\n    </tr>\n    <tr>\n      <th>9041</th>\n      <td>P10619</td>\n      <td>UPI00001323E1</td>\n    </tr>\n    <tr>\n      <th>9042</th>\n      <td>P23760</td>\n      <td>UPI0000131369</td>\n    </tr>\n    <tr>\n      <th>9043</th>\n      <td>B0ZBE2</td>\n      <td>UPI0000125B13</td>\n    </tr>\n  </tbody>\n</table>\n<p>9044 rows × 2 columns</p>\n</div>"
     },
     "execution_count": 49,
     "metadata": {},
     "output_type": "execute_result"
    }
   ],
   "source": [
    "# all have mappings, no NAs\n",
    "clinvar_cared_uniparc_mapping = pd.merge(cared_uniprotids, df_uniparc, how='left', on='UniProtKB-AC')\n",
    "clinvar_cared_uniparc_mapping"
   ],
   "metadata": {
    "collapsed": false,
    "pycharm": {
     "name": "#%%\n"
    }
   }
  },
  {
   "cell_type": "code",
   "execution_count": 50,
   "outputs": [
    {
     "data": {
      "text/plain": "      UniProtKB-AC_x             ID UniProtKB-AC_y          ID_x  \\\n0             Q92610  UPI000013E5FC         Q92610   ZN592_HUMAN   \n1             Q96CU9  UPI0000037C04         Q96CU9   FXRD1_HUMAN   \n2             Q8TB37  UPI00003669AB         Q8TB37   NUBPL_HUMAN   \n3             Q8TB37  UPI00003669AB         X5D2R5  X5D2R5_HUMAN   \n4             Q30201  UPI0000001700         Q30201     HFE_HUMAN   \n...              ...            ...            ...           ...   \n11064         P03999  UPI000000014B         Q0PJU0  Q0PJU0_HUMAN   \n11065         P10619  UPI00001323E1         P10619    PPGB_HUMAN   \n11066         P23760  UPI0000131369         P23760    PAX3_HUMAN   \n11067         B0ZBE2  UPI0000125B13         P01019    ANGT_HUMAN   \n11068         B0ZBE2  UPI0000125B13         B0ZBE2  B0ZBE2_HUMAN   \n\n                ID_y  \n0      UPI000013E5FC  \n1      UPI0000037C04  \n2      UPI00003669AB  \n3      UPI00003669AB  \n4      UPI0000001700  \n...              ...  \n11064  UPI000000014B  \n11065  UPI00001323E1  \n11066  UPI0000131369  \n11067  UPI0000125B13  \n11068  UPI0000125B13  \n\n[11069 rows x 5 columns]",
      "text/html": "<div>\n<style scoped>\n    .dataframe tbody tr th:only-of-type {\n        vertical-align: middle;\n    }\n\n    .dataframe tbody tr th {\n        vertical-align: top;\n    }\n\n    .dataframe thead th {\n        text-align: right;\n    }\n</style>\n<table border=\"1\" class=\"dataframe\">\n  <thead>\n    <tr style=\"text-align: right;\">\n      <th></th>\n      <th>UniProtKB-AC_x</th>\n      <th>ID</th>\n      <th>UniProtKB-AC_y</th>\n      <th>ID_x</th>\n      <th>ID_y</th>\n    </tr>\n  </thead>\n  <tbody>\n    <tr>\n      <th>0</th>\n      <td>Q92610</td>\n      <td>UPI000013E5FC</td>\n      <td>Q92610</td>\n      <td>ZN592_HUMAN</td>\n      <td>UPI000013E5FC</td>\n    </tr>\n    <tr>\n      <th>1</th>\n      <td>Q96CU9</td>\n      <td>UPI0000037C04</td>\n      <td>Q96CU9</td>\n      <td>FXRD1_HUMAN</td>\n      <td>UPI0000037C04</td>\n    </tr>\n    <tr>\n      <th>2</th>\n      <td>Q8TB37</td>\n      <td>UPI00003669AB</td>\n      <td>Q8TB37</td>\n      <td>NUBPL_HUMAN</td>\n      <td>UPI00003669AB</td>\n    </tr>\n    <tr>\n      <th>3</th>\n      <td>Q8TB37</td>\n      <td>UPI00003669AB</td>\n      <td>X5D2R5</td>\n      <td>X5D2R5_HUMAN</td>\n      <td>UPI00003669AB</td>\n    </tr>\n    <tr>\n      <th>4</th>\n      <td>Q30201</td>\n      <td>UPI0000001700</td>\n      <td>Q30201</td>\n      <td>HFE_HUMAN</td>\n      <td>UPI0000001700</td>\n    </tr>\n    <tr>\n      <th>...</th>\n      <td>...</td>\n      <td>...</td>\n      <td>...</td>\n      <td>...</td>\n      <td>...</td>\n    </tr>\n    <tr>\n      <th>11064</th>\n      <td>P03999</td>\n      <td>UPI000000014B</td>\n      <td>Q0PJU0</td>\n      <td>Q0PJU0_HUMAN</td>\n      <td>UPI000000014B</td>\n    </tr>\n    <tr>\n      <th>11065</th>\n      <td>P10619</td>\n      <td>UPI00001323E1</td>\n      <td>P10619</td>\n      <td>PPGB_HUMAN</td>\n      <td>UPI00001323E1</td>\n    </tr>\n    <tr>\n      <th>11066</th>\n      <td>P23760</td>\n      <td>UPI0000131369</td>\n      <td>P23760</td>\n      <td>PAX3_HUMAN</td>\n      <td>UPI0000131369</td>\n    </tr>\n    <tr>\n      <th>11067</th>\n      <td>B0ZBE2</td>\n      <td>UPI0000125B13</td>\n      <td>P01019</td>\n      <td>ANGT_HUMAN</td>\n      <td>UPI0000125B13</td>\n    </tr>\n    <tr>\n      <th>11068</th>\n      <td>B0ZBE2</td>\n      <td>UPI0000125B13</td>\n      <td>B0ZBE2</td>\n      <td>B0ZBE2_HUMAN</td>\n      <td>UPI0000125B13</td>\n    </tr>\n  </tbody>\n</table>\n<p>11069 rows × 5 columns</p>\n</div>"
     },
     "execution_count": 50,
     "metadata": {},
     "output_type": "execute_result"
    }
   ],
   "source": [
    "df_clinvar_cared_uniprotkbid_mapping = pd.merge(clinvar_cared_uniparc_mapping, df_intermediate, how='left', left_on='ID', right_on='ID_y')\n",
    "df_clinvar_cared_uniprotkbid_mapping"
   ],
   "metadata": {
    "collapsed": false,
    "pycharm": {
     "name": "#%%\n"
    }
   }
  },
  {
   "cell_type": "code",
   "execution_count": 51,
   "outputs": [
    {
     "data": {
      "text/plain": "     UniProtKB-AC_x             ID UniProtKB-AC_y        ID_x           ID_y\n2229         E9KL23  UPI000000CBEC         P01009  A1AT_HUMAN  UPI000000CBEC",
      "text/html": "<div>\n<style scoped>\n    .dataframe tbody tr th:only-of-type {\n        vertical-align: middle;\n    }\n\n    .dataframe tbody tr th {\n        vertical-align: top;\n    }\n\n    .dataframe thead th {\n        text-align: right;\n    }\n</style>\n<table border=\"1\" class=\"dataframe\">\n  <thead>\n    <tr style=\"text-align: right;\">\n      <th></th>\n      <th>UniProtKB-AC_x</th>\n      <th>ID</th>\n      <th>UniProtKB-AC_y</th>\n      <th>ID_x</th>\n      <th>ID_y</th>\n    </tr>\n  </thead>\n  <tbody>\n    <tr>\n      <th>2229</th>\n      <td>E9KL23</td>\n      <td>UPI000000CBEC</td>\n      <td>P01009</td>\n      <td>A1AT_HUMAN</td>\n      <td>UPI000000CBEC</td>\n    </tr>\n  </tbody>\n</table>\n</div>"
     },
     "execution_count": 51,
     "metadata": {},
     "output_type": "execute_result"
    }
   ],
   "source": [
    "df_clinvar_cared_uniprotkbid_mapping[df_clinvar_cared_uniprotkbid_mapping['ID_x'] == 'A1AT_HUMAN']"
   ],
   "metadata": {
    "collapsed": false,
    "pycharm": {
     "name": "#%%\n"
    }
   }
  },
  {
   "cell_type": "code",
   "execution_count": 52,
   "outputs": [
    {
     "data": {
      "text/plain": "      UniProtKB-AC  UniProtKB-ID\n0           Q92610   ZN592_HUMAN\n1           Q96CU9   FXRD1_HUMAN\n2           Q8TB37   NUBPL_HUMAN\n3           Q8TB37  X5D2R5_HUMAN\n4           Q30201     HFE_HUMAN\n...            ...           ...\n11064       P03999  Q0PJU0_HUMAN\n11065       P10619    PPGB_HUMAN\n11066       P23760    PAX3_HUMAN\n11067       B0ZBE2    ANGT_HUMAN\n11068       B0ZBE2  B0ZBE2_HUMAN\n\n[10516 rows x 2 columns]",
      "text/html": "<div>\n<style scoped>\n    .dataframe tbody tr th:only-of-type {\n        vertical-align: middle;\n    }\n\n    .dataframe tbody tr th {\n        vertical-align: top;\n    }\n\n    .dataframe thead th {\n        text-align: right;\n    }\n</style>\n<table border=\"1\" class=\"dataframe\">\n  <thead>\n    <tr style=\"text-align: right;\">\n      <th></th>\n      <th>UniProtKB-AC</th>\n      <th>UniProtKB-ID</th>\n    </tr>\n  </thead>\n  <tbody>\n    <tr>\n      <th>0</th>\n      <td>Q92610</td>\n      <td>ZN592_HUMAN</td>\n    </tr>\n    <tr>\n      <th>1</th>\n      <td>Q96CU9</td>\n      <td>FXRD1_HUMAN</td>\n    </tr>\n    <tr>\n      <th>2</th>\n      <td>Q8TB37</td>\n      <td>NUBPL_HUMAN</td>\n    </tr>\n    <tr>\n      <th>3</th>\n      <td>Q8TB37</td>\n      <td>X5D2R5_HUMAN</td>\n    </tr>\n    <tr>\n      <th>4</th>\n      <td>Q30201</td>\n      <td>HFE_HUMAN</td>\n    </tr>\n    <tr>\n      <th>...</th>\n      <td>...</td>\n      <td>...</td>\n    </tr>\n    <tr>\n      <th>11064</th>\n      <td>P03999</td>\n      <td>Q0PJU0_HUMAN</td>\n    </tr>\n    <tr>\n      <th>11065</th>\n      <td>P10619</td>\n      <td>PPGB_HUMAN</td>\n    </tr>\n    <tr>\n      <th>11066</th>\n      <td>P23760</td>\n      <td>PAX3_HUMAN</td>\n    </tr>\n    <tr>\n      <th>11067</th>\n      <td>B0ZBE2</td>\n      <td>ANGT_HUMAN</td>\n    </tr>\n    <tr>\n      <th>11068</th>\n      <td>B0ZBE2</td>\n      <td>B0ZBE2_HUMAN</td>\n    </tr>\n  </tbody>\n</table>\n<p>10516 rows × 2 columns</p>\n</div>"
     },
     "execution_count": 52,
     "metadata": {},
     "output_type": "execute_result"
    }
   ],
   "source": [
    "# don't care about NaN (isoforms)\n",
    "df_clinvar_cared_uniprotkbid_mapping.dropna(inplace=True)\n",
    "df_clinvar_cared_uniprotkbid_mapping.drop(['ID', 'ID_y', 'UniProtKB-AC_y'], axis=1, inplace=True)\n",
    "df_clinvar_cared_uniprotkbid_mapping.rename(columns={'UniProtKB-AC_x': 'UniProtKB-AC', 'ID_x':'UniProtKB-ID'}, inplace=True)\n",
    "df_clinvar_cared_uniprotkbid_mapping"
   ],
   "metadata": {
    "collapsed": false,
    "pycharm": {
     "name": "#%%\n"
    }
   }
  },
  {
   "cell_type": "code",
   "execution_count": 53,
   "outputs": [
    {
     "data": {
      "text/plain": "      UniProtKB-AC      UniProtKB-ID\n9668    A0A023T787       RBM8A_HUMAN\n9669    A0A023T787  A0A023T787_HUMAN\n10721   A0A024QYR3  A0A024QYR3_HUMAN\n10720   A0A024QYR3       TM9S4_HUMAN\n1739    A0A024QYT5        PAI1_HUMAN\n...            ...               ...\n6296        Q9UI43        MRM2_HUMAN\n9527        Q9Y2Y9      X5DNR2_HUMAN\n9526        Q9Y2Y9       KLF13_HUMAN\n10147       Q9Y6N8      X5D8X5_HUMAN\n10146       Q9Y6N8       CAD10_HUMAN\n\n[4041 rows x 2 columns]",
      "text/html": "<div>\n<style scoped>\n    .dataframe tbody tr th:only-of-type {\n        vertical-align: middle;\n    }\n\n    .dataframe tbody tr th {\n        vertical-align: top;\n    }\n\n    .dataframe thead th {\n        text-align: right;\n    }\n</style>\n<table border=\"1\" class=\"dataframe\">\n  <thead>\n    <tr style=\"text-align: right;\">\n      <th></th>\n      <th>UniProtKB-AC</th>\n      <th>UniProtKB-ID</th>\n    </tr>\n  </thead>\n  <tbody>\n    <tr>\n      <th>9668</th>\n      <td>A0A023T787</td>\n      <td>RBM8A_HUMAN</td>\n    </tr>\n    <tr>\n      <th>9669</th>\n      <td>A0A023T787</td>\n      <td>A0A023T787_HUMAN</td>\n    </tr>\n    <tr>\n      <th>10721</th>\n      <td>A0A024QYR3</td>\n      <td>A0A024QYR3_HUMAN</td>\n    </tr>\n    <tr>\n      <th>10720</th>\n      <td>A0A024QYR3</td>\n      <td>TM9S4_HUMAN</td>\n    </tr>\n    <tr>\n      <th>1739</th>\n      <td>A0A024QYT5</td>\n      <td>PAI1_HUMAN</td>\n    </tr>\n    <tr>\n      <th>...</th>\n      <td>...</td>\n      <td>...</td>\n    </tr>\n    <tr>\n      <th>6296</th>\n      <td>Q9UI43</td>\n      <td>MRM2_HUMAN</td>\n    </tr>\n    <tr>\n      <th>9527</th>\n      <td>Q9Y2Y9</td>\n      <td>X5DNR2_HUMAN</td>\n    </tr>\n    <tr>\n      <th>9526</th>\n      <td>Q9Y2Y9</td>\n      <td>KLF13_HUMAN</td>\n    </tr>\n    <tr>\n      <th>10147</th>\n      <td>Q9Y6N8</td>\n      <td>X5D8X5_HUMAN</td>\n    </tr>\n    <tr>\n      <th>10146</th>\n      <td>Q9Y6N8</td>\n      <td>CAD10_HUMAN</td>\n    </tr>\n  </tbody>\n</table>\n<p>4041 rows × 2 columns</p>\n</div>"
     },
     "execution_count": 53,
     "metadata": {},
     "output_type": "execute_result"
    }
   ],
   "source": [
    "# duplicated IDs exists\n",
    "df_clinvar_cared_uniprotkbid_mapping[df_clinvar_cared_uniprotkbid_mapping.duplicated(subset=['UniProtKB-AC'], keep=False)].sort_values('UniProtKB-AC')"
   ],
   "metadata": {
    "collapsed": false,
    "pycharm": {
     "name": "#%%\n"
    }
   }
  },
  {
   "cell_type": "code",
   "execution_count": 61,
   "outputs": [],
   "source": [
    "# get the ones EVE used\n",
    "import os\n",
    "uniprotkb_id_list = []\n",
    "path = './data/eve_download/variant_files/'\n",
    "for file in os.listdir(path):\n",
    "    uniprotkb_id_list.append(os.path.splitext(file)[0])\n",
    "assert len(uniprotkb_id_list) == 3212"
   ],
   "metadata": {
    "collapsed": false,
    "pycharm": {
     "name": "#%%\n"
    }
   }
  },
  {
   "cell_type": "code",
   "execution_count": 62,
   "outputs": [
    {
     "data": {
      "text/plain": "      UniProtKB-AC UniProtKB-ID\n1           Q96CU9  FXRD1_HUMAN\n2           Q8TB37  NUBPL_HUMAN\n4           Q30201    HFE_HUMAN\n7           Q86XE5  HOGA1_HUMAN\n9           O95876  FRITZ_HUMAN\n...            ...          ...\n11061       Q8N2C7  UNC80_HUMAN\n11062       Q92621  NU205_HUMAN\n11065       P10619   PPGB_HUMAN\n11066       P23760   PAX3_HUMAN\n11067       B0ZBE2   ANGT_HUMAN\n\n[2867 rows x 2 columns]",
      "text/html": "<div>\n<style scoped>\n    .dataframe tbody tr th:only-of-type {\n        vertical-align: middle;\n    }\n\n    .dataframe tbody tr th {\n        vertical-align: top;\n    }\n\n    .dataframe thead th {\n        text-align: right;\n    }\n</style>\n<table border=\"1\" class=\"dataframe\">\n  <thead>\n    <tr style=\"text-align: right;\">\n      <th></th>\n      <th>UniProtKB-AC</th>\n      <th>UniProtKB-ID</th>\n    </tr>\n  </thead>\n  <tbody>\n    <tr>\n      <th>1</th>\n      <td>Q96CU9</td>\n      <td>FXRD1_HUMAN</td>\n    </tr>\n    <tr>\n      <th>2</th>\n      <td>Q8TB37</td>\n      <td>NUBPL_HUMAN</td>\n    </tr>\n    <tr>\n      <th>4</th>\n      <td>Q30201</td>\n      <td>HFE_HUMAN</td>\n    </tr>\n    <tr>\n      <th>7</th>\n      <td>Q86XE5</td>\n      <td>HOGA1_HUMAN</td>\n    </tr>\n    <tr>\n      <th>9</th>\n      <td>O95876</td>\n      <td>FRITZ_HUMAN</td>\n    </tr>\n    <tr>\n      <th>...</th>\n      <td>...</td>\n      <td>...</td>\n    </tr>\n    <tr>\n      <th>11061</th>\n      <td>Q8N2C7</td>\n      <td>UNC80_HUMAN</td>\n    </tr>\n    <tr>\n      <th>11062</th>\n      <td>Q92621</td>\n      <td>NU205_HUMAN</td>\n    </tr>\n    <tr>\n      <th>11065</th>\n      <td>P10619</td>\n      <td>PPGB_HUMAN</td>\n    </tr>\n    <tr>\n      <th>11066</th>\n      <td>P23760</td>\n      <td>PAX3_HUMAN</td>\n    </tr>\n    <tr>\n      <th>11067</th>\n      <td>B0ZBE2</td>\n      <td>ANGT_HUMAN</td>\n    </tr>\n  </tbody>\n</table>\n<p>2867 rows × 2 columns</p>\n</div>"
     },
     "execution_count": 62,
     "metadata": {},
     "output_type": "execute_result"
    }
   ],
   "source": [
    "final_mapping_df = df_clinvar_cared_uniprotkbid_mapping.loc[df_clinvar_cared_uniprotkbid_mapping['UniProtKB-ID'].isin(uniprotkb_id_list)]\n",
    "final_mapping_df"
   ],
   "metadata": {
    "collapsed": false,
    "pycharm": {
     "name": "#%%\n"
    }
   }
  },
  {
   "cell_type": "code",
   "execution_count": 56,
   "outputs": [
    {
     "data": {
      "text/plain": "     UniProtKB-AC UniProtKB-ID\n2676       B4DJ51  CALM1_HUMAN\n2677       B4DJ51  CALM2_HUMAN\n2678       B4DJ51  CALM3_HUMAN",
      "text/html": "<div>\n<style scoped>\n    .dataframe tbody tr th:only-of-type {\n        vertical-align: middle;\n    }\n\n    .dataframe tbody tr th {\n        vertical-align: top;\n    }\n\n    .dataframe thead th {\n        text-align: right;\n    }\n</style>\n<table border=\"1\" class=\"dataframe\">\n  <thead>\n    <tr style=\"text-align: right;\">\n      <th></th>\n      <th>UniProtKB-AC</th>\n      <th>UniProtKB-ID</th>\n    </tr>\n  </thead>\n  <tbody>\n    <tr>\n      <th>2676</th>\n      <td>B4DJ51</td>\n      <td>CALM1_HUMAN</td>\n    </tr>\n    <tr>\n      <th>2677</th>\n      <td>B4DJ51</td>\n      <td>CALM2_HUMAN</td>\n    </tr>\n    <tr>\n      <th>2678</th>\n      <td>B4DJ51</td>\n      <td>CALM3_HUMAN</td>\n    </tr>\n  </tbody>\n</table>\n</div>"
     },
     "execution_count": 56,
     "metadata": {},
     "output_type": "execute_result"
    }
   ],
   "source": [
    "# Checked, these three are the exactly same proteins\n",
    "final_mapping_df[final_mapping_df.duplicated(subset=['UniProtKB-AC'], keep=False)].sort_values('UniProtKB-AC')"
   ],
   "metadata": {
    "collapsed": false,
    "pycharm": {
     "name": "#%%\n"
    }
   }
  },
  {
   "cell_type": "code",
   "execution_count": 57,
   "outputs": [
    {
     "name": "stderr",
     "output_type": "stream",
     "text": [
      "/var/tmp/pbs.498551.hn-10-03/ipykernel_69662/3187214566.py:1: SettingWithCopyWarning: \n",
      "A value is trying to be set on a copy of a slice from a DataFrame\n",
      "\n",
      "See the caveats in the documentation: https://pandas.pydata.org/pandas-docs/stable/user_guide/indexing.html#returning-a-view-versus-a-copy\n",
      "  final_mapping_df.drop_duplicates(subset=['UniProtKB-AC'],inplace=True)\n"
     ]
    },
    {
     "data": {
      "text/plain": "      UniProtKB-AC UniProtKB-ID\n1           Q96CU9  FXRD1_HUMAN\n2           Q8TB37  NUBPL_HUMAN\n4           Q30201    HFE_HUMAN\n7           Q86XE5  HOGA1_HUMAN\n9           O95876  FRITZ_HUMAN\n...            ...          ...\n11061       Q8N2C7  UNC80_HUMAN\n11062       Q92621  NU205_HUMAN\n11065       P10619   PPGB_HUMAN\n11066       P23760   PAX3_HUMAN\n11067       B0ZBE2   ANGT_HUMAN\n\n[2865 rows x 2 columns]",
      "text/html": "<div>\n<style scoped>\n    .dataframe tbody tr th:only-of-type {\n        vertical-align: middle;\n    }\n\n    .dataframe tbody tr th {\n        vertical-align: top;\n    }\n\n    .dataframe thead th {\n        text-align: right;\n    }\n</style>\n<table border=\"1\" class=\"dataframe\">\n  <thead>\n    <tr style=\"text-align: right;\">\n      <th></th>\n      <th>UniProtKB-AC</th>\n      <th>UniProtKB-ID</th>\n    </tr>\n  </thead>\n  <tbody>\n    <tr>\n      <th>1</th>\n      <td>Q96CU9</td>\n      <td>FXRD1_HUMAN</td>\n    </tr>\n    <tr>\n      <th>2</th>\n      <td>Q8TB37</td>\n      <td>NUBPL_HUMAN</td>\n    </tr>\n    <tr>\n      <th>4</th>\n      <td>Q30201</td>\n      <td>HFE_HUMAN</td>\n    </tr>\n    <tr>\n      <th>7</th>\n      <td>Q86XE5</td>\n      <td>HOGA1_HUMAN</td>\n    </tr>\n    <tr>\n      <th>9</th>\n      <td>O95876</td>\n      <td>FRITZ_HUMAN</td>\n    </tr>\n    <tr>\n      <th>...</th>\n      <td>...</td>\n      <td>...</td>\n    </tr>\n    <tr>\n      <th>11061</th>\n      <td>Q8N2C7</td>\n      <td>UNC80_HUMAN</td>\n    </tr>\n    <tr>\n      <th>11062</th>\n      <td>Q92621</td>\n      <td>NU205_HUMAN</td>\n    </tr>\n    <tr>\n      <th>11065</th>\n      <td>P10619</td>\n      <td>PPGB_HUMAN</td>\n    </tr>\n    <tr>\n      <th>11066</th>\n      <td>P23760</td>\n      <td>PAX3_HUMAN</td>\n    </tr>\n    <tr>\n      <th>11067</th>\n      <td>B0ZBE2</td>\n      <td>ANGT_HUMAN</td>\n    </tr>\n  </tbody>\n</table>\n<p>2865 rows × 2 columns</p>\n</div>"
     },
     "execution_count": 57,
     "metadata": {},
     "output_type": "execute_result"
    }
   ],
   "source": [
    "final_mapping_df.drop_duplicates(subset=['UniProtKB-AC'],inplace=True)\n",
    "final_mapping_df"
   ],
   "metadata": {
    "collapsed": false,
    "pycharm": {
     "name": "#%%\n"
    }
   }
  },
  {
   "cell_type": "code",
   "execution_count": 58,
   "outputs": [
    {
     "data": {
      "text/plain": "Empty DataFrame\nColumns: [UniProtKB-AC, UniProtKB-ID]\nIndex: []",
      "text/html": "<div>\n<style scoped>\n    .dataframe tbody tr th:only-of-type {\n        vertical-align: middle;\n    }\n\n    .dataframe tbody tr th {\n        vertical-align: top;\n    }\n\n    .dataframe thead th {\n        text-align: right;\n    }\n</style>\n<table border=\"1\" class=\"dataframe\">\n  <thead>\n    <tr style=\"text-align: right;\">\n      <th></th>\n      <th>UniProtKB-AC</th>\n      <th>UniProtKB-ID</th>\n    </tr>\n  </thead>\n  <tbody>\n  </tbody>\n</table>\n</div>"
     },
     "execution_count": 58,
     "metadata": {},
     "output_type": "execute_result"
    }
   ],
   "source": [
    "# always double check for duplicates\n",
    "final_mapping_df[final_mapping_df.duplicated(subset=['UniProtKB-ID'], keep=False)].sort_values('UniProtKB-ID')"
   ],
   "metadata": {
    "collapsed": false,
    "pycharm": {
     "name": "#%%\n"
    }
   }
  },
  {
   "cell_type": "code",
   "execution_count": 59,
   "outputs": [],
   "source": [
    "final_mapping_df.to_csv('./data/metas/clinvar_variant_uniprotid_uniprotkb_mapping.csv', index=False)"
   ],
   "metadata": {
    "collapsed": false,
    "pycharm": {
     "name": "#%%\n"
    }
   }
  },
  {
   "cell_type": "code",
   "execution_count": 63,
   "outputs": [
    {
     "name": "stdout",
     "output_type": "stream",
     "text": [
      "unique to eve list {'TECT1_HUMAN', 'MYH14_HUMAN', 'PIGP_HUMAN', 'INAVA_HUMAN', 'CACP_HUMAN', 'KMT2A_HUMAN', 'G6PD_HUMAN', 'MUTYH_HUMAN', 'MATN4_HUMAN', 'HECW2_HUMAN', 'ZP2_HUMAN', 'G6PC_HUMAN', 'H6ST2_HUMAN', 'KNL1_HUMAN', 'NCYM_HUMAN', 'COIA1_HUMAN', 'FGF12_HUMAN', 'PUS3_HUMAN', 'MTO1_HUMAN', 'ASCC1_HUMAN', 'ANK1_HUMAN', 'SON_HUMAN', 'NALP7_HUMAN', 'KCNC1_HUMAN', 'MEF2A_HUMAN', 'LRMDA_HUMAN', 'MMP23_HUMAN', 'HGNAT_HUMAN', 'PKP1_HUMAN', 'CGAT1_HUMAN', 'ZEB1_HUMAN', 'KLRG1_HUMAN', 'FZR1_HUMAN', 'ANC2_HUMAN', 'TRRAP_HUMAN', 'OXA1L_HUMAN', 'DYR1A_HUMAN', 'KCD11_HUMAN', 'MCPH1_HUMAN', 'PEX5_HUMAN', 'CFA91_HUMAN', 'SEM3D_HUMAN', 'GBRB2_HUMAN', 'DFFB_HUMAN', 'FGF8_HUMAN', 'ATD3A_HUMAN', 'MPP3_HUMAN', 'WT1_HUMAN', 'CTBP1_HUMAN', 'GRIA2_HUMAN', 'NLS1_HUMAN', 'RBX2_HUMAN', 'WWTR1_HUMAN', 'DMD_HUMAN', 'APRIO_HUMAN', 'UD110_HUMAN', 'TNNT3_HUMAN', 'STIL_HUMAN', 'LAP2A_HUMAN', '.ipynb_checkpoints', 'MYO6_HUMAN', 'GNAL_HUMAN', 'CCD50_HUMAN', 'DYL1_HUMAN', 'SYCC_HUMAN', 'CMC1_HUMAN', 'UBP11_HUMAN', 'LEG12_HUMAN', '2A5G_HUMAN', 'TTC8_HUMAN', '3MG_HUMAN', 'MYH10_HUMAN', 'RM36_HUMAN', 'EYS_HUMAN', 'TY3H_HUMAN', 'RARB_HUMAN', 'GPVI_HUMAN', 'ALEX_HUMAN', 'MLRS_HUMAN', 'UD18_HUMAN', 'APTX_HUMAN', 'SZT2_HUMAN', 'CYTSA_HUMAN', 'NRAM2_HUMAN', 'ABCC9_HUMAN', 'UD14_HUMAN', 'MAFIP_HUMAN', 'MRAP_HUMAN', 'ZMY11_HUMAN', 'HD_HUMAN', 'TAZ_HUMAN', 'ROS1_HUMAN', 'DCAF6_HUMAN', 'FA7_HUMAN', 'TF7L2_HUMAN', 'SMS2_HUMAN', 'MTCH1_HUMAN', 'FSCN1_HUMAN', 'DNMT1_HUMAN', 'COE3_HUMAN', 'DTD1_HUMAN', 'NSMA3_HUMAN', 'GFI1B_HUMAN', 'BRCA1_BRCT_HUMAN', 'HNF4A_HUMAN', 'RUNX1_HUMAN', 'NTH_HUMAN', 'EST1_HUMAN', 'PRB3_HUMAN', 'WDR62_HUMAN', 'RTEL1_HUMAN', 'HES7_HUMAN', 'POMT1_HUMAN', 'ACBD5_HUMAN', 'GBRG2_HUMAN', 'GELS_HUMAN', 'MILR1_HUMAN', 'SPT22_HUMAN', 'BRPF1_HUMAN', 'BSCL2_HUMAN', 'MT2_HUMAN', 'ITPR1_HUMAN', 'DDX58_HUMAN', 'DCX_HUMAN', 'TACT_HUMAN', 'MAF_HUMAN', 'MITF_HUMAN', 'SCRB1_HUMAN', 'CMC2_HUMAN', 'F161A_HUMAN', 'HEXI1_HUMAN', 'PATL2_HUMAN', 'COA6_HUMAN', 'AT2B4_HUMAN', 'SCUB2_HUMAN', 'STPAP_HUMAN', 'CS012_HUMAN', 'SGCD_HUMAN', 'GCSAM_HUMAN', 'CRDL1_HUMAN', 'PKP2_HUMAN', 'RENT1_HUMAN', 'AKIP_HUMAN', 'AGRG1_HUMAN', 'CH037_HUMAN', 'URP2_HUMAN', 'SC6A9_HUMAN', 'RECQ4_HUMAN', 'CERT_HUMAN', 'RED1_HUMAN', 'GT2D1_HUMAN', 'CRCM_HUMAN', 'MDR3_HUMAN', 'TBA3E_HUMAN', 'PYDC1_HUMAN', 'BRD4_HUMAN', 'SHFL_HUMAN', 'PACS2_HUMAN', 'SAMC_HUMAN', 'LINES_HUMAN', 'ACSL4_HUMAN', 'S29A1_HUMAN', 'MTMR5_HUMAN', 'S22A5_HUMAN', 'ATS13_HUMAN', 'JKIP1_HUMAN', 'LDHD_HUMAN', 'EP2A2_HUMAN', 'VSIG2_HUMAN', 'MAK_HUMAN', 'HTF4_HUMAN', 'CL065_HUMAN', 'CIKS_HUMAN', 'NBEA_HUMAN', 'GNAS1_HUMAN', 'HKDC1_HUMAN', 'GATA3_HUMAN', 'IGF1_HUMAN', 'FRAS1_HUMAN', 'CERS3_HUMAN', 'KMT2B_HUMAN', 'MSRB3_HUMAN', 'MEIOB_HUMAN', 'CDN1C_HUMAN', 'GLCM_HUMAN', 'PER3_HUMAN', 'INCA1_HUMAN', 'TEX12_HUMAN', 'SCN3A_HUMAN', 'PLEC_HUMAN', 'MYD88_HUMAN', 'SMOX_HUMAN', 'BBS2_HUMAN', 'CASR_HUMAN', 'SUH_HUMAN', 'ANTR2_HUMAN', 'UN45B_HUMAN', 'PGAP2_HUMAN', 'IVD_HUMAN', 'KDM1A_HUMAN', 'OPA1_HUMAN', 'RPGR_HUMAN', 'PACRG_HUMAN', 'ESRP2_HUMAN', 'CERU_HUMAN', 'XRCC4_HUMAN', 'SPTN1_HUMAN', 'GRIA4_HUMAN', 'P4HA2_HUMAN', 'OBRG_HUMAN', 'CBPZ_HUMAN', 'PRS23_HUMAN', 'GLRA1_HUMAN', 'PPCEL_HUMAN', 'CEP78_HUMAN', 'COQ2_HUMAN', 'PO6F2_HUMAN', 'DLL3_HUMAN', 'NT5D1_HUMAN', 'MIPEP_HUMAN', 'LAT1L_HUMAN', 'TISB_HUMAN', 'ENPLL_HUMAN', 'PAX4_HUMAN', 'PITX2_HUMAN', 'NFIB_HUMAN', 'ROA2_HUMAN', 'CAC1F_HUMAN', 'TRPS1_HUMAN', 'MXI1_HUMAN', 'PR15B_HUMAN', 'AP2A_HUMAN', 'MYCD_HUMAN', 'PDCD6_HUMAN', 'MMP25_HUMAN', 'PAPS2_HUMAN', 'EZH2_HUMAN', 'GATA4_HUMAN', 'SFTA3_HUMAN', 'APOB_HUMAN', 'BGAL_HUMAN', 'DPOLA_HUMAN', 'NFKB1_HUMAN', 'TEX11_HUMAN', 'GCP4_HUMAN', 'CDCA7_HUMAN', 'CERKL_HUMAN', 'NEK1_HUMAN', 'PGCA_HUMAN', 'RS24_HUMAN', 'KCNJ1_HUMAN', 'HNRPK_HUMAN', 'CASP8_HUMAN', 'MTG8_HUMAN', 'CDSN_HUMAN', 'ODB2_HUMAN', 'TRI36_HUMAN', 'REV3L_HUMAN', 'DYN2_HUMAN', 'SPYA_HUMAN', 'TBATA_HUMAN', 'AT11C_HUMAN', 'PLOD2_HUMAN', 'NCPR_HUMAN', 'CAC1C_HUMAN', 'C1R_HUMAN', 'PROD_HUMAN', 'NRX3B_HUMAN', 'GRHL3_HUMAN', 'TBCK_HUMAN', 'NKX21_HUMAN', 'FDX2_HUMAN', 'AFG2H_HUMAN', 'PAHO_HUMAN', 'ELN_HUMAN', 'ALMS1_HUMAN', 'RASA2_HUMAN', 'KCNT1_HUMAN', 'HPPD_HUMAN', 'SGO1_HUMAN', 'NKX62_HUMAN', 'TMPS3_HUMAN', 'PDE10_HUMAN', 'TENX_HUMAN', 'RASL1_HUMAN', 'BRCA1_RING_HUMAN', 'TRUA_HUMAN', 'RFOX3_HUMAN', 'K1109_HUMAN', 'TILB_HUMAN', 'TGIF1_HUMAN', 'IMDH1_HUMAN', 'MYPC1_HUMAN', 'LRIF1_HUMAN', 'MECR_HUMAN', 'GEPH_HUMAN', 'STK19_HUMAN', 'NRX1B_HUMAN', 'MED9_HUMAN', 'A1ATR_HUMAN', 'ARL16_HUMAN', 'EPB41_HUMAN', 'ZFY16_HUMAN', 'KDM6A_HUMAN', 'S39A4_HUMAN', 'CO4A5_HUMAN', 'NPHP1_HUMAN', 'S39AD_HUMAN', 'RUVB1_HUMAN', 'SL9A6_HUMAN', 'KIF23_HUMAN', 'RAB9B_HUMAN', 'TMPS4_HUMAN', 'NDUA6_HUMAN', 'THA_HUMAN', 'RUSD3_HUMAN', 'ZN469_HUMAN', 'UBP53_HUMAN', 'TALD3_HUMAN', 'CTRO_HUMAN', 'DMTF1_HUMAN', 'BICD2_HUMAN', 'UBE3A_HUMAN', 'MCP_HUMAN', 'PAX2_HUMAN', 'ACTN1_HUMAN', 'ACOX1_HUMAN', 'TRPM1_HUMAN', 'KREM1_HUMAN', 'MYO16_HUMAN', 'STAG2_HUMAN', 'IL31R_HUMAN', 'SMOC1_HUMAN', 'HDAC4_HUMAN', 'DNJB5_HUMAN', 'REEP1_HUMAN', 'ALG9_HUMAN', 'PF21A_HUMAN', 'C1QB_HUMAN', 'SYNJ1_HUMAN', 'PMEPA_HUMAN', 'TPC2L_HUMAN', 'MPP4_HUMAN', 'PAX1_HUMAN', 'FUT8_HUMAN'}\n",
      "unique to final mapping (should be none) set()\n"
     ]
    }
   ],
   "source": [
    "# unmapped entries\n",
    "set1 = set(uniprotkb_id_list)\n",
    "set2 = set(final_mapping_df['UniProtKB-ID'].tolist())\n",
    "unique_to_list1 = set1 - set2\n",
    "unique_to_list2 = set2 - set1\n",
    "print('unique to eve list', unique_to_list1)\n",
    "print('unique to final mapping (should be none)', unique_to_list2)"
   ],
   "metadata": {
    "collapsed": false,
    "pycharm": {
     "name": "#%%\n"
    }
   }
  },
  {
   "cell_type": "code",
   "execution_count": 65,
   "outputs": [
    {
     "data": {
      "text/plain": "{'.ipynb_checkpoints',\n 'AFG2H_HUMAN',\n 'BRCA1_BRCT_HUMAN',\n 'BRCA1_RING_HUMAN',\n 'CH037_HUMAN',\n 'CL065_HUMAN',\n 'CMC1_HUMAN',\n 'CMC2_HUMAN',\n 'DDX58_HUMAN',\n 'G6PC_HUMAN',\n 'GLCM_HUMAN',\n 'K1109_HUMAN',\n 'MLRS_HUMAN',\n 'S22A5_HUMAN',\n 'SPYA_HUMAN',\n 'TILB_HUMAN',\n 'TRUA_HUMAN'}"
     },
     "execution_count": 65,
     "metadata": {},
     "output_type": "execute_result"
    }
   ],
   "source": [
    "set3 = set(df_uniprotid['ID'])\n",
    "unique_to_list3 = set1 - set3\n",
    "unique_to_list3"
   ],
   "metadata": {
    "collapsed": false,
    "pycharm": {
     "name": "#%%\n"
    }
   }
  },
  {
   "cell_type": "code",
   "execution_count": 67,
   "outputs": [
    {
     "name": "stdout",
     "output_type": "stream",
     "text": [
      "16\n"
     ]
    }
   ],
   "source": [
    "print(len(unique_to_list3)-1)"
   ],
   "metadata": {
    "collapsed": false,
    "pycharm": {
     "name": "#%%\n"
    }
   }
  },
  {
   "cell_type": "code",
   "execution_count": 66,
   "outputs": [
    {
     "data": {
      "text/plain": "Empty DataFrame\nColumns: [UniProtKB-AC, ID]\nIndex: []",
      "text/html": "<div>\n<style scoped>\n    .dataframe tbody tr th:only-of-type {\n        vertical-align: middle;\n    }\n\n    .dataframe tbody tr th {\n        vertical-align: top;\n    }\n\n    .dataframe thead th {\n        text-align: right;\n    }\n</style>\n<table border=\"1\" class=\"dataframe\">\n  <thead>\n    <tr style=\"text-align: right;\">\n      <th></th>\n      <th>UniProtKB-AC</th>\n      <th>ID</th>\n    </tr>\n  </thead>\n  <tbody>\n  </tbody>\n</table>\n</div>"
     },
     "execution_count": 66,
     "metadata": {},
     "output_type": "execute_result"
    }
   ],
   "source": [
    "df_uniprotid[df_uniprotid['ID'] == 'BRCA1_BRCT_HUMAN']"
   ],
   "metadata": {
    "collapsed": false,
    "pycharm": {
     "name": "#%%\n"
    }
   }
  },
  {
   "cell_type": "code",
   "execution_count": null,
   "outputs": [],
   "source": [],
   "metadata": {
    "collapsed": false,
    "pycharm": {
     "name": "#%%\n"
    }
   }
  }
 ],
 "metadata": {
  "kernelspec": {
   "display_name": "Python 3",
   "language": "python",
   "name": "python3"
  },
  "language_info": {
   "codemirror_mode": {
    "name": "ipython",
    "version": 2
   },
   "file_extension": ".py",
   "mimetype": "text/x-python",
   "name": "python",
   "nbconvert_exporter": "python",
   "pygments_lexer": "ipython2",
   "version": "2.7.6"
  }
 },
 "nbformat": 4,
 "nbformat_minor": 0
}